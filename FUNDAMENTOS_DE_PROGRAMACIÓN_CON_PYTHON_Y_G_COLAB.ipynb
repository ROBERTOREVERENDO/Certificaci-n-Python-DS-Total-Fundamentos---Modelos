{
  "cells": [
    {
      "cell_type": "markdown",
      "metadata": {
        "id": "QsTfGFRl5lft"
      },
      "source": [
        "# PARTE 2: FUNDAMENTOS DE PROGRAMACIÓN"
      ]
    },
    {
      "cell_type": "markdown",
      "metadata": {
        "id": "32Xjwtqw5lfw"
      },
      "source": [
        "## PARTE 2.1: OPERACIONES ARITMÉTICAS BÁSICAS"
      ]
    },
    {
      "cell_type": "markdown",
      "metadata": {
        "id": "t68I9WCh5lfw"
      },
      "source": [
        "#### OPERACIONES"
      ]
    },
    {
      "cell_type": "code",
      "execution_count": 34,
      "metadata": {
        "id": "Wpf5A6ns5lfx",
        "outputId": "9b6da91c-9d59-48b1-b3e9-335504be8a11",
        "colab": {
          "base_uri": "https://localhost:8080/"
        }
      },
      "outputs": [
        {
          "output_type": "stream",
          "name": "stdout",
          "text": [
            "57\n"
          ]
        },
        {
          "output_type": "execute_result",
          "data": {
            "text/plain": [
              "57"
            ]
          },
          "metadata": {},
          "execution_count": 34
        }
      ],
      "source": [
        "#SUMA\n",
        "print(2+55)\n",
        "2+55"
      ]
    },
    {
      "cell_type": "code",
      "source": [
        "# Realiza la suma de 20 y 35.\n",
        "respuesta_correcta_ejercicio_1 = 20 + 35\n",
        "while True:\n",
        "    entrada_usuario_ejercicio_1 = input(\"Realiza la suma de 20 y 35: \")\n",
        "    try:\n",
        "        if eval(entrada_usuario_ejercicio_1) == respuesta_correcta_ejercicio_1 or eval(entrada_usuario_ejercicio_1) == print(f\"La suma es {respuesta_correcta_ejercicio_1}\"):\n",
        "            print(\"¡Correcto!\")\n",
        "            break\n",
        "        else:\n",
        "            print(\"Incorrecto. Inténtalo de nuevo. Respuesta correcta = 20 + 35.\\n*REFLEXIONA DONDE PODES MEJORAR*\")\n",
        "    except:\n",
        "        print(\"Entrada no válida. Inténtalo de nuevo.\")\n"
      ],
      "metadata": {
        "colab": {
          "base_uri": "https://localhost:8080/",
          "height": 443
        },
        "id": "ChgtTtvZjr66",
        "outputId": "77fe3e3a-7524-4577-e3a2-e5eb32399aad"
      },
      "execution_count": 36,
      "outputs": [
        {
          "output_type": "stream",
          "name": "stdout",
          "text": [
            "Realiza la suma de 20 y 35: 1\n",
            "La suma es 55\n",
            "Incorrecto. Inténtalo de nuevo. Respuesta correcta = 20 + 35.\n",
            "*REFLEXIONA DONDE PODES MEJORAR*\n"
          ]
        },
        {
          "output_type": "error",
          "ename": "KeyboardInterrupt",
          "evalue": "Interrupted by user",
          "traceback": [
            "\u001b[0;31m---------------------------------------------------------------------------\u001b[0m",
            "\u001b[0;31mKeyboardInterrupt\u001b[0m                         Traceback (most recent call last)",
            "\u001b[0;32m<ipython-input-36-a0765d1d9cb5>\u001b[0m in \u001b[0;36m<cell line: 3>\u001b[0;34m()\u001b[0m\n\u001b[1;32m      2\u001b[0m \u001b[0mrespuesta_correcta_ejercicio_1\u001b[0m \u001b[0;34m=\u001b[0m \u001b[0;36m20\u001b[0m \u001b[0;34m+\u001b[0m \u001b[0;36m35\u001b[0m\u001b[0;34m\u001b[0m\u001b[0;34m\u001b[0m\u001b[0m\n\u001b[1;32m      3\u001b[0m \u001b[0;32mwhile\u001b[0m \u001b[0;32mTrue\u001b[0m\u001b[0;34m:\u001b[0m\u001b[0;34m\u001b[0m\u001b[0;34m\u001b[0m\u001b[0m\n\u001b[0;32m----> 4\u001b[0;31m     \u001b[0mentrada_usuario_ejercicio_1\u001b[0m \u001b[0;34m=\u001b[0m \u001b[0minput\u001b[0m\u001b[0;34m(\u001b[0m\u001b[0;34m\"Realiza la suma de 20 y 35: \"\u001b[0m\u001b[0;34m)\u001b[0m\u001b[0;34m\u001b[0m\u001b[0;34m\u001b[0m\u001b[0m\n\u001b[0m\u001b[1;32m      5\u001b[0m     \u001b[0;32mtry\u001b[0m\u001b[0;34m:\u001b[0m\u001b[0;34m\u001b[0m\u001b[0;34m\u001b[0m\u001b[0m\n\u001b[1;32m      6\u001b[0m         \u001b[0;32mif\u001b[0m \u001b[0meval\u001b[0m\u001b[0;34m(\u001b[0m\u001b[0mentrada_usuario_ejercicio_1\u001b[0m\u001b[0;34m)\u001b[0m \u001b[0;34m==\u001b[0m \u001b[0mrespuesta_correcta_ejercicio_1\u001b[0m \u001b[0;32mor\u001b[0m \u001b[0meval\u001b[0m\u001b[0;34m(\u001b[0m\u001b[0mentrada_usuario_ejercicio_1\u001b[0m\u001b[0;34m)\u001b[0m \u001b[0;34m==\u001b[0m \u001b[0mprint\u001b[0m\u001b[0;34m(\u001b[0m\u001b[0;34mf\"La suma es {respuesta_correcta_ejercicio_1}\"\u001b[0m\u001b[0;34m)\u001b[0m\u001b[0;34m:\u001b[0m\u001b[0;34m\u001b[0m\u001b[0;34m\u001b[0m\u001b[0m\n",
            "\u001b[0;32m/usr/local/lib/python3.10/dist-packages/ipykernel/kernelbase.py\u001b[0m in \u001b[0;36mraw_input\u001b[0;34m(self, prompt)\u001b[0m\n\u001b[1;32m    849\u001b[0m                 \u001b[0;34m\"raw_input was called, but this frontend does not support input requests.\"\u001b[0m\u001b[0;34m\u001b[0m\u001b[0;34m\u001b[0m\u001b[0m\n\u001b[1;32m    850\u001b[0m             )\n\u001b[0;32m--> 851\u001b[0;31m         return self._input_request(str(prompt),\n\u001b[0m\u001b[1;32m    852\u001b[0m             \u001b[0mself\u001b[0m\u001b[0;34m.\u001b[0m\u001b[0m_parent_ident\u001b[0m\u001b[0;34m,\u001b[0m\u001b[0;34m\u001b[0m\u001b[0;34m\u001b[0m\u001b[0m\n\u001b[1;32m    853\u001b[0m             \u001b[0mself\u001b[0m\u001b[0;34m.\u001b[0m\u001b[0m_parent_header\u001b[0m\u001b[0;34m,\u001b[0m\u001b[0;34m\u001b[0m\u001b[0;34m\u001b[0m\u001b[0m\n",
            "\u001b[0;32m/usr/local/lib/python3.10/dist-packages/ipykernel/kernelbase.py\u001b[0m in \u001b[0;36m_input_request\u001b[0;34m(self, prompt, ident, parent, password)\u001b[0m\n\u001b[1;32m    893\u001b[0m             \u001b[0;32mexcept\u001b[0m \u001b[0mKeyboardInterrupt\u001b[0m\u001b[0;34m:\u001b[0m\u001b[0;34m\u001b[0m\u001b[0;34m\u001b[0m\u001b[0m\n\u001b[1;32m    894\u001b[0m                 \u001b[0;31m# re-raise KeyboardInterrupt, to truncate traceback\u001b[0m\u001b[0;34m\u001b[0m\u001b[0;34m\u001b[0m\u001b[0m\n\u001b[0;32m--> 895\u001b[0;31m                 \u001b[0;32mraise\u001b[0m \u001b[0mKeyboardInterrupt\u001b[0m\u001b[0;34m(\u001b[0m\u001b[0;34m\"Interrupted by user\"\u001b[0m\u001b[0;34m)\u001b[0m \u001b[0;32mfrom\u001b[0m \u001b[0;32mNone\u001b[0m\u001b[0;34m\u001b[0m\u001b[0;34m\u001b[0m\u001b[0m\n\u001b[0m\u001b[1;32m    896\u001b[0m             \u001b[0;32mexcept\u001b[0m \u001b[0mException\u001b[0m \u001b[0;32mas\u001b[0m \u001b[0me\u001b[0m\u001b[0;34m:\u001b[0m\u001b[0;34m\u001b[0m\u001b[0;34m\u001b[0m\u001b[0m\n\u001b[1;32m    897\u001b[0m                 \u001b[0mself\u001b[0m\u001b[0;34m.\u001b[0m\u001b[0mlog\u001b[0m\u001b[0;34m.\u001b[0m\u001b[0mwarning\u001b[0m\u001b[0;34m(\u001b[0m\u001b[0;34m\"Invalid Message:\"\u001b[0m\u001b[0;34m,\u001b[0m \u001b[0mexc_info\u001b[0m\u001b[0;34m=\u001b[0m\u001b[0;32mTrue\u001b[0m\u001b[0;34m)\u001b[0m\u001b[0;34m\u001b[0m\u001b[0;34m\u001b[0m\u001b[0m\n",
            "\u001b[0;31mKeyboardInterrupt\u001b[0m: Interrupted by user"
          ]
        }
      ]
    },
    {
      "cell_type": "code",
      "source": [
        "#  Realiza la suma de 20 y 35.\n",
        "respuesta_correcta_ejercicio_1 = 20 + 35\n",
        "while True:\n",
        "    entrada_usuario_ejercicio_1 = input(\"Realiza la suma de 20 y 35: \")\n",
        "    try:\n",
        "        if eval(entrada_usuario_ejercicio_1) == respuesta_correcta_ejercicio_1 or eval(entrada_usuario_ejercicio_1) == print(f\"La suma es {respuesta_correcta_ejercicio_1}\"):\n",
        "            print(\"¡Correcto!\")\n",
        "            break\n",
        "        else:\n",
        "            print(\"Incorrecto. Inténtalo de nuevo. Respuesta correcta 20 + 35 \\n*REFLEXIONA DONDE PODES MEJORAR*\")\n",
        "    except:\n",
        "        print(\"Entrada no válida. Inténtalo de nuevo.Respuesta correcta 20 + 35 \\n*REFLEXIONA DONDE PODES MEJORAR*\")\n"
      ],
      "metadata": {
        "id": "TfngY-iGFbp6",
        "outputId": "1e16f1a6-aa4b-42ac-df20-7ebc6c3685b5",
        "colab": {
          "base_uri": "https://localhost:8080/"
        }
      },
      "execution_count": 38,
      "outputs": [
        {
          "output_type": "stream",
          "name": "stdout",
          "text": [
            "Realiza la suma de 20 y 35: S\n",
            "Entrada no válida. Inténtalo de nuevo.Respuesta correcta 20 + 35 \n",
            "*REFLEXIONA DONDE PODES MEJORAR*\n",
            "Realiza la suma de 20 y 35: 20+3\n",
            "La suma es 55\n",
            "Incorrecto. Inténtalo de nuevo. Respuesta correcta 20 + 35 \n",
            "*REFLEXIONA DONDE PODES MEJORAR*\n",
            "Realiza la suma de 20 y 35: 30+25\n",
            "¡Correcto!\n"
          ]
        }
      ]
    },
    {
      "cell_type": "code",
      "execution_count": 39,
      "metadata": {
        "id": "f1giPOha5lfy",
        "outputId": "ae0043ca-a109-4d6d-d6df-110e7d870f66",
        "colab": {
          "base_uri": "https://localhost:8080/"
        }
      },
      "outputs": [
        {
          "output_type": "execute_result",
          "data": {
            "text/plain": [
              "155"
            ]
          },
          "metadata": {},
          "execution_count": 39
        }
      ],
      "source": [
        "#RESTA\n",
        "180-25"
      ]
    },
    {
      "cell_type": "code",
      "source": [
        "# Realiza la resta de 10 menos 2.\n",
        "respuesta_correcta_ejercicio_2 = 10 - 2\n",
        "while True:\n",
        "    entrada_usuario_ejercicio_2 = input(\"Realiza la resta de 10 menos 2: \")\n",
        "    try:\n",
        "        if eval(entrada_usuario_ejercicio_2) == respuesta_correcta_ejercicio_2 or eval(entrada_usuario_ejercicio_2) == print(f\"La resta es {respuesta_correcta_ejercicio_2}\"):\n",
        "            print(\"¡Correcto!\")\n",
        "            break\n",
        "        else:\n",
        "            print(\"Incorrecto. Inténtalo de nuevo.Respuesta correcta 10 - 2 \\n*REFLEXIONA DONDE PODES MEJORAR*\")\n",
        "    except:\n",
        "        print(\"Ha ocurrido un error. Asegúrate de ingresar una expresión válida.Respuesta correcta 10 - 2 \\n*REFLEXIONA DONDE PODES MEJORAR*\")\n"
      ],
      "metadata": {
        "id": "841pMMpvG6vo",
        "outputId": "fded1575-e2c2-4cfd-cc65-5c296887f332",
        "colab": {
          "base_uri": "https://localhost:8080/"
        }
      },
      "execution_count": 41,
      "outputs": [
        {
          "output_type": "stream",
          "name": "stdout",
          "text": [
            "Realiza la resta de 10 menos 2: S\n",
            "Ha ocurrido un error. Asegúrate de ingresar una expresión válida.Respuesta correcta 10 - 2 \n",
            "*REFLEXIONA DONDE PODES MEJORAR*\n",
            "Realiza la resta de 10 menos 2: 8\n",
            "¡Correcto!\n"
          ]
        }
      ]
    },
    {
      "cell_type": "code",
      "execution_count": 42,
      "metadata": {
        "id": "oTsXuEbS5lfy",
        "outputId": "0394605f-dffe-469b-a622-6ca0827d1162",
        "colab": {
          "base_uri": "https://localhost:8080/"
        }
      },
      "outputs": [
        {
          "output_type": "stream",
          "name": "stdout",
          "text": [
            "276\n"
          ]
        }
      ],
      "source": [
        "#MULTIPLICACIÓN\n",
        "print(92*3)"
      ]
    },
    {
      "cell_type": "code",
      "source": [
        "# Realiza la multiplicación de 25 por -4.\n",
        "respuesta_correcta_ejercicio_3 = 25 * -4\n",
        "while True:\n",
        "    entrada_usuario_ejercicio_3 = input(\"Realiza la multiplicación de 25 por -4: \")\n",
        "    try:\n",
        "        if eval(entrada_usuario_ejercicio_3) == respuesta_correcta_ejercicio_3 or eval(entrada_usuario_ejercicio_3) == print(f\"La multiplicación es {respuesta_correcta_ejercicio_3}\"):\n",
        "            print(\"¡Correcto!\")\n",
        "            break\n",
        "        else:\n",
        "            print(\"Incorrecto. Inténtalo de nuevo. Respuesta correcta 25 * -4 \\n*REFLEXIONA DONDE PODES MEJORAR*\")\n",
        "    except:\n",
        "        print(\"Ha ocurrido un error. Asegúrate de ingresar una expresión válida.Respuesta correcta 25 * -4 \\n*REFLEXIONA DONDE PODES MEJORAR*\")\n"
      ],
      "metadata": {
        "id": "IlbOV7VcHSki",
        "outputId": "18abc8ca-960c-4bb5-de91-f8041163e085",
        "colab": {
          "base_uri": "https://localhost:8080/"
        }
      },
      "execution_count": 44,
      "outputs": [
        {
          "output_type": "stream",
          "name": "stdout",
          "text": [
            "Realiza la multiplicación de 25 por -4: 2\n",
            "La multiplicación es -100\n",
            "Incorrecto. Inténtalo de nuevo. Respuesta correcta 25 * -4 \n",
            "*REFLEXIONA DONDE PODES MEJORAR*\n",
            "Realiza la multiplicación de 25 por -4: 24*-4\n",
            "La multiplicación es -100\n",
            "Incorrecto. Inténtalo de nuevo. Respuesta correcta 25 * -4 \n",
            "*REFLEXIONA DONDE PODES MEJORAR*\n",
            "Realiza la multiplicación de 25 por -4: 25*-4\n",
            "¡Correcto!\n"
          ]
        }
      ]
    },
    {
      "cell_type": "code",
      "execution_count": 45,
      "metadata": {
        "id": "pzAWU4a45lfz",
        "outputId": "29c85b5c-248c-45dc-9609-679d2a7e22b7",
        "colab": {
          "base_uri": "https://localhost:8080/"
        }
      },
      "outputs": [
        {
          "output_type": "stream",
          "name": "stdout",
          "text": [
            "32.0\n"
          ]
        }
      ],
      "source": [
        "#DIVISIÓN\n",
        "print(800/25)"
      ]
    },
    {
      "cell_type": "code",
      "source": [
        "# Realiza la división de 100 entre 3.\n",
        "respuesta_correcta_ejercicio_4 = 100 / 3\n",
        "while True:\n",
        "    entrada_usuario_ejercicio_4 = input(\"Realiza la división de 100 entre 3: \")\n",
        "    try:\n",
        "        if eval(entrada_usuario_ejercicio_4) == respuesta_correcta_ejercicio_4 or eval(entrada_usuario_ejercicio_4) == print(f\"La división es {respuesta_correcta_ejercicio_4}\"):\n",
        "            print(\"¡Correcto!\")\n",
        "            break\n",
        "        else:\n",
        "            print(\"Incorrecto. Inténtalo de nuevo. Respuesta correcta 100 / 3 \\n*REFLEXIONA DONDE PODES MEJORAR*\")\n",
        "    except:\n",
        "        print(\"Ha ocurrido un error. Asegúrate de ingresar una expresión válida.Respuesta correcta 100 / 3 \\n*REFLEXIONA DONDE PODES MEJORAR*\")\n"
      ],
      "metadata": {
        "id": "moIhj8W7HuLr",
        "colab": {
          "base_uri": "https://localhost:8080/"
        },
        "outputId": "30447ef2-d8f3-4127-b041-9095241b6749"
      },
      "execution_count": 47,
      "outputs": [
        {
          "output_type": "stream",
          "name": "stdout",
          "text": [
            "Realiza la división de 100 entre 3: 8\n",
            "La división es 33.333333333333336\n",
            "Incorrecto. Inténtalo de nuevo. Respuesta correcta 100 / 3 \n",
            "*REFLEXIONA DONDE PODES MEJORAR*\n",
            "Realiza la división de 100 entre 3: E\n",
            "Ha ocurrido un error. Asegúrate de ingresar una expresión válida.Respuesta correcta 100 / 3 \n",
            "*REFLEXIONA DONDE PODES MEJORAR*\n",
            "Realiza la división de 100 entre 3: 10/3\n",
            "La división es 33.333333333333336\n",
            "Incorrecto. Inténtalo de nuevo. Respuesta correcta 100 / 3 \n",
            "*REFLEXIONA DONDE PODES MEJORAR*\n",
            "Realiza la división de 100 entre 3: 100/3\n",
            "¡Correcto!\n"
          ]
        }
      ]
    },
    {
      "cell_type": "code",
      "execution_count": 49,
      "metadata": {
        "id": "uFkLA4aT5lfz",
        "outputId": "6d22e068-ce45-4642-be70-51ee9b16c9ef",
        "colab": {
          "base_uri": "https://localhost:8080/"
        }
      },
      "outputs": [
        {
          "output_type": "stream",
          "name": "stdout",
          "text": [
            "1\n",
            "0\n",
            "0\n",
            "3\n"
          ]
        }
      ],
      "source": [
        "#MÓDULO - RESIDUO DE UNA DIVISIÓN\n",
        "print(7%2)\n",
        "print(8%2)\n",
        "print(9%3)\n",
        "print(13%5)"
      ]
    },
    {
      "cell_type": "code",
      "source": [
        "# Realiza el módulo, es decir, el residuo de la división de 9 entre 2.\n",
        "respuesta_correcta_ejercicio_6 = 9 % 2\n",
        "while True:\n",
        "    entrada_usuario_ejercicio_6 = input(\"Calcula el módulo, es decir, el residuo de la división de 9 entre 2: \")\n",
        "    try:\n",
        "        if eval(entrada_usuario_ejercicio_6) == respuesta_correcta_ejercicio_6 or eval(entrada_usuario_ejercicio_6) == print(f\"El módulo es {respuesta_correcta_ejercicio_6}\"):\n",
        "            print(\"¡Correcto!\")\n",
        "            break\n",
        "        else:\n",
        "            print(\"Incorrecto. Inténtalo de nuevo. Respuesta correcta 9 % 2 \\n*REFLEXIONA DONDE PODES MEJORAR*\")\n",
        "    except:\n",
        "        print(\"Ha ocurrido un error. Asegúrate de ingresar una expresión válida. Respuesta correcta 9 % 2 \\n*REFLEXIONA DONDE PODES MEJORAR*\")\n",
        "\n",
        "# Realiza el módulo, es decir, el residuo de la división de 6 entre 2.\n",
        "respuesta_correcta_ejercicio_7 = 6 % 2\n",
        "while True:\n",
        "    entrada_usuario_ejercicio_7 = input(\"Calcula el módulo, es decir, el residuo de la división de 6 entre 2: \")\n",
        "    try:\n",
        "        if eval(entrada_usuario_ejercicio_7) == respuesta_correcta_ejercicio_7 or eval(entrada_usuario_ejercicio_7) == print(f\"El módulo es {respuesta_correcta_ejercicio_7}\"):\n",
        "            print(\"¡Correcto!\")\n",
        "            break\n",
        "        else:\n",
        "            print(\"Incorrecto. Inténtalo de nuevo. Respuesta correcta 6 % 2 \\n*REFLEXIONA DONDE PODES MEJORAR*\")\n",
        "    except:\n",
        "        print(\"Ha ocurrido un error. Asegúrate de ingresar una expresión válida. Respuesta correcta 6 % 2 \\n*REFLEXIONA DONDE PODES MEJORAR*\")\n"
      ],
      "metadata": {
        "colab": {
          "base_uri": "https://localhost:8080/"
        },
        "id": "68YxiScPKGJT",
        "outputId": "6c9b3011-f5c8-4699-a929-e03c3b77e638"
      },
      "execution_count": 51,
      "outputs": [
        {
          "output_type": "stream",
          "name": "stdout",
          "text": [
            "Calcula el módulo, es decir, el residuo de la división de 9 entre 2: 9%2\n",
            "¡Correcto!\n",
            "Calcula el módulo, es decir, el residuo de la división de 6 entre 2: 6\n",
            "El módulo es 0\n",
            "Incorrecto. Inténtalo de nuevo. Respuesta correcta 6 % 2 \n",
            "*REFLEXIONA DONDE PODES MEJORAR*\n",
            "Calcula el módulo, es decir, el residuo de la división de 6 entre 2: T\n",
            "Ha ocurrido un error. Asegúrate de ingresar una expresión válida. Respuesta correcta 6 % 2 \n",
            "*REFLEXIONA DONDE PODES MEJORAR*\n",
            "Calcula el módulo, es decir, el residuo de la división de 6 entre 2: 6%2\n",
            "¡Correcto!\n"
          ]
        }
      ]
    },
    {
      "cell_type": "code",
      "execution_count": 52,
      "metadata": {
        "id": "IE8OkhcW5lfz",
        "outputId": "a8b5ea9e-1e52-4b21-97fd-079dee145456",
        "colab": {
          "base_uri": "https://localhost:8080/"
        }
      },
      "outputs": [
        {
          "output_type": "stream",
          "name": "stdout",
          "text": [
            "25\n",
            "256.0\n"
          ]
        }
      ],
      "source": [
        "#POTENCIA\n",
        "print(5**2)\n",
        "\n",
        "import math\n",
        "print(math.pow(4,4))"
      ]
    },
    {
      "cell_type": "code",
      "source": [
        "# Realiza la potencia de 2 elevado a 3.\n",
        "respuesta_correcta_ejercicio_5 = 2 ** 3\n",
        "while True:\n",
        "    entrada_usuario_ejercicio_5 = input(\"Realiza la potencia de 2 elevado a 3: \")\n",
        "    try:\n",
        "        if eval(entrada_usuario_ejercicio_5) == respuesta_correcta_ejercicio_5 or eval(entrada_usuario_ejercicio_5) == print(f\"La potencia es {respuesta_correcta_ejercicio_5}\"):\n",
        "            print(\"¡Correcto!\")\n",
        "            break\n",
        "        else:\n",
        "            print(\"Incorrecto. Inténtalo de nuevo. Respuesta correcta 2 ** 3 \\n*REFLEXIONA DONDE PODES MEJORAR*\")\n",
        "    except:\n",
        "        print(\"Ha ocurrido un error. Asegúrate de ingresar una expresión válida.Respuesta correcta 2 ** 3 \\n*REFLEXIONA DONDE PODES MEJORAR*\")\n"
      ],
      "metadata": {
        "colab": {
          "base_uri": "https://localhost:8080/"
        },
        "id": "czmOKSlMJi37",
        "outputId": "89b4858a-b323-4a19-ae9e-5476aa5617b7"
      },
      "execution_count": 54,
      "outputs": [
        {
          "output_type": "stream",
          "name": "stdout",
          "text": [
            "Realiza la potencia de 2 elevado a 3: 2**3\n",
            "¡Correcto!\n"
          ]
        }
      ]
    },
    {
      "cell_type": "code",
      "execution_count": 55,
      "metadata": {
        "id": "aCPZx3o55lf0",
        "outputId": "e043a3ae-13e3-43c9-e752-00292e72e16f",
        "colab": {
          "base_uri": "https://localhost:8080/"
        }
      },
      "outputs": [
        {
          "output_type": "stream",
          "name": "stdout",
          "text": [
            "9.539392014169456\n",
            "9.539392014169456\n"
          ]
        }
      ],
      "source": [
        "#RAÍZ CUADRADA\n",
        "print(91**(1/2))\n",
        "\n",
        "print(math.sqrt(91))"
      ]
    },
    {
      "cell_type": "code",
      "source": [
        "import math\n",
        "\n",
        "# Realiza la raíz cuadrada de 15.\n",
        "respuesta_correcta_ejercicio_8 = 15 ** (1/2)\n",
        "while True:\n",
        "    entrada_usuario_ejercicio_8 = input(\"Calcula la raíz cuadrada de 15: \")\n",
        "    try:\n",
        "        if eval(entrada_usuario_ejercicio_8) == respuesta_correcta_ejercicio_8:\n",
        "            print(\"¡Correcto!\")\n",
        "            break\n",
        "        else:\n",
        "            print(\"Incorrecto. Inténtalo de nuevo. Respuesta correcta 15 ** (1/2) \\n*REFLEXIONA DONDE PODES MEJORAR*\")\n",
        "    except:\n",
        "        print(\"Ha ocurrido un error. Asegúrate de ingresar una expresión válida.Respuesta correcta 15 ** (1/2) \\n*REFLEXIONA DONDE PODES MEJORAR*\")\n",
        "\n",
        "# Realiza la raíz cuadrada de 15 utilizando la función sqrt de la biblioteca math.\n",
        "respuesta_correcta_ejercicio_9 = math.sqrt(15)\n",
        "while True:\n",
        "    entrada_usuario_ejercicio_9 = input(\"Calcula la raíz cuadrada de 15 utilizando la función sqrt de la biblioteca math: \")\n",
        "    try:\n",
        "        if eval(entrada_usuario_ejercicio_9) == respuesta_correcta_ejercicio_9:\n",
        "            print(\"¡Correcto!\")\n",
        "            break\n",
        "        else:\n",
        "            print(\"Incorrecto. Inténtalo de nuevo. Respuesta correcta math.sqrt(15) \\n*REFLEXIONA DONDE PODES MEJORAR*\")\n",
        "    except:\n",
        "        print(\"Ha ocurrido un error. Asegúrate de ingresar una expresión válida.Respuesta correcta math.sqrt(15) \\n*REFLEXIONA DONDE PODES MEJORAR*\")\n"
      ],
      "metadata": {
        "colab": {
          "base_uri": "https://localhost:8080/"
        },
        "id": "NbGbfEdeLsQ6",
        "outputId": "b275d23e-3a11-438a-fe06-1d2f13fde5c8"
      },
      "execution_count": 57,
      "outputs": [
        {
          "output_type": "stream",
          "name": "stdout",
          "text": [
            "Calcula la raíz cuadrada de 15: math.sqrt(15)\n",
            "¡Correcto!\n",
            "Calcula la raíz cuadrada de 15 utilizando la función sqrt de la biblioteca math: 15*.5\n",
            "Incorrecto. Inténtalo de nuevo. Respuesta correcta math.sqrt(15) \n",
            "*REFLEXIONA DONDE PODES MEJORAR*\n",
            "Calcula la raíz cuadrada de 15 utilizando la función sqrt de la biblioteca math: 15**.5\n",
            "¡Correcto!\n"
          ]
        }
      ]
    },
    {
      "cell_type": "code",
      "execution_count": null,
      "metadata": {
        "id": "AzuuZqIh5lf0",
        "outputId": "38e05a5c-5128-4e7a-f4d5-83e5d6099647",
        "colab": {
          "base_uri": "https://localhost:8080/"
        }
      },
      "outputs": [
        {
          "output_type": "stream",
          "name": "stdout",
          "text": [
            "800\n",
            "800\n"
          ]
        }
      ],
      "source": [
        "#VALOR ABSOLUTO\n",
        "print(abs(-1500))\n",
        "print(abs(1500))"
      ]
    },
    {
      "cell_type": "code",
      "source": [
        "# Calcula el valor absoluto de -800.\n",
        "respuesta_correcta_ejercicio_10 = abs(-800)\n",
        "while True:\n",
        "    entrada_usuario_ejercicio_10 = input(\"Calcula el valor absoluto de -800: \")\n",
        "    try:\n",
        "        if eval(entrada_usuario_ejercicio_10) == respuesta_correcta_ejercicio_10:\n",
        "            print(\"¡Correcto!\")\n",
        "            break\n",
        "        else:\n",
        "            print(\"Incorrecto. Inténtalo de nuevo. Respuesta correcta 800 \\n*REFLEXIONA DONDE PODES MEJORAR*\")\n",
        "    except:\n",
        "        print(\"Ha ocurrido un error. Asegúrate de ingresar una expresión válida.  Respuesta correcta 800 \\n*REFLEXIONA DONDE PODES MEJORAR*\")\n",
        "\n",
        "# Calcula el valor absoluto de 800.\n",
        "respuesta_correcta_ejercicio_11 = abs(800)\n",
        "while True:\n",
        "    entrada_usuario_ejercicio_11 = input(\"Calcula el valor absoluto de 800: \")\n",
        "    try:\n",
        "        if eval(entrada_usuario_ejercicio_11) == respuesta_correcta_ejercicio_11:\n",
        "            print(\"¡Correcto!\")\n",
        "            break\n",
        "        else:\n",
        "            print(\"Incorrecto. Inténtalo de nuevo. Respuesta correcta 800 \\n*REFLEXIONA DONDE PODES MEJORAR*\")\n",
        "    except:\n",
        "        print(\"Ha ocurrido un error. Asegúrate de ingresar una expresión válida. Respuesta correcta 800 \\n*REFLEXIONA DONDE PODES MEJORAR*\")\n"
      ],
      "metadata": {
        "colab": {
          "base_uri": "https://localhost:8080/"
        },
        "id": "7wLZ4x3ZMvrr",
        "outputId": "464d2686-e88f-4e6b-e6c9-2257cad6337f"
      },
      "execution_count": 58,
      "outputs": [
        {
          "output_type": "stream",
          "name": "stdout",
          "text": [
            "Calcula el valor absoluto de -800: 1\n",
            "Incorrecto. Inténtalo de nuevo. Respuesta correcta 800 \n",
            "*REFLEXIONA DONDE PODES MEJORAR*\n",
            "Calcula el valor absoluto de -800: 800\n",
            "¡Correcto!\n",
            "Calcula el valor absoluto de 800: 2\n",
            "Incorrecto. Inténtalo de nuevo.\n",
            "Calcula el valor absoluto de 800: 800\n",
            "¡Correcto!\n"
          ]
        }
      ]
    },
    {
      "cell_type": "markdown",
      "source": [
        " #  <font color=\"yellow\"> <center> **REPASO**</center></font>\n",
        "\n",
        "1) Sumar de 50 y 25 y luego restar 10\n",
        "\n",
        "2) Multiplicar 12 por 5 y luego dividir el resultado por 2\n",
        "\n",
        "3) Calcular la potencia de 3 elevado a 4 y luego la raíz cuadrada del resultado\n",
        "\n",
        "4) Calcular el módulo de 25 entre 4 y luego el valor absoluto de -15\n",
        "\n",
        "5) Sumar de 10 y 20, luego restar el resultado de 5, después multiplicar por 4, y finalmente dividir por 2"
      ],
      "metadata": {
        "id": "td2BHWgmMqL4"
      }
    },
    {
      "cell_type": "code",
      "source": [
        "# Ejercicio 1: Suma y Resta\n",
        "respuesta_correcta_ejercicio_1 = 50 + 25 - 10\n",
        "while True:\n",
        "    entrada_usuario_ejercicio_1 = input(\"Calcula la suma de 50 y 25 y luego resta 10: \")\n",
        "    try:\n",
        "        if eval(entrada_usuario_ejercicio_1) == respuesta_correcta_ejercicio_1:\n",
        "            print(\"¡Correcto!\")\n",
        "            break\n",
        "        else:\n",
        "            print(\"Incorrecto. Inténtalo de nuevo. Respuesta correcta 50+25-10 \\n*REFLEXIONA DONDE PUEDES MEJORAR*\")\n",
        "    except:\n",
        "        print(\"Ha ocurrido un error. Asegúrate de ingresar una expresión válida. Respuesta correcta 50+25-10 \\n*REFLEXIONA DONDE PUEDES MEJORAR*\")\n",
        "\n",
        "# Ejercicio 2: Multiplicación y División\n",
        "respuesta_correcta_ejercicio_2 = (12 * 5) / 2\n",
        "while True:\n",
        "    entrada_usuario_ejercicio_2 = input(\"Calcula el resultado de multiplicar 12 por 5 y luego dividir por 2: \")\n",
        "    try:\n",
        "        if eval(entrada_usuario_ejercicio_2) == respuesta_correcta_ejercicio_2:\n",
        "            print(\"¡Correcto!\")\n",
        "            break\n",
        "        else:\n",
        "            print(\"Incorrecto. Inténtalo de nuevo. Respuesta correcta (12*5)/2 \\n*REFLEXIONA DONDE PUEDES MEJORAR*\")\n",
        "    except:\n",
        "        print(\"Ha ocurrido un error. Asegúrate de ingresar una expresión válida. Respuesta correcta (12*5)/2 \\n*REFLEXIONA DONDE PUEDES MEJORAR*\")\n",
        "\n",
        "# Ejercicio 3: Potencia y Raíz Cuadrada\n",
        "respuesta_correcta_ejercicio_3 = (3**4)**0.5\n",
        "while True:\n",
        "    entrada_usuario_ejercicio_3 = input(\"Calcula la potencia de 3 elevado a 4 y luego la raíz cuadrada del resultado: \")\n",
        "    try:\n",
        "        if eval(entrada_usuario_ejercicio_3) == respuesta_correcta_ejercicio_3:\n",
        "            print(\"¡Correcto!\")\n",
        "            break\n",
        "        else:\n",
        "            print(\"Incorrecto. Inténtalo de nuevo. Respuesta correcta (3**4)**0.5 \\n*REFLEXIONA DONDE PUEDES MEJORAR*\")\n",
        "    except:\n",
        "        print(\"Ha ocurrido un error. Asegúrate de ingresar una expresión válida. Respuesta correcta (3**4)**0.5 \\n*REFLEXIONA DONDE PUEDES MEJORAR*\")\n",
        "\n",
        "# Ejercicio 4: Módulo y Valor Absoluto\n",
        "respuesta_correcta_ejercicio_4 = abs(-15) % (25 % 4)\n",
        "while True:\n",
        "    entrada_usuario_ejercicio_4 = input(\"Calcula el módulo de 25 entre 4 y luego el valor absoluto de -15: \")\n",
        "    try:\n",
        "        if eval(entrada_usuario_ejercicio_4) == respuesta_correcta_ejercicio_4:\n",
        "            print(\"¡Correcto!\")\n",
        "            break\n",
        "        else:\n",
        "            print(\"Incorrecto. Inténtalo de nuevo. Respuesta correcta abs(-15) % (25 % 4) \\n*REFLEXIONA DONDE PUEDES MEJORAR*\")\n",
        "    except:\n",
        "        print(\"Ha ocurrido un error. Asegúrate de ingresar una expresión válida. Respuesta correcta abs(-15) % (25 % 4) \\n*REFLEXIONA DONDE PUEDES MEJORAR*\")\n",
        "\n",
        "# Ejercicio 5: Combinación de Operaciones\n",
        "respuesta_correcta_ejercicio_5 = ((10 + 20 - 5) * 4) / 2\n",
        "while True:\n",
        "    entrada_usuario_ejercicio_5 = input(\"Realiza las siguientes operaciones en orden: suma de 10 y 20, luego resta el resultado de 5, después multiplica por 4, y finalmente divide por 2: \")\n",
        "    try:\n",
        "        if eval(entrada_usuario_ejercicio_5) == respuesta_correcta_ejercicio_5:\n",
        "            print(\"¡Correcto!\")\n",
        "            break\n",
        "        else:\n",
        "            print(\"Incorrecto. Inténtalo de nuevo. Respuesta correcta ((10+20-5)*4)/2 \\n*REFLEXIONA DONDE PUEDES MEJORAR*\")\n",
        "    except:\n",
        "        print(\"Ha ocurrido un error. Asegúrate de ingresar una expresión válida. Respuesta correcta ((10+20-5)*4)/2 \\n*REFLEXIONA DONDE PUEDES MEJORAR*\")\n"
      ],
      "metadata": {
        "colab": {
          "base_uri": "https://localhost:8080/"
        },
        "id": "7Qe31cQ_qbpx",
        "outputId": "b50ae88e-4dd2-4180-9300-8e9e4e166a6c"
      },
      "execution_count": 61,
      "outputs": [
        {
          "output_type": "stream",
          "name": "stdout",
          "text": [
            "Calcula la suma de 50 y 25 y luego resta 10: 2\n",
            "Incorrecto. Inténtalo de nuevo. Respuesta correcta 50+25-10 \n",
            "*REFLEXIONA DONDE PUEDES MEJORAR*\n",
            "Calcula la suma de 50 y 25 y luego resta 10: 50+25-10 \n",
            "¡Correcto!\n",
            "Calcula el resultado de multiplicar 12 por 5 y luego dividir por 2: 1\n",
            "Incorrecto. Inténtalo de nuevo. Respuesta correcta (12*5)/2 \n",
            "*REFLEXIONA DONDE PUEDES MEJORAR*\n",
            "Calcula el resultado de multiplicar 12 por 5 y luego dividir por 2: (12*5)/2 \n",
            "¡Correcto!\n",
            "Calcula la potencia de 3 elevado a 4 y luego la raíz cuadrada del resultado: 3\n",
            "Incorrecto. Inténtalo de nuevo. Respuesta correcta (3**4)**0.5 \n",
            "*REFLEXIONA DONDE PUEDES MEJORAR*\n",
            "Calcula la potencia de 3 elevado a 4 y luego la raíz cuadrada del resultado: (3**4)**0.5 \n",
            "¡Correcto!\n",
            "Calcula el módulo de 25 entre 4 y luego el valor absoluto de -15: (3**4)**0.5 \n",
            "Incorrecto. Inténtalo de nuevo. Respuesta correcta abs(-15) % (25 % 4) \n",
            "*REFLEXIONA DONDE PUEDES MEJORAR*\n",
            "Calcula el módulo de 25 entre 4 y luego el valor absoluto de -15: abs(-15) % (25 % 4) \n",
            "¡Correcto!\n",
            "Realiza las siguientes operaciones en orden: suma de 10 y 20, luego resta el resultado de 5, después multiplica por 4, y finalmente divide por 2: 1\n",
            "Incorrecto. Inténtalo de nuevo. Respuesta correcta ((10+20-5)*4)/2 \n",
            "*REFLEXIONA DONDE PUEDES MEJORAR*\n",
            "Realiza las siguientes operaciones en orden: suma de 10 y 20, luego resta el resultado de 5, después multiplica por 4, y finalmente divide por 2: ((10+20-5)*4)/2 \n",
            "¡Correcto!\n"
          ]
        }
      ]
    },
    {
      "cell_type": "markdown",
      "metadata": {
        "id": "V71CjW3K5lf0"
      },
      "source": [
        "#### REDONDEO"
      ]
    },
    {
      "cell_type": "code",
      "execution_count": 62,
      "metadata": {
        "id": "DXf-ej7e5lf0",
        "outputId": "4921188c-4723-4e9f-bb08-379ebc6b5011",
        "colab": {
          "base_uri": "https://localhost:8080/"
        }
      },
      "outputs": [
        {
          "output_type": "stream",
          "name": "stdout",
          "text": [
            "16\n",
            "16\n"
          ]
        }
      ],
      "source": [
        "#REDONDEO CLÁSICO\n",
        "print(round(15.51))\n",
        "print(round(15.6))"
      ]
    },
    {
      "cell_type": "code",
      "source": [
        "# Ejercicio 1: Redondeo Clásico\n",
        "respuesta_correcta_ejercicio_1 = round(8.51)\n",
        "while True:\n",
        "    entrada_usuario_ejercicio_1 = input(\"Redondea 8.51: \")\n",
        "    try:\n",
        "        if eval(entrada_usuario_ejercicio_1) == respuesta_correcta_ejercicio_1:\n",
        "            print(\"¡Correcto!\")\n",
        "            break\n",
        "        else:\n",
        "            print(\"Incorrecto. Inténtalo de nuevo. Respuesta correcta round(8.51)= 9 \\n*REFLEXIONA DONDE PUEDES MEJORAR*\")\n",
        "    except:\n",
        "        print(\"Ha ocurrido un error. Asegúrate de ingresar una expresión válida. Respuesta correcta round(8.51)= 9 \\n*REFLEXIONA DONDE PUEDES MEJORAR*\")\n",
        "\n",
        "# Ejercicio 2: Redondeo Clásico\n",
        "respuesta_correcta_ejercicio_2 = round(8.6)\n",
        "while True:\n",
        "    entrada_usuario_ejercicio_2 = input(\"Redondea 8.6: \")\n",
        "    try:\n",
        "        if eval(entrada_usuario_ejercicio_2) == respuesta_correcta_ejercicio_2:\n",
        "            print(\"¡Correcto!\")\n",
        "            break\n",
        "        else:\n",
        "            print(\"Incorrecto. Inténtalo de nuevo. Respuesta correcta round(8.6)= 9 \\n*REFLEXIONA DONDE PUEDES MEJORAR*\")\n",
        "    except:\n",
        "        print(\"Ha ocurrido un error. Asegúrate de ingresar una expresión válida. Respuesta correcta round round(8.6)= 9 \\n*REFLEXIONA DONDE PUEDES MEJORAR*\")\n"
      ],
      "metadata": {
        "colab": {
          "base_uri": "https://localhost:8080/"
        },
        "id": "GOM9_MsUAG2D",
        "outputId": "a62a0597-8085-4c51-9f18-9b743764b186"
      },
      "execution_count": 66,
      "outputs": [
        {
          "output_type": "stream",
          "name": "stdout",
          "text": [
            "Redondea 8.51: 9\n",
            "¡Correcto!\n",
            "Redondea 8.6: round(8.6)\n",
            "¡Correcto!\n"
          ]
        }
      ]
    },
    {
      "cell_type": "code",
      "execution_count": 71,
      "metadata": {
        "id": "C-vP1XID5lf1",
        "outputId": "86a9f89c-f85b-4157-aabc-d7ce136f5682",
        "colab": {
          "base_uri": "https://localhost:8080/"
        }
      },
      "outputs": [
        {
          "output_type": "stream",
          "name": "stdout",
          "text": [
            "23\n",
            "23\n"
          ]
        }
      ],
      "source": [
        "#REDONDEO HACIA ABAJO\n",
        "print(math.floor(23.999999))\n",
        "print(math.floor(23.3))"
      ]
    },
    {
      "cell_type": "code",
      "source": [
        "import math\n",
        "\n",
        "# Ejercicio 1: Redondeo Hacia Abajo\n",
        "respuesta_correcta_ejercicio_1 = math.floor(5.999999)\n",
        "while True:\n",
        "    entrada_usuario_ejercicio_1 = input(\"Redondea hacia abajo 5.999999: \")\n",
        "    try:\n",
        "        if eval(entrada_usuario_ejercicio_1) == respuesta_correcta_ejercicio_1:\n",
        "            print(\"¡Correcto!\")\n",
        "            break\n",
        "        else:\n",
        "            print(\"Incorrecto. Inténtalo de nuevo. Respuesta correcta math.floor(5.999999)=5 \\n*REFLEXIONA DONDE PUEDES MEJORAR*\")\n",
        "    except:\n",
        "        print(\"Ha ocurrido un error. Asegúrate de ingresar una expresión válida. Respuesta correcta math.floor(5.999999)=5 \\n*REFLEXIONA DONDE PUEDES MEJORAR*\")\n",
        "\n",
        "# Ejercicio 2: Redondeo Hacia Abajo\n",
        "respuesta_correcta_ejercicio_2 = math.floor(5.1)\n",
        "while True:\n",
        "    entrada_usuario_ejercicio_2 = input(\"Redondea hacia abajo 5.1: \")\n",
        "    try:\n",
        "        if eval(entrada_usuario_ejercicio_2) == respuesta_correcta_ejercicio_2:\n",
        "            print(\"¡Correcto!\")\n",
        "            break\n",
        "        else:\n",
        "            print(\"Incorrecto. Inténtalo de nuevo. Respuesta correcta math.floor(5.1)= 5 \\n*REFLEXIONA DONDE PUEDES MEJORAR*\")\n",
        "    except:\n",
        "        print(\"Ha ocurrido un error. Asegúrate de ingresar una expresión válida. Respuesta correcta math.floor(5.1) = 5 \\n*REFLEXIONA DONDE PUEDES MEJORAR*\")\n"
      ],
      "metadata": {
        "colab": {
          "base_uri": "https://localhost:8080/"
        },
        "id": "Vtdi-6VzDDgx",
        "outputId": "15f661ea-0158-49ea-abd4-19c5cd1b5efb"
      },
      "execution_count": 72,
      "outputs": [
        {
          "output_type": "stream",
          "name": "stdout",
          "text": [
            "Redondea hacia abajo 5.999999: 5\n",
            "¡Correcto!\n",
            "Redondea hacia abajo 5.1: 5\n",
            "¡Correcto!\n"
          ]
        }
      ]
    },
    {
      "cell_type": "code",
      "execution_count": 78,
      "metadata": {
        "id": "i5Xx1DGu5lf1",
        "outputId": "85db5812-bb10-4169-90ac-87c580c6d917",
        "colab": {
          "base_uri": "https://localhost:8080/"
        }
      },
      "outputs": [
        {
          "output_type": "stream",
          "name": "stdout",
          "text": [
            "17\n",
            "17\n"
          ]
        }
      ],
      "source": [
        "#REDONDEO HACIA ARRIBA\n",
        "print(math.ceil(16.90))\n",
        "print(math.ceil(16.10))"
      ]
    },
    {
      "cell_type": "code",
      "source": [
        "import math\n",
        "\n",
        "# Ejercicio 1: Redondeo Hacia Arriba\n",
        "respuesta_correcta_ejercicio_1 = math.ceil(3.51)\n",
        "while True:\n",
        "    entrada_usuario_ejercicio_1 = input(\"Redondea hacia arriba 3.51: \")\n",
        "    try:\n",
        "        if eval(entrada_usuario_ejercicio_1) == respuesta_correcta_ejercicio_1:\n",
        "            print(\"¡Correcto!\")\n",
        "            break\n",
        "        else:\n",
        "            print(\"Incorrecto. Inténtalo de nuevo. Respuesta correcta math.ceil(3.51)=4 \\n*REFLEXIONA DONDE PUEDES MEJORAR*\")\n",
        "    except:\n",
        "        print(\"Ha ocurrido un error. Asegúrate de ingresar una expresión válida. Respuesta correcta math.ceil(3.51)=4 \\n*REFLEXIONA DONDE PUEDES MEJORAR*\")\n",
        "\n",
        "# Ejercicio 2: Redondeo Hacia Arriba\n",
        "respuesta_correcta_ejercicio_2 = math.ceil(3.1)\n",
        "while True:\n",
        "    entrada_usuario_ejercicio_2 = input(\"Redondea hacia arriba 3.1: \")\n",
        "    try:\n",
        "        if eval(entrada_usuario_ejercicio_2) == respuesta_correcta_ejercicio_2:\n",
        "            print(\"¡Correcto!\")\n",
        "            break\n",
        "        else:\n",
        "            print(\"Incorrecto. Inténtalo de nuevo. Respuesta correcta math.ceil(3.1)=4 \\n*REFLEXIONA DONDE PUEDES MEJORAR*\")\n",
        "    except:\n",
        "        print(\"Ha ocurrido un error. Asegúrate de ingresar una expresión válida. Respuesta correcta math.ceil(3.1)=4 \\n*REFLEXIONA DONDE PUEDES MEJORAR*\")\n"
      ],
      "metadata": {
        "colab": {
          "base_uri": "https://localhost:8080/"
        },
        "id": "VePnPJNaDzs5",
        "outputId": "ccd5204d-8dde-40aa-c538-be4686534ed8"
      },
      "execution_count": 77,
      "outputs": [
        {
          "output_type": "stream",
          "name": "stdout",
          "text": [
            "Redondea hacia arriba 3.51: 6\n",
            "Incorrecto. Inténtalo de nuevo. Respuesta correcta math.ceil(3.51)=4 \n",
            "*REFLEXIONA DONDE PUEDES MEJORAR*\n",
            "Redondea hacia arriba 3.51: 4\n",
            "¡Correcto!\n",
            "Redondea hacia arriba 3.1: 2\n",
            "Incorrecto. Inténtalo de nuevo. Respuesta correcta math.ceil(3.1)=4 \n",
            "*REFLEXIONA DONDE PUEDES MEJORAR*\n",
            "Redondea hacia arriba 3.1: 4\n",
            "¡Correcto!\n"
          ]
        }
      ]
    },
    {
      "cell_type": "code",
      "execution_count": 79,
      "metadata": {
        "id": "Ic8_6inm5lf1",
        "outputId": "18421478-00a6-40b1-eb8c-9c465fd385eb",
        "colab": {
          "base_uri": "https://localhost:8080/"
        }
      },
      "outputs": [
        {
          "output_type": "stream",
          "name": "stdout",
          "text": [
            "28\n",
            "28\n"
          ]
        }
      ],
      "source": [
        "#TRUNCAMIENTO\n",
        "print(math.trunc(28.9999))\n",
        "print(math.trunc(28.001))"
      ]
    },
    {
      "cell_type": "code",
      "source": [
        "import math\n",
        "\n",
        "# Ejercicio 1: Truncamiento\n",
        "respuesta_correcta_ejercicio_1 = math.trunc(9.99999)\n",
        "while True:\n",
        "    entrada_usuario_ejercicio_1 = input(\"Trunca 9.99999: \")\n",
        "    try:\n",
        "        if eval(entrada_usuario_ejercicio_1) == respuesta_correcta_ejercicio_1:\n",
        "            print(\"¡Correcto!\")\n",
        "            break\n",
        "        else:\n",
        "            print(\"Incorrecto. Inténtalo de nuevo. Respuesta correcta math.trunc(9.99999)=9 \\n*REFLEXIONA DONDE PUEDES MEJORAR*\")\n",
        "    except:\n",
        "        print(\"Ha ocurrido un error. Asegúrate de ingresar una expresión válida. Respuesta correcta math.trunc(9.99999)=9 \\n*REFLEXIONA DONDE PUEDES MEJORAR*\")\n",
        "\n",
        "# Ejercicio 2: Truncamiento\n",
        "respuesta_correcta_ejercicio_2 = math.trunc(9.1)\n",
        "while True:\n",
        "    entrada_usuario_ejercicio_2 = input(\"Trunca 9.1: \")\n",
        "    try:\n",
        "        if eval(entrada_usuario_ejercicio_2) == respuesta_correcta_ejercicio_2:\n",
        "            print(\"¡Correcto!\")\n",
        "            break\n",
        "        else:\n",
        "            print(\"Incorrecto. Inténtalo de nuevo. Respuesta correcta math.trunc(9.1)=9 \\n*REFLEXIONA DONDE PUEDES MEJORAR*\")\n",
        "    except:\n",
        "        print(\"Ha ocurrido un error. Asegúrate de ingresar una expresión válida. Respuesta correcta math.trunc(9.1)=9 \\n*REFLEXIONA DONDE PUEDES MEJORAR*\")\n"
      ],
      "metadata": {
        "colab": {
          "base_uri": "https://localhost:8080/"
        },
        "id": "ek4xhwW9Ef33",
        "outputId": "753b0a00-f474-4424-863c-a97bf8fd6e64"
      },
      "execution_count": 81,
      "outputs": [
        {
          "output_type": "stream",
          "name": "stdout",
          "text": [
            "Trunca 9.99999: 8\n",
            "Incorrecto. Inténtalo de nuevo. Respuesta correcta math.trunc(9.99999)=9 \n",
            "*REFLEXIONA DONDE PUEDES MEJORAR*\n",
            "Trunca 9.99999: 9\n",
            "¡Correcto!\n",
            "Trunca 9.1: 5\n",
            "Incorrecto. Inténtalo de nuevo. Respuesta correcta math.trunc(9.1)=9 \n",
            "*REFLEXIONA DONDE PUEDES MEJORAR*\n",
            "Trunca 9.1: 9\n",
            "¡Correcto!\n"
          ]
        }
      ]
    },
    {
      "cell_type": "code",
      "source": [
        "## Cálculo de Ganancias y Pérdidas:\n",
        "\n",
        "\"\"\"Supongamos que tienes una posición en el mercado de divisas donde compraste 100 euros a un tipo de cambio de 1.2 dólares por euro.\n",
        "Después de un tiempo, el tipo de cambio ha cambiado a 1.25 dólares por euro.\n",
        "Calcula tus ganancias o pérdidas en dólares utilizando operaciones aritméticas básicas.\"\"\"\n",
        "\n",
        "\n",
        "# Precio de compra y venta en dólares por euro\n",
        "precio_compra = 1.2\n",
        "precio_venta = 1.25\n",
        "\"\"\"Esto establece cuántos dólares necesitas para comprar un euro y cuántos dólares recibirías\n",
        " por vender un euro. En este caso, el precio de compra es de 1.2 dólares por euro y el precio\n",
        " de venta es de 1.25 dólares por euro.\"\"\"\n",
        "\n",
        "# Cantidad de euros comprados\n",
        "cantidad_euros = 100\n",
        "\"\"\"Aquí establecemos cuántos euros se compraron inicialmente.\n",
        " En este ejemplo, se compraron 100 euros.\"\"\"\n",
        "\n",
        "# Calcula el costo total de la operación en dólares\n",
        "costo_total = cantidad_euros * precio_compra\n",
        "\"\"\"Para calcular cuánto te costó comprar esos 100 euros en dólares, simplemente multiplicamos\n",
        " la cantidad de euros comprados por el precio de compra por euro.\"\"\"\n",
        "\n",
        "# Calcula el ingreso total por la venta en dólares\n",
        "ingreso_total = cantidad_euros * precio_venta\n",
        "\"\"\"Cuando vendemos esos 100 euros, recibiremos un ingreso en dólares.\n",
        "Para calcular este ingreso, multiplicamos la cantidad de euros vendidos\n",
        " por el precio de venta por euro.\"\"\"\n",
        "\n",
        "# Calcula las ganancias o pérdidas en dólares\n",
        "ganancia_perdida = ingreso_total - costo_total\n",
        "\n",
        "\"\"\"Restamos el costo total de la operación (lo que pagamos por los euros) del ingreso total\n",
        " por la venta (lo que recibimos por vender los euros).\n",
        " El resultado nos dará la ganancia o pérdida en dólares.\"\"\"\n",
        "\n",
        "print(\"Ganancia o pérdida en dólares:\", ganancia_perdida)\n"
      ],
      "metadata": {
        "colab": {
          "base_uri": "https://localhost:8080/"
        },
        "id": "NFESI33NFqVI",
        "outputId": "ade457d8-9527-4dbc-c12d-b684a82b90a8"
      },
      "execution_count": 86,
      "outputs": [
        {
          "output_type": "stream",
          "name": "stdout",
          "text": [
            "Ganancia o pérdida en dólares: 5.0\n"
          ]
        }
      ]
    },
    {
      "cell_type": "markdown",
      "metadata": {
        "id": "Clb8O-NJ5lf1"
      },
      "source": [
        "#### CONSTANTES MATEMÁTICAS"
      ]
    },
    {
      "cell_type": "code",
      "execution_count": null,
      "metadata": {
        "id": "kxlOyCmX5lf1",
        "outputId": "431a4125-c0bc-4b26-d9f0-ea6a8a37214f"
      },
      "outputs": [
        {
          "data": {
            "text/plain": [
              "3.141592653589793"
            ]
          },
          "execution_count": 13,
          "metadata": {},
          "output_type": "execute_result"
        }
      ],
      "source": [
        "math.pi"
      ]
    },
    {
      "cell_type": "code",
      "execution_count": null,
      "metadata": {
        "id": "JDcSdnEy5lf1",
        "outputId": "8240d0cf-4631-42c5-ac92-a7a9d7dc6955"
      },
      "outputs": [
        {
          "data": {
            "text/plain": [
              "2.718281828459045"
            ]
          },
          "execution_count": 14,
          "metadata": {},
          "output_type": "execute_result"
        }
      ],
      "source": [
        "math.e"
      ]
    },
    {
      "cell_type": "code",
      "source": [
        "import math\n",
        "\n",
        "# Constantes matemáticas\n",
        "constantes_matematicas = {\n",
        "    \"Pi\": math.pi,\n",
        "    \"Número de Euler\": math.e,\n",
        "    \"Raíz cuadrada de 2\": math.sqrt(2),\n",
        "    \"Raíz cuadrada de 3\": math.sqrt(3),\n",
        "    \"La proporción áurea - Phi\": (1 + math.sqrt(5)) / 2,\n",
        "    \"Constante del Círculo de TAU -Tau (2 * Pi)\": math.tau,\n",
        "    \"Logaritmo natural de 10\": math.log(10),\n",
        "}\n",
        "\n",
        "# Imprimir las constantes matemáticas\n",
        "for constante, valor in constantes_matematicas.items():\n",
        "    print(f\"{constante}: {valor}\")"
      ],
      "metadata": {
        "colab": {
          "base_uri": "https://localhost:8080/"
        },
        "id": "9MudycxWOYp2",
        "outputId": "e88e688f-c64c-4337-b47c-f1bb7e50597d"
      },
      "execution_count": 100,
      "outputs": [
        {
          "output_type": "stream",
          "name": "stdout",
          "text": [
            "Pi: 3.141592653589793\n",
            "Número de Euler: 2.718281828459045\n",
            "Raíz cuadrada de 2: 1.4142135623730951\n",
            "Raíz cuadrada de 3: 1.7320508075688772\n",
            "La proporción áurea - Phi: 1.618033988749895\n",
            "Constante del Círculo de TAU -Tau (2 * Pi): 6.283185307179586\n",
            "Logaritmo natural de 10: 2.302585092994046\n"
          ]
        }
      ]
    },
    {
      "cell_type": "markdown",
      "source": [
        " #  <big> <big> <font color=\"yellow\"> <center> **PRIMERA EVALUACION**</center></font></big>\n",
        "  \n",
        " # Cálculo del Valor de una Acción:\n",
        "\n",
        "En este ejercicio, simularemos una transacción de compra y venta de acciones de una empresa.\n",
        "Utilizaremos operaciones aritméticas básicas para calcular el valor total de la inversión y\n",
        " determinar si hubo ganancias o pérdidas.\n",
        "\n",
        "### Escenario:\n",
        "\n",
        "Precio de Compra por Acción: $50\n",
        "\n",
        "Precio de Venta por Acción: $55\n",
        "\n",
        "Cantidad de Acciones Compradas: 200\n"
      ],
      "metadata": {
        "id": "zSCvrnhyLSPr"
      }
    },
    {
      "cell_type": "markdown",
      "metadata": {
        "id": "PmA6eRPp5lf1"
      },
      "source": [
        "## PARTE 2.2: MANEJO DE CADENAS"
      ]
    },
    {
      "cell_type": "code",
      "execution_count": 101,
      "metadata": {
        "id": "QEi6LVDL5lf2",
        "outputId": "917f9ad5-84ce-4ff3-acbb-f28dd7faee20",
        "colab": {
          "base_uri": "https://localhost:8080/"
        }
      },
      "outputs": [
        {
          "output_type": "stream",
          "name": "stdout",
          "text": [
            "HOLA MUNDO\n",
            "HOLA MUNDO\n",
            "HOLA TRADING\n",
            "HOLA ACTIVIDAD\n"
          ]
        }
      ],
      "source": [
        "#IMPRIMIR UN MENSAJE\n",
        "print(\"HOLA MUNDO\")\n",
        "print('HOLA MUNDO')\n",
        "\n",
        "ACTIVIDAD = \"TRADING\"\n",
        "\n",
        "print(\"HOLA\",ACTIVIDAD) #VARIABLE\n",
        "print(\"HOLA\",\"ACTIVIDAD\") #TEXTO \"ACTIVIDAD\""
      ]
    },
    {
      "cell_type": "code",
      "execution_count": 102,
      "metadata": {
        "id": "FpjLcQEl5lf2",
        "outputId": "e84ab82c-4ea1-4218-e863-f6484c5c1a24",
        "colab": {
          "base_uri": "https://localhost:8080/"
        }
      },
      "outputs": [
        {
          "output_type": "stream",
          "name": "stdout",
          "text": [
            "EL RIESGO SE PUEDE MEDIR' \n",
            "EL RIESGO SE PUEDE MEDIR\" \n"
          ]
        }
      ],
      "source": [
        "#IMPRIMIR UN MENSAJE CON COMILLAS\n",
        "#EL RIESGO SE PUEDE MEDIR\"\n",
        "print(\"EL RIESGO SE PUEDE MEDIR' \")\n",
        "print('EL RIESGO SE PUEDE MEDIR\" ')"
      ]
    },
    {
      "cell_type": "code",
      "execution_count": 103,
      "metadata": {
        "id": "LGgU_bM55lf2",
        "outputId": "2ebcf05c-3f03-49dc-cdd1-8008356566e8",
        "colab": {
          "base_uri": "https://localhost:8080/"
        }
      },
      "outputs": [
        {
          "output_type": "stream",
          "name": "stdout",
          "text": [
            "EL RIESGO \t'SE PUEDE MEDIR' \n"
          ]
        }
      ],
      "source": [
        "#TABULACIONES\n",
        "print(\"EL RIESGO \\t'SE PUEDE MEDIR' \")"
      ]
    },
    {
      "cell_type": "code",
      "execution_count": 104,
      "metadata": {
        "id": "fmuoceHB5lf2",
        "outputId": "1dd66722-0c27-4f52-8872-6bc26b8e3512",
        "colab": {
          "base_uri": "https://localhost:8080/"
        }
      },
      "outputs": [
        {
          "output_type": "stream",
          "name": "stdout",
          "text": [
            "EL RIESGO \n",
            "'SE PUEDE MEDIRSE' \n"
          ]
        }
      ],
      "source": [
        "#SALTO DE LÍNEA\n",
        "print(\"EL RIESGO \\n'SE PUEDE MEDIR' \")"
      ]
    },
    {
      "cell_type": "code",
      "execution_count": 109,
      "metadata": {
        "id": "vC4xzdHK5lf2",
        "outputId": "adc79a43-dfd1-4338-a2fa-6b83ecb43784",
        "colab": {
          "base_uri": "https://localhost:8080/"
        }
      },
      "outputs": [
        {
          "output_type": "stream",
          "name": "stdout",
          "text": [
            "EL RIESGO \\n\\t'SE PUEDE MEDIR' \n"
          ]
        }
      ],
      "source": [
        "#TEXTO SIN EJECUTAR COMANDOS\n",
        "print(r\"EL RIESGO \\n\\t'SE PUEDE MEDIR' \") #raw"
      ]
    },
    {
      "cell_type": "code",
      "execution_count": 106,
      "metadata": {
        "id": "TwLgp12u5lf2",
        "outputId": "4c8dd8a3-9f40-49dc-db9b-82fa3c5b1f5e",
        "colab": {
          "base_uri": "https://localhost:8080/"
        }
      },
      "outputs": [
        {
          "output_type": "stream",
          "name": "stdout",
          "text": [
            "EL \n",
            "RIESGO \n",
            "SE PUEDE \n",
            "MEDIR\n"
          ]
        }
      ],
      "source": [
        "#MOSTRAR VARIAS LÍNEAS\n",
        "print(\"\"\"EL\n",
        "RIESGO\n",
        "SE PUEDE\n",
        "MEDIR\"\"\")"
      ]
    },
    {
      "cell_type": "code",
      "execution_count": 110,
      "metadata": {
        "id": "ETvbwLPM5lf2",
        "outputId": "b8ddc839-1eb6-4fbb-c227-8328051d5634",
        "colab": {
          "base_uri": "https://localhost:8080/"
        }
      },
      "outputs": [
        {
          "output_type": "stream",
          "name": "stdout",
          "text": [
            "HOLA MUNDO\n",
            "HOLA  MUNDO\n"
          ]
        }
      ],
      "source": [
        "#SUMA DE CADENAS\n",
        "A1 = \"HOLA \"\n",
        "A2 = \"MUNDO\"\n",
        "print(A1+A2)\n",
        "print(A1,A2)"
      ]
    },
    {
      "cell_type": "code",
      "execution_count": 111,
      "metadata": {
        "id": "_Tw2Wn1Y5lf2",
        "outputId": "d43227f8-41aa-414e-bc66-83df18709345",
        "colab": {
          "base_uri": "https://localhost:8080/"
        }
      },
      "outputs": [
        {
          "output_type": "stream",
          "name": "stdout",
          "text": [
            "SPYSPYSPYSPY\n",
            "SPYSPYSPY\n"
          ]
        }
      ],
      "source": [
        "#MULTIPLICACIÓN DE CADENAS\n",
        "A1 = \"SPY\"\n",
        "print(A1*4)\n",
        "print(A1+A1+A1)"
      ]
    },
    {
      "cell_type": "code",
      "execution_count": 115,
      "metadata": {
        "id": "-WQutt1f5lf3",
        "outputId": "a722a7d9-6e89-44d5-935e-b0a14a7bf520",
        "colab": {
          "base_uri": "https://localhost:8080/"
        }
      },
      "outputs": [
        {
          "output_type": "stream",
          "name": "stdout",
          "text": [
            "F\n",
            "T\n",
            "G\n",
            "G\n"
          ]
        }
      ],
      "source": [
        "#ÍNDICES DE CADENAS\n",
        "#FINANZAS&TRADING\n",
        "#(F)(I)(N)(A)(N)(Z)(A)(S)(&)(T)(R)(A)(D)(I)(N)(G)\n",
        "#(0)(1)(2)(3)(4)(5)(6)(7)(8)(9)(10)(11)(12)(13)(14)(15)\n",
        "\n",
        "A1 = \"FINANZAS&TRADING\"\n",
        "print(A1[0])\n",
        "print(A1[9])\n",
        "\n",
        "print(A1[15])\n",
        "print(A1[-1])"
      ]
    },
    {
      "cell_type": "code",
      "execution_count": 117,
      "metadata": {
        "id": "TiofV1fP5lf3",
        "outputId": "e3625f4e-3438-4eb7-c3cb-06df47950f59",
        "colab": {
          "base_uri": "https://localhost:8080/"
        }
      },
      "outputs": [
        {
          "output_type": "stream",
          "name": "stdout",
          "text": [
            "FINAN\n",
            "AS&\n",
            "FINANZ\n",
            "S&TRADING\n",
            "FINANZAS&TRADING\n"
          ]
        }
      ],
      "source": [
        "#SLICING DE CADENAS\n",
        "print(A1[0:5])\n",
        "print(A1[6:9])\n",
        "\n",
        "print(A1[:6])\n",
        "print(A1[7:])\n",
        "\n",
        "print(A1[:])"
      ]
    },
    {
      "cell_type": "code",
      "execution_count": 118,
      "metadata": {
        "id": "kpfZR5dY5lf3",
        "colab": {
          "base_uri": "https://localhost:8080/",
          "height": 176
        },
        "outputId": "45cfeda8-0758-42e0-f7e4-b03ba68773f2"
      },
      "outputs": [
        {
          "output_type": "error",
          "ename": "TypeError",
          "evalue": "'str' object does not support item assignment",
          "traceback": [
            "\u001b[0;31m---------------------------------------------------------------------------\u001b[0m",
            "\u001b[0;31mTypeError\u001b[0m                                 Traceback (most recent call last)",
            "\u001b[0;32m<ipython-input-118-6d422b5107c2>\u001b[0m in \u001b[0;36m<cell line: 3>\u001b[0;34m()\u001b[0m\n\u001b[1;32m      1\u001b[0m \u001b[0;31m#NO SE PUEDE MODIFICAR MEDIANTE SLICING O ÍNDICES\u001b[0m\u001b[0;34m\u001b[0m\u001b[0;34m\u001b[0m\u001b[0m\n\u001b[1;32m      2\u001b[0m \u001b[0mA1\u001b[0m \u001b[0;34m=\u001b[0m \u001b[0;34m\"FINANZAS&TRADING\"\u001b[0m\u001b[0;34m\u001b[0m\u001b[0;34m\u001b[0m\u001b[0m\n\u001b[0;32m----> 3\u001b[0;31m \u001b[0mA1\u001b[0m\u001b[0;34m[\u001b[0m\u001b[0;36m0\u001b[0m\u001b[0;34m]\u001b[0m \u001b[0;34m=\u001b[0m \u001b[0;34m\"X\"\u001b[0m\u001b[0;34m\u001b[0m\u001b[0;34m\u001b[0m\u001b[0m\n\u001b[0m",
            "\u001b[0;31mTypeError\u001b[0m: 'str' object does not support item assignment"
          ]
        }
      ],
      "source": [
        "#NO SE PUEDE MODIFICAR MEDIANTE SLICING O ÍNDICES\n",
        "A1 = \"FINANZAS&TRADING\"\n",
        "A1[0] = \"X\""
      ]
    },
    {
      "cell_type": "code",
      "execution_count": 120,
      "metadata": {
        "id": "oaVfy1OP5lf3",
        "outputId": "e275f494-1dd4-4ce4-f37d-d7570329e105",
        "colab": {
          "base_uri": "https://localhost:8080/"
        }
      },
      "outputs": [
        {
          "output_type": "stream",
          "name": "stdout",
          "text": [
            "16\n"
          ]
        }
      ],
      "source": [
        "#LONGITUD DE UNA CADENA\n",
        "A11 = \"FINANZAS&TRADING\"\n",
        "print(len(A1))"
      ]
    },
    {
      "cell_type": "code",
      "execution_count": 122,
      "metadata": {
        "id": "fJfVuaw_5lf3",
        "outputId": "7196fb87-815e-4e99-d834-58e162dd8779",
        "colab": {
          "base_uri": "https://localhost:8080/"
        }
      },
      "outputs": [
        {
          "output_type": "stream",
          "name": "stdout",
          "text": [
            "FINANZAS&TRADING\n"
          ]
        }
      ],
      "source": [
        "#FUNCIÓN UPPER --> VUELVE A MAYÚSCULAS LA CADENA\n",
        "texto = 'finanzas&trading'\n",
        "print(texto.upper())"
      ]
    },
    {
      "cell_type": "code",
      "execution_count": 121,
      "metadata": {
        "id": "SP2MW12Q5lf3",
        "outputId": "bd60f329-337b-4a61-ae33-4bdd404bd303",
        "colab": {
          "base_uri": "https://localhost:8080/"
        }
      },
      "outputs": [
        {
          "output_type": "stream",
          "name": "stdout",
          "text": [
            "finanzas&trading\n"
          ]
        }
      ],
      "source": [
        "#FUNCIÓN LOWER --> VUELVE A MINÚSCULAS LA CADENA\n",
        "texto = 'FINANZAS&TRADING'\n",
        "print(texto.lower())"
      ]
    },
    {
      "cell_type": "code",
      "execution_count": 123,
      "metadata": {
        "id": "xQgohFu15lf3",
        "outputId": "8b5d2c2d-3d97-420a-b30a-4c96b68637a7",
        "colab": {
          "base_uri": "https://localhost:8080/"
        }
      },
      "outputs": [
        {
          "output_type": "stream",
          "name": "stdout",
          "text": [
            "Finanzas&trading\n"
          ]
        }
      ],
      "source": [
        "#CAPITALIZE --> VUELVE MAYÚSCULA SOLO EL PRIMER CARACTER\n",
        "texto = 'FINANZAS&TRADING'\n",
        "print(texto.capitalize())"
      ]
    },
    {
      "cell_type": "code",
      "execution_count": 124,
      "metadata": {
        "id": "Yc7C4nT65lf4",
        "outputId": "5081c2e1-38bb-4c43-c004-54b84dba6c6c",
        "colab": {
          "base_uri": "https://localhost:8080/"
        }
      },
      "outputs": [
        {
          "output_type": "stream",
          "name": "stdout",
          "text": [
            "Finanzas&Trading\n"
          ]
        }
      ],
      "source": [
        "#TITLE --> VUELVE MAYÚSCULA SOLO EL PRIMER CARACTER DE CADA PALABRA\n",
        "texto = 'FINANZAS&TRADING'\n",
        "print(texto.title())"
      ]
    },
    {
      "cell_type": "code",
      "execution_count": 127,
      "metadata": {
        "id": "jHGIfeKe5lf4",
        "outputId": "6aa51f0f-5dce-46d3-b4c0-bf2bec0e4683",
        "colab": {
          "base_uri": "https://localhost:8080/"
        }
      },
      "outputs": [
        {
          "output_type": "stream",
          "name": "stdout",
          "text": [
            "2\n",
            "0\n"
          ]
        }
      ],
      "source": [
        "#COUNT --> DEVUELVE LA CANTIDAD DE VECES QUE APARECE UNA CADENA EN OTRA\n",
        "texto = \"FINANZAS&TRADING&TRADING\"\n",
        "print(texto.count(\"TRADING\"))\n",
        "print(texto.count(\"trading\"))"
      ]
    },
    {
      "cell_type": "code",
      "execution_count": 131,
      "metadata": {
        "id": "UzyUmWRO5lf4",
        "outputId": "dfa30d1c-161a-4a75-f826-c225ccac4337",
        "colab": {
          "base_uri": "https://localhost:8080/"
        }
      },
      "outputs": [
        {
          "output_type": "stream",
          "name": "stdout",
          "text": [
            "9\n",
            "-1\n"
          ]
        }
      ],
      "source": [
        "#FIND --> TE DICE LA PRIMERA POSICIÓN DESDE LA IZQUIERDA EN EL QUE SE ENCUENTRA UN TEXTO\n",
        "texto = \"FINANZAS&TRADING\"\n",
        "print(texto.find(\"TRADING\"))\n",
        "print(texto.find(\"trading\"))"
      ]
    },
    {
      "cell_type": "code",
      "execution_count": 132,
      "metadata": {
        "id": "HYf6L17Q5lf4",
        "outputId": "de509c4d-d343-4cde-8195-5b91f199b91c",
        "colab": {
          "base_uri": "https://localhost:8080/"
        }
      },
      "outputs": [
        {
          "output_type": "stream",
          "name": "stdout",
          "text": [
            "9\n",
            "-1\n"
          ]
        }
      ],
      "source": [
        "#RFIND --> TE DICE LA PRIMERA POSICIÓN DESDE LA DERECHA EN EL QUE SE ENCUENTRA UN TEXTO\n",
        "texto = \"FINANZAS&TRADING\"\n",
        "print(texto.rfind(\"TRADING\"))\n",
        "print(texto.rfind(\"trading\"))"
      ]
    },
    {
      "cell_type": "code",
      "execution_count": 135,
      "metadata": {
        "id": "h1zdIKSD5lf8",
        "outputId": "b5d8a596-c248-4303-9497-4007961e9487",
        "colab": {
          "base_uri": "https://localhost:8080/"
        }
      },
      "outputs": [
        {
          "output_type": "stream",
          "name": "stdout",
          "text": [
            "True\n",
            "False\n",
            "False\n",
            "False\n"
          ]
        }
      ],
      "source": [
        "#ISDIGIT --> True (CUANDO TODOS LOS CARACTERES SON CIFRAS)\n",
        "print(\"6579542\".isdigit())\n",
        "print(\"54631.13\".isdigit())\n",
        "print(\"56461e\".isdigit())\n",
        "print(\"3.14159263\".isdigit())"
      ]
    },
    {
      "cell_type": "code",
      "execution_count": 136,
      "metadata": {
        "id": "eJDeJ1sX5lf8",
        "outputId": "0ace6f54-cd3d-4237-d11c-59edcdca5d7c",
        "colab": {
          "base_uri": "https://localhost:8080/"
        }
      },
      "outputs": [
        {
          "output_type": "stream",
          "name": "stdout",
          "text": [
            "True\n",
            "True\n",
            "True\n",
            "False\n"
          ]
        }
      ],
      "source": [
        "#ISALNUM --> True (CUANDO TODOS LOS CARACTERES SON ALFANUMÉRICOS)\n",
        "print(\"dfasdfQQQQQQQa3424\".isalnum())\n",
        "print(\"abcd5\".isalnum())\n",
        "print(\"12345\".isalnum())\n",
        "print(\"12345.6\".isalnum())"
      ]
    },
    {
      "cell_type": "code",
      "execution_count": null,
      "metadata": {
        "id": "5KxHaFkj5lf8",
        "outputId": "85e38600-6fb2-4345-c6f1-9719056c13fb"
      },
      "outputs": [
        {
          "name": "stdout",
          "output_type": "stream",
          "text": [
            "True\n",
            "True\n",
            "False\n",
            "False\n",
            "False\n",
            "True\n"
          ]
        }
      ],
      "source": [
        "#ISALPHA --> True (CUANDO TODOS LOS CARACTERES SON LETRAS)\n",
        "print(\"hola\".isalpha())\n",
        "print(\"Hola\".isalpha())\n",
        "print(\"Hola R2D2\".isalpha())\n",
        "print(\"Hola, soy Gokú\".isalpha())\n",
        "print(\"Hola soy Gokú\".isalpha())\n",
        "print(\"HolasoyGokú\".isalpha())"
      ]
    },
    {
      "cell_type": "code",
      "execution_count": null,
      "metadata": {
        "id": "2-ahl9Zg5lf8",
        "outputId": "3ec51424-2d1a-43c2-d1e8-c2dde39513f3"
      },
      "outputs": [
        {
          "name": "stdout",
          "output_type": "stream",
          "text": [
            "True\n",
            "True\n",
            "False\n",
            "False\n"
          ]
        }
      ],
      "source": [
        "#ISLOWER --> True (CUANDO TODOS LOS CARACTERES SON LETRAS MINÚSCULAS)\n",
        "print(\"hola\".islower())\n",
        "print(\"hola, soy gokú\".islower())\n",
        "print(\"Hola, soy gokú\".islower())\n",
        "print(\"1234\".islower())"
      ]
    },
    {
      "cell_type": "code",
      "execution_count": null,
      "metadata": {
        "id": "GcLAaVXt5lf9",
        "outputId": "2d33b9b1-5536-4dd6-bc32-f031af3c4a8d"
      },
      "outputs": [
        {
          "name": "stdout",
          "output_type": "stream",
          "text": [
            "True\n",
            "False\n",
            "False\n",
            "False\n"
          ]
        }
      ],
      "source": [
        "#ISUPPER --> True (CUANDO TODOS LOS CARACTERES SON LETRAS MAYÚSCULAS)\n",
        "print(\"HOLA\".isupper())\n",
        "print(\"hola, soy gokú\".isupper())\n",
        "print(\"Hola, soy gokú\".isupper())\n",
        "print(\"1234\".isupper())"
      ]
    },
    {
      "cell_type": "code",
      "execution_count": null,
      "metadata": {
        "id": "Bj_efQdK5lf9",
        "outputId": "c6148f08-267b-4624-bf7f-18ac1bb59f25"
      },
      "outputs": [
        {
          "name": "stdout",
          "output_type": "stream",
          "text": [
            "True\n",
            "False\n"
          ]
        }
      ],
      "source": [
        "#ISTITLE --> True (CUANDO LA CADENA ES UN TÍTULO)\n",
        "print(\"Hola Soy Gokú\".istitle())\n",
        "print(\"HOLA SOY GOKÚ\".istitle())"
      ]
    },
    {
      "cell_type": "code",
      "execution_count": null,
      "metadata": {
        "id": "94C8yzXD5lf9",
        "outputId": "d3f20d10-069b-4a6b-b380-665411cd842a"
      },
      "outputs": [
        {
          "name": "stdout",
          "output_type": "stream",
          "text": [
            "True\n",
            "False\n"
          ]
        }
      ],
      "source": [
        "#ISSPACE --> True (CUANDO LA CADENA SOLO MUESTRA ESPACIOS)\n",
        "print(\"          \".isspace())\n",
        "print(\"           .     \".isspace())"
      ]
    },
    {
      "cell_type": "code",
      "execution_count": null,
      "metadata": {
        "id": "rzoNyP1X5lf9",
        "outputId": "9d22cac0-96a1-4d98-8462-406beceb14a0"
      },
      "outputs": [
        {
          "name": "stdout",
          "output_type": "stream",
          "text": [
            "True\n",
            "False\n"
          ]
        }
      ],
      "source": [
        "#STARSWITH --> True (SI LA CADENA EMPIEZA CON DETERMINADA CADENA)\n",
        "print(\"Hola Soy Gokú\".startswith(\"Hola\"))\n",
        "print(\"Hola Soy Gokú\".startswith(\"Gokú\"))"
      ]
    },
    {
      "cell_type": "code",
      "execution_count": null,
      "metadata": {
        "id": "S80K0Q1S5lf9",
        "outputId": "27bcbfa4-db53-402b-dc59-4fb4b56e0467"
      },
      "outputs": [
        {
          "name": "stdout",
          "output_type": "stream",
          "text": [
            "True\n",
            "False\n"
          ]
        }
      ],
      "source": [
        "#ENDSWITH --> True (SI LA CADENA CULMINA CON DETERMINADA CADENA)\n",
        "print(\"Hola Soy Gokú\".endswith(\"Gokú\"))\n",
        "print(\"Hola Soy Gokú\".endswith(\"Hola\"))"
      ]
    },
    {
      "cell_type": "code",
      "execution_count": null,
      "metadata": {
        "id": "mCnWc8Wh5lf9",
        "outputId": "b186e3dc-b074-416d-ef15-e9fe9e356948"
      },
      "outputs": [
        {
          "name": "stdout",
          "output_type": "stream",
          "text": [
            "['HOLA', 'MUNDO', 'MUNDO', 'TIERRA', '2021']\n",
            "['HOLA ', 'NDO ', 'NDO TIERRA 2021']\n"
          ]
        }
      ],
      "source": [
        "#SPLIT --> TE PERMITE DIVIDIR UNA CADENA CON BASE EN ALGÚN CARACTER/CADENA\n",
        "print(\"HOLA MUNDO MUNDO TIERRA 2021\".split(\" \"))\n",
        "print(\"HOLA MUNDO MUNDO TIERRA 2021\".split(\"MU\"))"
      ]
    },
    {
      "cell_type": "code",
      "execution_count": null,
      "metadata": {
        "id": "fABQq6EI5lf9",
        "outputId": "f96d8704-42e7-43fb-fffa-210a3a6842e7"
      },
      "outputs": [
        {
          "name": "stdout",
          "output_type": "stream",
          "text": [
            "H.O.L.A. .M.U.N.D.O\n",
            "H.XYZ.O.XYZ.L.XYZ.A.XYZ. .XYZ.M.XYZ.U.XYZ.N.XYZ.D.XYZ.O\n"
          ]
        }
      ],
      "source": [
        "#JOIN --> TE PERMITE UNIR UNA CADENA CON BASE EN ALGÚN CARACTER/CADENA\n",
        "print(\".\".join(\"HOLA MUNDO\"))\n",
        "print(\".XYZ.\".join(\"HOLA MUNDO\"))"
      ]
    },
    {
      "cell_type": "code",
      "execution_count": null,
      "metadata": {
        "id": "cGVF22t45lf9",
        "outputId": "6e488137-6de1-45c1-9ecb-1593e4761809"
      },
      "outputs": [
        {
          "name": "stdout",
          "output_type": "stream",
          "text": [
            "HOLA MUNDO\n",
            "HOLA MUNDO\n"
          ]
        }
      ],
      "source": [
        "#STRIP --> ELIMNA ALGÚN CARACTER O CADENA DEL INICIO Y FINAL\n",
        "print(\"          HOLA MUNDO                \".strip())\n",
        "print(\"_________________HOLA MUNDO______________\".strip(\"_\"))"
      ]
    },
    {
      "cell_type": "code",
      "execution_count": null,
      "metadata": {
        "id": "TPhoQ_795lf-",
        "outputId": "34d5d276-5504-4a2e-cdbd-5ce4318683f3"
      },
      "outputs": [
        {
          "name": "stdout",
          "output_type": "stream",
          "text": [
            "H0L4 MUND0\n",
            "HOLA - - -\n",
            "HOLA - MUNDO MUNDO\n"
          ]
        }
      ],
      "source": [
        "#REPLACE --> REEMPLAZA UNA CADENA CON OTRA\n",
        "print(\"HOLA MUNDO\".replace(\"O\",\"0\").replace(\"A\",\"4\"))\n",
        "print(\"HOLA MUNDO MUNDO MUNDO\".replace(\"MUNDO\",\"-\"))\n",
        "print(\"HOLA MUNDO MUNDO MUNDO\".replace(\"MUNDO\",\"-\",1))"
      ]
    },
    {
      "cell_type": "code",
      "execution_count": null,
      "metadata": {
        "id": "wCWtn2Ke5lf-",
        "outputId": "725ecda4-1256-4e79-8e21-858de0921cdf"
      },
      "outputs": [
        {
          "name": "stdout",
          "output_type": "stream",
          "text": [
            "1202 LE NE SOMATSE ODNUM ALOH\n"
          ]
        }
      ],
      "source": [
        "#ALGORITMO PARA INVERTIR UNA CADENA\n",
        "cadena = 'HOLA MUNDO ESTAMOS EN EL 2021'\n",
        "print(cadena[::-1])"
      ]
    },
    {
      "cell_type": "markdown",
      "metadata": {
        "id": "YDQEgTqI5lf-"
      },
      "source": [
        "## PARTE 2.3: TIPO DE DATO LÓGICO / BOOLEANO"
      ]
    },
    {
      "cell_type": "code",
      "execution_count": null,
      "metadata": {
        "id": "14tbcsCz5lf-",
        "outputId": "901d8024-1501-4542-e774-d818b353f8b4"
      },
      "outputs": [
        {
          "data": {
            "text/plain": [
              "False"
            ]
          },
          "execution_count": 48,
          "metadata": {},
          "output_type": "execute_result"
        }
      ],
      "source": [
        "2 == 5"
      ]
    },
    {
      "cell_type": "markdown",
      "metadata": {
        "id": "Z7pB3RXI5lf-"
      },
      "source": [
        "#### TRUE ---> 1"
      ]
    },
    {
      "cell_type": "code",
      "execution_count": null,
      "metadata": {
        "id": "nxYl79Xb5lf-",
        "outputId": "f1b6dbd1-1fb2-4fcc-cb7a-909e187d4285"
      },
      "outputs": [
        {
          "data": {
            "text/plain": [
              "True"
            ]
          },
          "execution_count": 49,
          "metadata": {},
          "output_type": "execute_result"
        }
      ],
      "source": [
        "1==1"
      ]
    },
    {
      "cell_type": "code",
      "execution_count": null,
      "metadata": {
        "id": "eb5Lq4G75lf-",
        "outputId": "2941cb6b-10da-439f-ae1e-11bc5b97bd30"
      },
      "outputs": [
        {
          "data": {
            "text/plain": [
              "2"
            ]
          },
          "execution_count": 50,
          "metadata": {},
          "output_type": "execute_result"
        }
      ],
      "source": [
        "True + 1"
      ]
    },
    {
      "cell_type": "code",
      "execution_count": null,
      "metadata": {
        "id": "rh_OJZ_K5lf_",
        "outputId": "1dbc6a17-e506-4626-f546-1a28556462bc"
      },
      "outputs": [
        {
          "data": {
            "text/plain": [
              "3"
            ]
          },
          "execution_count": 51,
          "metadata": {},
          "output_type": "execute_result"
        }
      ],
      "source": [
        "(1==1)*3"
      ]
    },
    {
      "cell_type": "markdown",
      "metadata": {
        "id": "mVvdokZn5lf_"
      },
      "source": [
        "#### FALSE ---> 0"
      ]
    },
    {
      "cell_type": "code",
      "execution_count": null,
      "metadata": {
        "id": "BgBO26kq5lf_",
        "outputId": "4f26b64a-1e53-4791-dc56-187f75701317"
      },
      "outputs": [
        {
          "data": {
            "text/plain": [
              "False"
            ]
          },
          "execution_count": 52,
          "metadata": {},
          "output_type": "execute_result"
        }
      ],
      "source": [
        "1==2"
      ]
    },
    {
      "cell_type": "code",
      "execution_count": null,
      "metadata": {
        "id": "Z2DPJLSd5lf_",
        "outputId": "f2e53026-d059-467a-9a9f-b2856b00196c"
      },
      "outputs": [
        {
          "data": {
            "text/plain": [
              "4"
            ]
          },
          "execution_count": 53,
          "metadata": {},
          "output_type": "execute_result"
        }
      ],
      "source": [
        "False + 4"
      ]
    },
    {
      "cell_type": "code",
      "execution_count": null,
      "metadata": {
        "id": "Nhr1i-sk5lf_",
        "outputId": "7b80ca46-f8d1-476a-d17e-fe031776054c"
      },
      "outputs": [
        {
          "data": {
            "text/plain": [
              "0"
            ]
          },
          "execution_count": 54,
          "metadata": {},
          "output_type": "execute_result"
        }
      ],
      "source": [
        "(1==2)*3"
      ]
    },
    {
      "cell_type": "markdown",
      "metadata": {
        "id": "9_rfEq8y5lf_"
      },
      "source": [
        "## PARTE 2.4: OPERADORES RELACIONALES"
      ]
    },
    {
      "cell_type": "code",
      "execution_count": null,
      "metadata": {
        "id": "IrosK_xq5lf_",
        "outputId": "d68a3c43-b681-4d7d-ae35-325ffa4459f1"
      },
      "outputs": [
        {
          "name": "stdout",
          "output_type": "stream",
          "text": [
            "False\n",
            "True\n"
          ]
        }
      ],
      "source": [
        "#IGUAL QUE\n",
        "print(6==8)\n",
        "print(6==6)"
      ]
    },
    {
      "cell_type": "code",
      "execution_count": null,
      "metadata": {
        "id": "v1igM8AI5lgA",
        "outputId": "7c566430-1ece-4bde-8e57-18a03afda86a"
      },
      "outputs": [
        {
          "name": "stdout",
          "output_type": "stream",
          "text": [
            "True\n",
            "False\n"
          ]
        }
      ],
      "source": [
        "#DIFERENTE QUE\n",
        "print(6!=8)\n",
        "print(6!=6)"
      ]
    },
    {
      "cell_type": "code",
      "execution_count": null,
      "metadata": {
        "id": "q8sO99Y25lgA",
        "outputId": "493b6aff-b4d2-45cc-ba2b-05811d48dbd5"
      },
      "outputs": [
        {
          "name": "stdout",
          "output_type": "stream",
          "text": [
            "True\n",
            "False\n"
          ]
        }
      ],
      "source": [
        "#MAYOR QUE\n",
        "print(6>4)\n",
        "print(6>6)"
      ]
    },
    {
      "cell_type": "code",
      "execution_count": null,
      "metadata": {
        "id": "zYYT8gbK5lgA",
        "outputId": "c67d06ea-6212-4a12-8b5e-97b13a04e381"
      },
      "outputs": [
        {
          "name": "stdout",
          "output_type": "stream",
          "text": [
            "False\n",
            "True\n"
          ]
        }
      ],
      "source": [
        "#MENOR QUE\n",
        "print(6<4)\n",
        "print(6<8)"
      ]
    },
    {
      "cell_type": "code",
      "execution_count": null,
      "metadata": {
        "id": "jlNX1ZC65lgA",
        "outputId": "cf281f9d-b4ef-4d39-dfa3-c05f995f0189"
      },
      "outputs": [
        {
          "name": "stdout",
          "output_type": "stream",
          "text": [
            "True\n",
            "False\n"
          ]
        }
      ],
      "source": [
        "#MAYOR IGUAL QUE\n",
        "print(6>=4)\n",
        "print(6>=8)"
      ]
    },
    {
      "cell_type": "code",
      "execution_count": null,
      "metadata": {
        "id": "vkh3n_Qh5lgA",
        "outputId": "b57bee2d-d56c-4e38-ee69-8d52608ff82a"
      },
      "outputs": [
        {
          "name": "stdout",
          "output_type": "stream",
          "text": [
            "False\n",
            "True\n"
          ]
        }
      ],
      "source": [
        "#MENOR IGUAL QUE\n",
        "print(6<=4)\n",
        "print(6<=8)"
      ]
    },
    {
      "cell_type": "code",
      "execution_count": null,
      "metadata": {
        "id": "pvlmzPal5lgA",
        "outputId": "df353e96-bd62-45d1-a238-8513fa0f294b"
      },
      "outputs": [
        {
          "data": {
            "text/plain": [
              "False"
            ]
          },
          "execution_count": 61,
          "metadata": {},
          "output_type": "execute_result"
        }
      ],
      "source": [
        "#COMPARACIÓN CON VARIABLES\n",
        "VAR = 10\n",
        "VAR + 1 == 10"
      ]
    },
    {
      "cell_type": "code",
      "execution_count": null,
      "metadata": {
        "id": "6iyIH-iZ5lgA",
        "outputId": "329c90e2-337e-4c95-d183-32ebc97d156d"
      },
      "outputs": [
        {
          "name": "stdout",
          "output_type": "stream",
          "text": [
            "False\n",
            "False\n"
          ]
        }
      ],
      "source": [
        "#COMPARACIÓN CON CADENAS\n",
        "C1 = \"HOLA\"\n",
        "C2 = \"Hola\"\n",
        "C3 = \"hola\"\n",
        "\n",
        "print(C1 == C2)\n",
        "print(C1 == C3)"
      ]
    },
    {
      "cell_type": "code",
      "execution_count": null,
      "metadata": {
        "id": "-AHvq8SD5lgB",
        "outputId": "904b746d-2a6b-4ea2-e577-b7df092692df"
      },
      "outputs": [
        {
          "name": "stdout",
          "output_type": "stream",
          "text": [
            "True\n",
            "True\n"
          ]
        }
      ],
      "source": [
        "#OPERADORES RESUMIDOS\n",
        "print((1<5) and (5<8))\n",
        "print(1<5<8)"
      ]
    },
    {
      "cell_type": "code",
      "execution_count": null,
      "metadata": {
        "id": "-9kcjZsV5lgB",
        "outputId": "b804f5a4-0b17-4eb4-ab59-776b16b43c87"
      },
      "outputs": [
        {
          "name": "stdout",
          "output_type": "stream",
          "text": [
            "True\n",
            "True\n"
          ]
        }
      ],
      "source": [
        "print((10>5) and (5>3))\n",
        "print(10>5>3)"
      ]
    },
    {
      "cell_type": "markdown",
      "metadata": {
        "id": "0pKi1Te85lgB"
      },
      "source": [
        "## PARTE 2.5: OPERADORES LÓGICOS"
      ]
    },
    {
      "cell_type": "code",
      "execution_count": null,
      "metadata": {
        "id": "j-awCoq35lgB",
        "outputId": "29494540-5ba0-44d0-ec0a-17ff67416499"
      },
      "outputs": [
        {
          "data": {
            "image/png": "[encoded data removed]",
            "text/plain": [
              "<IPython.core.display.Image object>"
            ]
          },
          "execution_count": 65,
          "metadata": {},
          "output_type": "execute_result"
        }
      ],
      "source": [
        "#PARA IMPORTAR IMÁGENES\n",
        "from IPython.display import Image\n",
        "Image(filename = \"RECURSOS - CERTIFICACIÓN/TABLAS DE VERDAD.png\")\n",
        "\n",
        "#TRUE -> UNIVERSO\n",
        "#FALSE -> VACÍO\n",
        "\n",
        "#AND -> INTERSECCIÓN\n",
        "#OR -> UNIÓN"
      ]
    },
    {
      "cell_type": "code",
      "execution_count": null,
      "metadata": {
        "id": "Y5NnLRaw5lgB",
        "outputId": "d76977bf-c536-4800-8395-d5906be6c432"
      },
      "outputs": [
        {
          "name": "stdout",
          "output_type": "stream",
          "text": [
            "False\n",
            "True\n",
            "False\n",
            "True\n"
          ]
        }
      ],
      "source": [
        "#NEGACIÓN\n",
        "print(not True)\n",
        "print(not False)\n",
        "\n",
        "print(not (1==1))\n",
        "print(not (2==1))"
      ]
    },
    {
      "cell_type": "code",
      "execution_count": null,
      "metadata": {
        "id": "CIoEp7cu5lgB",
        "outputId": "17580518-b8e3-4254-d1d3-dbe7e6bf61f8"
      },
      "outputs": [
        {
          "name": "stdout",
          "output_type": "stream",
          "text": [
            "True\n",
            "False\n",
            "True\n",
            "False\n"
          ]
        }
      ],
      "source": [
        "#CONJUNCIÓN - AND\n",
        "print( (True) and (True) )\n",
        "print( (False) and (True) )\n",
        "\n",
        "print( (1==1) and (5>=2) )\n",
        "print( (1<5) and (4>7) )"
      ]
    },
    {
      "cell_type": "code",
      "execution_count": null,
      "metadata": {
        "id": "uuq03WCT5lgB",
        "outputId": "33cd6f26-1485-450c-d147-5ea417ccdc74"
      },
      "outputs": [
        {
          "name": "stdout",
          "output_type": "stream",
          "text": [
            "True\n",
            "False\n",
            "True\n",
            "False\n"
          ]
        }
      ],
      "source": [
        "#DISYUNCIÓN - OR\n",
        "print( (True) or (True) )\n",
        "print( (False) or (False) )\n",
        "\n",
        "print( (1==1) or (5>=2) )\n",
        "print( (1<0) or (4>7) )"
      ]
    },
    {
      "cell_type": "markdown",
      "metadata": {
        "id": "h3Qu0xTu5lgC"
      },
      "source": [
        "## PARTE 2.6: OPERACIONES ANIDADAS\n",
        "\n",
        "Se deben solucionar teniendo en cuenta las siguientes reglas:\n",
        "* Los paréntesis\n",
        "* Las operaciones matemáticas (exp >> mult >> div >> sum >> res)\n",
        "* Las expresiones relacionales\n",
        "* Las expresiones lógicas"
      ]
    },
    {
      "cell_type": "code",
      "execution_count": null,
      "metadata": {
        "id": "9YS5rHKp5lgC",
        "outputId": "e54b83c4-1269-4504-bd8d-867d71e98351"
      },
      "outputs": [
        {
          "data": {
            "text/plain": [
              "False"
            ]
          },
          "execution_count": 69,
          "metadata": {},
          "output_type": "execute_result"
        }
      ],
      "source": [
        "(((1==1) and (1>=3)) * 3 + 1) > 8 / 2\n",
        "#(((True) and (False)) * 3 + 1) > 8 / 2\n",
        "#((False) * 3 + 1) > 8 / 2\n",
        "#(0 + 1) > 8 / 2\n",
        "#(1) > 8 / 2\n",
        "#(1) > 4\n",
        "#False"
      ]
    },
    {
      "cell_type": "markdown",
      "metadata": {
        "id": "Y2oiyEin5lgC"
      },
      "source": [
        "## PARTE 2.7: OPERACIONES DE ASIGNACIÓN"
      ]
    },
    {
      "cell_type": "code",
      "execution_count": null,
      "metadata": {
        "id": "QDGXFPQk5lgC",
        "outputId": "b2126a32-56a5-4975-d6b7-39c703beac01"
      },
      "outputs": [
        {
          "name": "stdout",
          "output_type": "stream",
          "text": [
            "15\n"
          ]
        }
      ],
      "source": [
        "#ASIGNACIÓN SIMPLE\n",
        "VARIABLE = 10\n",
        "VARIABLE = VARIABLE + 5\n",
        "\n",
        "print(VARIABLE)"
      ]
    },
    {
      "cell_type": "code",
      "execution_count": null,
      "metadata": {
        "id": "PWtUTJOv5lgC",
        "outputId": "3f4b8a3e-30ec-4b29-b5ce-5db36821dcf0"
      },
      "outputs": [
        {
          "name": "stdout",
          "output_type": "stream",
          "text": [
            "15\n"
          ]
        }
      ],
      "source": [
        "#SUMA EN ASIGNACIÓN\n",
        "VARIABLE = 10\n",
        "VARIABLE += 5\n",
        "\n",
        "print(VARIABLE)"
      ]
    },
    {
      "cell_type": "code",
      "execution_count": null,
      "metadata": {
        "id": "ubP27bes5lgC",
        "outputId": "5578d25d-7306-40cc-d1a2-f7457d4f17ac"
      },
      "outputs": [
        {
          "name": "stdout",
          "output_type": "stream",
          "text": [
            "5\n"
          ]
        }
      ],
      "source": [
        "#RESTA EN ASIGNACIÓN\n",
        "VARIABLE = 10\n",
        "VARIABLE -= 5\n",
        "\n",
        "print(VARIABLE)"
      ]
    },
    {
      "cell_type": "code",
      "execution_count": null,
      "metadata": {
        "id": "qeSyOZC95lgC",
        "outputId": "76582fbd-5b1c-498b-9e79-3bde6afa1f5c"
      },
      "outputs": [
        {
          "name": "stdout",
          "output_type": "stream",
          "text": [
            "50\n"
          ]
        }
      ],
      "source": [
        "#MULTIPLICACIÓN EN ASIGNACIÓN\n",
        "VARIABLE = 10\n",
        "VARIABLE *= 5\n",
        "\n",
        "print(VARIABLE)"
      ]
    },
    {
      "cell_type": "code",
      "execution_count": null,
      "metadata": {
        "id": "RV_CkdnI5lgD",
        "outputId": "639d298e-8e04-4948-c5df-a20e6b12e5ec"
      },
      "outputs": [
        {
          "name": "stdout",
          "output_type": "stream",
          "text": [
            "2.0\n"
          ]
        }
      ],
      "source": [
        "#DIVISIÓN EN ASIGNACIÓN\n",
        "VARIABLE = 10\n",
        "VARIABLE /= 5\n",
        "\n",
        "print(VARIABLE)"
      ]
    },
    {
      "cell_type": "code",
      "execution_count": null,
      "metadata": {
        "id": "BBG0Pd-u5lgD",
        "outputId": "b6a0bb8a-b36e-4ce5-d2b0-c7ee5a1aeec8"
      },
      "outputs": [
        {
          "name": "stdout",
          "output_type": "stream",
          "text": [
            "0\n"
          ]
        }
      ],
      "source": [
        "#MÓDULO EN ASIGNACIÓN\n",
        "VARIABLE = 10\n",
        "VARIABLE %= 5\n",
        "\n",
        "print(VARIABLE)"
      ]
    },
    {
      "cell_type": "code",
      "execution_count": null,
      "metadata": {
        "id": "dd35qL2D5lgD",
        "outputId": "819054e9-f0a8-40c3-e25e-9794e202be01"
      },
      "outputs": [
        {
          "name": "stdout",
          "output_type": "stream",
          "text": [
            "100000\n"
          ]
        }
      ],
      "source": [
        "#POTENCIA EN ASIGNACIÓN\n",
        "VARIABLE = 10\n",
        "VARIABLE **= 5\n",
        "\n",
        "print(VARIABLE)"
      ]
    },
    {
      "cell_type": "markdown",
      "metadata": {
        "id": "CmSGr00z5lgD"
      },
      "source": [
        "## PARTE 2.8: ALEATORIOS CON RANDOM"
      ]
    },
    {
      "cell_type": "code",
      "execution_count": null,
      "metadata": {
        "id": "fVXg1Jln5lgD"
      },
      "outputs": [],
      "source": [
        "import random"
      ]
    },
    {
      "cell_type": "code",
      "execution_count": null,
      "metadata": {
        "id": "7ZMHgoKk5lgD",
        "outputId": "7717cf5e-40ca-4219-e168-ed3eaec8f825"
      },
      "outputs": [
        {
          "data": {
            "text/plain": [
              "0.024864130442670107"
            ]
          },
          "execution_count": 87,
          "metadata": {},
          "output_type": "execute_result"
        }
      ],
      "source": [
        "#GENERAR UN ALEATORIO DECIMAL ENTRE 0-1\n",
        "random.random()"
      ]
    },
    {
      "cell_type": "code",
      "execution_count": null,
      "metadata": {
        "id": "57h8aKSx5lgD",
        "outputId": "e05bd7fd-dda7-4412-c5f5-da8a36f4267b"
      },
      "outputs": [
        {
          "data": {
            "text/plain": [
              "22.214620815565652"
            ]
          },
          "execution_count": 92,
          "metadata": {},
          "output_type": "execute_result"
        }
      ],
      "source": [
        "#GENERAR UN ALEATORIO DECIMAL UNIFORME ENTRE 2 NÚMEROS\n",
        "random.uniform(20,30)"
      ]
    },
    {
      "cell_type": "code",
      "execution_count": null,
      "metadata": {
        "id": "VoceIxpn5lgE",
        "outputId": "80ef3161-5864-4c2a-ef3b-3272651297b6"
      },
      "outputs": [
        {
          "data": {
            "text/plain": [
              "22"
            ]
          },
          "execution_count": 101,
          "metadata": {},
          "output_type": "execute_result"
        }
      ],
      "source": [
        "#GENERAR UN ALEATORIO ENTERO ENTRE 2 NÚMEROS\n",
        "random.randrange(20,30)\n",
        "random.randrange(30)"
      ]
    },
    {
      "cell_type": "code",
      "execution_count": null,
      "metadata": {
        "id": "vDBBrSAp5lgE",
        "outputId": "e5e11b28-4f39-4d24-d416-9d03d8e67a27"
      },
      "outputs": [
        {
          "data": {
            "text/plain": [
              "40"
            ]
          },
          "execution_count": 120,
          "metadata": {},
          "output_type": "execute_result"
        }
      ],
      "source": [
        "#GENERAR UN ALEATORIO ENTRE 2 NÚMEROS QUE SEAN MÚLTIPLOS DE \"N\"\n",
        "random.randrange(20,90,4)\n",
        "\n",
        "#límite inferior + múltiplo (N)"
      ]
    },
    {
      "cell_type": "code",
      "execution_count": null,
      "metadata": {
        "id": "q7hE1_kR5lgE",
        "outputId": "55a7e77e-17a1-4719-fcff-20e1e3211c22"
      },
      "outputs": [
        {
          "data": {
            "text/plain": [
              "'H'"
            ]
          },
          "execution_count": 127,
          "metadata": {},
          "output_type": "execute_result"
        }
      ],
      "source": [
        "#ELECCIÓN DE CARACTER ALEATORIO\n",
        "CADENA = \"PYTHON-2021\"\n",
        "random.choice(CADENA)"
      ]
    },
    {
      "cell_type": "markdown",
      "metadata": {
        "id": "eIvj0PpE5lgE"
      },
      "source": [
        "## PARTE 2.9: ALEATORIOS CON NUMPY"
      ]
    },
    {
      "cell_type": "code",
      "execution_count": null,
      "metadata": {
        "id": "lqzFKNUQ5lgE"
      },
      "outputs": [],
      "source": [
        "import numpy"
      ]
    },
    {
      "cell_type": "code",
      "execution_count": null,
      "metadata": {
        "id": "mSJBlH7G5lgE",
        "outputId": "50e55768-1c30-4535-931e-f32841e802f1"
      },
      "outputs": [
        {
          "data": {
            "text/plain": [
              "0.7647637195731221"
            ]
          },
          "execution_count": 156,
          "metadata": {},
          "output_type": "execute_result"
        }
      ],
      "source": [
        "#GENERAR UN ALEATORIO DECIMAL ENTRE 0-1\n",
        "numpy.random.random()"
      ]
    },
    {
      "cell_type": "code",
      "execution_count": null,
      "metadata": {
        "id": "Qd8DlauL5lgE",
        "outputId": "1cd91a46-59ac-4e50-fc7b-981be05895a0"
      },
      "outputs": [
        {
          "data": {
            "text/plain": [
              "array([23, 27, 28, 22, 26])"
            ]
          },
          "execution_count": 150,
          "metadata": {},
          "output_type": "execute_result"
        }
      ],
      "source": [
        "#GENERAR UN ALEATORIO ENTERO ENTRE 2 NÚMEROS\n",
        "numpy.random.randint(20,30)\n",
        "numpy.random.randint(20)\n",
        "numpy.random.randint(20,30,5)"
      ]
    },
    {
      "cell_type": "code",
      "execution_count": null,
      "metadata": {
        "id": "CSHSbA3E5lgF",
        "outputId": "5f0c9661-d71c-4693-fe68-5c577c5a544e"
      },
      "outputs": [
        {
          "data": {
            "text/plain": [
              "0.1915194503788923"
            ]
          },
          "execution_count": 163,
          "metadata": {},
          "output_type": "execute_result"
        }
      ],
      "source": [
        "#DEFINICIÓN DE LA SEMILLA EN LA GENERACIÓN DE NÚMEROS ALEATORIOS\n",
        "numpy.random.seed(1234)\n",
        "numpy.random.random()"
      ]
    },
    {
      "cell_type": "code",
      "execution_count": null,
      "metadata": {
        "id": "nkIaFsVm5lgF"
      },
      "outputs": [],
      "source": []
    }
  ],
  "metadata": {
    "kernelspec": {
      "display_name": "Python 3",
      "language": "python",
      "name": "python3"
    },
    "language_info": {
      "codemirror_mode": {
        "name": "ipython",
        "version": 3
      },
      "file_extension": ".py",
      "mimetype": "text/x-python",
      "name": "python",
      "nbconvert_exporter": "python",
      "pygments_lexer": "ipython3",
      "version": "3.8.3"
    },
    "colab": {
      "provenance": [],
      "collapsed_sections": [
        "YDQEgTqI5lf-",
        "9_rfEq8y5lf_",
        "0pKi1Te85lgB",
        "h3Qu0xTu5lgC",
        "Y2oiyEin5lgC",
        "CmSGr00z5lgD",
        "eIvj0PpE5lgE"
      ]
    }
  },
  "nbformat": 4,
  "nbformat_minor": 0
}