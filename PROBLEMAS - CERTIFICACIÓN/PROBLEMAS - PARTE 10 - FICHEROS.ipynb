{
 "cells": [
  {
   "cell_type": "markdown",
   "metadata": {},
   "source": [
    "Crea un fichero con los nombres de todos los miembros de tu familia con el siguiente formato:\n",
    "* (PRIMER NOMBRE)\" \"(SEGUNDO NOMBRE)\" \"(APELLIDO PATERNO)\" \"(APELLIDO MATERNO)\n",
    "\n",
    "Ejemplo:\n",
    "* Benjamín José Neira Maldonado\n",
    "* Pepito Benji Rodriguez Vilca\n",
    "* etc.\n",
    "\n",
    "PD: en caso no tenga 2 nombres coloca \"NN\" como segundo nombre"
   ]
  },
  {
   "cell_type": "markdown",
   "metadata": {},
   "source": [
    "### PROBLEMA 1\n",
    "Crea una lista con los primeros nombres y otra lista con los apellidos paternos"
   ]
  },
  {
   "cell_type": "code",
   "execution_count": null,
   "metadata": {},
   "outputs": [],
   "source": []
  },
  {
   "cell_type": "markdown",
   "metadata": {},
   "source": [
    "### PROBLEMA 2\n",
    "Captura todos los datos del fichero y crea uno nuevo con el nombre \"PYTHON2021.txt\" en el que agregarás además el nombre de tu mejor amigo al final."
   ]
  },
  {
   "cell_type": "code",
   "execution_count": null,
   "metadata": {},
   "outputs": [],
   "source": []
  },
  {
   "cell_type": "markdown",
   "metadata": {},
   "source": [
    "### PROBLEMA 3\n",
    "Modifica el segundo nombre del cuarto registro y coloca \"R2D2\"."
   ]
  },
  {
   "cell_type": "code",
   "execution_count": null,
   "metadata": {},
   "outputs": [],
   "source": []
  },
  {
   "cell_type": "markdown",
   "metadata": {},
   "source": [
    "### PROBLEMA 4\n",
    "* Modifica los nombres en posición par y colócalos en MAYÚSCULAS.\n",
    "* Modifica los nombres en posición impar y colócalos en minúsculas."
   ]
  },
  {
   "cell_type": "code",
   "execution_count": null,
   "metadata": {},
   "outputs": [],
   "source": []
  },
  {
   "cell_type": "markdown",
   "metadata": {},
   "source": [
    "### PROBLEMA 5\n",
    "Elimina los registros que comiencen con una vocal (Primer nombre comienza con una vocal) "
   ]
  },
  {
   "cell_type": "code",
   "execution_count": null,
   "metadata": {},
   "outputs": [],
   "source": []
  },
  {
   "cell_type": "markdown",
   "metadata": {},
   "source": [
    "### PROBLEMA 6\n",
    "Combina los conocimientos del capítulo pasado y crea un script que se pueda ejecutar desde consola y realice lo siguiente:\n",
    "\n",
    "* Si ingreso 1: Hago lo propuesto en el problema 1\n",
    "* Si ingreso 2: Hago lo propuesto en el problema 2\n",
    "* Si ingreso 3: Hago lo propuesto en el problema 3\n",
    "* Si ingreso 4: Hago lo propuesto en el problema 4\n",
    "* Si ingreso 5: Hago lo propuesto en el problema 5"
   ]
  },
  {
   "cell_type": "code",
   "execution_count": null,
   "metadata": {},
   "outputs": [],
   "source": []
  }
 ],
 "metadata": {
  "kernelspec": {
   "display_name": "Python 3",
   "language": "python",
   "name": "python3"
  },
  "language_info": {
   "codemirror_mode": {
    "name": "ipython",
    "version": 3
   },
   "file_extension": ".py",
   "mimetype": "text/x-python",
   "name": "python",
   "nbconvert_exporter": "python",
   "pygments_lexer": "ipython3",
   "version": "3.8.3"
  }
 },
 "nbformat": 4,
 "nbformat_minor": 4
}
