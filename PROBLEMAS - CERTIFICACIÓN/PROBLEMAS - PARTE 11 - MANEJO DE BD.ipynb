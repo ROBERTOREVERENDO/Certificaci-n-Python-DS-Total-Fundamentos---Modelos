{
 "cells": [
  {
   "cell_type": "markdown",
   "metadata": {},
   "source": [
    "Crea las siguientes tablas sobre un nueva BD:\n",
    "\n",
    "```sql\n",
    "TABLA_DOCTOR{\n",
    "    ID_DOCTOR: int (PK)\n",
    "    NOMBRE_DOCTOR: varchar(max)\n",
    "    APELLIDO_DOCTOR: varchar(max)\n",
    "}```\n",
    "\n",
    "```sql\n",
    "TABLA_ESPECIALIDAD{\n",
    "    ID_DOCTOR: int (PK)\n",
    "    ESPECIALIDAD: varchar(max)\n",
    "}```\n",
    "\n",
    "```sql\n",
    "TABLA_NACIONALIDAD{\n",
    "    ID_DOCTOR: int (PK)\n",
    "    NACIONALIDAD: varchar(max)\n",
    "}```"
   ]
  },
  {
   "cell_type": "markdown",
   "metadata": {},
   "source": [
    "### PROBLEMA 1\n",
    "Ingresa 4 registros de manera masiva sobre cada tabla (ten en cuenta que que los ID_DOCTOR deben ser los mismos)"
   ]
  },
  {
   "cell_type": "code",
   "execution_count": null,
   "metadata": {},
   "outputs": [],
   "source": []
  },
  {
   "cell_type": "markdown",
   "metadata": {},
   "source": [
    "### PROBLEMA 2\n",
    "Intenta ingresar un registro con ID_DOCTOR duplicado y captura el error con lo aprendido en el capítulo \"Gestión de errores\"\n",
    "\n",
    "* Muestra un mensaje \"Intentaste ingresar un registro con una PK ya existente\""
   ]
  },
  {
   "cell_type": "code",
   "execution_count": null,
   "metadata": {},
   "outputs": [],
   "source": []
  },
  {
   "cell_type": "markdown",
   "metadata": {},
   "source": [
    "### PROBLEMA 3 \n",
    "Utiliza el comando INNER y captura la información de las 3 tablas sobre una misma consulta"
   ]
  },
  {
   "cell_type": "code",
   "execution_count": null,
   "metadata": {},
   "outputs": [],
   "source": []
  },
  {
   "cell_type": "markdown",
   "metadata": {},
   "source": [
    "### PROBLEMA 4\n",
    "Utiliza el comando \"SELECT...WHERE\" y realiza las consultas que se te ocurran"
   ]
  },
  {
   "cell_type": "code",
   "execution_count": null,
   "metadata": {},
   "outputs": [],
   "source": []
  },
  {
   "cell_type": "markdown",
   "metadata": {},
   "source": [
    "### PROBLEMA 5\n",
    "Utiliza el comando \"UPDATE...WHERE\" y modifica las filas y columnas que se te ocurran"
   ]
  },
  {
   "cell_type": "code",
   "execution_count": null,
   "metadata": {},
   "outputs": [],
   "source": []
  },
  {
   "cell_type": "markdown",
   "metadata": {},
   "source": [
    "### PROBLEMA 6\n",
    "Utiliza el comando \"DELETE...WHERE\" y elimina las filas que se te ocurran"
   ]
  },
  {
   "cell_type": "code",
   "execution_count": null,
   "metadata": {},
   "outputs": [],
   "source": []
  }
 ],
 "metadata": {
  "kernelspec": {
   "display_name": "Python 3",
   "language": "python",
   "name": "python3"
  },
  "language_info": {
   "codemirror_mode": {
    "name": "ipython",
    "version": 3
   },
   "file_extension": ".py",
   "mimetype": "text/x-python",
   "name": "python",
   "nbconvert_exporter": "python",
   "pygments_lexer": "ipython3",
   "version": "3.8.3"
  }
 },
 "nbformat": 4,
 "nbformat_minor": 4
}
