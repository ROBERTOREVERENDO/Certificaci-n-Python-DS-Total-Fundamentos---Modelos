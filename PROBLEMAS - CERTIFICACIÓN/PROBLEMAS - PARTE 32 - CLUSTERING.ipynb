{
 "cells": [
  {
   "cell_type": "markdown",
   "metadata": {},
   "source": [
    "Importa desde kaggle algún DATASET que te resulte interesante.\n",
    "* Tendrás que navegar algunos minutos hasta encontrar alguno que te permita aplicar lo aprendido\n",
    "* Tendras que preparar el modelo para aplicar un modelo de clustering "
   ]
  },
  {
   "cell_type": "markdown",
   "metadata": {},
   "source": [
    "### PROBLEMA 1:\n",
    "Debes considerar estos puntos principales antes de implementar el modelo de clustering:\n",
    "* Limpiar el DATASET de valores vacíos\n",
    "* Generar variables DUMMY \n",
    "* Generar alguna variable adicional que te apoye a clasificar\n",
    "* Analizar todos los gráficos que te ayuden a entender el DATASET"
   ]
  },
  {
   "cell_type": "code",
   "execution_count": null,
   "metadata": {},
   "outputs": [],
   "source": []
  },
  {
   "cell_type": "markdown",
   "metadata": {},
   "source": [
    "### PROBLEMA 2:\n",
    "* Genera y analiza el dendrograma del DATASET\n",
    "* Aplica el teorema del codo para saber la cantidad óptima de CLUSTERS a tener en cuenta\n",
    "* Aplica algún método de CLUSTERIZACIÓN sobre el DATASET teniendo en cuenta la cantidad de clusters óptima"
   ]
  },
  {
   "cell_type": "code",
   "execution_count": null,
   "metadata": {},
   "outputs": [],
   "source": []
  },
  {
   "cell_type": "markdown",
   "metadata": {},
   "source": [
    "### PROBLEMA 3:\n",
    "Interpreta los registros asignados a cada CLUSTER."
   ]
  },
  {
   "cell_type": "code",
   "execution_count": null,
   "metadata": {},
   "outputs": [],
   "source": []
  }
 ],
 "metadata": {
  "kernelspec": {
   "display_name": "Python 3",
   "language": "python",
   "name": "python3"
  },
  "language_info": {
   "codemirror_mode": {
    "name": "ipython",
    "version": 3
   },
   "file_extension": ".py",
   "mimetype": "text/x-python",
   "name": "python",
   "nbconvert_exporter": "python",
   "pygments_lexer": "ipython3",
   "version": "3.8.3"
  }
 },
 "nbformat": 4,
 "nbformat_minor": 4
}
