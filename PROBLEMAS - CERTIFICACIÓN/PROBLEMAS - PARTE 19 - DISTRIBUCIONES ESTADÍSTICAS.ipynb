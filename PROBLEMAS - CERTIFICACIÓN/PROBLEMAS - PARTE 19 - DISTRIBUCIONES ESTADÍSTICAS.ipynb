{
 "cells": [
  {
   "cell_type": "markdown",
   "metadata": {},
   "source": [
    "Importa desde kaggle algún DATASET que te resulte interesante.\n",
    "* Tendrás que navegar algunos minutos hasta encontrar alguno que te permita aplicar lo aprendido"
   ]
  },
  {
   "cell_type": "markdown",
   "metadata": {},
   "source": [
    "### PROBLEMA 1:\n",
    "Genera 2 distribuciones con las siguientes características:\n",
    "* Media = 3 , Desviación = 1\n",
    "* Media = 5 , Desviación = 1\n",
    "\n",
    "* Colócalas en 2 columnas nuevas sobre el DATASET importado\n",
    "* Grafica el comportamiento de la suma de ambas columnas sobre un histograma."
   ]
  },
  {
   "cell_type": "code",
   "execution_count": null,
   "metadata": {},
   "outputs": [],
   "source": []
  },
  {
   "cell_type": "markdown",
   "metadata": {},
   "source": [
    "### PROBLEMA 2:\n",
    "Genera una columna adicional que tenga una distribución uniforme con límites 40-120"
   ]
  },
  {
   "cell_type": "code",
   "execution_count": null,
   "metadata": {},
   "outputs": [],
   "source": []
  },
  {
   "cell_type": "markdown",
   "metadata": {},
   "source": [
    "### PROBLEMA 3:\n",
    "* Genera un DATASET en la que tenga variables categóricas, variables normal y variable uniforme.\n",
    "* Agrupa la información por alguna variable categórica y analiza el resultado."
   ]
  },
  {
   "cell_type": "code",
   "execution_count": null,
   "metadata": {},
   "outputs": [],
   "source": []
  },
  {
   "cell_type": "markdown",
   "metadata": {},
   "source": [
    "### PROBLEMA 4:\n",
    "Investiga la relación de las distribuciones estadísticas con el experimento de MonteCarlo para aproximar \"Pi\". Implementa dicho experimento en Python"
   ]
  },
  {
   "cell_type": "code",
   "execution_count": null,
   "metadata": {},
   "outputs": [],
   "source": []
  }
 ],
 "metadata": {
  "kernelspec": {
   "display_name": "Python 3",
   "language": "python",
   "name": "python3"
  },
  "language_info": {
   "codemirror_mode": {
    "name": "ipython",
    "version": 3
   },
   "file_extension": ".py",
   "mimetype": "text/x-python",
   "name": "python",
   "nbconvert_exporter": "python",
   "pygments_lexer": "ipython3",
   "version": "3.8.3"
  }
 },
 "nbformat": 4,
 "nbformat_minor": 4
}
