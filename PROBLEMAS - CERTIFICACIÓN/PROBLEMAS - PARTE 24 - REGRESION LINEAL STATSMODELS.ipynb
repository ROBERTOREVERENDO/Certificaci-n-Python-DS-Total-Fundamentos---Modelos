{
 "cells": [
  {
   "cell_type": "markdown",
   "metadata": {},
   "source": [
    "Importa desde kaggle algún DATASET que te resulte interesante.\n",
    "* Tendrás que navegar algunos minutos hasta encontrar alguno que te permita aplicar lo aprendido\n",
    "* Tendras que preparar el modelo para aplicar un modelo de regresión lineal \n",
    "* Preparar modelo significa solo tener variables numéricas (quitar vacíos y generar variables dummy)"
   ]
  },
  {
   "cell_type": "markdown",
   "metadata": {},
   "source": [
    "### PROBLEMA 1:\n",
    "Implementa modelos de Regresión Lineal (todas las combinaciones posibles) mediante STATSMODELS, solo con las 3 variables predictoras que tengan mayor correlación con la variable predicha.\n",
    "* De cada combinación de variables obtén los indicadores.\n",
    "* No olvides que los indicadores son: R2, ESR, ESR%, PVALUE y FIV."
   ]
  },
  {
   "cell_type": "code",
   "execution_count": null,
   "metadata": {},
   "outputs": [],
   "source": []
  },
  {
   "cell_type": "markdown",
   "metadata": {},
   "source": [
    "### PROBLEMA 2:\n",
    "Con base en los indicadores encontrados escoge el mejor modelo."
   ]
  },
  {
   "cell_type": "code",
   "execution_count": null,
   "metadata": {},
   "outputs": [],
   "source": []
  },
  {
   "cell_type": "markdown",
   "metadata": {},
   "source": [
    "### PROBLEMA 3:\n",
    "* Con el mejor modelo encontrado en el problema anterior, realiza un entrenamiento con solo el DATASET_ENTRAMIENTO (80%)\n",
    "* Verifica que tenga buenos indicadores sobre dicho DATASET_ENTRENAMIENTO\n",
    "* Aplica el modelo sobre el DATASET_PRUEBA (20%)\n",
    "* Verifica que tenga buenos indicadores sobre dicho DATASET_PRUEBA"
   ]
  },
  {
   "cell_type": "code",
   "execution_count": null,
   "metadata": {},
   "outputs": [],
   "source": []
  }
 ],
 "metadata": {
  "kernelspec": {
   "display_name": "Python 3",
   "language": "python",
   "name": "python3"
  },
  "language_info": {
   "codemirror_mode": {
    "name": "ipython",
    "version": 3
   },
   "file_extension": ".py",
   "mimetype": "text/x-python",
   "name": "python",
   "nbconvert_exporter": "python",
   "pygments_lexer": "ipython3",
   "version": "3.8.3"
  }
 },
 "nbformat": 4,
 "nbformat_minor": 4
}
