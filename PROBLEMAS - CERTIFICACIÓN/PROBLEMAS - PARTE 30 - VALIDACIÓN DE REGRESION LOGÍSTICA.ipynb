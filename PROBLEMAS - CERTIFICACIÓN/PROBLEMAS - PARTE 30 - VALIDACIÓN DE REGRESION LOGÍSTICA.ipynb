{
 "cells": [
  {
   "cell_type": "markdown",
   "metadata": {},
   "source": [
    "### PROBLEMA 1:\n",
    "Valida el modelo construído en el capítulo 29 para verificar si el modelo es \"bueno\".\n",
    "* Recuerda que validar un modelo significa analizar indicadores sobre el DATASET TOTAL, DATASET ENTRENAMIENTO y DATASET PRUEBAS."
   ]
  },
  {
   "cell_type": "code",
   "execution_count": null,
   "metadata": {},
   "outputs": [],
   "source": []
  },
  {
   "cell_type": "markdown",
   "metadata": {},
   "source": [
    "### PROBLEMA 2:\n",
    "En caso el modelo construido resulte \"bueno\", confirma los buenos resultados con una validación cruzada."
   ]
  },
  {
   "cell_type": "code",
   "execution_count": null,
   "metadata": {},
   "outputs": [],
   "source": []
  }
 ],
 "metadata": {
  "kernelspec": {
   "display_name": "Python 3",
   "language": "python",
   "name": "python3"
  },
  "language_info": {
   "codemirror_mode": {
    "name": "ipython",
    "version": 3
   },
   "file_extension": ".py",
   "mimetype": "text/x-python",
   "name": "python",
   "nbconvert_exporter": "python",
   "pygments_lexer": "ipython3",
   "version": "3.8.3"
  }
 },
 "nbformat": 4,
 "nbformat_minor": 4
}
