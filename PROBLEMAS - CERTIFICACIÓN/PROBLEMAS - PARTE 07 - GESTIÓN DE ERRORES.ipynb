{
 "cells": [
  {
   "cell_type": "markdown",
   "metadata": {},
   "source": [
    "### PROBLEMA 1\n",
    "\n",
    "Codea unas sentencias que generen un error \"ValueError\" y captúrala mediante un bloque try-except-else-finally"
   ]
  },
  {
   "cell_type": "code",
   "execution_count": null,
   "metadata": {},
   "outputs": [],
   "source": []
  },
  {
   "cell_type": "markdown",
   "metadata": {},
   "source": [
    "### PROBLEMA 2\n",
    "\n",
    "Codea unas sentencias que generen un error \"ZeroDivisionError\" y captúrala mediante un bloque try-except-else-finally"
   ]
  },
  {
   "cell_type": "code",
   "execution_count": null,
   "metadata": {},
   "outputs": [],
   "source": []
  },
  {
   "cell_type": "markdown",
   "metadata": {},
   "source": [
    "### PROBLEMA 3  - Investigación\n",
    "\n",
    "Codea unas sentencias que generen un error \"TypeError\" y captúrala mediante un bloque try-except-else-finally"
   ]
  },
  {
   "cell_type": "code",
   "execution_count": null,
   "metadata": {},
   "outputs": [],
   "source": []
  },
  {
   "cell_type": "markdown",
   "metadata": {},
   "source": [
    "### PROBLEMA 4 - Investigación\n",
    "\n",
    "Codea unas sentencias que generen un error \"NameError\" y captúrala mediante un bloque try-except-else-finally"
   ]
  },
  {
   "cell_type": "code",
   "execution_count": null,
   "metadata": {},
   "outputs": [],
   "source": []
  },
  {
   "cell_type": "markdown",
   "metadata": {},
   "source": [
    "### PROBLEMA 5 - Investigación\n",
    "\n",
    "Codea unas sentencias que generen un error \"IndexError\" y captúrala mediante un bloque try-except-else-finally"
   ]
  },
  {
   "cell_type": "code",
   "execution_count": null,
   "metadata": {},
   "outputs": [],
   "source": []
  },
  {
   "cell_type": "markdown",
   "metadata": {},
   "source": [
    "### PROBLEMA 6 - Investigación\n",
    "\n",
    "Codea unas sentencias que generen un error \"SyntaxError\" y captúrala mediante un bloque try-except-else-finally"
   ]
  },
  {
   "cell_type": "code",
   "execution_count": null,
   "metadata": {},
   "outputs": [],
   "source": []
  }
 ],
 "metadata": {
  "kernelspec": {
   "display_name": "Python 3",
   "language": "python",
   "name": "python3"
  },
  "language_info": {
   "codemirror_mode": {
    "name": "ipython",
    "version": 3
   },
   "file_extension": ".py",
   "mimetype": "text/x-python",
   "name": "python",
   "nbconvert_exporter": "python",
   "pygments_lexer": "ipython3",
   "version": "3.8.3"
  }
 },
 "nbformat": 4,
 "nbformat_minor": 4
}
