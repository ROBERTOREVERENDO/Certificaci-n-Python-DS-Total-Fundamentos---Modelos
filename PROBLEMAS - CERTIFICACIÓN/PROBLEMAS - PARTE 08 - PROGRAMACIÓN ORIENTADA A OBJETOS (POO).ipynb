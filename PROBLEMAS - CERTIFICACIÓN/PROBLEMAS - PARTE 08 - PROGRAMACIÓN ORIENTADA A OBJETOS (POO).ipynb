{
 "cells": [
  {
   "cell_type": "markdown",
   "metadata": {},
   "source": [
    "### PROBLEMA 1\n",
    "\n",
    "Crea una clase 'Animal' que tenga las siguientes características:\n",
    "\n",
    "Atributos:\n",
    "* Alto\n",
    "* Peso\n",
    "* Nro de patas\n",
    "* Tiene cola (bool)\n",
    "* Puede caminar (bool)\n",
    "* Puede saltar (bool)\n",
    "* Puede correr (bool)\n",
    "* Puede volar (bool)\n",
    "* Puede nadar (bool)\n",
    "\n",
    "Métodos:\n",
    "* Caminar (depende del bool)\n",
    "* Saltar (depende del bool)\n",
    "* Correr (depende del bool)\n",
    "* Volar (depende del bool)\n",
    "* Nadar (depende del bool)"
   ]
  },
  {
   "cell_type": "code",
   "execution_count": null,
   "metadata": {},
   "outputs": [],
   "source": []
  },
  {
   "cell_type": "markdown",
   "metadata": {},
   "source": [
    "### PROBLEMA 2\n",
    "\n",
    "Crea una clase 'Especie' que tenga las siguientes características:\n",
    "\n",
    "Atributos:\n",
    "* Nombre especie\n",
    "* Nombre en latín de especie\n",
    "* Es vertebrado (bool)\n",
    "* Es animal terrestre (bool)\n",
    "* Está en peligro de extinción (bool)\n",
    "\n",
    "Métodos:\n",
    "* Decir la especie\n",
    "* Decir si es vertebrado (depende del bool)\n",
    "* Decir si está en peligro de extinción (depende del bool)"
   ]
  },
  {
   "cell_type": "code",
   "execution_count": null,
   "metadata": {},
   "outputs": [],
   "source": []
  },
  {
   "cell_type": "markdown",
   "metadata": {},
   "source": [
    "### PROBLEMA 3\n",
    "\n",
    "Crea una clase 'Mascota' (Hereda información de las 2 clases antes creadas) que tenga las siguientes características:\n",
    "\n",
    "Atributos:\n",
    "* Nombre mascota\n",
    "\n",
    "* Alto --> Heredado de Animal\n",
    "* Peso --> Heredado de Animal\n",
    "* Nro de patas --> Heredado de Animal\n",
    "* Tiene cola (bool) --> Heredado de Animal\n",
    "* Puede caminar (bool) --> Heredado de Animal\n",
    "* Puede saltar (bool) --> Heredado de Animal\n",
    "* Puede correr (bool) --> Heredado de Animal\n",
    "* Puede volar (bool) --> Heredado de Animal\n",
    "* Puede nadar (bool) --> Heredado de Animal\n",
    "\n",
    "* Nombre especie --> Heredado de Especie\n",
    "* Es animal terrestre (bool) --> Heredado de Especie\n",
    "\n",
    "Métodos:\n",
    "* Decir su nombre mascota\n",
    "\n",
    "* Caminar (depende del bool) --> Heredado de Animal\n",
    "* Saltar (depende del bool) --> Heredado de Animal\n",
    "* Correr (depende del bool) --> Heredado de Animal\n",
    "* Volar (depende del bool) --> Heredado de Animal\n",
    "* Nadar (depende del bool) --> Heredado de Animal\n",
    "\n",
    "* Decir la especie --> Heredado de Especie\n",
    "* Decir si es vertebrado (depende del bool) --> Heredado de Especie\n",
    "* Decir si está en peligro de extinción (depende del bool) --> Heredado de Especie"
   ]
  },
  {
   "cell_type": "code",
   "execution_count": null,
   "metadata": {},
   "outputs": [],
   "source": []
  },
  {
   "cell_type": "markdown",
   "metadata": {},
   "source": [
    "### PROBLEMA 4\n",
    "\n",
    "Modifica la clase 'Animal' agregando lo siguiente:\n",
    "\n",
    "* Destructor\n",
    "* Método str --> Propón una impresión de objeto apropiada"
   ]
  },
  {
   "cell_type": "code",
   "execution_count": null,
   "metadata": {},
   "outputs": [],
   "source": []
  },
  {
   "cell_type": "markdown",
   "metadata": {},
   "source": [
    "### PROBLEMA 5\n",
    "\n",
    "Crea la clase 'Grupo_Animal' que se una agrupación de varios objetos de la clase 'Animal', que tenga las siguientes características:\n",
    "\n",
    "Métodos:\n",
    "* Listar todos los animales\n",
    "* Buscar algún animal --> con base en el alto\n",
    "* Eliminar algún animal --> con base en el alto\n",
    "* Modificar el peso de un animal --> con base en el alto"
   ]
  },
  {
   "cell_type": "code",
   "execution_count": null,
   "metadata": {},
   "outputs": [],
   "source": []
  },
  {
   "cell_type": "markdown",
   "metadata": {},
   "source": [
    "### PROBLEMA 6\n",
    "\n",
    "Modifica la clase 'Animal' agregando lo siguiente:\n",
    "\n",
    "* Configurar el atributo Nro patas como privado (encapsulado)\n",
    "* Método mostrar Nro patas para poder acceder a dicho atributo privado"
   ]
  },
  {
   "cell_type": "code",
   "execution_count": null,
   "metadata": {},
   "outputs": [],
   "source": []
  }
 ],
 "metadata": {
  "kernelspec": {
   "display_name": "Python 3",
   "language": "python",
   "name": "python3"
  },
  "language_info": {
   "codemirror_mode": {
    "name": "ipython",
    "version": 3
   },
   "file_extension": ".py",
   "mimetype": "text/x-python",
   "name": "python",
   "nbconvert_exporter": "python",
   "pygments_lexer": "ipython3",
   "version": "3.8.3"
  }
 },
 "nbformat": 4,
 "nbformat_minor": 4
}
