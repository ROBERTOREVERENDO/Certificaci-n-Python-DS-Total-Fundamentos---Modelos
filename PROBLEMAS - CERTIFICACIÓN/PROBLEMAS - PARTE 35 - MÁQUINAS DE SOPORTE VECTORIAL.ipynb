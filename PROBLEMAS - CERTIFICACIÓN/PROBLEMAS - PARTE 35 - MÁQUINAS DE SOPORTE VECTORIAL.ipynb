{
 "cells": [
  {
   "cell_type": "markdown",
   "metadata": {},
   "source": [
    "### PROBLEMA 1:\n",
    "Utiliza el DATASET del capítulo 33 (ÁRBOL Y BOSQUES DE CLASIFICACIÓN) para aplicar una MSV.\n",
    "* Recuerda que el modelo se entrena sobre el 80% del DATASET y se aplica sobre el 20% de pruebas\n",
    "* Recuerda que debes obtener los indicadores de dicho modelo y compararlos con los obtenidos del modelo de Árbol y bosques de Clasificación."
   ]
  },
  {
   "cell_type": "code",
   "execution_count": null,
   "metadata": {},
   "outputs": [],
   "source": []
  }
 ],
 "metadata": {
  "kernelspec": {
   "display_name": "Python 3",
   "language": "python",
   "name": "python3"
  },
  "language_info": {
   "codemirror_mode": {
    "name": "ipython",
    "version": 3
   },
   "file_extension": ".py",
   "mimetype": "text/x-python",
   "name": "python",
   "nbconvert_exporter": "python",
   "pygments_lexer": "ipython3",
   "version": "3.8.3"
  }
 },
 "nbformat": 4,
 "nbformat_minor": 4
}
