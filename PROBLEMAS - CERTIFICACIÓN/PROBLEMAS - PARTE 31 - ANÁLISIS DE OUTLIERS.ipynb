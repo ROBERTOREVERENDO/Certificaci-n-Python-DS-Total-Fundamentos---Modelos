{
 "cells": [
  {
   "cell_type": "markdown",
   "metadata": {},
   "source": [
    "### PROBLEMA 1:\n",
    "Analiza los OUTLIERS de los DATASET correspondientes a los siguientes capítulos:\n",
    "* CAPÍTULO 26 -> Regresión Lineal\n",
    "* CAPÍTULO 28 -> Regresión No Lineal\n",
    "* CAPÍTULO 30 -> Regresión Logística"
   ]
  },
  {
   "cell_type": "code",
   "execution_count": null,
   "metadata": {},
   "outputs": [],
   "source": []
  },
  {
   "cell_type": "markdown",
   "metadata": {},
   "source": [
    "### PROBLEMA 2:\n",
    "Identifica y retira los OUTLIERS de los DATASET correspondientes a los siguientes capítulos:\n",
    "* CAPÍTULO 26 -> Regresión Lineal\n",
    "* CAPÍTULO 28 -> Regresión No Lineal\n",
    "* CAPÍTULO 30 -> Regresión Logística"
   ]
  },
  {
   "cell_type": "code",
   "execution_count": null,
   "metadata": {},
   "outputs": [],
   "source": []
  },
  {
   "cell_type": "markdown",
   "metadata": {},
   "source": [
    "### PROBLEMA 3:\n",
    "Obtén los indicadores de los modelos correspondientes sin OUTLIERS a los siguientes capítulos:\n",
    "* CAPÍTULO 26 -> Regresión Lineal\n",
    "* CAPÍTULO 28 -> Regresión No Lineal\n",
    "* CAPÍTULO 30 -> Regresión Logística"
   ]
  },
  {
   "cell_type": "code",
   "execution_count": null,
   "metadata": {},
   "outputs": [],
   "source": []
  },
  {
   "cell_type": "markdown",
   "metadata": {},
   "source": [
    "### PROBLEMA 4:\n",
    "Verifica si los indicadores han mejorado algo, cuando se han retirado los OUTLIERS"
   ]
  },
  {
   "cell_type": "code",
   "execution_count": null,
   "metadata": {},
   "outputs": [],
   "source": []
  }
 ],
 "metadata": {
  "kernelspec": {
   "display_name": "Python 3",
   "language": "python",
   "name": "python3"
  },
  "language_info": {
   "codemirror_mode": {
    "name": "ipython",
    "version": 3
   },
   "file_extension": ".py",
   "mimetype": "text/x-python",
   "name": "python",
   "nbconvert_exporter": "python",
   "pygments_lexer": "ipython3",
   "version": "3.8.3"
  }
 },
 "nbformat": 4,
 "nbformat_minor": 4
}
