{
 "cells": [
  {
   "cell_type": "markdown",
   "metadata": {},
   "source": [
    "Importa desde kaggle algún DATASET que te resulte interesante.\n",
    "* Tendrás que navegar algunos minutos hasta encontrar alguno que te permita aplicar lo aprendido\n",
    "* El DATASET debe tener algunas variables numéricas y categóricas"
   ]
  },
  {
   "cell_type": "markdown",
   "metadata": {},
   "source": [
    "### PROBLEMA 1:\n",
    "* Genera un subconjunto de columnas con 1 columna (a tu elección)\n",
    "* Genera un subconjunto de columnas en el que coloques una columna de cada tipo, es decir, una entera, una flotante y un objeto"
   ]
  },
  {
   "cell_type": "code",
   "execution_count": null,
   "metadata": {},
   "outputs": [],
   "source": []
  },
  {
   "cell_type": "markdown",
   "metadata": {},
   "source": [
    "### PROBLEMA 2:\n",
    "* Genera un subconjunto de filas mediante slicing\n",
    "* Genera un subconjunto de filas mediante condiciones"
   ]
  },
  {
   "cell_type": "code",
   "execution_count": null,
   "metadata": {},
   "outputs": [],
   "source": []
  },
  {
   "cell_type": "markdown",
   "metadata": {},
   "source": [
    "### PROBLEMA 3:\n",
    "* Genera un subconjunto de filas y columnas mediante loc\n",
    "* Genera un subconjunto de filas y columnas mediante iloc"
   ]
  },
  {
   "cell_type": "code",
   "execution_count": null,
   "metadata": {},
   "outputs": [],
   "source": []
  },
  {
   "cell_type": "markdown",
   "metadata": {},
   "source": [
    "### PROBLEMA 4:\n",
    "* Genera una nueva fila\n",
    "* Genera una nueva columna"
   ]
  },
  {
   "cell_type": "code",
   "execution_count": null,
   "metadata": {},
   "outputs": [],
   "source": []
  },
  {
   "cell_type": "markdown",
   "metadata": {},
   "source": [
    "### PROBLEMA 5:\n",
    "* Genera 2 DATASETS a partir del DATASET original (ambos deben tener la misma cantidad de filas)\n",
    "* Genera un nuevo DATASET en el que utilices algunas columnas de los 2 DATASET generados en el punto anterior"
   ]
  },
  {
   "cell_type": "code",
   "execution_count": null,
   "metadata": {},
   "outputs": [],
   "source": []
  },
  {
   "cell_type": "markdown",
   "metadata": {},
   "source": [
    "### PROBLEMA 6:\n",
    "* Ordena el DATASET con base en alguna columna\n",
    "* Genera una nueva columna utilizando el comando \"transform\""
   ]
  },
  {
   "cell_type": "code",
   "execution_count": null,
   "metadata": {},
   "outputs": [],
   "source": []
  },
  {
   "cell_type": "markdown",
   "metadata": {},
   "source": [
    "### PROBLEMA 7:\n",
    "* Elimina algunas filas del DATASET\n",
    "* Elimina algunas columnas del DATASET"
   ]
  },
  {
   "cell_type": "code",
   "execution_count": null,
   "metadata": {},
   "outputs": [],
   "source": []
  },
  {
   "cell_type": "markdown",
   "metadata": {},
   "source": [
    "### PROBLEMA 8:\n",
    "* Genera variables DUMMY con base en alguna columna categórica a tu elección"
   ]
  },
  {
   "cell_type": "code",
   "execution_count": null,
   "metadata": {},
   "outputs": [],
   "source": []
  },
  {
   "cell_type": "markdown",
   "metadata": {},
   "source": [
    "### PROBLEMA 9:\n",
    "* Agrupa el DATASET con base en 1 variable\n",
    "* Agrupa el DATASET con base en 2 variables"
   ]
  },
  {
   "cell_type": "code",
   "execution_count": null,
   "metadata": {},
   "outputs": [],
   "source": []
  },
  {
   "cell_type": "markdown",
   "metadata": {},
   "source": [
    "### PROBLEMA 10:\n",
    "* Aplica un ordenamiento sobre el DATASET agrupado\n",
    "* Aplica un filtrado sobre el DATASET agrupado"
   ]
  },
  {
   "cell_type": "code",
   "execution_count": null,
   "metadata": {},
   "outputs": [],
   "source": []
  },
  {
   "cell_type": "markdown",
   "metadata": {},
   "source": [
    "### PROBLEMA 11:\n",
    "* Divide el DATASET original en 2 DATASET, en el que al primero se asigne el 20% de las filas y al otro el 80% faltante"
   ]
  },
  {
   "cell_type": "code",
   "execution_count": null,
   "metadata": {},
   "outputs": [],
   "source": []
  },
  {
   "cell_type": "markdown",
   "metadata": {},
   "source": [
    "### PROBLEMA 12:\n",
    "* Genera la división propuesta en el problema anterior, pero, previamente ordena el DATASET por determinada columna"
   ]
  },
  {
   "cell_type": "code",
   "execution_count": null,
   "metadata": {},
   "outputs": [],
   "source": []
  },
  {
   "cell_type": "markdown",
   "metadata": {},
   "source": [
    "### PROBLEMA 13:\n",
    "* Genera una columna con un número aleatorio entre 0 y 1, luego ordena el DATASET con base a dicha columna. Posteriormente aplica la división 20% - 80%"
   ]
  },
  {
   "cell_type": "code",
   "execution_count": null,
   "metadata": {},
   "outputs": [],
   "source": []
  }
 ],
 "metadata": {
  "kernelspec": {
   "display_name": "Python 3",
   "language": "python",
   "name": "python3"
  },
  "language_info": {
   "codemirror_mode": {
    "name": "ipython",
    "version": 3
   },
   "file_extension": ".py",
   "mimetype": "text/x-python",
   "name": "python",
   "nbconvert_exporter": "python",
   "pygments_lexer": "ipython3",
   "version": "3.8.3"
  }
 },
 "nbformat": 4,
 "nbformat_minor": 4
}
