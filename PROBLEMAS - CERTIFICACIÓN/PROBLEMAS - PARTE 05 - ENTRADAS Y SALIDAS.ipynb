{
 "cells": [
  {
   "cell_type": "markdown",
   "metadata": {},
   "source": [
    "### PROBLEMA 1\n",
    "\n",
    "Crea una lista con 5 números aleatorios entre 1 y 10, ahora genera la siguiente cadena de salida:\n",
    "\n",
    "\"Los números impares son: 1, 5 y 7\" (cuidado con la coma y el 'y')"
   ]
  },
  {
   "cell_type": "code",
   "execution_count": null,
   "metadata": {},
   "outputs": [],
   "source": []
  },
  {
   "cell_type": "markdown",
   "metadata": {},
   "source": [
    "### PROBLEMA 2\n",
    "\n",
    "Captura por teclado el ingreso de:\n",
    "\n",
    "* 1 entero\n",
    "* 1 decimal\n",
    "* 1 nombre\n",
    "\n",
    "Con ellos muestra la siguiente cadena: \"La suma de los números es 15.4 y quiero manda un saludo a Pepe\""
   ]
  },
  {
   "cell_type": "code",
   "execution_count": null,
   "metadata": {},
   "outputs": [],
   "source": []
  },
  {
   "cell_type": "markdown",
   "metadata": {},
   "source": [
    "### PROBLEMA 3\n",
    "\n",
    "Llena una lista con 10 números enteros ingresados por teclado y de dicha lista muestra la siguiente información:\n",
    "\n",
    "* Suma de números\n",
    "* Promedio de números\n",
    "* Mayor número\n",
    "* Menor número"
   ]
  },
  {
   "cell_type": "code",
   "execution_count": null,
   "metadata": {},
   "outputs": [],
   "source": []
  },
  {
   "cell_type": "markdown",
   "metadata": {},
   "source": [
    "### PROBLEMA 4\n",
    "\n",
    "Genera 6 números aleatorios provenientes de la suma de 1 número entero aleatorio entre 1-100 y 1 número aleatorio decimal entre 0-1; luego formatéalos de la siguiente manera:\n",
    "\n",
    "* Alineados a la derecha en 30 caracteres\n",
    "* Alineados a la izquierda en 30 caracteres\n",
    "* Alineados al centro en 30 caracteres\n",
    "* Considerar solo 4 espacios decimales y alinearlos a la izquierda\n"
   ]
  },
  {
   "cell_type": "code",
   "execution_count": null,
   "metadata": {},
   "outputs": [],
   "source": []
  },
  {
   "cell_type": "markdown",
   "metadata": {},
   "source": [
    "### PROBLEMA 5\n",
    "\n",
    "Consigue un texto de internet con aproximadamente 80 caracteres y realiza los siguientes formateos:\n",
    "\n",
    "* Alinea a la derecha con 100 caracteres el texto en mayúscula\n",
    "* Alinea a la izquierda con 100 caracteres el texto en minúscula\n",
    "* Alinea al centro con 100 caracteres el texto en título"
   ]
  },
  {
   "cell_type": "code",
   "execution_count": null,
   "metadata": {},
   "outputs": [],
   "source": []
  },
  {
   "cell_type": "markdown",
   "metadata": {},
   "source": [
    "### PROBLEMA 6\n",
    "\n",
    "Consigue un texto de internet con aproximadamente 20 caracteres y realiza los siguientes formateos:\n",
    "\n",
    "* Trunca el texto en 10 caracteres y alínealo a la derecha en 40 caracteres\n",
    "* Trunca el texto en 5 caracteres y alínealo a la izquierda en 40 caracteres\n",
    "* Trunca el texto en 15 caracteres y alínealo al centro en 40 caracteres"
   ]
  },
  {
   "cell_type": "code",
   "execution_count": null,
   "metadata": {},
   "outputs": [],
   "source": []
  }
 ],
 "metadata": {
  "kernelspec": {
   "display_name": "Python 3",
   "language": "python",
   "name": "python3"
  },
  "language_info": {
   "codemirror_mode": {
    "name": "ipython",
    "version": 3
   },
   "file_extension": ".py",
   "mimetype": "text/x-python",
   "name": "python",
   "nbconvert_exporter": "python",
   "pygments_lexer": "ipython3",
   "version": "3.8.3"
  }
 },
 "nbformat": 4,
 "nbformat_minor": 4
}
