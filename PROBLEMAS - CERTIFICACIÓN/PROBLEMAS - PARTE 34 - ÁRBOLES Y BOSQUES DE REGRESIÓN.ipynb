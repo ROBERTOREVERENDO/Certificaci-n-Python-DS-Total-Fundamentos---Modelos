{
 "cells": [
  {
   "cell_type": "markdown",
   "metadata": {},
   "source": [
    "Importa desde kaggle algún DATASET que te resulte interesante.\n",
    "* Tendrás que navegar algunos minutos hasta encontrar alguno que te permita aplicar lo aprendido\n",
    "* Tendras que preparar el modelo para aplicar un modelo de árbol y bosque de regresión\n",
    "* Recuerda que el modelo se entrena sobre el 80% del DATASET y se aplica sobre el 20% de pruebas"
   ]
  },
  {
   "cell_type": "markdown",
   "metadata": {},
   "source": [
    "### PROBLEMA 1:\n",
    "Debes considerar estos puntos principales antes de implementar el modelo de árbol de regresión:\n",
    "* Limpiar el DATASET de valores vacíos\n",
    "* Generar variables DUMMY \n",
    "* Analizar todos los gráficos que te ayuden a entender el DATASET\n",
    "* Implementa un árbol de regresión de profundidad que escojas\n",
    "* Obtén los indicadores de dicho árbol generado"
   ]
  },
  {
   "cell_type": "code",
   "execution_count": null,
   "metadata": {},
   "outputs": [],
   "source": []
  },
  {
   "cell_type": "markdown",
   "metadata": {},
   "source": [
    "### PROBLEMA 2:\n",
    "* Poda el árbol generado y obtén los indicadores del árbol podado\n",
    "* Compara los indicadores del árbol podado y sin podar"
   ]
  },
  {
   "cell_type": "code",
   "execution_count": null,
   "metadata": {},
   "outputs": [],
   "source": []
  },
  {
   "cell_type": "markdown",
   "metadata": {},
   "source": [
    "### PROBLEMA 3:\n",
    "* Obtén la cantidad de árboles óptimo para implementar un bosque de clasficación\n",
    "* Obtén los indicadores de dicho bosque generado\n",
    "* Compara los indicadores del árbol podado, del árbol sin podar y del bosque"
   ]
  },
  {
   "cell_type": "code",
   "execution_count": null,
   "metadata": {},
   "outputs": [],
   "source": []
  }
 ],
 "metadata": {
  "kernelspec": {
   "display_name": "Python 3",
   "language": "python",
   "name": "python3"
  },
  "language_info": {
   "codemirror_mode": {
    "name": "ipython",
    "version": 3
   },
   "file_extension": ".py",
   "mimetype": "text/x-python",
   "name": "python",
   "nbconvert_exporter": "python",
   "pygments_lexer": "ipython3",
   "version": "3.8.3"
  }
 },
 "nbformat": 4,
 "nbformat_minor": 4
}
