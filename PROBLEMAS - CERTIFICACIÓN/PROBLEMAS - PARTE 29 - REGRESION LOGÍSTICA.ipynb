{
 "cells": [
  {
   "cell_type": "markdown",
   "metadata": {},
   "source": [
    "Importa desde kaggle algún DATASET que te resulte interesante.\n",
    "* Tendrás que navegar algunos minutos hasta encontrar alguno que te permita aplicar lo aprendido\n",
    "* Tendras que preparar el modelo para aplicar un modelo de regresión logística \n",
    "* Preparar modelo significa solo tener variables numéricas (quitar vacíos y generar variables dummy)"
   ]
  },
  {
   "cell_type": "markdown",
   "metadata": {},
   "source": [
    "### PROBLEMA 1:\n",
    "Implementa modelos de Regresión Logística mediante SKLEARN/STATSMODELS, solo con las mejores variables predictoras.\n",
    "* Genera el selector del modelo para obtener el ranking de variables.\n",
    "* De cada combinación de variables obtén los indicadores.\n",
    "* Con base en los indicadores del modelo, retira alguna variable que \"sume\" al modelo y agrega la siguiente en el ranking.\n",
    "* No olvides que los indicadores principales son: PRECISIÓN, EXACTITUD, SENSIBILIDAD, ESPECIFICIDAD y ÁREA DEBAJO DE CURVA ROC."
   ]
  },
  {
   "cell_type": "code",
   "execution_count": null,
   "metadata": {},
   "outputs": [],
   "source": []
  }
 ],
 "metadata": {
  "kernelspec": {
   "display_name": "Python 3",
   "language": "python",
   "name": "python3"
  },
  "language_info": {
   "codemirror_mode": {
    "name": "ipython",
    "version": 3
   },
   "file_extension": ".py",
   "mimetype": "text/x-python",
   "name": "python",
   "nbconvert_exporter": "python",
   "pygments_lexer": "ipython3",
   "version": "3.8.3"
  }
 },
 "nbformat": 4,
 "nbformat_minor": 4
}
