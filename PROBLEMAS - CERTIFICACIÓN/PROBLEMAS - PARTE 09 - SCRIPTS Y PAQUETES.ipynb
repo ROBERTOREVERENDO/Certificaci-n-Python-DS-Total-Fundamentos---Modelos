{
 "cells": [
  {
   "cell_type": "markdown",
   "metadata": {},
   "source": [
    "### PROBLEMA 1\n",
    "\n",
    "Crea el siguiente árbol de rutas:\n",
    "* (RUTA PADRE) --> (RUTA HIJO) --> (RUTA NIETO) \n",
    "\n",
    "Dentro de cada 1 de las tres rutas crea un script que haga lo siguiente:\n",
    "* (RUTA PADRE) --> Lea un nombre y muestre un saludo\n",
    "* (RUTA HIJO) --> Lea un número y muestre si es par o impar\n",
    "* (RUTA NIETO) --> Lea dos números y muestre el mayor de ellos\n",
    "\n",
    "Dentro de la ruta (RUTA HIJO) crea un script de invocación que haga lo siguiente:\n",
    "* Si ingresas 0 ejecuta el script de la (RUTA PADRE)\n",
    "* Si ingresas 1 ejecuta el script de la (RUTA HIJO)\n",
    "* Si ingresas 2 ejecuta el script de la (RUTA NIETO)\n",
    "* Si ingresas otro número muestre un mensaje de error"
   ]
  },
  {
   "cell_type": "code",
   "execution_count": null,
   "metadata": {},
   "outputs": [],
   "source": []
  },
  {
   "cell_type": "markdown",
   "metadata": {},
   "source": [
    "### PROBLEMA 2\n",
    "\n",
    "Configura el script sobre la (RUTA HIJO) como paquete"
   ]
  },
  {
   "cell_type": "code",
   "execution_count": null,
   "metadata": {},
   "outputs": [],
   "source": []
  },
  {
   "cell_type": "markdown",
   "metadata": {},
   "source": [
    "### PROBLEMA 3\n",
    "\n",
    "Configura el script sobre la (RUTA NIETO) como subpaquete del paquete anterior"
   ]
  },
  {
   "cell_type": "code",
   "execution_count": null,
   "metadata": {},
   "outputs": [],
   "source": []
  },
  {
   "cell_type": "markdown",
   "metadata": {},
   "source": [
    "### PROBLEMA 4\n",
    "\n",
    "Distribuye el paquete creado sobre toda tu máquina y comprueba su ejecución desde un script en tu escritorio"
   ]
  },
  {
   "cell_type": "code",
   "execution_count": null,
   "metadata": {},
   "outputs": [],
   "source": []
  },
  {
   "cell_type": "markdown",
   "metadata": {},
   "source": [
    "### PROBLEMA 5\n",
    "\n",
    "Ejecuta el script de invocación de la (RUTA HIJO) desde consola"
   ]
  },
  {
   "cell_type": "code",
   "execution_count": null,
   "metadata": {},
   "outputs": [],
   "source": []
  },
  {
   "cell_type": "markdown",
   "metadata": {},
   "source": [
    "### PROBLEMA 6\n",
    "\n",
    "Modifica el script de invocación de la (RUTA HIJO) para que reciba un parámetro desde consola y ejecute lo siguiente:\n",
    "\n",
    "* Si provees más de 1 parámetro o ninguno, muestre un mensaje de error\n",
    "* Si ingresas 0 ejecuta el script de la (RUTA PADRE)\n",
    "* Si ingresas 1 ejecuta el script de la (RUTA HIJO)\n",
    "* Si ingresas 2 ejecuta el script de la (RUTA NIETO)\n",
    "* Si ingresas otro número muestre un mensaje de error\n",
    "    "
   ]
  },
  {
   "cell_type": "code",
   "execution_count": null,
   "metadata": {},
   "outputs": [],
   "source": []
  }
 ],
 "metadata": {
  "kernelspec": {
   "display_name": "Python 3",
   "language": "python",
   "name": "python3"
  },
  "language_info": {
   "codemirror_mode": {
    "name": "ipython",
    "version": 3
   },
   "file_extension": ".py",
   "mimetype": "text/x-python",
   "name": "python",
   "nbconvert_exporter": "python",
   "pygments_lexer": "ipython3",
   "version": "3.8.3"
  }
 },
 "nbformat": 4,
 "nbformat_minor": 4
}
