{
 "cells": [
  {
   "cell_type": "markdown",
   "metadata": {},
   "source": [
    "### PROBLEMA 1\n",
    "Analiza los valores faltantes de algún DATASET importado desde kaggle.\n",
    "* El DATASET debe tener valores faltantes\n",
    "* Analizar significa contar valores faltantes "
   ]
  },
  {
   "cell_type": "code",
   "execution_count": null,
   "metadata": {},
   "outputs": [],
   "source": []
  },
  {
   "cell_type": "markdown",
   "metadata": {},
   "source": [
    "### PROBLEMA 2\n",
    "Verifica lo que hace la siguiente comando cuando se recorre el DATASET en todas las columnas\n",
    "* DATASET[X].isna().sum()"
   ]
  },
  {
   "cell_type": "code",
   "execution_count": null,
   "metadata": {},
   "outputs": [],
   "source": []
  },
  {
   "cell_type": "markdown",
   "metadata": {},
   "source": [
    "### PROBLEMA 3:\n",
    "* Elimina todas las filas que tengan algún valor faltante\n",
    "* Elimina todas las filas que tengan todos sus valores faltantes (si existen)"
   ]
  },
  {
   "cell_type": "code",
   "execution_count": null,
   "metadata": {},
   "outputs": [],
   "source": []
  },
  {
   "cell_type": "markdown",
   "metadata": {},
   "source": [
    "### PROBLEMA 4:\n",
    "* Modifica los valores faltantes con un \"-\"\n",
    "* Modifica los valores faltantes con un 0\n",
    "* Modifica los valores faltantes con la media de la columna\n",
    "* Modifica los valores faltantes con la mediana de la columna\n",
    "* Modifica los valores faltantes con el método \"ffill\"\n",
    "* Modifica los valores faltantes con el método \"backfill\""
   ]
  },
  {
   "cell_type": "code",
   "execution_count": null,
   "metadata": {},
   "outputs": [],
   "source": []
  },
  {
   "cell_type": "markdown",
   "metadata": {},
   "source": [
    "### PROBLEMA 5:\n",
    "* Genera un nuevo DATASET en el que solo estén las filas con valores faltantes filtradas (de alguna columnas que elijas)"
   ]
  },
  {
   "cell_type": "code",
   "execution_count": null,
   "metadata": {},
   "outputs": [],
   "source": []
  }
 ],
 "metadata": {
  "kernelspec": {
   "display_name": "Python 3",
   "language": "python",
   "name": "python3"
  },
  "language_info": {
   "codemirror_mode": {
    "name": "ipython",
    "version": 3
   },
   "file_extension": ".py",
   "mimetype": "text/x-python",
   "name": "python",
   "nbconvert_exporter": "python",
   "pygments_lexer": "ipython3",
   "version": "3.8.3"
  }
 },
 "nbformat": 4,
 "nbformat_minor": 4
}
