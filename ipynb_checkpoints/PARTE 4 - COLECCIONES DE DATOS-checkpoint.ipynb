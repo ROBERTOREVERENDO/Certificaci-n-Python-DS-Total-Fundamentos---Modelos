{
 "cells": [
  {
   "cell_type": "markdown",
   "metadata": {},
   "source": [
    "# PARTE 4: COLECCIONES DE DATOS"
   ]
  },
  {
   "cell_type": "markdown",
   "metadata": {},
   "source": [
    "## PARTE 4.1: LISTAS\n",
    "\n",
    "* Es una colección de datos modificable\n",
    "* Permite tener elementos repetidos\n",
    "* Permite almacenar distintos tipos de datos\n",
    "* Cada elemento se llama item\n",
    "* Colocar los elementos entre [ ] y separados de por comas"
   ]
  },
  {
   "cell_type": "code",
   "execution_count": 7,
   "metadata": {},
   "outputs": [
    {
     "name": "stdout",
     "output_type": "stream",
     "text": [
      "3.9\n",
      "8\n",
      "True\n",
      "CHAU\n"
     ]
    }
   ],
   "source": [
    "#EJEMPLO DE LISTA\n",
    "LISTA1 = [3.9 , 8 , True , \"HOLA\" , 'CHAU']\n",
    "\n",
    "#ACCESO A LOS ITEMS DE LA LISTA\n",
    "print(LISTA1[0])\n",
    "print(LISTA1[1])\n",
    "print(LISTA1[2])\n",
    "print(LISTA1[-1])"
   ]
  },
  {
   "cell_type": "code",
   "execution_count": 4,
   "metadata": {},
   "outputs": [
    {
     "data": {
      "text/plain": [
       "array([ 0,  1,  2,  3,  4,  5,  6,  7,  8,  9, 10, 11, 12, 13, 14, 15, 16,\n",
       "       17, 18, 19, 20, 21, 22, 23, 24, 25, 26, 27, 28, 29])"
      ]
     },
     "execution_count": 4,
     "metadata": {},
     "output_type": "execute_result"
    }
   ],
   "source": [
    "#GENERACIÓN DE LISTA DE MANERA AUTOMÁTICA\n",
    "import numpy\n",
    "LISTA_AUTOMATICA = numpy.arange(30)\n",
    "LISTA_AUTOMATICA"
   ]
  },
  {
   "cell_type": "code",
   "execution_count": 5,
   "metadata": {},
   "outputs": [
    {
     "data": {
      "text/plain": [
       "[3, 4, 5, 7, 8, 9]"
      ]
     },
     "execution_count": 5,
     "metadata": {},
     "output_type": "execute_result"
    }
   ],
   "source": [
    "#SUMA DE LISTAS\n",
    "LISTA1 = [3,4,5]\n",
    "LISTA2 = [7,8,9]\n",
    "LISTA3 = LISTA1 + LISTA2\n",
    "LISTA3"
   ]
  },
  {
   "cell_type": "code",
   "execution_count": 10,
   "metadata": {},
   "outputs": [
    {
     "name": "stdout",
     "output_type": "stream",
     "text": [
      "[50, 4, 5, 6, 70, 80]\n"
     ]
    }
   ],
   "source": [
    "#MODIFICACIÓN DE LISTA\n",
    "LISTA1 = [3,4,5,6,7,8,10,20]\n",
    "LISTA1[0] = 50\n",
    "LISTA1[4:] = [70,80]\n",
    "print(LISTA1)"
   ]
  },
  {
   "cell_type": "code",
   "execution_count": 13,
   "metadata": {},
   "outputs": [
    {
     "name": "stdout",
     "output_type": "stream",
     "text": [
      "[3, 4, 5, 6, 7, 8, 10, 20, 21, 21]\n"
     ]
    }
   ],
   "source": [
    "#FUNCIÓN APPEND -> PERMITE AGREGAR UN ELEMENTO AL FINAL DE LA LISTA\n",
    "LISTA1 = [3,4,5,6,7,8,10,20]\n",
    "LISTA1.append(21)\n",
    "LISTA1.append(21)\n",
    "print(LISTA1)"
   ]
  },
  {
   "cell_type": "code",
   "execution_count": 14,
   "metadata": {},
   "outputs": [
    {
     "name": "stdout",
     "output_type": "stream",
     "text": [
      "8\n"
     ]
    }
   ],
   "source": [
    "#CANTIDAD DE ELEMENTOS DE LA LISTA\n",
    "LISTA1 = [3,4,5,6,7,8,10,20]\n",
    "print(len(LISTA1))"
   ]
  },
  {
   "cell_type": "code",
   "execution_count": 17,
   "metadata": {},
   "outputs": [
    {
     "name": "stdout",
     "output_type": "stream",
     "text": [
      "[[3, 4, 5], [7, 8, 9], [10, 14, 19]]\n",
      "[3, 4, 5]\n",
      "3\n"
     ]
    }
   ],
   "source": [
    "#LISTA ANIDADAS -> CADA ELEMENTO DE LA LISTA ES UNA LISTA\n",
    "LISTA1 = [3,4,5]\n",
    "LISTA2 = [7,8,9] \n",
    "LISTA3 = [10,14,19]\n",
    "LISTA_ANIDADA = [LISTA1 , LISTA2 , LISTA3]\n",
    "print(LISTA_ANIDADA)\n",
    "\n",
    "print(LISTA_ANIDADA[0])\n",
    "print(LISTA_ANIDADA[0][0])"
   ]
  },
  {
   "cell_type": "code",
   "execution_count": 19,
   "metadata": {},
   "outputs": [
    {
     "name": "stdout",
     "output_type": "stream",
     "text": [
      "[3, 4, 5, 6, 7, 8, 10, 20, 30]\n",
      "[3, 4, 5, 6, 7, 8, 10, 20, 30, 40]\n",
      "[3, 4, 5, 6, 7, 8, 10, 20, 30]\n",
      "[3, 4, 5, 6, 7, 8, 10, 20]\n"
     ]
    }
   ],
   "source": [
    "#ESTRUCTURA PILA -> ESTRUCTURA LIFO\n",
    "PILA = [3,4,5,6,7,8,10,20]\n",
    "\n",
    "#AGREGAR UN ELEMENTO A LA PILA\n",
    "PILA.append(30)\n",
    "print(PILA)\n",
    "\n",
    "#AGREGAR UN ELEMENTO A LA PILA\n",
    "PILA.append(40)\n",
    "print(PILA)\n",
    "\n",
    "#ELIMINAR UN ELEMENTO DE LA PILA\n",
    "PILA.pop()\n",
    "print(PILA)\n",
    "\n",
    "#ELIMINAR UN ELEMENTO DE LA PILA\n",
    "PILA.pop()\n",
    "print(PILA)"
   ]
  },
  {
   "cell_type": "code",
   "execution_count": 22,
   "metadata": {},
   "outputs": [
    {
     "name": "stdout",
     "output_type": "stream",
     "text": [
      "deque([4, 6, 7, 9, 12, 13, 15])\n",
      "deque([4, 6, 7, 9, 12, 13, 15, 18])\n",
      "deque([6, 7, 9, 12, 13, 15, 18])\n",
      "deque([7, 9, 12, 13, 15, 18])\n"
     ]
    }
   ],
   "source": [
    "#COLAS -> ESTRUCTURA FIFO\n",
    "from collections import deque\n",
    "COLA = deque()\n",
    "\n",
    "COLA = deque([4,6,7,9,12,13])\n",
    "\n",
    "#AGREGAR UN ELEMENTO A LA COLA\n",
    "COLA.append(15)\n",
    "print(COLA)\n",
    "\n",
    "#AGREGAR UN ELEMENTO A LA COLA\n",
    "COLA.append(18)\n",
    "print(COLA)\n",
    "\n",
    "#QUITAR UN ELEMENTO DE LA COLA\n",
    "COLA.popleft()\n",
    "print(COLA)\n",
    "\n",
    "#QUITAR UN ELEMENTO DE LA COLA\n",
    "COLA.popleft()\n",
    "print(COLA)"
   ]
  },
  {
   "cell_type": "code",
   "execution_count": 23,
   "metadata": {},
   "outputs": [
    {
     "name": "stdout",
     "output_type": "stream",
     "text": [
      "[3, 4, 5, 6, 7, 8, 10, 20]\n",
      "[]\n"
     ]
    }
   ],
   "source": [
    "#FUNCIÓN CLEAR -> LIMPIA LA LISTA\n",
    "LISTA1 = [3,4,5,6,7,8,10,20]\n",
    "print(LISTA1)\n",
    "\n",
    "LISTA1.clear()\n",
    "print(LISTA1)"
   ]
  },
  {
   "cell_type": "code",
   "execution_count": 24,
   "metadata": {},
   "outputs": [
    {
     "name": "stdout",
     "output_type": "stream",
     "text": [
      "[3, 4, 5]\n",
      "[6, 7, 8, 3, 4, 5]\n"
     ]
    }
   ],
   "source": [
    "#FUNCIÓN EXTEND -> UNE LISTAS \n",
    "LISTA1 = [3,4,5]\n",
    "LISTA2 = [6,7,8]\n",
    "LISTA2.extend(LISTA1)\n",
    "\n",
    "print(LISTA1)\n",
    "print(LISTA2)"
   ]
  },
  {
   "cell_type": "code",
   "execution_count": 25,
   "metadata": {},
   "outputs": [
    {
     "data": {
      "text/plain": [
       "3"
      ]
     },
     "execution_count": 25,
     "metadata": {},
     "output_type": "execute_result"
    }
   ],
   "source": [
    "#FUNCIÓN COUNT -> DEVUELVE CANTIDAD DE VECES QUE APARECE UN ITEM\n",
    "LISTA1 = [3, 4, 4, 4, 5]\n",
    "LISTA1.count(4)"
   ]
  },
  {
   "cell_type": "code",
   "execution_count": 29,
   "metadata": {},
   "outputs": [
    {
     "name": "stdout",
     "output_type": "stream",
     "text": [
      "1\n",
      "4\n"
     ]
    }
   ],
   "source": [
    "#FUNCIÓN INDEX -> DEVUELVE LA POSICIÓN EN LA QUE ESTÁ DETERMINADO ITEM\n",
    "LISTA1 = [3, 4, 4, 4, 5]\n",
    "print(LISTA1.index(4))\n",
    "print(LISTA1.index(5))\n",
    "#print(LISTA1.index(10)) -> DEVUELVE ERROR PORQUE NO ESTÁ EN LA LISTA"
   ]
  },
  {
   "cell_type": "code",
   "execution_count": 32,
   "metadata": {},
   "outputs": [
    {
     "name": "stdout",
     "output_type": "stream",
     "text": [
      "[11, 3, 4, 8, 14, 35]\n"
     ]
    }
   ],
   "source": [
    "#FUNCIÓN INSERT -> INSERTA UN ITEM EN DETERMINADA POSICIÓN\n",
    "LISTA1 = [3, 4, 8, 14, 35]\n",
    "\n",
    "#PRIMERA POSICIÓN\n",
    "LISTA1.insert(0,11)\n",
    "print(LISTA1)"
   ]
  },
  {
   "cell_type": "code",
   "execution_count": 33,
   "metadata": {},
   "outputs": [
    {
     "name": "stdout",
     "output_type": "stream",
     "text": [
      "[3, 4, 8, 14, 35, 40]\n"
     ]
    }
   ],
   "source": [
    "#FUNCIÓN INSERT -> INSERTA UN ITEM EN DETERMINADA POSICIÓN\n",
    "LISTA1 = [3, 4, 8, 14, 35]\n",
    "\n",
    "#ÚLTIMA POSICIÓN\n",
    "LISTA1.insert(5,40)\n",
    "print(LISTA1)"
   ]
  },
  {
   "cell_type": "code",
   "execution_count": 34,
   "metadata": {},
   "outputs": [
    {
     "name": "stdout",
     "output_type": "stream",
     "text": [
      "[3, 4, 8, 14, 35, 40]\n"
     ]
    }
   ],
   "source": [
    "#FUNCIÓN INSERT -> INSERTA UN ITEM EN DETERMINADA POSICIÓN\n",
    "LISTA1 = [3, 4, 8, 14, 35]\n",
    "\n",
    "#ÚLTIMA POSICIÓN\n",
    "LISTA1.insert(len(LISTA1),40)\n",
    "print(LISTA1)"
   ]
  },
  {
   "cell_type": "code",
   "execution_count": 35,
   "metadata": {},
   "outputs": [
    {
     "name": "stdout",
     "output_type": "stream",
     "text": [
      "[3, 4, 8, 14, 50, 35]\n"
     ]
    }
   ],
   "source": [
    "#FUNCIÓN INSERT -> INSERTA UN ITEM EN DETERMINADA POSICIÓN\n",
    "LISTA1 = [3, 4, 8, 14, 35]\n",
    "\n",
    "#PENÚLTIMA POSICIÓN\n",
    "LISTA1.insert(-1,50)\n",
    "print(LISTA1)"
   ]
  },
  {
   "cell_type": "code",
   "execution_count": 37,
   "metadata": {},
   "outputs": [
    {
     "name": "stdout",
     "output_type": "stream",
     "text": [
      "[3, 4, 8, 14]\n",
      "[3, 8, 14]\n"
     ]
    }
   ],
   "source": [
    "#FUNCIÓN POP -> ELIMINA UN ITEM EN DETERMINADA POSICIÓN \n",
    "LISTA1 = [3, 4, 8, 14, 35]\n",
    "\n",
    "LISTA1.pop()\n",
    "print(LISTA1)\n",
    "\n",
    "LISTA1.pop(1)\n",
    "print(LISTA1)"
   ]
  },
  {
   "cell_type": "code",
   "execution_count": 40,
   "metadata": {},
   "outputs": [
    {
     "name": "stdout",
     "output_type": "stream",
     "text": [
      "[3, 4, 14, 35]\n"
     ]
    }
   ],
   "source": [
    "#REMOVE -> ELIMINA UN ITEM CON DETERMINADO VALOR (SIN IMPORTAR LA POSICIÓN) \n",
    "LISTA1 = [3, 4, 8, 14, 35]\n",
    "\n",
    "LISTA1.remove(8)\n",
    "print(LISTA1)\n",
    "\n",
    "#LISTA1.remove(30) -> DEVUELVE ERROR PORQUE NO ESTÁ EN LA LISTA"
   ]
  },
  {
   "cell_type": "code",
   "execution_count": 41,
   "metadata": {},
   "outputs": [
    {
     "name": "stdout",
     "output_type": "stream",
     "text": [
      "[35, 14, 8, 4, 3]\n"
     ]
    }
   ],
   "source": [
    "#REVERSE -> REVIERTE LA CADENA\n",
    "LISTA1 = [3, 4, 8, 14, 35]\n",
    "\n",
    "LISTA1.reverse()\n",
    "print(LISTA1)"
   ]
  },
  {
   "cell_type": "code",
   "execution_count": 45,
   "metadata": {},
   "outputs": [
    {
     "name": "stdout",
     "output_type": "stream",
     "text": [
      "[4, 14, 28, 35, 84, 93]\n",
      "[93, 84, 35, 28, 14, 4]\n"
     ]
    }
   ],
   "source": [
    "#SORT -> ORDENA LA LISTA\n",
    "LISTA1 = [93, 4, 28, 14, 35, 84]\n",
    "\n",
    "#ORDEN ASCENDENTE\n",
    "LISTA1.sort()\n",
    "print(LISTA1)\n",
    "\n",
    "#ORDEN DESCENDENTE\n",
    "LISTA1.sort(reverse=True)\n",
    "print(LISTA1)"
   ]
  },
  {
   "cell_type": "code",
   "execution_count": 47,
   "metadata": {},
   "outputs": [
    {
     "name": "stdout",
     "output_type": "stream",
     "text": [
      "['P', 'Y', 'T', 'H', 'O', 'N', '2', '0', '2', '1']\n",
      "['P', 'Y', 'T', 'H', 'O', 'N', '2', '0', '2', '1']\n"
     ]
    }
   ],
   "source": [
    "#CREACIÓN DE LISTA EN FORMA RESUMIDA (SIN CONDICIONES)\n",
    "#MÉTODO HABITUAL\n",
    "LISTA = []\n",
    "for CARACTER in 'PYTHON2021':\n",
    "    LISTA.append(CARACTER)\n",
    "print(LISTA)\n",
    "\n",
    "#MÉTODO RESUMIDO\n",
    "LISTA = [CARACTER for CARACTER in 'PYTHON2021']\n",
    "print(LISTA)"
   ]
  },
  {
   "cell_type": "code",
   "execution_count": 50,
   "metadata": {},
   "outputs": [
    {
     "name": "stdout",
     "output_type": "stream",
     "text": [
      "[0, 2, 4, 6, 8, 10, 12, 14, 16, 18]\n",
      "[1, 3, 5, 7, 9, 11, 13, 15, 17, 19]\n",
      "[0, 2, 4, 6, 8, 10, 12, 14, 16, 18]\n",
      "[1, 3, 5, 7, 9, 11, 13, 15, 17, 19]\n"
     ]
    }
   ],
   "source": [
    "#CREACIÓN DE LISTA EN FORMA RESUMIDA (CON CONDICIONES)\n",
    "#MÉTODO HABITUAL\n",
    "LISTA_PARES = []\n",
    "LISTA_IMPARES = []\n",
    "\n",
    "for NUM in range(0,20):\n",
    "    if NUM%2 == 0:\n",
    "        LISTA_PARES.append(NUM)\n",
    "    else:\n",
    "        LISTA_IMPARES.append(NUM)\n",
    "print(LISTA_PARES)\n",
    "print(LISTA_IMPARES)\n",
    "\n",
    "#MÉTODO RESUMIDO\n",
    "LISTA_PARES = [NUM for NUM in range(0,20) if NUM%2 == 0]\n",
    "LISTA_IMPARES = [NUM for NUM in range(0,20) if NUM%2 != 0]\n",
    "print(LISTA_PARES)\n",
    "print(LISTA_IMPARES)"
   ]
  },
  {
   "cell_type": "markdown",
   "metadata": {},
   "source": [
    "## PARTE 4.2: TUPLAS\n",
    "\n",
    "* Es una colección de datos inmutable\n",
    "* Permite tener elementos repetidos\n",
    "* Permite almacenar distintos tipos de datos\n",
    "* Cada elemento se llama item\n",
    "* Colocar los elementos entre ( ) y separados de por comas"
   ]
  },
  {
   "cell_type": "code",
   "execution_count": 55,
   "metadata": {},
   "outputs": [
    {
     "name": "stdout",
     "output_type": "stream",
     "text": [
      "100\n",
      "3.9\n",
      "True\n",
      "(100, 3.9, 'HOLA')\n"
     ]
    }
   ],
   "source": [
    "#EJEMPLO DE TUPLA\n",
    "TUPLA = (100, 3.9, 'HOLA', \"CHAU\", True)\n",
    "\n",
    "#ACCESO A LOS ELEMENTOS DE LA TUPLA\n",
    "print(TUPLA[0])\n",
    "print(TUPLA[1])\n",
    "print(TUPLA[-1])\n",
    "print(TUPLA[0:3])"
   ]
  },
  {
   "cell_type": "code",
   "execution_count": 56,
   "metadata": {},
   "outputs": [
    {
     "name": "stdout",
     "output_type": "stream",
     "text": [
      "7\n"
     ]
    }
   ],
   "source": [
    "#CANTIDAD DE ELEMENTOS DE LA TUPLA\n",
    "TUPLA1 = (3,7,9,13,16,25,36)\n",
    "\n",
    "print(len(TUPLA1))"
   ]
  },
  {
   "cell_type": "code",
   "execution_count": 59,
   "metadata": {},
   "outputs": [
    {
     "name": "stdout",
     "output_type": "stream",
     "text": [
      "2\n"
     ]
    }
   ],
   "source": [
    "#FUNCIÓN INDEX -> DEVUELVE LA POSICIÓN DE UN ITEM\n",
    "TUPLA1 = (3,7,9,13,16,25,36)\n",
    "print(TUPLA1.index(9))\n",
    "#print(TUPLA1.index(49)) -> DEVUELVE ERROR PORQUE NO ESTÁ EN LA TUPLA"
   ]
  },
  {
   "cell_type": "code",
   "execution_count": 61,
   "metadata": {},
   "outputs": [
    {
     "name": "stdout",
     "output_type": "stream",
     "text": [
      "2\n",
      "0\n"
     ]
    }
   ],
   "source": [
    "#FUNCIÓN COUNT -> DEVUELVE LA CANTIDAD DE VECES QUE APARECE UN ITEM\n",
    "TUPLA1 = (3,7,9,13,16,25,36,25)\n",
    "print(TUPLA1.count(25))\n",
    "print(TUPLA1.count(49))"
   ]
  },
  {
   "cell_type": "code",
   "execution_count": 68,
   "metadata": {},
   "outputs": [
    {
     "name": "stdout",
     "output_type": "stream",
     "text": [
      "BENJAMIN\n",
      "BENJAMIN\n",
      "NEIRA\n",
      "NEIRA\n",
      "27\n",
      "27\n",
      "S\n",
      "S\n",
      "S\n"
     ]
    }
   ],
   "source": [
    "#TUPLAS CON NOMBRES\n",
    "from collections import namedtuple\n",
    "\n",
    "#EL PRIMER ATRIBUTO ES EL NOMBRE DE LA TUPLA\n",
    "#EL SEGUNDO ATRIBUTO ES EL NOMBRE DE LOS REGISTROS SEPARADOS CON ESPACIOS\n",
    "\n",
    "PERSONA = namedtuple('DATOS','NOMBRE APELLIDO EDAD EC')\n",
    "P = PERSONA(NOMBRE = 'BENJAMIN', APELLIDO = 'NEIRA' , EDAD = 27 , EC = 'S')\n",
    "\n",
    "#ACCESO AL NOMBRE\n",
    "print(P[0])\n",
    "print(P.NOMBRE)\n",
    "\n",
    "#ACCESO AL APELLIDO\n",
    "print(P[1])\n",
    "print(P.APELLIDO)\n",
    "\n",
    "#ACCESO AL EDAD\n",
    "print(P[2])\n",
    "print(P.EDAD)\n",
    "\n",
    "#ACCESO AL EC\n",
    "print(P[3])\n",
    "print(P[-1])\n",
    "print(P.EC)"
   ]
  },
  {
   "cell_type": "markdown",
   "metadata": {},
   "source": [
    "## PARTE 4.3: CONJUNTOS\n",
    "\n",
    "* Es una colección de datos que puede modificarse\n",
    "* No permite tener elementos repetidos\n",
    "* Permite almacenar distintos tipos de datos (solo números o cadenas)\n",
    "* Cada elemento se llama item\n",
    "* Colocar los elementos entre { }  y separados de por comas\n",
    "* Sin importar el orden que se ingresen, se guardan ordenados y sin repetirse"
   ]
  },
  {
   "cell_type": "code",
   "execution_count": 6,
   "metadata": {},
   "outputs": [
    {
     "name": "stdout",
     "output_type": "stream",
     "text": [
      "{1, 2, 3, 6, 8, 'HOLA'}\n"
     ]
    }
   ],
   "source": [
    "#EJEMPLO DE CONJUNTO\n",
    "CONJUNTO = {3, 6, 8, 1, 2, 2, 2, 2, \"HOLA\", True}\n",
    "print(CONJUNTO)"
   ]
  },
  {
   "cell_type": "code",
   "execution_count": 7,
   "metadata": {},
   "outputs": [
    {
     "name": "stdout",
     "output_type": "stream",
     "text": [
      "{0, 1, 2, 3, 6, 8}\n"
     ]
    }
   ],
   "source": [
    "#FUNCIÓN ADD -> PERMITE AGREGAR UN ELEMENTO AL CONJUNTO\n",
    "CONJUNTO = {3, 6, 8, 1, 2, 2, 2, 2}\n",
    "CONJUNTO.add(0)\n",
    "print(CONJUNTO)"
   ]
  },
  {
   "cell_type": "code",
   "execution_count": 9,
   "metadata": {},
   "outputs": [
    {
     "name": "stdout",
     "output_type": "stream",
     "text": [
      "{1, 2, 3, 6}\n"
     ]
    }
   ],
   "source": [
    "#FUNCIÓN DISCARD -> PERMITE ELIMINAR UN ELEMENTO DELL CONJUNTO\n",
    "CONJUNTO = {3, 6, 8, 1, 2, 2, 2, 2}\n",
    "CONJUNTO.discard(8)\n",
    "CONJUNTO.discard(14)\n",
    "print(CONJUNTO)"
   ]
  },
  {
   "cell_type": "code",
   "execution_count": 12,
   "metadata": {},
   "outputs": [
    {
     "name": "stdout",
     "output_type": "stream",
     "text": [
      "{1, 2, 3, 6, 8}\n",
      "{2, 3, 6, 8, 14}\n"
     ]
    }
   ],
   "source": [
    "#FUNCIÓN COPY -> HACE UNA COPIA DE TU CONJUNTO (NO AFECTA AL ORIGINAL)\n",
    "CONJUNTO1 = {3, 6, 8, 1, 2, 2, 2, 2}\n",
    "CONJUNTO2 = CONJUNTO1.copy()\n",
    "\n",
    "CONJUNTO2.add(14)\n",
    "CONJUNTO2.discard(1)\n",
    "\n",
    "print(CONJUNTO1)\n",
    "print(CONJUNTO2)"
   ]
  },
  {
   "cell_type": "code",
   "execution_count": 13,
   "metadata": {},
   "outputs": [
    {
     "name": "stdout",
     "output_type": "stream",
     "text": [
      "{1, 2, 3, 6, 8}\n",
      "set()\n"
     ]
    }
   ],
   "source": [
    "#FUNCIÓN CLEAR -> ELIMINA TODOS LOS ELEMENTOS DE UN CONJUNTO\n",
    "CONJUNTO1 = {3, 6, 8, 1, 2, 2, 2, 2}\n",
    "print(CONJUNTO1)\n",
    "CONJUNTO1.clear()\n",
    "print(CONJUNTO1)"
   ]
  },
  {
   "cell_type": "code",
   "execution_count": 15,
   "metadata": {},
   "outputs": [
    {
     "name": "stdout",
     "output_type": "stream",
     "text": [
      "True\n",
      "False\n"
     ]
    }
   ],
   "source": [
    "#FUNCIÓN IN -> VERIFICA LA PERTENENCIA A UN CONJUNTO\n",
    "CONJUNTO1 = {3, 6, 8, 1, 2, 2, 2, 2}\n",
    "print(2 in CONJUNTO1)\n",
    "print(14 in CONJUNTO1)"
   ]
  },
  {
   "cell_type": "code",
   "execution_count": 17,
   "metadata": {},
   "outputs": [
    {
     "name": "stdout",
     "output_type": "stream",
     "text": [
      "[2, 4, 1, 10, 5, 17, 28, -1, 14]\n",
      "{1, 2, 4, 5, 10, 14, 17, 28, -1}\n"
     ]
    }
   ],
   "source": [
    "#CONVERSIÓN DE LISTA A CONJUNTO\n",
    "LISTA = [2, 4, 1, 10, 5, 17, 28, -1, 14]\n",
    "CONJUNTO = set(LISTA)\n",
    "\n",
    "print(LISTA)\n",
    "print(CONJUNTO)"
   ]
  },
  {
   "cell_type": "code",
   "execution_count": 18,
   "metadata": {},
   "outputs": [
    {
     "name": "stdout",
     "output_type": "stream",
     "text": [
      "{1, 2, 4, 5, 10, 14, 17, 28, -1}\n",
      "[1, 2, 4, 5, 10, 14, 17, 28, -1]\n"
     ]
    }
   ],
   "source": [
    "#CONVERSIÓN DE CONJUNTO A LISTA\n",
    "CONJUNTO = {2, 4, 1, 10, 5, 17, 28, -1, 14}\n",
    "LISTA = list(CONJUNTO)\n",
    "\n",
    "print(CONJUNTO)\n",
    "print(LISTA)"
   ]
  },
  {
   "cell_type": "code",
   "execution_count": 19,
   "metadata": {},
   "outputs": [
    {
     "name": "stdout",
     "output_type": "stream",
     "text": [
      "{'N', 'Y', '2', '0', 'P', 'O', '1', 'H', 'T'}\n"
     ]
    }
   ],
   "source": [
    "#CONVERSIÓN DE UNA CADENA A CONJUNTO\n",
    "CADENA = 'PYTHON2021'\n",
    "CONJUNTO = set(CADENA)\n",
    "\n",
    "print(CONJUNTO)"
   ]
  },
  {
   "cell_type": "code",
   "execution_count": 23,
   "metadata": {},
   "outputs": [
    {
     "name": "stdout",
     "output_type": "stream",
     "text": [
      "True\n",
      "False\n"
     ]
    }
   ],
   "source": [
    "#COMPARACIÓN DE CONJUNTOS\n",
    "CONJUNTO1 = {1,2,3,4,5}\n",
    "CONJUNTO2 = {6,7,8}\n",
    "CONJUNTO3 = {5,6,7}\n",
    "CONJUNTO4 = {1,2}\n",
    "\n",
    "#FUNCIÓN ISDISJOINT -> True (CUANDO LOS CONJUNTOS NO COMPARTEN NINGÚN ELEMENTO)\n",
    "print(CONJUNTO1.isdisjoint(CONJUNTO2))\n",
    "print(CONJUNTO1.isdisjoint(CONJUNTO3))"
   ]
  },
  {
   "cell_type": "code",
   "execution_count": 26,
   "metadata": {},
   "outputs": [
    {
     "name": "stdout",
     "output_type": "stream",
     "text": [
      "True\n",
      "False\n"
     ]
    }
   ],
   "source": [
    "#COMPARACIÓN DE CONJUNTOS\n",
    "CONJUNTO1 = {1,2,3,4,5}\n",
    "CONJUNTO2 = {6,7,8}\n",
    "CONJUNTO3 = {5,6,7}\n",
    "CONJUNTO4 = {1,2}\n",
    "\n",
    "#FUNCIÓN ISSUBSET ->True (CUANDO UN CONJUNTO ES SUBCONJUNTO DE OTRO)\n",
    "print(CONJUNTO4.issubset(CONJUNTO1))\n",
    "print(CONJUNTO4.issubset(CONJUNTO2))"
   ]
  },
  {
   "cell_type": "code",
   "execution_count": 28,
   "metadata": {},
   "outputs": [
    {
     "name": "stdout",
     "output_type": "stream",
     "text": [
      "True\n",
      "False\n"
     ]
    }
   ],
   "source": [
    "#COMPARACIÓN DE CONJUNTOS\n",
    "CONJUNTO1 = {1,2,3,4,5}\n",
    "CONJUNTO2 = {6,7,8}\n",
    "CONJUNTO3 = {5,6,7}\n",
    "CONJUNTO4 = {1,2}\n",
    "\n",
    "#FUNCIÓN ISSUPERSET ->True (CUANDO UN CONJUNTO ES SUPERCONJUNTO DE OTRO)\n",
    "print(CONJUNTO1.issuperset(CONJUNTO4))\n",
    "print(CONJUNTO2.issuperset(CONJUNTO3))"
   ]
  },
  {
   "cell_type": "code",
   "execution_count": 31,
   "metadata": {},
   "outputs": [
    {
     "name": "stdout",
     "output_type": "stream",
     "text": [
      "{1, 2, 3, 4, 5, 6, 7, 8}\n",
      "{1, 2, 3, 4, 5}\n",
      "------------------\n",
      "{1, 2, 3, 4, 5}\n",
      "{8, 6, 7}\n",
      "{1, 2}\n"
     ]
    }
   ],
   "source": [
    "#OPERACIONES DE CONJUNTOS\n",
    "CONJUNTO1 = {1,2,3,4,5}\n",
    "CONJUNTO2 = {6,7,8}\n",
    "CONJUNTO3 = {5,6,7}\n",
    "CONJUNTO4 = {1,2}\n",
    "\n",
    "#FUNCIÓN UNION -> DEVUELVE UN CONJUNTO QUE ES LA UNIÓN DE AMBOS -> NO MODIFICA LOS CONJUNTOS\n",
    "print(CONJUNTO1.union(CONJUNTO2))\n",
    "print(CONJUNTO1.union(CONJUNTO4))\n",
    "print(\"------------------\")\n",
    "print(CONJUNTO1)\n",
    "print(CONJUNTO2)\n",
    "print(CONJUNTO4)"
   ]
  },
  {
   "cell_type": "code",
   "execution_count": 32,
   "metadata": {},
   "outputs": [
    {
     "name": "stdout",
     "output_type": "stream",
     "text": [
      "{1, 2, 3, 4, 5}\n",
      "{1, 2, 3, 4, 5, 6, 7, 8}\n"
     ]
    }
   ],
   "source": [
    "#OPERACIONES DE CONJUNTOS\n",
    "CONJUNTO1 = {1,2,3,4,5}\n",
    "CONJUNTO2 = {6,7,8}\n",
    "CONJUNTO3 = {5,6,7}\n",
    "CONJUNTO4 = {1,2}\n",
    "\n",
    "#FUNCIÓN UPDATE -> UNE UN CONJUNTO CON OTRO -> SÍ MODIFICA EL CONJUNTO\n",
    "print(CONJUNTO1)\n",
    "CONJUNTO1.update(CONJUNTO2)\n",
    "print(CONJUNTO1)"
   ]
  },
  {
   "cell_type": "code",
   "execution_count": 34,
   "metadata": {},
   "outputs": [
    {
     "name": "stdout",
     "output_type": "stream",
     "text": [
      "{1, 2, 3, 4, 5}\n",
      "{3, 4, 5}\n",
      "{1, 2, 3, 4, 5}\n"
     ]
    }
   ],
   "source": [
    "#OPERACIONES DE CONJUNTOS\n",
    "CONJUNTO1 = {1,2,3,4,5}\n",
    "CONJUNTO2 = {6,7,8}\n",
    "CONJUNTO3 = {5,6,7}\n",
    "CONJUNTO4 = {1,2}\n",
    "\n",
    "#FUNCIÓN DIFFERENCE -> DEVUELVE LA DIFERENCIA DE UN CONJUNTO VS OTRO -> NO MODIFICA EL CONJUNTO\n",
    "print(CONJUNTO1)\n",
    "print(CONJUNTO1.difference(CONJUNTO4))\n",
    "print(CONJUNTO1)"
   ]
  },
  {
   "cell_type": "code",
   "execution_count": 36,
   "metadata": {},
   "outputs": [
    {
     "name": "stdout",
     "output_type": "stream",
     "text": [
      "{1, 2, 3, 4, 5}\n",
      "{3, 4, 5}\n"
     ]
    }
   ],
   "source": [
    "#OPERACIONES DE CONJUNTOS\n",
    "CONJUNTO1 = {1,2,3,4,5}\n",
    "CONJUNTO2 = {6,7,8}\n",
    "CONJUNTO3 = {5,6,7}\n",
    "CONJUNTO4 = {1,2}\n",
    "\n",
    "#FUNCIÓN DIFFERENCE_UPDATE -> DEVUELVE LA DIFERENCIA DE UN CONJUNTO VS OTRO -> SÍ MODIFICA EL CONJUNTO\n",
    "print(CONJUNTO1)\n",
    "CONJUNTO1.difference_update(CONJUNTO4)\n",
    "print(CONJUNTO1)"
   ]
  },
  {
   "cell_type": "code",
   "execution_count": 38,
   "metadata": {},
   "outputs": [
    {
     "name": "stdout",
     "output_type": "stream",
     "text": [
      "{1, 2, 3, 4, 5}\n",
      "{5}\n",
      "{1, 2, 3, 4, 5}\n"
     ]
    }
   ],
   "source": [
    "#OPERACIONES DE CONJUNTOS\n",
    "CONJUNTO1 = {1,2,3,4,5}\n",
    "CONJUNTO2 = {6,7,8}\n",
    "CONJUNTO3 = {5,6,7}\n",
    "CONJUNTO4 = {1,2}\n",
    "\n",
    "#FUNCIÓN INTERSECTION -> DEVUELVE LA INTERSECCIÓN DE 2 CONJUTOS -> NO MODIFICA EL CONJUNTO\n",
    "print(CONJUNTO1)\n",
    "print(CONJUNTO1.intersection(CONJUNTO3))\n",
    "print(CONJUNTO1)"
   ]
  },
  {
   "cell_type": "code",
   "execution_count": 40,
   "metadata": {},
   "outputs": [
    {
     "name": "stdout",
     "output_type": "stream",
     "text": [
      "{1, 2, 3, 4, 5}\n",
      "{5}\n"
     ]
    }
   ],
   "source": [
    "#OPERACIONES DE CONJUNTOS\n",
    "CONJUNTO1 = {1,2,3,4,5}\n",
    "CONJUNTO2 = {6,7,8}\n",
    "CONJUNTO3 = {5,6,7}\n",
    "CONJUNTO4 = {1,2}\n",
    "\n",
    "#FUNCIÓN INTERSECTION_UPDATE -> DEVUELVE LA INTERSECCIÓN DE 2 CONJUTOS -> SÍ MODIFICA EL CONJUNTO\n",
    "print(CONJUNTO1)\n",
    "CONJUNTO1.intersection_update(CONJUNTO3)\n",
    "print(CONJUNTO1)"
   ]
  },
  {
   "cell_type": "code",
   "execution_count": 41,
   "metadata": {},
   "outputs": [
    {
     "name": "stdout",
     "output_type": "stream",
     "text": [
      "{1, 2, 3, 4, 5}\n",
      "{1, 2, 3, 4, 6, 7}\n",
      "{1, 2, 3, 4, 5}\n"
     ]
    }
   ],
   "source": [
    "#OPERACIONES DE CONJUNTOS\n",
    "CONJUNTO1 = {1,2,3,4,5}\n",
    "CONJUNTO2 = {6,7,8}\n",
    "CONJUNTO3 = {5,6,7}\n",
    "CONJUNTO4 = {1,2}\n",
    "\n",
    "#FUNCIÓN SYMMETRIC_DIFFERENCE -> DEVUELVE LA DIFERENCIA SIMÉTRICA DE 2 CONJUTOS -> NO MODIFICA EL CONJUNTO\n",
    "print(CONJUNTO1)\n",
    "print(CONJUNTO1.symmetric_difference(CONJUNTO3))\n",
    "print(CONJUNTO1)"
   ]
  },
  {
   "cell_type": "code",
   "execution_count": 43,
   "metadata": {},
   "outputs": [
    {
     "name": "stdout",
     "output_type": "stream",
     "text": [
      "{1, 2, 3, 4, 5}\n",
      "{1, 2, 3, 4, 6, 7}\n"
     ]
    }
   ],
   "source": [
    "#OPERACIONES DE CONJUNTOS\n",
    "CONJUNTO1 = {1,2,3,4,5}\n",
    "CONJUNTO2 = {6,7,8}\n",
    "CONJUNTO3 = {5,6,7}\n",
    "CONJUNTO4 = {1,2}\n",
    "\n",
    "#FUNCIÓN SYMMETRIC_DIFFERENCE_UPDATE -> DEVUELVE LA DIFERENCIA SIMÉTRICA DE 2 CONJUTOS -> SÍ MODIFICA EL CONJUNTO\n",
    "print(CONJUNTO1)\n",
    "CONJUNTO1.symmetric_difference_update(CONJUNTO3)\n",
    "print(CONJUNTO1)"
   ]
  },
  {
   "cell_type": "markdown",
   "metadata": {},
   "source": [
    "## PARTE 4.4: DICCIONARIOS\n",
    "\n",
    "* Es una colección de datos que puede modificarse\n",
    "* No permite tener elementos repetidos\n",
    "* Permite almacenar distintos tipos de datos \n",
    "* Cada elemento tiene una llave asoaciado a un valor (llaves deben ser únicas)\n",
    "* Colocar los elementos entre { } , separados de por comas y dos puntos entre llave/valor"
   ]
  },
  {
   "cell_type": "code",
   "execution_count": 45,
   "metadata": {},
   "outputs": [
    {
     "name": "stdout",
     "output_type": "stream",
     "text": [
      "{'PERRO': 'DOG', 'GATO': 'CAT', 'ZORRO': 'FOX', 'TORO': 'BULL'}\n"
     ]
    }
   ],
   "source": [
    "#CADA ELEMENTO DEL DICCIONARIO ES: \"LLAVE\":\"VALOR\"\n",
    "TRADUCTOR_ANIMALES = {\"PERRO\":\"DOG\" , \"GATO\":\"CAT\" , \"ZORRO\":\"FOX\" , \"TORO\":\"BULL\"}\n",
    "EDADES = {\"BENJAMIN\":27 , \"RICARDO\":50 , \"JUAN\":30 , \"NORMA\":75}\n",
    "TRADUCTOR_COLORES = {\"BLANCO\":\"WHITE\" , \"NEGRO\":\"BLACK\" , \"GRIS\":\"GRAY\" , \"AZUL\":\"BLUE\"}\n",
    "\n",
    "print(TRADUCTOR_ANIMALES)"
   ]
  },
  {
   "cell_type": "code",
   "execution_count": 47,
   "metadata": {},
   "outputs": [
    {
     "name": "stdout",
     "output_type": "stream",
     "text": [
      "{'PERRO': 'DOG', 'GATO': 'CAT', 'ZORRO': 'FOX', 'TORO': 'BULL', 'VACA': 'COW'}\n"
     ]
    }
   ],
   "source": [
    "#AGREGAR ELEMENTOS AL DICCIONARIO\n",
    "TRADUCTOR_ANIMALES[\"VACA\"] = \"COW\"\n",
    "\n",
    "print(TRADUCTOR_ANIMALES)"
   ]
  },
  {
   "cell_type": "code",
   "execution_count": 48,
   "metadata": {},
   "outputs": [
    {
     "name": "stdout",
     "output_type": "stream",
     "text": [
      "{'PERRO': 'PERRITO', 'GATO': 'CAT', 'ZORRO': 'FOX', 'TORO': 'BULL', 'VACA': 'COW'}\n"
     ]
    }
   ],
   "source": [
    "#INTENTO DE DUPLICAR LLAVE EN EL DICCIONARIO\n",
    "TRADUCTOR_ANIMALES[\"PERRO\"] = \"PERRITO\"\n",
    "\n",
    "print(TRADUCTOR_ANIMALES)"
   ]
  },
  {
   "cell_type": "code",
   "execution_count": 52,
   "metadata": {},
   "outputs": [
    {
     "name": "stdout",
     "output_type": "stream",
     "text": [
      "CAT\n",
      "COW\n"
     ]
    }
   ],
   "source": [
    "#ACCEDER A LOS VALORES DEL DICCIONARIO -> MÉTODO 1\n",
    "print(TRADUCTOR_ANIMALES[\"GATO\"])\n",
    "print(TRADUCTOR_ANIMALES[\"VACA\"])\n",
    "#print(TRADUCTOR_ANIMALES[\"CABALLO\"]) -> ERROR SI NO ENCUENTRA LA LLAVE"
   ]
  },
  {
   "cell_type": "code",
   "execution_count": 53,
   "metadata": {},
   "outputs": [
    {
     "name": "stdout",
     "output_type": "stream",
     "text": [
      "{'PERRO': 'PERRITO', 'GATO': 'CAT', 'ZORRO': 'FOX', 'TORO': 'BULL', 'VACA': 'COW'}\n",
      "{'GATO': 'CAT', 'ZORRO': 'FOX', 'TORO': 'BULL', 'VACA': 'COW'}\n"
     ]
    }
   ],
   "source": [
    "#FUNCIÓN DEL -> ELIMINA UN REGISTRO DEL DICCIONARIO\n",
    "print(TRADUCTOR_ANIMALES)\n",
    "del(TRADUCTOR_ANIMALES[\"PERRO\"])\n",
    "print(TRADUCTOR_ANIMALES)"
   ]
  },
  {
   "cell_type": "code",
   "execution_count": 54,
   "metadata": {},
   "outputs": [
    {
     "name": "stdout",
     "output_type": "stream",
     "text": [
      "GATO\n",
      "ZORRO\n",
      "TORO\n",
      "VACA\n"
     ]
    }
   ],
   "source": [
    "#ACCEDER A LAS LLAVES DEL DICCIONARIO \n",
    "for VALOR in TRADUCTOR_ANIMALES:\n",
    "    print(VALOR)"
   ]
  },
  {
   "cell_type": "code",
   "execution_count": 55,
   "metadata": {},
   "outputs": [
    {
     "name": "stdout",
     "output_type": "stream",
     "text": [
      "CAT\n",
      "FOX\n",
      "BULL\n",
      "COW\n"
     ]
    }
   ],
   "source": [
    "#ACCEDER A LOS VALORES DEL DICCIONARIO \n",
    "for VALOR in TRADUCTOR_ANIMALES:\n",
    "    print(TRADUCTOR_ANIMALES[VALOR])"
   ]
  },
  {
   "cell_type": "code",
   "execution_count": 56,
   "metadata": {},
   "outputs": [
    {
     "name": "stdout",
     "output_type": "stream",
     "text": [
      "GATO - CAT\n",
      "ZORRO - FOX\n",
      "TORO - BULL\n",
      "VACA - COW\n"
     ]
    }
   ],
   "source": [
    "#ACCEDER A LAS LLAVES Y VALORES DEL DICCIONARIO\n",
    "for LLAVE,VALOR in TRADUCTOR_ANIMALES.items():\n",
    "    print(LLAVE,\"-\",VALOR)"
   ]
  },
  {
   "cell_type": "code",
   "execution_count": 59,
   "metadata": {},
   "outputs": [
    {
     "name": "stdout",
     "output_type": "stream",
     "text": [
      "CAT\n",
      "NO HAY REGISTRO\n"
     ]
    }
   ],
   "source": [
    "#FUNCIÓN GET -> DEVUELVE EL VALOR A PARTIR DE LA LLAVE\n",
    "print(TRADUCTOR_ANIMALES.get(\"GATO\",\"NO HAY REGISTRO\"))\n",
    "print(TRADUCTOR_ANIMALES.get(\"CABALLO\",\"NO HAY REGISTRO\"))"
   ]
  },
  {
   "cell_type": "code",
   "execution_count": 61,
   "metadata": {},
   "outputs": [
    {
     "name": "stdout",
     "output_type": "stream",
     "text": [
      "True\n",
      "False\n"
     ]
    }
   ],
   "source": [
    "#FUNCIÓN IN -> True (SI ES QUE LA LLAVE PERTENECE AL DICCIONARIO)\n",
    "print(\"GATO\" in TRADUCTOR_ANIMALES)\n",
    "print(\"CABALLO\" in TRADUCTOR_ANIMALES)"
   ]
  },
  {
   "cell_type": "code",
   "execution_count": 62,
   "metadata": {},
   "outputs": [
    {
     "data": {
      "text/plain": [
       "dict_keys(['GATO', 'ZORRO', 'TORO', 'VACA'])"
      ]
     },
     "execution_count": 62,
     "metadata": {},
     "output_type": "execute_result"
    }
   ],
   "source": [
    "#FUNCIÓN KEYS -> DEVUELVE LAS LLAVES DEL DICCIONARIO\n",
    "TRADUCTOR_ANIMALES.keys()"
   ]
  },
  {
   "cell_type": "code",
   "execution_count": 63,
   "metadata": {},
   "outputs": [
    {
     "data": {
      "text/plain": [
       "dict_values(['CAT', 'FOX', 'BULL', 'COW'])"
      ]
     },
     "execution_count": 63,
     "metadata": {},
     "output_type": "execute_result"
    }
   ],
   "source": [
    "#FUNCIÓN VALUES -> DEVUELVE LOS VALORES DEL DICCIONARIO\n",
    "TRADUCTOR_ANIMALES.values()"
   ]
  },
  {
   "cell_type": "code",
   "execution_count": 64,
   "metadata": {},
   "outputs": [
    {
     "data": {
      "text/plain": [
       "dict_items([('GATO', 'CAT'), ('ZORRO', 'FOX'), ('TORO', 'BULL'), ('VACA', 'COW')])"
      ]
     },
     "execution_count": 64,
     "metadata": {},
     "output_type": "execute_result"
    }
   ],
   "source": [
    "#FUNCIÓN ITEMS -> DEVUELVE LAS LLAVES Y VALORES DEL DICCIONARIO\n",
    "TRADUCTOR_ANIMALES.items()"
   ]
  },
  {
   "cell_type": "code",
   "execution_count": 65,
   "metadata": {},
   "outputs": [
    {
     "name": "stdout",
     "output_type": "stream",
     "text": [
      "{'GATO': 'CAT', 'ZORRO': 'FOX', 'TORO': 'BULL', 'VACA': 'COW'}\n",
      "{'ZORRO': 'FOX', 'TORO': 'BULL', 'VACA': 'COW'}\n"
     ]
    }
   ],
   "source": [
    "#FUNCIÓN POP -> ELIMINA UN REGISTRO DEL DICCIONARIO\n",
    "print(TRADUCTOR_ANIMALES)\n",
    "TRADUCTOR_ANIMALES.pop(\"GATO\")\n",
    "print(TRADUCTOR_ANIMALES)"
   ]
  },
  {
   "cell_type": "code",
   "execution_count": 68,
   "metadata": {},
   "outputs": [
    {
     "name": "stdout",
     "output_type": "stream",
     "text": [
      "{'ZORRO': 'FOX', 'TORO': 'BULL', 'VACA': 'COW'}\n",
      "NO SE HA ENCONTRADO\n",
      "{'ZORRO': 'FOX', 'TORO': 'BULL', 'VACA': 'COW'}\n"
     ]
    }
   ],
   "source": [
    "#FUNCIÓN POP -> ELIMINA UN REGISTRO DEL DICCIONARIO\n",
    "print(TRADUCTOR_ANIMALES)\n",
    "print(TRADUCTOR_ANIMALES.pop(\"CABALLO\",\"NO SE HA ENCONTRADO\"))\n",
    "print(TRADUCTOR_ANIMALES)"
   ]
  },
  {
   "cell_type": "code",
   "execution_count": 69,
   "metadata": {},
   "outputs": [
    {
     "name": "stdout",
     "output_type": "stream",
     "text": [
      "{'ZORRO': 'FOX', 'TORO': 'BULL', 'VACA': 'COW'}\n",
      "{}\n"
     ]
    }
   ],
   "source": [
    "#FUNCIÓN CLEAR -> ELIMINA TODOS LOS REGISTROS DEL DICCIONARIO\n",
    "print(TRADUCTOR_ANIMALES)\n",
    "TRADUCTOR_ANIMALES.clear()\n",
    "print(TRADUCTOR_ANIMALES)"
   ]
  },
  {
   "cell_type": "code",
   "execution_count": 77,
   "metadata": {},
   "outputs": [
    {
     "name": "stdout",
     "output_type": "stream",
     "text": [
      "defaultdict(<class 'int'>, {'HOLA': 0, 'CHAU': 0})\n"
     ]
    }
   ],
   "source": [
    "#DICCIONARIOS QUE TIENEN VALOR POR DEFECTO\n",
    "from collections import defaultdict\n",
    "\n",
    "DICCIONARIO_PRUEBA = {}\n",
    "\n",
    "#SE DEBE DEFINIR QUE TIPO DE VALOR POR DEFECTO SE REQUIERE\n",
    "DICCIONARIO_PRUEBA = defaultdict(int)\n",
    "DICCIONARIO_PRUEBA[\"HOLA\"]\n",
    "DICCIONARIO_PRUEBA[\"CHAU\"]\n",
    "print(DICCIONARIO_PRUEBA)"
   ]
  },
  {
   "cell_type": "code",
   "execution_count": 78,
   "metadata": {},
   "outputs": [
    {
     "name": "stdout",
     "output_type": "stream",
     "text": [
      "defaultdict(<class 'str'>, {'HOLA': '', 'CHAU': ''})\n"
     ]
    }
   ],
   "source": [
    "#DICCIONARIOS QUE TIENEN VALOR POR DEFECTO\n",
    "from collections import defaultdict\n",
    "\n",
    "DICCIONARIO_PRUEBA = {}\n",
    "\n",
    "#SE DEBE DEFINIR QUE TIPO DE VALOR POR DEFECTO SE REQUIERE\n",
    "DICCIONARIO_PRUEBA = defaultdict(str)\n",
    "DICCIONARIO_PRUEBA[\"HOLA\"]\n",
    "DICCIONARIO_PRUEBA[\"CHAU\"]\n",
    "print(DICCIONARIO_PRUEBA)"
   ]
  },
  {
   "cell_type": "code",
   "execution_count": 79,
   "metadata": {},
   "outputs": [
    {
     "name": "stdout",
     "output_type": "stream",
     "text": [
      "defaultdict(<class 'float'>, {'HOLA': 0.0, 'CHAU': 0.0})\n"
     ]
    }
   ],
   "source": [
    "#DICCIONARIOS QUE TIENEN VALOR POR DEFECTO\n",
    "from collections import defaultdict\n",
    "\n",
    "DICCIONARIO_PRUEBA = {}\n",
    "\n",
    "#SE DEBE DEFINIR QUE TIPO DE VALOR POR DEFECTO SE REQUIERE\n",
    "DICCIONARIO_PRUEBA = defaultdict(float)\n",
    "DICCIONARIO_PRUEBA[\"HOLA\"]\n",
    "DICCIONARIO_PRUEBA[\"CHAU\"]\n",
    "print(DICCIONARIO_PRUEBA)"
   ]
  },
  {
   "cell_type": "code",
   "execution_count": 89,
   "metadata": {},
   "outputs": [
    {
     "name": "stdout",
     "output_type": "stream",
     "text": [
      "{1: 1, 3: 9, 5: 25, 2: 4}\n"
     ]
    }
   ],
   "source": [
    "#DICCIONARIO ORDENADO\n",
    "from collections import OrderedDict\n",
    "\n",
    "DICCIONARIO_PRUEBA = {}\n",
    "\n",
    "DICCIONARIO_PRUEBA[1] = 1\n",
    "DICCIONARIO_PRUEBA[3] = 9\n",
    "DICCIONARIO_PRUEBA[5] = 25\n",
    "DICCIONARIO_PRUEBA[2] = 4\n",
    "\n",
    "print(DICCIONARIO_PRUEBA)"
   ]
  },
  {
   "cell_type": "markdown",
   "metadata": {},
   "source": [
    "## PARTE 4.5: MÓDULO COLLECTIONS"
   ]
  },
  {
   "cell_type": "code",
   "execution_count": 90,
   "metadata": {},
   "outputs": [],
   "source": [
    "LISTA = [1, 1, 1, 1, 2, 2, 3, 5, 5, 5, 5, 5]\n",
    "PALABRA = \"PYTHON2021\"\n",
    "TEXTO = \"PYTHON PYTHON PYTHON PYTHON PYTHON 2021 2021 2021 CERTIFICACIÓN CERTIFICACIÓN\""
   ]
  },
  {
   "cell_type": "code",
   "execution_count": 92,
   "metadata": {},
   "outputs": [],
   "source": [
    "#PARA PROCESAR LAS COLECCIONES ANTERIOR, NECESITO IMPORTAR LO SIGUIENTE:\n",
    "from collections import Counter"
   ]
  },
  {
   "cell_type": "code",
   "execution_count": 93,
   "metadata": {},
   "outputs": [
    {
     "data": {
      "text/plain": [
       "Counter({1: 4, 2: 2, 3: 1, 5: 5})"
      ]
     },
     "execution_count": 93,
     "metadata": {},
     "output_type": "execute_result"
    }
   ],
   "source": [
    "#GENERA UN DICCIONARIO CON LA FRECUENCIA DE CADA ELEMENTO DE LA LISTA\n",
    "Counter(LISTA)"
   ]
  },
  {
   "cell_type": "code",
   "execution_count": 94,
   "metadata": {},
   "outputs": [
    {
     "data": {
      "text/plain": [
       "Counter({'P': 1,\n",
       "         'Y': 1,\n",
       "         'T': 1,\n",
       "         'H': 1,\n",
       "         'O': 1,\n",
       "         'N': 1,\n",
       "         '2': 2,\n",
       "         '0': 1,\n",
       "         '1': 1})"
      ]
     },
     "execution_count": 94,
     "metadata": {},
     "output_type": "execute_result"
    }
   ],
   "source": [
    "#GENERA UN DICCIONARIO CON LA FRECUENCIA DE CADA LETRA EN LA CADENA\n",
    "Counter(PALABRA)"
   ]
  },
  {
   "cell_type": "code",
   "execution_count": 96,
   "metadata": {},
   "outputs": [
    {
     "data": {
      "text/plain": [
       "Counter({'PYTHON': 5, '2021': 3, 'CERTIFICACIÓN': 2})"
      ]
     },
     "execution_count": 96,
     "metadata": {},
     "output_type": "execute_result"
    }
   ],
   "source": [
    "#GENERA UN DICCIONARIO CON LA FRECUENCIA DE CADA PALABRA EN EL TEXTO\n",
    "Counter(TEXTO.split())"
   ]
  },
  {
   "cell_type": "code",
   "execution_count": 102,
   "metadata": {},
   "outputs": [
    {
     "name": "stdout",
     "output_type": "stream",
     "text": [
      "[('PYTHON', 5)]\n",
      "[('PYTHON', 5), ('2021', 3)]\n",
      "[(5, 5)]\n"
     ]
    }
   ],
   "source": [
    "#OBTENIENDO LA PALABRA QUE MÁS SE REPITE\n",
    "print(Counter(TEXTO.split()).most_common(1))\n",
    "print(Counter(TEXTO.split()).most_common(2))\n",
    "print(Counter(LISTA).most_common(1))"
   ]
  },
  {
   "cell_type": "code",
   "execution_count": 106,
   "metadata": {},
   "outputs": [
    {
     "name": "stdout",
     "output_type": "stream",
     "text": [
      "dict_keys(['PYTHON', '2021', 'CERTIFICACIÓN'])\n",
      "dict_values([5, 3, 2])\n",
      "dict_items([('PYTHON', 5), ('2021', 3), ('CERTIFICACIÓN', 2)])\n"
     ]
    }
   ],
   "source": [
    "#VERIFICAR UTILIZAR DE COUNTER\n",
    "TEXTO = \"PYTHON PYTHON PYTHON PYTHON PYTHON 2021 2021 2021 CERTIFICACIÓN CERTIFICACIÓN\"\n",
    "DICCIONARIO = Counter(TEXTO.split())\n",
    "\n",
    "print(DICCIONARIO.keys())\n",
    "print(DICCIONARIO.values())\n",
    "print(DICCIONARIO.items())"
   ]
  },
  {
   "cell_type": "code",
   "execution_count": null,
   "metadata": {},
   "outputs": [],
   "source": []
  }
 ],
 "metadata": {
  "kernelspec": {
   "display_name": "Python 3",
   "language": "python",
   "name": "python3"
  },
  "language_info": {
   "codemirror_mode": {
    "name": "ipython",
    "version": 3
   },
   "file_extension": ".py",
   "mimetype": "text/x-python",
   "name": "python",
   "nbconvert_exporter": "python",
   "pygments_lexer": "ipython3",
   "version": "3.8.3"
  }
 },
 "nbformat": 4,
 "nbformat_minor": 4
}
