{
 "cells": [
  {
   "cell_type": "markdown",
   "metadata": {},
   "source": [
    "# PARTE 18: VISUALIZACIÓN DE INFORMACIÓN"
   ]
  },
  {
   "cell_type": "markdown",
   "metadata": {},
   "source": [
    "## PARTE 18.1: ANÁLISIS DEL DATASET"
   ]
  },
  {
   "cell_type": "markdown",
   "metadata": {},
   "source": [
    "#### DETALLE DE COLUMNAS"
   ]
  },
  {
   "cell_type": "code",
   "execution_count": null,
   "metadata": {},
   "outputs": [],
   "source": [
    "'State' --> Estados de USA\n",
    "'Account length' --> Longitud de la cuenta\n",
    "'Area code' --> Código de área\n",
    "'International plan' --> Si tiene plan internacional\n",
    "'Voice mail plan' --> Si tiene plan de correo de voz\n",
    "'Number vmail messages' --> Número de correo de voz\n",
    "'Total day minutes' --> Total de minutos correspondientes a llamadas durante el día (en el mes)\n",
    "'Total day calls' --> Total de llamadas durante el día (en el mes)\n",
    "'Total day charge' --> Cargo en dinero por las llamadas durante el día (en el mes)\n",
    "'Total eve minutes' --> Total de minutos correspondientes a llamadas durante la tarde (en el mes)\n",
    "'Total eve calls' --> Total de llamadas durante la tarde (en el mes) \n",
    "'Total eve charge' --> Cargo en dinero por las llamadas durante la tarde (en el mes)\n",
    "'Total night minutes' --> Total de minutos correspondientes a llamadas durante la noche (en el mes)\n",
    "'Total night calls' --> Total de llamadas durante la noche (en el mes)\n",
    "'Total night charge' --> Cargo en dinero por las llamadas durante la noche (en el mes)\n",
    "'Total intl minutes'--> Total de minutos correspondientes a llamadas internacionales (en el mes)\n",
    "'Total intl calls' --> Total de llamadas internacionales (en el mes)\n",
    "'Total intl charge' --> Cargo en dinero por las llamadas internacionales (en el mes)\n",
    "'Customer service calls' --> Número de llamadas de servicio al cliente\n",
    "'Churn' --> Indicador de abandono del cliente"
   ]
  },
  {
   "cell_type": "markdown",
   "metadata": {},
   "source": [
    "## PARTE 18.2: GRÁFICO TIPO \"PIE\""
   ]
  },
  {
   "cell_type": "markdown",
   "metadata": {},
   "source": [
    "## PARTE 18.3: GRÁFICO TIPO \"SCATTER PLOT\" SIMPLE"
   ]
  },
  {
   "cell_type": "markdown",
   "metadata": {},
   "source": [
    "## PARTE 18.4: GRÁFICO TIPO \"SCATTER PLOT\" EN MATRIZ"
   ]
  },
  {
   "cell_type": "markdown",
   "metadata": {},
   "source": [
    "## PARTE 18.5: GRÁFICO TIPO \"SCATTER PLOT (TODOS vs TODOS)\" "
   ]
  },
  {
   "cell_type": "markdown",
   "metadata": {},
   "source": [
    "## PARTE 18.6: GRÁFICO TIPO \"HISTOGRAMA\" "
   ]
  },
  {
   "cell_type": "markdown",
   "metadata": {},
   "source": [
    "## PARTE 18.7: GRÁFICO TIPO \"DIAGRAMA DE CAJA\" "
   ]
  },
  {
   "cell_type": "markdown",
   "metadata": {},
   "source": [
    "## PARTE 18.8: GRÁFICO TIPO LINEARPLOT"
   ]
  },
  {
   "cell_type": "markdown",
   "metadata": {},
   "source": [
    "## PARTE 18.9: GRÁFICO TIPO HEATMAP"
   ]
  },
  {
   "cell_type": "markdown",
   "metadata": {},
   "source": [
    "## PARTE 18.9: GRÁFICO EN UN PLANO CARTESIANO"
   ]
  },
  {
   "cell_type": "code",
   "execution_count": null,
   "metadata": {},
   "outputs": [],
   "source": []
  }
 ],
 "metadata": {
  "kernelspec": {
   "display_name": "Python 3",
   "language": "python",
   "name": "python3"
  },
  "language_info": {
   "codemirror_mode": {
    "name": "ipython",
    "version": 3
   },
   "file_extension": ".py",
   "mimetype": "text/x-python",
   "name": "python",
   "nbconvert_exporter": "python",
   "pygments_lexer": "ipython3",
   "version": "3.8.3"
  }
 },
 "nbformat": 4,
 "nbformat_minor": 4
}
