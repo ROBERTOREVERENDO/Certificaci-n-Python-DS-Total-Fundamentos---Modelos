{
 "cells": [
  {
   "cell_type": "markdown",
   "metadata": {},
   "source": [
    "# PARTE 7: GESTIÓN DE ERRORES"
   ]
  },
  {
   "cell_type": "markdown",
   "metadata": {},
   "source": [
    "## PARTE 7.1: BLOQUE TRY - EXCEPT - ELSE - FINALLY"
   ]
  },
  {
   "cell_type": "code",
   "execution_count": 5,
   "metadata": {},
   "outputs": [
    {
     "name": "stdout",
     "output_type": "stream",
     "text": [
      "0.5\n"
     ]
    }
   ],
   "source": [
    "#EN CASO FALLE LA EJECUCIÓN DEL BLOQUE TRY, SE EJECUTARÁ EL BLOQUE EXCEPT\n",
    "try:\n",
    "    VARIABLE = 1/2\n",
    "    print(VARIABLE)\n",
    "except:\n",
    "    print(\"El bloque TRY ha fallado\")"
   ]
  },
  {
   "cell_type": "code",
   "execution_count": 6,
   "metadata": {},
   "outputs": [
    {
     "name": "stdout",
     "output_type": "stream",
     "text": [
      "El bloque TRY ha fallado\n"
     ]
    }
   ],
   "source": [
    "try:\n",
    "    VARIABLE = 1/0\n",
    "    print(VARIABLE)\n",
    "except:\n",
    "    print(\"El bloque TRY ha fallado\")"
   ]
  },
  {
   "cell_type": "code",
   "execution_count": 10,
   "metadata": {},
   "outputs": [
    {
     "name": "stdout",
     "output_type": "stream",
     "text": [
      "Ingrese número: 0\n",
      "El bloque TRY ha fallado\n",
      "Ingrese número: 4\n",
      "0.25\n"
     ]
    }
   ],
   "source": [
    "while(True):\n",
    "    try:\n",
    "        VARIABLE = int(input(\"Ingrese número: \"))\n",
    "        print(1/VARIABLE)\n",
    "        break\n",
    "    except:\n",
    "        print(\"El bloque TRY ha fallado\")"
   ]
  },
  {
   "cell_type": "code",
   "execution_count": 16,
   "metadata": {},
   "outputs": [
    {
     "name": "stdout",
     "output_type": "stream",
     "text": [
      "Ingrese número: 0\n",
      "El bloque TRY ha fallado\n",
      "Ingrese número: 0\n",
      "El bloque TRY ha fallado\n",
      "Ingrese número: 0\n",
      "El bloque TRY ha fallado\n",
      "Ingrese número: 4\n",
      "0.25\n"
     ]
    }
   ],
   "source": [
    "#EN CASO FALLE LA EJECUCIÓN DEL BLOQUE TRY, SE EJECUTARÁ EL BLOQUE EXCEPT\n",
    "#CUANDO LA EJECUCIÓN CULMINE CORRECTAMENTE SE EJECUTARÁ EL BLOQUE ELSE\n",
    "while(True):\n",
    "    try:\n",
    "        VARIABLE = int(input(\"Ingrese número: \"))\n",
    "        print(1/VARIABLE)\n",
    "    except:\n",
    "        print(\"El bloque TRY ha fallado\")\n",
    "    else:\n",
    "        print(\"Todos los comandos han sido correctamente ejecutados\")\n",
    "        break"
   ]
  },
  {
   "cell_type": "code",
   "execution_count": 17,
   "metadata": {},
   "outputs": [
    {
     "name": "stdout",
     "output_type": "stream",
     "text": [
      "Ingrese número: 0\n",
      "El bloque TRY ha fallado\n",
      "Fin de ejecución\n",
      "Ingrese número: 0\n",
      "El bloque TRY ha fallado\n",
      "Fin de ejecución\n",
      "Ingrese número: 4\n",
      "0.25\n",
      "Todos los comandos han sido correctamente ejecutados\n",
      "Fin de ejecución\n"
     ]
    }
   ],
   "source": [
    "#EN CASO FALLE LA EJECUCIÓN DEL BLOQUE TRY, SE EJECUTARÁ EL BLOQUE EXCEPT\n",
    "#CUANDO LA EJECUCIÓN CULMINE CORRECTAMENTE SE EJECUTARÁ EL BLOQUE ELSE\n",
    "#SEA COMO SEA QUE TERMINE LA EJECUCIÓN SE EJECUTARÁ EL BLOQUE FINALLY\n",
    "while(True):\n",
    "    try:\n",
    "        VARIABLE = int(input(\"Ingrese número: \"))\n",
    "        print(1/VARIABLE)\n",
    "    except:\n",
    "        print(\"El bloque TRY ha fallado\")\n",
    "    else:\n",
    "        print(\"Todos los comandos han sido correctamente ejecutados\")\n",
    "        break\n",
    "    finally:\n",
    "        print(\"Fin de ejecución\")"
   ]
  },
  {
   "cell_type": "markdown",
   "metadata": {},
   "source": [
    "## PARTE 7.2: EXCEPCIONES MÚLTIPLES"
   ]
  },
  {
   "cell_type": "code",
   "execution_count": 32,
   "metadata": {},
   "outputs": [
    {
     "name": "stdout",
     "output_type": "stream",
     "text": [
      "Ingrese número: 0\n",
      "ZeroDivisionError\n",
      "Ingrese número: XY\n",
      "ValueError\n",
      "Ingrese número: 5\n",
      "0.2\n"
     ]
    }
   ],
   "source": [
    "while(True):\n",
    "    try:\n",
    "        VARIABLE = int(input(\"Ingrese número: \"))\n",
    "        print(1/VARIABLE)\n",
    "        break\n",
    "    except Exception as Error:\n",
    "        print(type(Error).__name__)"
   ]
  },
  {
   "cell_type": "code",
   "execution_count": null,
   "metadata": {},
   "outputs": [
    {
     "name": "stdout",
     "output_type": "stream",
     "text": [
      "Ingrese número: 10\n",
      "TypeError\n"
     ]
    }
   ],
   "source": [
    "while(True):\n",
    "    try:\n",
    "        VARIABLE = input(\"Ingrese número: \")\n",
    "        print(1/VARIABLE)\n",
    "        break\n",
    "    except Exception as Error:\n",
    "        print(type(Error).__name__)"
   ]
  },
  {
   "cell_type": "code",
   "execution_count": 37,
   "metadata": {},
   "outputs": [
    {
     "name": "stdout",
     "output_type": "stream",
     "text": [
      "Ingrese número: 0\n",
      "Has incurrido en un error de división entre 0\n",
      "Ingrese número: XYZ\n",
      "Has incurrido en un error de valor\n",
      "Ingrese número: 4\n",
      "0.25\n"
     ]
    }
   ],
   "source": [
    "while(True):\n",
    "    try:\n",
    "        VARIABLE = int(input(\"Ingrese número: \"))\n",
    "        print(1/VARIABLE)\n",
    "        break\n",
    "    except ValueError:\n",
    "        print(\"Has incurrido en un error de valor\")\n",
    "    except ZeroDivisionError:\n",
    "        print(\"Has incurrido en un error de división entre 0\")\n",
    "    except TypeError:\n",
    "        print(\"Has incurrido en un error de tipo\")\n",
    "    except Exception as Error:\n",
    "        print(type(Error).__name__)"
   ]
  },
  {
   "cell_type": "markdown",
   "metadata": {},
   "source": [
    "## PARTE 7.3: FUNCIÓN RAISE"
   ]
  },
  {
   "cell_type": "code",
   "execution_count": null,
   "metadata": {},
   "outputs": [],
   "source": [
    "#FUNCIÓN RAISE -> PERMITE GENERAR UN ERROR, INCLUSO CUANDO NO SEA LÓGICO, O SE HAYA GENERADO AUTOMÁTICAMENTE\n",
    "\n",
    "while(True):\n",
    "    try:\n",
    "        VARIABLE = int(input(\"Ingrese número: \"))\n",
    "        if VARIABLE == 1:\n",
    "            raise ValueError\n",
    "        elif VARIABLE == 2:\n",
    "            raise ZeroDivisionError\n",
    "        else:\n",
    "            raise TypeError\n",
    "    except ValueError:\n",
    "        print(\"Has incurrido en un error de valor\")\n",
    "    except ZeroDivisionError:\n",
    "        print(\"Has incurrido en un error de división entre 0\")\n",
    "    except TypeError:\n",
    "        print(\"Has incurrido en un error de tipo\")\n",
    "    except Exception as Error:\n",
    "        print(type(Error).__name__)"
   ]
  },
  {
   "cell_type": "code",
   "execution_count": null,
   "metadata": {},
   "outputs": [],
   "source": []
  }
 ],
 "metadata": {
  "kernelspec": {
   "display_name": "Python 3",
   "language": "python",
   "name": "python3"
  },
  "language_info": {
   "codemirror_mode": {
    "name": "ipython",
    "version": 3
   },
   "file_extension": ".py",
   "mimetype": "text/x-python",
   "name": "python",
   "nbconvert_exporter": "python",
   "pygments_lexer": "ipython3",
   "version": "3.8.3"
  }
 },
 "nbformat": 4,
 "nbformat_minor": 4
}
