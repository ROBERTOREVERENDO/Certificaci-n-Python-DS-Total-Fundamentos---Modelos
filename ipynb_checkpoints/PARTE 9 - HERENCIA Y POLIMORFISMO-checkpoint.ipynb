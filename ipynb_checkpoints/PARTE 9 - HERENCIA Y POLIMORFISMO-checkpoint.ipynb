{
 "cells": [
  {
   "cell_type": "markdown",
   "metadata": {},
   "source": [
    "# PARTE 9: HERENCIA Y POLIMORFISMO"
   ]
  },
  {
   "cell_type": "markdown",
   "metadata": {},
   "source": [
    "## PARTE 9.1: SUBCLASES"
   ]
  },
  {
   "cell_type": "code",
   "execution_count": 13,
   "metadata": {},
   "outputs": [],
   "source": [
    "class PERSONA:\n",
    "    def __init__(self, NOMBRE, APELLIDO, EDAD):\n",
    "        self.NOMBRE = NOMBRE\n",
    "        self.APELLIDO = APELLIDO\n",
    "        self.EDAD = EDAD\n",
    "        \n",
    "    def __str__(self):\n",
    "        return \"{},{} -> {}años\".format(self.APELLIDO,self.NOMBRE,self.EDAD)\n",
    "        \n",
    "class ESTUDIANTE(PERSONA):\n",
    "    def __init__(self, NOMBRE, APELLIDO, EDAD, NOMBRECOLEGIO, PUESTO):\n",
    "        PERSONA.__init__(self, NOMBRE, APELLIDO, EDAD)\n",
    "        self.NOMBRECOLEGIO = NOMBRECOLEGIO\n",
    "        self.PUESTO = PUESTO\n",
    "        \n",
    "    def __str__ (self):\n",
    "        return \"{},{} -> {}años -> estudia en {} y está en el puesto {}\".format(self.APELLIDO,self.NOMBRE,self.EDAD,self.NOMBRECOLEGIO,self.PUESTO)\n",
    "\n",
    "class UNIVERSITARIO(PERSONA):\n",
    "    def __init__(self, NOMBRE, APELLIDO, EDAD, UNIVERSIDAD, CICLO, PUESTO):\n",
    "        PERSONA.__init__(self, NOMBRE, APELLIDO, EDAD)\n",
    "        self.UNIVERSIDAD = UNIVERSIDAD\n",
    "        self.CICLO = CICLO\n",
    "        self.PUESTO = PUESTO\n",
    "        \n",
    "    def __str__ (self):\n",
    "        return \"{},{} -> {}años -> estudia en {}-{}ciclo y está en el puesto {}\".format(self.APELLIDO,self.NOMBRE,self.EDAD,self.UNIVERSIDAD,self.CICLO,self.PUESTO)"
   ]
  },
  {
   "cell_type": "code",
   "execution_count": 6,
   "metadata": {},
   "outputs": [
    {
     "name": "stdout",
     "output_type": "stream",
     "text": [
      "ESTRADA,JOAQUIN -> 35años\n"
     ]
    }
   ],
   "source": [
    "P1 = PERSONA(\"JOAQUIN\",\"ESTRADA\",35)\n",
    "print(P1)"
   ]
  },
  {
   "cell_type": "code",
   "execution_count": 10,
   "metadata": {},
   "outputs": [
    {
     "name": "stdout",
     "output_type": "stream",
     "text": [
      "ESTRADA,JOAQUIN -> 35años -> estudia en PITÁGORAS y está en el puesto 3\n"
     ]
    }
   ],
   "source": [
    "E1 = ESTUDIANTE(\"JOAQUIN\",\"ESTRADA\",35,\"PITÁGORAS\",3)\n",
    "print(E1)"
   ]
  },
  {
   "cell_type": "code",
   "execution_count": 15,
   "metadata": {},
   "outputs": [
    {
     "name": "stdout",
     "output_type": "stream",
     "text": [
      "ESTRADA,JOAQUIN -> 35años -> estudia en UNI-8ciclo y está en el puesto 2\n"
     ]
    }
   ],
   "source": [
    "U1 = UNIVERSITARIO(\"JOAQUIN\",\"ESTRADA\",35,\"UNI\",8,2)\n",
    "print(U1)"
   ]
  },
  {
   "cell_type": "markdown",
   "metadata": {},
   "source": [
    "## PARTE 9.2: HERENCIA"
   ]
  },
  {
   "cell_type": "code",
   "execution_count": 103,
   "metadata": {},
   "outputs": [],
   "source": [
    "class PERSONA:\n",
    "    def __init__(self, NOMBRE, APELLIDO, EDAD):\n",
    "        self.NOMBRE = NOMBRE\n",
    "        self.APELLIDO = APELLIDO\n",
    "        self.EDAD = EDAD\n",
    "        \n",
    "    def SALTAR(self):\n",
    "        print(\"Estoy saltando\")\n",
    "        \n",
    "    def __str__(self):\n",
    "        return \"{},{} -> {}años\".format(self.APELLIDO,self.NOMBRE,self.EDAD)\n",
    "        \n",
    "class COLEGIO:\n",
    "    def __init__(self, NOMBRECOLEGIO, ANIOS=None):\n",
    "        self.NOMBRECOLEGIO = NOMBRECOLEGIO\n",
    "        self.ANIOS = ANIOS\n",
    "        \n",
    "    def PINTAR(self):\n",
    "        print(\"Estoy pintando\")\n",
    "        \n",
    "    def __str__(self):\n",
    "        return \"{} -> {}años de creación\".format(self.NOMBRECOLEGIO,self.ANIOS)\n",
    "    \n",
    "class ESTUDIANTE(PERSONA,COLEGIO):\n",
    "    def __init__(self,NOMBRE, APELLIDO, EDAD, NOMBRECOLEGIO, PUESTO):\n",
    "        PERSONA.__init__(self,NOMBRE, APELLIDO, EDAD)\n",
    "        COLEGIO.__init__(self,NOMBRECOLEGIO)\n",
    "        self.PUESTO = PUESTO\n",
    "     \n",
    "    def __str__(self):\n",
    "         return \"{},{} -> {}años -> estudia en {}-puesto:{}\".format(self.APELLIDO,self.NOMBRE,self.EDAD,self.NOMBRECOLEGIO, self.PUESTO)\n",
    "    "
   ]
  },
  {
   "cell_type": "code",
   "execution_count": 99,
   "metadata": {},
   "outputs": [
    {
     "name": "stdout",
     "output_type": "stream",
     "text": [
      "MENDOZA,JUAN -> 25años\n"
     ]
    }
   ],
   "source": [
    "P1 = PERSONA(\"JUAN\",\"MENDOZA\",25)\n",
    "print(P1)"
   ]
  },
  {
   "cell_type": "code",
   "execution_count": 98,
   "metadata": {},
   "outputs": [
    {
     "name": "stdout",
     "output_type": "stream",
     "text": [
      "ALMENARA -> 50años de creación\n"
     ]
    }
   ],
   "source": [
    "C1 = COLEGIO(\"ALMENARA\",50)\n",
    "print(C1)"
   ]
  },
  {
   "cell_type": "code",
   "execution_count": 100,
   "metadata": {},
   "outputs": [
    {
     "name": "stdout",
     "output_type": "stream",
     "text": [
      "MENDOZA,JUAN -> 25años -> estudia en ALMENARA-puesto:1\n"
     ]
    }
   ],
   "source": [
    "E1 = ESTUDIANTE(\"JUAN\",\"MENDOZA\",25, \"ALMENARA\", 1)\n",
    "print(E1)"
   ]
  },
  {
   "cell_type": "code",
   "execution_count": 77,
   "metadata": {},
   "outputs": [
    {
     "name": "stdout",
     "output_type": "stream",
     "text": [
      "MENDOZA,JUAN -> 25años -> estudia en NEWTON-puesto:10\n"
     ]
    }
   ],
   "source": [
    "E2 = ESTUDIANTE(P1.NOMBRE,P1.APELLIDO,P1.EDAD, \"NEWTON\", 10)\n",
    "print(E2)"
   ]
  },
  {
   "cell_type": "code",
   "execution_count": 86,
   "metadata": {},
   "outputs": [
    {
     "name": "stdout",
     "output_type": "stream",
     "text": [
      "Estoy saltando\n"
     ]
    }
   ],
   "source": [
    "P1.SALTAR()"
   ]
  },
  {
   "cell_type": "code",
   "execution_count": 92,
   "metadata": {},
   "outputs": [
    {
     "name": "stdout",
     "output_type": "stream",
     "text": [
      "Estoy saltando\n"
     ]
    }
   ],
   "source": [
    "E1.SALTAR()"
   ]
  },
  {
   "cell_type": "code",
   "execution_count": 101,
   "metadata": {},
   "outputs": [
    {
     "name": "stdout",
     "output_type": "stream",
     "text": [
      "Estoy pintando\n"
     ]
    }
   ],
   "source": [
    "C1.PINTAR()"
   ]
  },
  {
   "cell_type": "code",
   "execution_count": 102,
   "metadata": {},
   "outputs": [
    {
     "name": "stdout",
     "output_type": "stream",
     "text": [
      "Estoy pintando\n"
     ]
    }
   ],
   "source": [
    "E1.PINTAR()"
   ]
  },
  {
   "cell_type": "markdown",
   "metadata": {},
   "source": [
    "## PARTE 9.3: POLIMORFISMO"
   ]
  },
  {
   "cell_type": "code",
   "execution_count": 111,
   "metadata": {},
   "outputs": [],
   "source": [
    "class CLASE1:\n",
    "    def __init__(self, NOMBRE, ALTO, PESO):\n",
    "        self.NOMBRE = NOMBRE\n",
    "        self.ALTO = ALTO\n",
    "        self.PESO = PESO\n",
    "        \n",
    "    def SALUDAR(self):\n",
    "        print(\"Hola que tal? Te saluda\",self.NOMBRE)\n",
    "        \n",
    "    def AUMENTAR(self, AUMENTO):\n",
    "        self.ALTO = self.ALTO + AUMENTO/100\n",
    "        \n",
    "    def __str__(self):\n",
    "        return \"{}-{}-{}\".format(self.NOMBRE,self.ALTO,self.PESO)\n",
    "\n",
    "class CLASE2:\n",
    "    def __init__(self, NOMBRE, ALTO, PESO):\n",
    "        self.NOMBRE = NOMBRE\n",
    "        self.ALTO = ALTO\n",
    "        self.PESO = PESO\n",
    "        \n",
    "    def SALUDAR(self):\n",
    "        print(\"Hola soy\",self.NOMBRE)\n",
    "        \n",
    "    def AUMENTAR(self, AUMENTO):\n",
    "        self.PESO = self.PESO + AUMENTO\n",
    "        \n",
    "    def __str__(self):\n",
    "        return \"{}-{}-{}\".format(self.NOMBRE,self.ALTO,self.PESO)"
   ]
  },
  {
   "cell_type": "code",
   "execution_count": 112,
   "metadata": {},
   "outputs": [],
   "source": [
    "C1 = CLASE1(\"RODRIGO\",1.70,80)\n",
    "C2 = CLASE2(\"HUMBERTO\",1.60,100)"
   ]
  },
  {
   "cell_type": "code",
   "execution_count": 113,
   "metadata": {},
   "outputs": [
    {
     "name": "stdout",
     "output_type": "stream",
     "text": [
      "Hola que tal? Te saluda RODRIGO\n",
      "Hola soy HUMBERTO\n"
     ]
    }
   ],
   "source": [
    "C1.SALUDAR()\n",
    "C2.SALUDAR()"
   ]
  },
  {
   "cell_type": "code",
   "execution_count": 114,
   "metadata": {},
   "outputs": [
    {
     "name": "stdout",
     "output_type": "stream",
     "text": [
      "RODRIGO-1.7-80\n",
      "HUMBERTO-1.6-100\n"
     ]
    }
   ],
   "source": [
    "print(C1)\n",
    "print(C2)"
   ]
  },
  {
   "cell_type": "code",
   "execution_count": 115,
   "metadata": {},
   "outputs": [],
   "source": [
    "C1.AUMENTAR(1)\n",
    "C2.AUMENTAR(1)"
   ]
  },
  {
   "cell_type": "code",
   "execution_count": 116,
   "metadata": {},
   "outputs": [
    {
     "name": "stdout",
     "output_type": "stream",
     "text": [
      "RODRIGO-1.71-80\n",
      "HUMBERTO-1.6-101\n"
     ]
    }
   ],
   "source": [
    "print(C1)\n",
    "print(C2)"
   ]
  },
  {
   "cell_type": "code",
   "execution_count": null,
   "metadata": {},
   "outputs": [],
   "source": []
  }
 ],
 "metadata": {
  "kernelspec": {
   "display_name": "Python 3",
   "language": "python",
   "name": "python3"
  },
  "language_info": {
   "codemirror_mode": {
    "name": "ipython",
    "version": 3
   },
   "file_extension": ".py",
   "mimetype": "text/x-python",
   "name": "python",
   "nbconvert_exporter": "python",
   "pygments_lexer": "ipython3",
   "version": "3.8.3"
  }
 },
 "nbformat": 4,
 "nbformat_minor": 4
}
