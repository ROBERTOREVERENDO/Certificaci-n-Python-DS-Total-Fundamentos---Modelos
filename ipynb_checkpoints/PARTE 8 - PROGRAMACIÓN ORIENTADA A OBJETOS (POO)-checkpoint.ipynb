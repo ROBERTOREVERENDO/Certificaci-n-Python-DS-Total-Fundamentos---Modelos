{
 "cells": [
  {
   "cell_type": "markdown",
   "metadata": {},
   "source": [
    "# PARTE 8: PROGRAMACIÓN ORIENTADA A OBJETOS"
   ]
  },
  {
   "cell_type": "markdown",
   "metadata": {},
   "source": [
    "## PARTE 8.1: EJEMPLO DE PROGRAMACIÓN ESTRUCTURADA"
   ]
  },
  {
   "cell_type": "code",
   "execution_count": 2,
   "metadata": {},
   "outputs": [],
   "source": [
    "PERSONAS = [\n",
    "{'NOMBRE':'BENJAMIN' , 'APELLIDO':'NEIRA' , 'PESO':'95' , 'EC':'S'},\n",
    "{'NOMBRE':'JOSE' , 'APELLIDO':'MENDOZA' , 'PESO':'90' , 'EC':'S'},\n",
    "{'NOMBRE':'JUAN' , 'APELLIDO':'IBARRA' , 'PESO':'70' , 'EC':'S'},\n",
    "{'NOMBRE':'RICARDO' , 'APELLIDO':'MORALES' , 'PESO':'82' , 'EC':'C'}\n",
    "]"
   ]
  },
  {
   "cell_type": "code",
   "execution_count": 7,
   "metadata": {},
   "outputs": [
    {
     "name": "stdout",
     "output_type": "stream",
     "text": [
      "BENJAMIN - NEIRA\n",
      "JOSE - MENDOZA\n",
      "JUAN - IBARRA\n",
      "RICARDO - MORALES\n"
     ]
    }
   ],
   "source": [
    "#LISTAR TODAS LA PERSONAS:\n",
    "def LISTAR(LISTA):\n",
    "    for P in LISTA:\n",
    "        print(P['NOMBRE'],\"-\",P['APELLIDO'])\n",
    "        \n",
    "LISTAR(PERSONAS)"
   ]
  },
  {
   "cell_type": "code",
   "execution_count": 11,
   "metadata": {},
   "outputs": [
    {
     "name": "stdout",
     "output_type": "stream",
     "text": [
      "BENJAMIN - NEIRA\n"
     ]
    }
   ],
   "source": [
    "#ENCONTRAR PERSONA:\n",
    "def ENCONTRAR(NOMBRE):\n",
    "    for P in PERSONAS:\n",
    "        if P['NOMBRE']==NOMBRE:\n",
    "            print(P['NOMBRE'],\"-\",P['APELLIDO'])\n",
    "\n",
    "ENCONTRAR(\"BENJAMIN\")"
   ]
  },
  {
   "cell_type": "code",
   "execution_count": 14,
   "metadata": {},
   "outputs": [],
   "source": [
    "#ELIMINAR PERSONA:\n",
    "def ELIMINAR(NOMBRE):\n",
    "    for I,P in enumerate(PERSONAS):\n",
    "        if P['NOMBRE']==NOMBRE:\n",
    "            PERSONAS.pop(I)\n",
    "            \n",
    "ELIMINAR(\"BENJAMIN\")"
   ]
  },
  {
   "cell_type": "code",
   "execution_count": 15,
   "metadata": {},
   "outputs": [
    {
     "name": "stdout",
     "output_type": "stream",
     "text": [
      "JOSE - MENDOZA\n",
      "JUAN - IBARRA\n",
      "RICARDO - MORALES\n"
     ]
    }
   ],
   "source": [
    "LISTAR(PERSONAS)"
   ]
  },
  {
   "cell_type": "markdown",
   "metadata": {},
   "source": [
    "## PARTE 8.2: EJEMPLO DE PROGRAMACIÓN ORIENTADA A OBJETOS"
   ]
  },
  {
   "cell_type": "code",
   "execution_count": 39,
   "metadata": {},
   "outputs": [],
   "source": [
    "class PERSONA:\n",
    "    def __init__(self,NOMBRE,APELLIDO,PESO,EC):\n",
    "        self.NOMBRE = NOMBRE\n",
    "        self.APELLIDO = APELLIDO\n",
    "        self.PESO = PESO\n",
    "        self.EC = EC\n",
    "        \n",
    "    def __str__(self):\n",
    "        return (\"{}-{} -- {}-{}\".format(self.NOMBRE,self.APELLIDO,self.PESO,self.EC))"
   ]
  },
  {
   "cell_type": "code",
   "execution_count": 40,
   "metadata": {},
   "outputs": [],
   "source": [
    "P1 = PERSONA ('BENJAMIN','NEIRA','95','S')\n",
    "P2 = PERSONA ('JOSE','MENDOZA','90','S')\n",
    "P3 = PERSONA ('JUAN','IBARRA','70','S')\n",
    "P4 = PERSONA ('RICARDO','MORALES','82','C')"
   ]
  },
  {
   "cell_type": "code",
   "execution_count": 49,
   "metadata": {},
   "outputs": [
    {
     "name": "stdout",
     "output_type": "stream",
     "text": [
      "BENJAMIN-NEIRA -- 95-S\n",
      "JOSE-MENDOZA -- 90-S\n",
      "JUAN-IBARRA -- 70-S\n",
      "RICARDO-MORALES -- 82-C\n"
     ]
    }
   ],
   "source": [
    "print(P1)\n",
    "print(P2)\n",
    "print(P3)\n",
    "print(P4)"
   ]
  },
  {
   "cell_type": "code",
   "execution_count": 64,
   "metadata": {},
   "outputs": [],
   "source": [
    "class AMIGOS:\n",
    "    def __init__(self,PERSONA=[]):\n",
    "        self.PERSONA = PERSONA\n",
    "        \n",
    "    #LISTAR TODAS LA PERSONAS:\n",
    "    def LISTAR(self):\n",
    "        for P in self.PERSONA:\n",
    "            print(P)\n",
    "    \n",
    "    #ENCONTRAR PERSONA:\n",
    "    def ENCONTRAR(self, NOMBRE):\n",
    "        for P in self.PERSONA:\n",
    "            if P.NOMBRE == NOMBRE:\n",
    "                print(P)\n",
    "                return\n",
    "        print(\"No está la persona\")\n",
    "    \n",
    "    #ELIMINAR PERSONA:\n",
    "    def ELIMINAR(self, NOMBRE):\n",
    "        for I,P in enumerate(self.PERSONA):\n",
    "            if P.NOMBRE == NOMBRE:\n",
    "                del(self.PERSONA[I])\n",
    "                return\n",
    "        print(\"No está la persona\")\n",
    "    \n",
    "A1 = AMIGOS(PERSONA=[P1,P2,P3,P4])"
   ]
  },
  {
   "cell_type": "code",
   "execution_count": 54,
   "metadata": {},
   "outputs": [
    {
     "name": "stdout",
     "output_type": "stream",
     "text": [
      "BENJAMIN-NEIRA -- 95-S\n",
      "JOSE-MENDOZA -- 90-S\n",
      "JUAN-IBARRA -- 70-S\n",
      "RICARDO-MORALES -- 82-C\n"
     ]
    }
   ],
   "source": [
    "#LISTAR TODAS LA PERSONAS:\n",
    "A1.LISTAR()"
   ]
  },
  {
   "cell_type": "code",
   "execution_count": 60,
   "metadata": {},
   "outputs": [
    {
     "name": "stdout",
     "output_type": "stream",
     "text": [
      "JUAN-IBARRA -- 70-S\n",
      "No está la persona\n"
     ]
    }
   ],
   "source": [
    "#ENCONTRAR PERSONA:\n",
    "A1.ENCONTRAR('JUAN')\n",
    "A1.ENCONTRAR('MANUEL')"
   ]
  },
  {
   "cell_type": "code",
   "execution_count": 65,
   "metadata": {},
   "outputs": [
    {
     "name": "stdout",
     "output_type": "stream",
     "text": [
      "No está la persona\n"
     ]
    }
   ],
   "source": [
    "#ELIMINAR PERSONA:\n",
    "A1.ELIMINAR('MANUEL')\n",
    "A1.ELIMINAR('JUAN')"
   ]
  },
  {
   "cell_type": "code",
   "execution_count": 66,
   "metadata": {},
   "outputs": [
    {
     "name": "stdout",
     "output_type": "stream",
     "text": [
      "BENJAMIN-NEIRA -- 95-S\n",
      "JOSE-MENDOZA -- 90-S\n",
      "RICARDO-MORALES -- 82-C\n"
     ]
    }
   ],
   "source": [
    "#LISTAR TODAS LA PERSONAS:\n",
    "A1.LISTAR()"
   ]
  },
  {
   "cell_type": "markdown",
   "metadata": {},
   "source": [
    "## PARTE 8.3: ATRIBUTOS Y MÉTODOS"
   ]
  },
  {
   "cell_type": "code",
   "execution_count": 67,
   "metadata": {},
   "outputs": [],
   "source": [
    "#ATRIBUTOS -> VARIABLES INTERNAS EN LA CLASE\n",
    "#MÉTODOS -> FUNCIONES INTERNAS EN LA CLASE"
   ]
  },
  {
   "cell_type": "code",
   "execution_count": 68,
   "metadata": {},
   "outputs": [
    {
     "name": "stdout",
     "output_type": "stream",
     "text": [
      "Acabas de crear una clase\n"
     ]
    }
   ],
   "source": [
    "#MÉTODO INIT -> ES EL CONSTRUCTOR Y SE EJECUTA CUANDO SE CREA LA CLASE\n",
    "class PERSONA:\n",
    "    def __init__(self,NOMBRE,APELLIDO,PESO,EC):\n",
    "        self.NOMBRE = NOMBRE\n",
    "        self.APELLIDO = APELLIDO\n",
    "        self.PESO = PESO\n",
    "        self.EC = EC\n",
    "        print(\"Acabas de crear una clase\")\n",
    "        \n",
    "P1 = PERSONA ('BENJAMIN','NEIRA','95','S')"
   ]
  },
  {
   "cell_type": "code",
   "execution_count": 73,
   "metadata": {},
   "outputs": [
    {
     "name": "stdout",
     "output_type": "stream",
     "text": [
      "Acabas de crear una clase\n",
      "BENJAMIN NEIRA tiene 95kg y es 'S'\n"
     ]
    }
   ],
   "source": [
    "#MÉTODO STR -> FORMA DE MOSTRAR EL OBJETO CREADO\n",
    "class PERSONA:\n",
    "    def __init__(self,NOMBRE,APELLIDO,PESO,EC):\n",
    "        self.NOMBRE = NOMBRE\n",
    "        self.APELLIDO = APELLIDO\n",
    "        self.PESO = PESO\n",
    "        self.EC = EC\n",
    "        print(\"Acabas de crear una clase\")\n",
    "        \n",
    "    def __str__(self):\n",
    "        return (\"{} {} tiene {}kg y es '{}'\".format(self.NOMBRE,self.APELLIDO,self.PESO,self.EC))\n",
    "    \n",
    "P1 = PERSONA ('BENJAMIN','NEIRA','95','S')\n",
    "print(P1)"
   ]
  },
  {
   "cell_type": "code",
   "execution_count": 74,
   "metadata": {},
   "outputs": [
    {
     "name": "stdout",
     "output_type": "stream",
     "text": [
      "Acabas de crear una clase\n",
      "BENJAMIN MALDONADO tiene 95kg y es 'S'\n"
     ]
    }
   ],
   "source": [
    "#MÉTODO QUE CAMBIE INFORMACIÓN DEL OBJETO \n",
    "class PERSONA:\n",
    "    def __init__(self,NOMBRE,APELLIDO,PESO,EC):\n",
    "        self.NOMBRE = NOMBRE\n",
    "        self.APELLIDO = APELLIDO\n",
    "        self.PESO = PESO\n",
    "        self.EC = EC\n",
    "        print(\"Acabas de crear una clase\")\n",
    "        \n",
    "    def __str__(self):\n",
    "        return (\"{} {} tiene {}kg y es '{}'\".format(self.NOMBRE,self.APELLIDO,self.PESO,self.EC))\n",
    "    \n",
    "    def CAMBIAR_APELLIDO(self,APELLIDO):\n",
    "        self.APELLIDO = APELLIDO\n",
    "        \n",
    "P1 = PERSONA ('BENJAMIN','NEIRA','95','S')\n",
    "P1.CAMBIAR_APELLIDO('MALDONADO')\n",
    "print(P1)"
   ]
  },
  {
   "cell_type": "code",
   "execution_count": 75,
   "metadata": {},
   "outputs": [],
   "source": [
    "#MÉTODO CON ATRIBUTOS NONE\n",
    "class PERSONA:\n",
    "    def __init__(self,NOMBRE,APELLIDO,PESO,EC):\n",
    "        self.NOMBRE = NOMBRE\n",
    "        self.APELLIDO = APELLIDO\n",
    "        self.PESO = PESO\n",
    "        self.EC = EC\n",
    "        print(\"Acabas de crear una clase\")\n",
    "        \n",
    "    def __str__(self):\n",
    "        return (\"{} {} tiene {}kg y es '{}'\".format(self.NOMBRE,self.APELLIDO,self.PESO,self.EC))\n",
    "    \n",
    "    def CAMBIAR_APELLIDO(self,APELLIDO=None):\n",
    "        if APELLIDO is None:\n",
    "            self.APELLIDO = 'XYZ'\n",
    "        else:\n",
    "            self.APELLIDO = APELLIDO"
   ]
  },
  {
   "cell_type": "code",
   "execution_count": 76,
   "metadata": {},
   "outputs": [
    {
     "name": "stdout",
     "output_type": "stream",
     "text": [
      "Acabas de crear una clase\n",
      "BENJAMIN MALDONADO tiene 95kg y es 'S'\n"
     ]
    }
   ],
   "source": [
    "P1 = PERSONA ('BENJAMIN','NEIRA','95','S')\n",
    "P1.CAMBIAR_APELLIDO('MALDONADO')\n",
    "print(P1)"
   ]
  },
  {
   "cell_type": "code",
   "execution_count": 77,
   "metadata": {},
   "outputs": [
    {
     "name": "stdout",
     "output_type": "stream",
     "text": [
      "Acabas de crear una clase\n",
      "BENJAMIN XYZ tiene 95kg y es 'S'\n"
     ]
    }
   ],
   "source": [
    "P1 = PERSONA ('BENJAMIN','NEIRA','95','S')\n",
    "P1.CAMBIAR_APELLIDO()\n",
    "print(P1)"
   ]
  },
  {
   "cell_type": "code",
   "execution_count": 78,
   "metadata": {},
   "outputs": [],
   "source": [
    "#MÉTODO CONSTRUCTOR Y DESTRUCTOR\n",
    "class PERSONA:\n",
    "    #MÉTODO CONSTRUCTOR\n",
    "    def __init__(self,NOMBRE,APELLIDO,PESO,EC):\n",
    "        self.NOMBRE = NOMBRE\n",
    "        self.APELLIDO = APELLIDO\n",
    "        self.PESO = PESO\n",
    "        self.EC = EC\n",
    "        print(\"Acabas de crear una clase\")\n",
    "        \n",
    "    #MÉTODO DESTRUCTOR\n",
    "    def __del__(self):\n",
    "        print(\"Acabas de eliminar una clase\")"
   ]
  },
  {
   "cell_type": "code",
   "execution_count": 82,
   "metadata": {},
   "outputs": [
    {
     "name": "stdout",
     "output_type": "stream",
     "text": [
      "Acabas de crear una clase\n",
      "Acabas de eliminar una clase\n"
     ]
    },
    {
     "ename": "NameError",
     "evalue": "name 'P1' is not defined",
     "output_type": "error",
     "traceback": [
      "\u001b[1;31m---------------------------------------------------------------------------\u001b[0m",
      "\u001b[1;31mNameError\u001b[0m                                 Traceback (most recent call last)",
      "\u001b[1;32m<ipython-input-82-553abd4ce2f0>\u001b[0m in \u001b[0;36m<module>\u001b[1;34m\u001b[0m\n\u001b[0;32m      1\u001b[0m \u001b[0mP1\u001b[0m \u001b[1;33m=\u001b[0m \u001b[0mPERSONA\u001b[0m \u001b[1;33m(\u001b[0m\u001b[1;34m'BENJAMIN'\u001b[0m\u001b[1;33m,\u001b[0m\u001b[1;34m'NEIRA'\u001b[0m\u001b[1;33m,\u001b[0m\u001b[1;34m'95'\u001b[0m\u001b[1;33m,\u001b[0m\u001b[1;34m'S'\u001b[0m\u001b[1;33m)\u001b[0m\u001b[1;33m\u001b[0m\u001b[1;33m\u001b[0m\u001b[0m\n\u001b[0;32m      2\u001b[0m \u001b[1;32mdel\u001b[0m\u001b[1;33m(\u001b[0m\u001b[0mP1\u001b[0m\u001b[1;33m)\u001b[0m\u001b[1;33m\u001b[0m\u001b[1;33m\u001b[0m\u001b[0m\n\u001b[1;32m----> 3\u001b[1;33m \u001b[0mprint\u001b[0m\u001b[1;33m(\u001b[0m\u001b[0mP1\u001b[0m\u001b[1;33m)\u001b[0m\u001b[1;33m\u001b[0m\u001b[1;33m\u001b[0m\u001b[0m\n\u001b[0m",
      "\u001b[1;31mNameError\u001b[0m: name 'P1' is not defined"
     ]
    }
   ],
   "source": [
    "P1 = PERSONA ('BENJAMIN','NEIRA','95','S')\n",
    "del(P1)\n",
    "print(P1)"
   ]
  },
  {
   "cell_type": "markdown",
   "metadata": {},
   "source": [
    "## PARTE 8.4: SUPERCLASES Y SUBCLASES"
   ]
  },
  {
   "cell_type": "code",
   "execution_count": 83,
   "metadata": {},
   "outputs": [],
   "source": [
    "class PERSONA:\n",
    "    def __init__(self,NOMBRE,APELLIDO,PESO,EC):\n",
    "        self.NOMBRE = NOMBRE\n",
    "        self.APELLIDO = APELLIDO\n",
    "        self.PESO = PESO\n",
    "        self.EC = EC\n",
    "        \n",
    "    def __str__(self):\n",
    "        return (\"{}-{} -- {}-{}\".format(self.NOMBRE,self.APELLIDO,self.PESO,self.EC))"
   ]
  },
  {
   "cell_type": "code",
   "execution_count": 86,
   "metadata": {},
   "outputs": [],
   "source": [
    "class AMIGOS:\n",
    "    def __init__(self,PERSONA=[]):\n",
    "        self.PERSONA = PERSONA\n",
    "        \n",
    "    #LISTAR TODAS LA PERSONAS:\n",
    "    def LISTAR(self):\n",
    "        for P in self.PERSONA:\n",
    "            print(P)\n",
    "            \n",
    "    #AGREGAR UNA PERSONA:\n",
    "    def AGREGAR(self,PERSONA):\n",
    "        self.PERSONA.append(PERSONA)\n",
    "\n",
    "    #ENCONTRAR PERSONA:\n",
    "    def ENCONTRAR(self, NOMBRE):\n",
    "        for P in self.PERSONA:\n",
    "            if P.NOMBRE == NOMBRE:\n",
    "                print(P)\n",
    "                return\n",
    "        print(\"No está la persona\")\n",
    "    \n",
    "    #ELIMINAR PERSONA:\n",
    "    def ELIMINAR(self, NOMBRE):\n",
    "        for I,P in enumerate(self.PERSONA):\n",
    "            if P.NOMBRE == NOMBRE:\n",
    "                del(self.PERSONA[I])\n",
    "                return\n",
    "        print(\"No está la persona\")\n",
    "\n",
    "P1 = PERSONA ('BENJAMIN','NEIRA','95','S')\n",
    "P2 = PERSONA ('JOSE','MENDOZA','90','S')\n",
    "P3 = PERSONA ('JUAN','IBARRA','70','S')\n",
    "P4 = PERSONA ('RICARDO','MORALES','82','C')\n",
    "P5 = PERSONA ('MARCELA','OSPINA','35','S')\n",
    "\n",
    "A1 = AMIGOS(PERSONA=[P1,P2,P3,P4])"
   ]
  },
  {
   "cell_type": "code",
   "execution_count": 87,
   "metadata": {},
   "outputs": [
    {
     "name": "stdout",
     "output_type": "stream",
     "text": [
      "BENJAMIN-NEIRA -- 95-S\n",
      "JOSE-MENDOZA -- 90-S\n",
      "JUAN-IBARRA -- 70-S\n",
      "RICARDO-MORALES -- 82-C\n"
     ]
    }
   ],
   "source": [
    "A1.LISTAR()"
   ]
  },
  {
   "cell_type": "code",
   "execution_count": 88,
   "metadata": {},
   "outputs": [],
   "source": [
    "A1.AGREGAR(P5)"
   ]
  },
  {
   "cell_type": "code",
   "execution_count": 89,
   "metadata": {},
   "outputs": [
    {
     "name": "stdout",
     "output_type": "stream",
     "text": [
      "BENJAMIN-NEIRA -- 95-S\n",
      "JOSE-MENDOZA -- 90-S\n",
      "JUAN-IBARRA -- 70-S\n",
      "RICARDO-MORALES -- 82-C\n",
      "MARCELA-OSPINA -- 35-S\n"
     ]
    }
   ],
   "source": [
    "A1.LISTAR()"
   ]
  },
  {
   "cell_type": "markdown",
   "metadata": {},
   "source": [
    "## PARTE 8.5: ENCAPSULAMIENTO"
   ]
  },
  {
   "cell_type": "code",
   "execution_count": 90,
   "metadata": {},
   "outputs": [
    {
     "data": {
      "text/plain": [
       "35"
      ]
     },
     "execution_count": 90,
     "metadata": {},
     "output_type": "execute_result"
    }
   ],
   "source": [
    "class PERSONA:\n",
    "    EDAD = 35\n",
    "    \n",
    "P1 = PERSONA()\n",
    "P1.EDAD"
   ]
  },
  {
   "cell_type": "code",
   "execution_count": 98,
   "metadata": {},
   "outputs": [
    {
     "ename": "AttributeError",
     "evalue": "'PERSONA' object has no attribute '__EDAD'",
     "output_type": "error",
     "traceback": [
      "\u001b[1;31m---------------------------------------------------------------------------\u001b[0m",
      "\u001b[1;31mAttributeError\u001b[0m                            Traceback (most recent call last)",
      "\u001b[1;32m<ipython-input-98-a9b0d7b34792>\u001b[0m in \u001b[0;36m<module>\u001b[1;34m\u001b[0m\n\u001b[0;32m      3\u001b[0m \u001b[1;33m\u001b[0m\u001b[0m\n\u001b[0;32m      4\u001b[0m \u001b[0mP1\u001b[0m \u001b[1;33m=\u001b[0m \u001b[0mPERSONA\u001b[0m\u001b[1;33m(\u001b[0m\u001b[1;33m)\u001b[0m\u001b[1;33m\u001b[0m\u001b[1;33m\u001b[0m\u001b[0m\n\u001b[1;32m----> 5\u001b[1;33m \u001b[0mP1\u001b[0m\u001b[1;33m.\u001b[0m\u001b[0m__EDAD\u001b[0m\u001b[1;33m\u001b[0m\u001b[1;33m\u001b[0m\u001b[0m\n\u001b[0m",
      "\u001b[1;31mAttributeError\u001b[0m: 'PERSONA' object has no attribute '__EDAD'"
     ]
    }
   ],
   "source": [
    "class PERSONA:\n",
    "    __EDAD = 35\n",
    "    \n",
    "P1 = PERSONA()\n",
    "P1.__EDAD"
   ]
  },
  {
   "cell_type": "code",
   "execution_count": 99,
   "metadata": {},
   "outputs": [
    {
     "data": {
      "text/plain": [
       "35"
      ]
     },
     "execution_count": 99,
     "metadata": {},
     "output_type": "execute_result"
    }
   ],
   "source": [
    "class PERSONA:\n",
    "    __EDAD = 35\n",
    "    \n",
    "    def COMPARTIR_EDAD(self):\n",
    "        return self.__EDAD\n",
    "    \n",
    "P1 = PERSONA()\n",
    "#P1.__EDAD\n",
    "P1.COMPARTIR_EDAD()"
   ]
  },
  {
   "cell_type": "code",
   "execution_count": 92,
   "metadata": {},
   "outputs": [
    {
     "name": "stdout",
     "output_type": "stream",
     "text": [
      "HOLA SOY UNA CLASE\n"
     ]
    }
   ],
   "source": [
    "class PERSONA:\n",
    "    EDAD = 35\n",
    "    \n",
    "    def SALUDA(self):\n",
    "        print(\"HOLA SOY UNA CLASE\")\n",
    "    \n",
    "P1 = PERSONA()\n",
    "P1.SALUDA()"
   ]
  },
  {
   "cell_type": "code",
   "execution_count": 93,
   "metadata": {},
   "outputs": [
    {
     "ename": "AttributeError",
     "evalue": "'PERSONA' object has no attribute '__SALUDA'",
     "output_type": "error",
     "traceback": [
      "\u001b[1;31m---------------------------------------------------------------------------\u001b[0m",
      "\u001b[1;31mAttributeError\u001b[0m                            Traceback (most recent call last)",
      "\u001b[1;32m<ipython-input-93-fdedb4ac802f>\u001b[0m in \u001b[0;36m<module>\u001b[1;34m\u001b[0m\n\u001b[0;32m      6\u001b[0m \u001b[1;33m\u001b[0m\u001b[0m\n\u001b[0;32m      7\u001b[0m \u001b[0mP1\u001b[0m \u001b[1;33m=\u001b[0m \u001b[0mPERSONA\u001b[0m\u001b[1;33m(\u001b[0m\u001b[1;33m)\u001b[0m\u001b[1;33m\u001b[0m\u001b[1;33m\u001b[0m\u001b[0m\n\u001b[1;32m----> 8\u001b[1;33m \u001b[0mP1\u001b[0m\u001b[1;33m.\u001b[0m\u001b[0m__SALUDA\u001b[0m\u001b[1;33m(\u001b[0m\u001b[1;33m)\u001b[0m\u001b[1;33m\u001b[0m\u001b[1;33m\u001b[0m\u001b[0m\n\u001b[0m",
      "\u001b[1;31mAttributeError\u001b[0m: 'PERSONA' object has no attribute '__SALUDA'"
     ]
    }
   ],
   "source": [
    "class PERSONA:\n",
    "    EDAD = 35\n",
    "    \n",
    "    def __SALUDA(self):\n",
    "        print(\"HOLA SOY UNA CLASE\")\n",
    "    \n",
    "P1 = PERSONA()\n",
    "P1.__SALUDA()"
   ]
  },
  {
   "cell_type": "code",
   "execution_count": 102,
   "metadata": {},
   "outputs": [
    {
     "name": "stdout",
     "output_type": "stream",
     "text": [
      "HOLA SOY UNA CLASE\n"
     ]
    }
   ],
   "source": [
    "class PERSONA:\n",
    "    EDAD = 35\n",
    "    \n",
    "    def __SALUDA(self):\n",
    "        print(\"HOLA SOY UNA CLASE\")\n",
    "        \n",
    "    def COMPARTIR_SALUDA(self):\n",
    "        return self.__SALUDA()\n",
    "    \n",
    "P1 = PERSONA()\n",
    "P1.COMPARTIR_SALUDA()"
   ]
  },
  {
   "cell_type": "code",
   "execution_count": null,
   "metadata": {},
   "outputs": [],
   "source": []
  }
 ],
 "metadata": {
  "kernelspec": {
   "display_name": "Python 3",
   "language": "python",
   "name": "python3"
  },
  "language_info": {
   "codemirror_mode": {
    "name": "ipython",
    "version": 3
   },
   "file_extension": ".py",
   "mimetype": "text/x-python",
   "name": "python",
   "nbconvert_exporter": "python",
   "pygments_lexer": "ipython3",
   "version": "3.8.3"
  }
 },
 "nbformat": 4,
 "nbformat_minor": 4
}
