{
 "cells": [
  {
   "cell_type": "markdown",
   "metadata": {},
   "source": [
    "### PROBLEMA 1\n",
    "\n",
    "Analiza y compara los resultados de las siguientes expresiones:"
   ]
  },
  {
   "cell_type": "code",
   "execution_count": null,
   "metadata": {},
   "outputs": [],
   "source": [
    "--> (4 * 6) - 3\n",
    "--> 4 * (6 - 3)\n",
    "--> 4 * 6 - 3\n",
    "\n",
    "--> (6 % 4) - 1\n",
    "--> 6 % (4 - 1)\n",
    "--> 6 % 4 - 1\n",
    "\n",
    "--> 3 ** (2 * 2) + 4 - 6 * 3\n",
    "--> (3 ** 2) * 2 + (4 - 6) * 3\n",
    "--> 3 ** 2 * 2 + 4 - 6 * 3"
   ]
  },
  {
   "cell_type": "code",
   "execution_count": null,
   "metadata": {},
   "outputs": [],
   "source": []
  },
  {
   "cell_type": "markdown",
   "metadata": {},
   "source": [
    "### PROBLEMA 2\n",
    "\n",
    "Realiza las siguientes operaciones con cadenas:"
   ]
  },
  {
   "cell_type": "code",
   "execution_count": null,
   "metadata": {},
   "outputs": [],
   "source": [
    "--> ¿Cuántas vocales tiene tu primer nombre?\n",
    "--> ¿Cuántas consonantes tiene tu primer apellido?\n",
    "--> Personaliza un saludo con tu nombre y apellido\n",
    "--> Indica cuántas letras tiene tu nombre completo"
   ]
  },
  {
   "cell_type": "code",
   "execution_count": null,
   "metadata": {},
   "outputs": [],
   "source": []
  },
  {
   "cell_type": "markdown",
   "metadata": {},
   "source": [
    "### PROBLEMA 3\n",
    "\n",
    "Realiza las siguientes operaciones con datos lógicos:"
   ]
  },
  {
   "cell_type": "code",
   "execution_count": null,
   "metadata": {},
   "outputs": [],
   "source": [
    "--> Comprueba que una cadena de 4 espacios tiene la misma longitud que una cadena con 4 'a'\n",
    "--> Comprueba si el número 1 es igual a 5 elevado a la 0\n",
    "--> Comprueba si el número 0.5 es igual a 2 elevado a la (-1)\n",
    "--> Comprueba si el número 3 no es igual 27 elevado a la (2/3)"
   ]
  },
  {
   "cell_type": "code",
   "execution_count": null,
   "metadata": {},
   "outputs": [],
   "source": []
  },
  {
   "cell_type": "markdown",
   "metadata": {},
   "source": [
    "### PROBLEMA 4\n",
    "\n",
    "Analiza y compara los resultados de las siguientes expresiones:"
   ]
  },
  {
   "cell_type": "code",
   "execution_count": null,
   "metadata": {},
   "outputs": [],
   "source": [
    "--> True < False\n",
    "--> True <= False\n",
    "--> True > False\n",
    "--> True >= False\n",
    "\n",
    "--> True and True or False\n",
    "--> True and (True or False)\n",
    "--> (True and True) or False\n",
    "\n",
    "--> True or True and False\n",
    "--> True or (True and False)\n",
    "--> (True or True) and False"
   ]
  },
  {
   "cell_type": "code",
   "execution_count": null,
   "metadata": {},
   "outputs": [],
   "source": []
  },
  {
   "cell_type": "markdown",
   "metadata": {},
   "source": [
    "### PROBLEMA 5\n",
    "\n",
    "Genera la fecha/hora actual con los siguientes formatos:"
   ]
  },
  {
   "cell_type": "code",
   "execution_count": null,
   "metadata": {},
   "outputs": [],
   "source": [
    "--> AAAA-MM-DD hh:mm:ss:ms\n",
    "--> AAAA/MM/DD hh:mm:ss\n",
    "--> MM-DD hh:mm\n",
    "\n",
    "--> Aumenta a la fecha de tu cumpleaños este año, 5 días\n",
    "--> Resta a la fecha de ayer, 10 días"
   ]
  },
  {
   "cell_type": "code",
   "execution_count": null,
   "metadata": {},
   "outputs": [],
   "source": []
  },
  {
   "cell_type": "markdown",
   "metadata": {},
   "source": [
    "### PROBLEMA 6\n",
    "\n",
    "Genera los siguiente números aleatorios:"
   ]
  },
  {
   "cell_type": "code",
   "execution_count": null,
   "metadata": {},
   "outputs": [],
   "source": [
    "--> decimales entre 25 y 49\n",
    "--> enteros entre 25 y 49\n",
    "--> enteros pares entre 25 y 49\n",
    "--> enteros impares entre 25 y 49"
   ]
  },
  {
   "cell_type": "code",
   "execution_count": null,
   "metadata": {},
   "outputs": [],
   "source": []
  }
 ],
 "metadata": {
  "kernelspec": {
   "display_name": "Python 3",
   "language": "python",
   "name": "python3"
  },
  "language_info": {
   "codemirror_mode": {
    "name": "ipython",
    "version": 3
   },
   "file_extension": ".py",
   "mimetype": "text/x-python",
   "name": "python",
   "nbconvert_exporter": "python",
   "pygments_lexer": "ipython3",
   "version": "3.8.3"
  }
 },
 "nbformat": 4,
 "nbformat_minor": 4
}
