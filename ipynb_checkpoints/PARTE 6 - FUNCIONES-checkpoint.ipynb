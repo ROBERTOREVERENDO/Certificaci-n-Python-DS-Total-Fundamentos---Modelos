{
 "cells": [
  {
   "cell_type": "markdown",
   "metadata": {},
   "source": [
    "# PARTE 6: FUNCIONES"
   ]
  },
  {
   "cell_type": "markdown",
   "metadata": {},
   "source": [
    "## PARTE 6.1: DEFINICIÓN DE UNA FUNCIÓN"
   ]
  },
  {
   "cell_type": "code",
   "execution_count": 1,
   "metadata": {},
   "outputs": [],
   "source": [
    "#SINTAXIS DE UNA FUNCIÓN\n",
    "def FUNCION_PRUEBA():\n",
    "    print(\"HOLA MUNDO\")"
   ]
  },
  {
   "cell_type": "code",
   "execution_count": 2,
   "metadata": {},
   "outputs": [
    {
     "name": "stdout",
     "output_type": "stream",
     "text": [
      "HOLA MUNDO\n"
     ]
    }
   ],
   "source": [
    "#INVOCACIÓN DE LA FUNCIÓN\n",
    "FUNCION_PRUEBA()"
   ]
  },
  {
   "cell_type": "code",
   "execution_count": 5,
   "metadata": {},
   "outputs": [
    {
     "ename": "NameError",
     "evalue": "name 'NUM' is not defined",
     "output_type": "error",
     "traceback": [
      "\u001b[1;31m---------------------------------------------------------------------------\u001b[0m",
      "\u001b[1;31mNameError\u001b[0m                                 Traceback (most recent call last)",
      "\u001b[1;32m<ipython-input-5-d8cc628427db>\u001b[0m in \u001b[0;36m<module>\u001b[1;34m\u001b[0m\n\u001b[0;32m      4\u001b[0m \u001b[1;33m\u001b[0m\u001b[0m\n\u001b[0;32m      5\u001b[0m \u001b[0mFUNCION_PRUEBA2\u001b[0m\u001b[1;33m(\u001b[0m\u001b[1;33m)\u001b[0m\u001b[1;33m\u001b[0m\u001b[1;33m\u001b[0m\u001b[0m\n\u001b[1;32m----> 6\u001b[1;33m \u001b[0mprint\u001b[0m\u001b[1;33m(\u001b[0m\u001b[0mNUM\u001b[0m\u001b[1;33m)\u001b[0m\u001b[1;33m\u001b[0m\u001b[1;33m\u001b[0m\u001b[0m\n\u001b[0m",
      "\u001b[1;31mNameError\u001b[0m: name 'NUM' is not defined"
     ]
    }
   ],
   "source": [
    "#VARIABLES DEFINIDAS DENTRO DE LA FUNCIÓN, NO SE PUEDEN INVOCAR FUERA\n",
    "def FUNCION_PRUEBA2():\n",
    "    NUM = 10\n",
    "    \n",
    "FUNCION_PRUEBA2()\n",
    "print(NUM)"
   ]
  },
  {
   "cell_type": "code",
   "execution_count": 6,
   "metadata": {},
   "outputs": [
    {
     "name": "stdout",
     "output_type": "stream",
     "text": [
      "14\n"
     ]
    }
   ],
   "source": [
    "#VARIABLES DEFINIDAS FUERA DE LA FUNCIÓN, SÍ SE PUEDEN INVOCAR DENTRO DE LA FUNCIÓN\n",
    "def FUNCION_PRUEBA3():\n",
    "    print(NUM)\n",
    "\n",
    "NUM=14\n",
    "FUNCION_PRUEBA3()"
   ]
  },
  {
   "cell_type": "code",
   "execution_count": 8,
   "metadata": {},
   "outputs": [
    {
     "name": "stdout",
     "output_type": "stream",
     "text": [
      "8\n"
     ]
    }
   ],
   "source": [
    "#INTENTAR MODIFICAR UNA VARIABLE DENTRO DE UNA FUNCIÓN\n",
    "def FUNCION_PRUEBA4():\n",
    "    global NUM\n",
    "    NUM=8\n",
    "    print(NUM)\n",
    "\n",
    "NUM=14\n",
    "FUNCION_PRUEBA4()"
   ]
  },
  {
   "cell_type": "markdown",
   "metadata": {},
   "source": [
    "## PARTE 6.2: FUNCIÓN CON RETORNO"
   ]
  },
  {
   "cell_type": "code",
   "execution_count": 16,
   "metadata": {},
   "outputs": [
    {
     "name": "stdout",
     "output_type": "stream",
     "text": [
      "-----------SIN RETORNO-----------\n",
      "2\n",
      "None\n",
      "-----------CON RETORNO-----------\n",
      "2\n"
     ]
    }
   ],
   "source": [
    "#EJEMPLO DE FUNCIÓN CON Y SIN RETORNO\n",
    "def PRUEBA1():\n",
    "    print(2)\n",
    "    \n",
    "def PRUEBA2():\n",
    "    return 2\n",
    "\n",
    "print(\"-----------SIN RETORNO-----------\")\n",
    "VARIABLE = PRUEBA1()\n",
    "print(VARIABLE)\n",
    "\n",
    "print(\"-----------CON RETORNO-----------\")\n",
    "VARIABLE = PRUEBA2()\n",
    "print(VARIABLE)"
   ]
  },
  {
   "cell_type": "code",
   "execution_count": 18,
   "metadata": {},
   "outputs": [
    {
     "name": "stdout",
     "output_type": "stream",
     "text": [
      "2\n",
      "3.14\n",
      "HOLA\n",
      "True\n",
      "[1, 2, 3]\n"
     ]
    }
   ],
   "source": [
    "#FUNCIONES CON 1 SOLO RETORNO\n",
    "def PRUEBA_ENTERO():\n",
    "    return 2\n",
    "\n",
    "def PRUEBA_DECIMAL():\n",
    "    return 3.14\n",
    "\n",
    "def PRUEBA_CADENA():\n",
    "    return 'HOLA'\n",
    "\n",
    "def PRUEBA_BOOL():\n",
    "    return True\n",
    "\n",
    "def PRUEBA_LISTA():\n",
    "    return [1,2,3]\n",
    "\n",
    "VARIABLE = PRUEBA_ENTERO()\n",
    "print(VARIABLE)\n",
    "\n",
    "VARIABLE = PRUEBA_DECIMAL()\n",
    "print(VARIABLE)\n",
    "\n",
    "VARIABLE = PRUEBA_CADENA()\n",
    "print(VARIABLE)\n",
    "\n",
    "VARIABLE = PRUEBA_BOOL()\n",
    "print(VARIABLE)\n",
    "\n",
    "VARIABLE = PRUEBA_LISTA()\n",
    "print(VARIABLE)"
   ]
  },
  {
   "cell_type": "code",
   "execution_count": 23,
   "metadata": {},
   "outputs": [
    {
     "name": "stdout",
     "output_type": "stream",
     "text": [
      "(3, 3.14, 'HOLA')\n",
      "3\n",
      "3.14\n",
      "HOLA\n"
     ]
    }
   ],
   "source": [
    "#FUNCIÓN CON VARIOS RETORNOS\n",
    "def FUNCION_VARIOS():\n",
    "    return 3 , 3.14 , \"HOLA\"\n",
    "\n",
    "VARIABLE = FUNCION_VARIOS()\n",
    "A,B,C = FUNCION_VARIOS()\n",
    "\n",
    "print(VARIABLE)\n",
    "print(A)\n",
    "print(B)\n",
    "print(C)"
   ]
  },
  {
   "cell_type": "code",
   "execution_count": 25,
   "metadata": {},
   "outputs": [
    {
     "name": "stdout",
     "output_type": "stream",
     "text": [
      "7\n"
     ]
    }
   ],
   "source": [
    "#FUNCIÓN CON PARÁMETROS\n",
    "def SUMA(A,B):\n",
    "    return A+B\n",
    "\n",
    "X = SUMA(3,4)\n",
    "print(X)\n",
    "\n",
    "#PARÁMETROS DE LA FUNCIÓN SUMA SON: A Y B\n",
    "#ARGUMENTOS DE LA FUNCIÓN SUMA SON: 3 Y 4"
   ]
  },
  {
   "cell_type": "markdown",
   "metadata": {},
   "source": [
    "## PARTE 6.3: ANÁLISIS DE PARÁMETROS Y ARGUMENTOS"
   ]
  },
  {
   "cell_type": "code",
   "execution_count": 1,
   "metadata": {},
   "outputs": [
    {
     "name": "stdout",
     "output_type": "stream",
     "text": [
      "-5\n"
     ]
    }
   ],
   "source": [
    "#ARGUMENTOS DEFINIDOS POR POSICIÓN\n",
    "def FUNCION_RESTA(X,Y):\n",
    "    return X-Y\n",
    "\n",
    "print(FUNCION_RESTA(2,7))"
   ]
  },
  {
   "cell_type": "code",
   "execution_count": 19,
   "metadata": {},
   "outputs": [
    {
     "name": "stdout",
     "output_type": "stream",
     "text": [
      "5\n"
     ]
    }
   ],
   "source": [
    "#ARGUMENTOS DEFINIDOS POR NOMBRE\n",
    "def FUNCION_RESTA(X,Y):\n",
    "    return X-Y\n",
    "\n",
    "print(FUNCION_RESTA(Y=2,X=7))\n",
    "#print(FUNCION_RESTA())"
   ]
  },
  {
   "cell_type": "code",
   "execution_count": 5,
   "metadata": {},
   "outputs": [
    {
     "name": "stdout",
     "output_type": "stream",
     "text": [
      "-2\n",
      "FALTAN ARGUMENTOS\n",
      "None\n"
     ]
    }
   ],
   "source": [
    "#CUANDO NO QUEREMOS BRINDAR ARGUMENTOS\n",
    "def FUNCION_RESTA(X=None,Y=None):\n",
    "    if X==None or Y==None:\n",
    "        print(\"FALTAN ARGUMENTOS\")\n",
    "    else:\n",
    "        return X-Y\n",
    "    \n",
    "print(FUNCION_RESTA(1,3))\n",
    "print(FUNCION_RESTA())"
   ]
  },
  {
   "cell_type": "markdown",
   "metadata": {},
   "source": [
    "## PARTE 6.4: ARGUMENTOS POR VALOR Y POR REFERENCIA\n",
    "\n",
    "* Paso por valor --> Crear una copia de la variable dentro de la función (enteros, flotante, cadenas)\n",
    "* Paso por referencia --> Modificar directamente la variable en la función (Listas, Diccionarios, Conjuntos)"
   ]
  },
  {
   "cell_type": "code",
   "execution_count": 7,
   "metadata": {},
   "outputs": [
    {
     "name": "stdout",
     "output_type": "stream",
     "text": [
      "5\n"
     ]
    }
   ],
   "source": [
    "#PASO POR VALOR:\n",
    "def SUMAR_1(NUM):\n",
    "    NUM += 1\n",
    "    \n",
    "VARIABLE = 5\n",
    "SUMAR_1(VARIABLE)\n",
    "print(VARIABLE)"
   ]
  },
  {
   "cell_type": "code",
   "execution_count": 8,
   "metadata": {},
   "outputs": [
    {
     "name": "stdout",
     "output_type": "stream",
     "text": [
      "6\n"
     ]
    }
   ],
   "source": [
    "#TRUCO PARA MODIFICAR LA VARIABLE:\n",
    "def SUMAR_1(NUM):\n",
    "    return NUM + 1\n",
    "    \n",
    "VARIABLE = 5\n",
    "VARIABLE = SUMAR_1(VARIABLE)\n",
    "print(VARIABLE)"
   ]
  },
  {
   "cell_type": "code",
   "execution_count": 9,
   "metadata": {},
   "outputs": [
    {
     "name": "stdout",
     "output_type": "stream",
     "text": [
      "[1, 2, 3, 100]\n"
     ]
    }
   ],
   "source": [
    "#PASO POR REFERENCIA\n",
    "def ADICIONAR_ELEMENTO(LISTA):\n",
    "    LISTA.append(100)\n",
    "\n",
    "LISTA_PRUEBA = [1,2,3]\n",
    "ADICIONAR_ELEMENTO(LISTA_PRUEBA)\n",
    "print(LISTA_PRUEBA)"
   ]
  },
  {
   "cell_type": "code",
   "execution_count": 11,
   "metadata": {},
   "outputs": [
    {
     "name": "stdout",
     "output_type": "stream",
     "text": [
      "[1, 2, 3]\n"
     ]
    }
   ],
   "source": [
    "#TRUCO PARA NO MODIFICAR LA VARIABLE\n",
    "def ADICIONAR_ELEMENTO(LISTA):\n",
    "    LISTA.append(100)\n",
    "\n",
    "LISTA_PRUEBA = [1,2,3]\n",
    "ADICIONAR_ELEMENTO(LISTA_PRUEBA[:])\n",
    "print(LISTA_PRUEBA)"
   ]
  },
  {
   "cell_type": "markdown",
   "metadata": {},
   "source": [
    "## PARTE 6.5: ARGUMENTOS INDETERMINADOS"
   ]
  },
  {
   "cell_type": "code",
   "execution_count": 22,
   "metadata": {},
   "outputs": [
    {
     "data": {
      "image/png": "[encoded data removed]",
      "text/plain": [
       "<IPython.core.display.Image object>"
      ]
     },
     "execution_count": 22,
     "metadata": {},
     "output_type": "execute_result"
    }
   ],
   "source": [
    "from IPython.display import Image\n",
    "Image(filename=\"C:/Users/BENJAMIN/CERTIFICACION PYTHON/RECURSOS - CERTIFICACIÓN/PARÁMETROS INDETERMINADOS.png\")"
   ]
  },
  {
   "cell_type": "code",
   "execution_count": 27,
   "metadata": {},
   "outputs": [
    {
     "name": "stdout",
     "output_type": "stream",
     "text": [
      "1\n",
      "------------------\n",
      "1\n",
      "3.14\n",
      "------------------\n",
      "1\n",
      "3.14\n",
      "HOLA\n",
      "------------------\n",
      "1\n",
      "3.14\n",
      "HOLA\n",
      "[1, 2, 3, 4]\n"
     ]
    }
   ],
   "source": [
    "#ARGUMENTOS INDETERMINADOS POR POSICIÓN\n",
    "def FUNCION_POS (*args):\n",
    "    for ARGUMENTO in args:\n",
    "        print(ARGUMENTO)\n",
    "        \n",
    "FUNCION_POS(1)\n",
    "print(\"------------------\")\n",
    "FUNCION_POS(1 , 3.14)\n",
    "print(\"------------------\")\n",
    "FUNCION_POS(1 , 3.14 , \"HOLA\")\n",
    "print(\"------------------\")\n",
    "FUNCION_POS(1 , 3.14 , \"HOLA\" , [1,2,3,4])"
   ]
  },
  {
   "cell_type": "code",
   "execution_count": 36,
   "metadata": {},
   "outputs": [
    {
     "name": "stdout",
     "output_type": "stream",
     "text": [
      "VAR1  -  1\n",
      "------------------\n",
      "VAR1  -  1\n",
      "VAR2  -  3.14\n",
      "------------------\n",
      "VAR1  -  1\n",
      "VAR2  -  3.14\n",
      "VAR3  -  HOLA\n"
     ]
    }
   ],
   "source": [
    "#ARGUMENTOS INDETERMINADOS POR NOMBRE\n",
    "def FUNCION_NOM (**kwargs):\n",
    "    for ARGUMENTO in kwargs:\n",
    "        print(ARGUMENTO,\" - \",kwargs[ARGUMENTO])\n",
    "        \n",
    "FUNCION_NOM(VAR1=1)\n",
    "print(\"------------------\")\n",
    "FUNCION_NOM(VAR1=1 , VAR2=3.14)\n",
    "print(\"------------------\")\n",
    "FUNCION_NOM(VAR1=1 , VAR2=3.14 , VAR3=\"HOLA\")"
   ]
  },
  {
   "cell_type": "code",
   "execution_count": 37,
   "metadata": {},
   "outputs": [
    {
     "name": "stdout",
     "output_type": "stream",
     "text": [
      "1\n",
      "3.14\n",
      "HOLA\n",
      "VAR1  -  1\n",
      "VAR2  -  3.14\n",
      "VAR3  -  HOLA\n"
     ]
    }
   ],
   "source": [
    "#ARGUMENTOS INDETERMINADOS POR POSICIÓN Y POR NOMBRE\n",
    "def FUNCION_RESUMEN (*args,**kwargs):\n",
    "    for ARGUMENTO in args:\n",
    "        print(ARGUMENTO)\n",
    "    for ARGUMENTO in kwargs:\n",
    "        print(ARGUMENTO,\" - \",kwargs[ARGUMENTO])\n",
    "        \n",
    "FUNCION_RESUMEN(1 , 3.14 , \"HOLA\" , VAR1=1 , VAR2=3.14 , VAR3=\"HOLA\")"
   ]
  },
  {
   "cell_type": "code",
   "execution_count": 38,
   "metadata": {},
   "outputs": [
    {
     "name": "stdout",
     "output_type": "stream",
     "text": [
      "LA SUMA DE LOS ARGUMENTOS ES:  100\n",
      "DIA  ->  SOLEADO\n",
      "NOCHE  ->  OSCURO\n"
     ]
    }
   ],
   "source": [
    "#EJEMPLO - POR POSICIÓN Y POR NOMBRE\n",
    "def FUNCION_EJEMPLO (*args,**kwargs):\n",
    "    SUMA=0\n",
    "    for ARGUMENTO in args:\n",
    "        SUMA += ARGUMENTO\n",
    "    print(\"LA SUMA DE LOS ARGUMENTOS ES: \",SUMA)\n",
    "    \n",
    "    for ARGUMENTO in kwargs:\n",
    "        print(ARGUMENTO,\" -> \",kwargs[ARGUMENTO])\n",
    "        \n",
    "FUNCION_EJEMPLO(10,20,30,40, DIA=\"SOLEADO\" , NOCHE=\"OSCURO\")"
   ]
  },
  {
   "cell_type": "markdown",
   "metadata": {},
   "source": [
    "## PARTE 6.6: FUNCIÓN RECURSIVA"
   ]
  },
  {
   "cell_type": "code",
   "execution_count": 41,
   "metadata": {},
   "outputs": [
    {
     "name": "stdout",
     "output_type": "stream",
     "text": [
      "0\n",
      "120\n"
     ]
    }
   ],
   "source": [
    "#EJEMPLO FACTORIAL:\n",
    "#5! = 1X2X3X4X5\n",
    "\n",
    "def FACTORIAL(NUM):\n",
    "    if NUM>1:\n",
    "        NUM = NUM * FACTORIAL(NUM-1)\n",
    "    return NUM\n",
    "\n",
    "print(FACTORIAL(0))\n",
    "print(FACTORIAL(5))"
   ]
  },
  {
   "cell_type": "code",
   "execution_count": 42,
   "metadata": {},
   "outputs": [
    {
     "name": "stdout",
     "output_type": "stream",
     "text": [
      "10\n",
      "21\n"
     ]
    }
   ],
   "source": [
    "#EJEMPLO SUMATORIA:\n",
    "#S(6) = 1+2+3+4+5+6\n",
    "\n",
    "def SUMATORIA(NUM):\n",
    "    if NUM>1:\n",
    "        NUM = NUM + SUMATORIA(NUM-1)\n",
    "    return NUM\n",
    "\n",
    "print(SUMATORIA(4))\n",
    "print(SUMATORIA(6))"
   ]
  },
  {
   "cell_type": "code",
   "execution_count": 54,
   "metadata": {},
   "outputs": [
    {
     "name": "stdout",
     "output_type": "stream",
     "text": [
      "10\n",
      "9\n",
      "8\n",
      "7\n",
      "6\n",
      "5\n",
      "4\n",
      "3\n",
      "2\n",
      "1\n",
      "0\n",
      "FIN DE LA CUENTA\n"
     ]
    }
   ],
   "source": [
    "#FUNCIÓN CUENTRA REGRESIVA:\n",
    "def FUNCION_CUENTA(NUM):\n",
    "    if NUM>=0:\n",
    "        print(NUM)\n",
    "        NUM -= 1\n",
    "        FUNCION_CUENTA(NUM)\n",
    "    else:\n",
    "        print(\"FIN DE LA CUENTA\")\n",
    "\n",
    "FUNCION_CUENTA(10)"
   ]
  },
  {
   "cell_type": "code",
   "execution_count": 69,
   "metadata": {},
   "outputs": [
    {
     "data": {
      "text/plain": [
       "'1+2+3+4+5+6+7+8+9+10'"
      ]
     },
     "execution_count": 69,
     "metadata": {},
     "output_type": "execute_result"
    }
   ],
   "source": [
    "# 1+2+3+4+5\n",
    "\n",
    "CADENA = \"\"\n",
    "def FUNCION_CADENA(NUM):\n",
    "    if NUM>0:\n",
    "        global CADENA\n",
    "        CADENA = str(NUM) + \"+\" + CADENA\n",
    "        NUM -= 1\n",
    "        FUNCION_CADENA(NUM)\n",
    "    return CADENA.strip(\"+\")\n",
    "\n",
    "FUNCION_CADENA(10)"
   ]
  },
  {
   "cell_type": "markdown",
   "metadata": {},
   "source": [
    "## PARTE 6.7: FUNCIONES INTEGRADAS"
   ]
  },
  {
   "cell_type": "code",
   "execution_count": 71,
   "metadata": {},
   "outputs": [
    {
     "name": "stdout",
     "output_type": "stream",
     "text": [
      "19\n"
     ]
    }
   ],
   "source": [
    "#FUNCIÓN INT -> VUELVE UNA CADENA A UN ENTERO (SIEMPRE Y CUANDO SE PUEDA)\n",
    "CADENA_NUM = \"14\"\n",
    "NUM = int(CADENA_NUM)\n",
    "print(NUM+5)"
   ]
  },
  {
   "cell_type": "code",
   "execution_count": 72,
   "metadata": {},
   "outputs": [
    {
     "name": "stdout",
     "output_type": "stream",
     "text": [
      "3.5900000000000003\n"
     ]
    }
   ],
   "source": [
    "#FUNCIÓN FLOAT -> VUELVE UNA CADENA A UN DECIMAL (SIEMPRE Y CUANDO SE PUEDA)\n",
    "CADENA_FLOAT = \"3.14\"\n",
    "FLOAT = float(CADENA_FLOAT)\n",
    "print(FLOAT+0.45)"
   ]
  },
  {
   "cell_type": "code",
   "execution_count": 74,
   "metadata": {},
   "outputs": [
    {
     "name": "stdout",
     "output_type": "stream",
     "text": [
      "HOLA, TENGO 27 AÑOS\n"
     ]
    }
   ],
   "source": [
    "#FUNCIÓN STR -> CONVIERTE A CADENA ALGUNA VARIABLE (SIEMPRE Y CUANDO SE PUEDA)\n",
    "NUM = 27\n",
    "CADENA = \"HOLA, TENGO \"+str(NUM)+\" AÑOS\"\n",
    "print(CADENA)"
   ]
  },
  {
   "cell_type": "code",
   "execution_count": 77,
   "metadata": {},
   "outputs": [
    {
     "name": "stdout",
     "output_type": "stream",
     "text": [
      "0b100010\n",
      "0b111111\n"
     ]
    }
   ],
   "source": [
    "#FUNCIÓN BIN -> CONVERSIÓN DE ENTERO A BINARIO\n",
    "print(bin(34))\n",
    "print(bin(63))"
   ]
  },
  {
   "cell_type": "code",
   "execution_count": 78,
   "metadata": {},
   "outputs": [
    {
     "name": "stdout",
     "output_type": "stream",
     "text": [
      "0x10\n",
      "0xff\n"
     ]
    }
   ],
   "source": [
    "#FUNCIÓN HEX -> CONVERSIÓN DE ENTERO A BASE HEXADECIMAL\n",
    "print(hex(16))\n",
    "print(hex(255))"
   ]
  },
  {
   "cell_type": "code",
   "execution_count": 81,
   "metadata": {},
   "outputs": [
    {
     "name": "stdout",
     "output_type": "stream",
     "text": [
      "34\n",
      "255\n"
     ]
    }
   ],
   "source": [
    "#CONVERTIR A ENTERO UN NÚMERO EN OTRA BASE\n",
    "print(int(\"0b100010\",2))\n",
    "print(int(\"0xff\",16))"
   ]
  },
  {
   "cell_type": "code",
   "execution_count": 83,
   "metadata": {},
   "outputs": [
    {
     "name": "stdout",
     "output_type": "stream",
     "text": [
      "200\n",
      "200\n"
     ]
    }
   ],
   "source": [
    "#FUNCIÓN ABS -> DEVUELVE EL VALOR ABSOLUTO DEL NÚMERO\n",
    "print(abs(-200))\n",
    "print(abs(200))"
   ]
  },
  {
   "cell_type": "code",
   "execution_count": 85,
   "metadata": {},
   "outputs": [
    {
     "name": "stdout",
     "output_type": "stream",
     "text": [
      "6\n",
      "5\n"
     ]
    }
   ],
   "source": [
    "#FUNCIÓN ROUND -> REDONDEA EL NÚMERO PROVISTO\n",
    "print(round(5.5))\n",
    "print(round(5.4))"
   ]
  },
  {
   "cell_type": "code",
   "execution_count": 1,
   "metadata": {},
   "outputs": [
    {
     "name": "stdout",
     "output_type": "stream",
     "text": [
      "19\n",
      "16\n"
     ]
    }
   ],
   "source": [
    "#FUNCIÓN EVAL -> PERMITE EVALUAR UNA CADENA\n",
    "print(eval(\"3*5+4\"))\n",
    "\n",
    "NUM = 15\n",
    "print(eval(\"NUM+1\"))"
   ]
  },
  {
   "cell_type": "code",
   "execution_count": null,
   "metadata": {},
   "outputs": [],
   "source": [
    "#FUNCIÓN HELP -> BRINDA AYUDA\n",
    "help()"
   ]
  },
  {
   "cell_type": "markdown",
   "metadata": {},
   "source": [
    "## PARTE 6.8: FUNCIONES COMO SI FUESEN VARIABLES"
   ]
  },
  {
   "cell_type": "code",
   "execution_count": 15,
   "metadata": {},
   "outputs": [],
   "source": [
    "def FUNCION_EXTERNA():\n",
    "    def FUNCION_INTERNA():\n",
    "        return \"Esta es una función interna\"\n",
    "    return FUNCION_INTERNA"
   ]
  },
  {
   "cell_type": "code",
   "execution_count": 17,
   "metadata": {},
   "outputs": [
    {
     "name": "stdout",
     "output_type": "stream",
     "text": [
      "<function FUNCION_EXTERNA.<locals>.FUNCION_INTERNA at 0x0000012EC6917DC0>\n",
      "Esta es una función interna\n"
     ]
    }
   ],
   "source": [
    "print(FUNCION_EXTERNA())\n",
    "print(FUNCION_EXTERNA()())"
   ]
  },
  {
   "cell_type": "markdown",
   "metadata": {},
   "source": [
    "## PARTE 6.9: FUNCIONES COMO SI FUESEN ARGUMENTOS"
   ]
  },
  {
   "cell_type": "code",
   "execution_count": 25,
   "metadata": {},
   "outputs": [],
   "source": [
    "def IMPRIMIR(VAL):\n",
    "    print(VAL)\n",
    "\n",
    "def PRUEBA():\n",
    "    return \"HOLA\""
   ]
  },
  {
   "cell_type": "code",
   "execution_count": 26,
   "metadata": {},
   "outputs": [
    {
     "name": "stdout",
     "output_type": "stream",
     "text": [
      "HOLA\n"
     ]
    }
   ],
   "source": [
    "IMPRIMIR(PRUEBA())"
   ]
  },
  {
   "cell_type": "markdown",
   "metadata": {},
   "source": [
    "## PARTE 6.10: MONITOREO DE FUNCIONES"
   ]
  },
  {
   "cell_type": "markdown",
   "metadata": {},
   "source": [
    "### MÉTODO 1"
   ]
  },
  {
   "cell_type": "code",
   "execution_count": 34,
   "metadata": {},
   "outputs": [],
   "source": [
    "def PRUEBA1():\n",
    "    print(\"Este es un mensaje de prueba\")\n",
    "    \n",
    "def PRUEBA2():\n",
    "    return \"Este es un retorno de prueba\"\n",
    "\n",
    "def MONITOREO_FUNC(FUNCION):\n",
    "    def MONITOREO_DETALLE():\n",
    "        print(\"INICIO-\",FUNCION.__name__)\n",
    "        FUNCION()\n",
    "        print(\"FIN-\",FUNCION.__name__)\n",
    "    return MONITOREO_DETALLE"
   ]
  },
  {
   "cell_type": "code",
   "execution_count": 35,
   "metadata": {},
   "outputs": [
    {
     "name": "stdout",
     "output_type": "stream",
     "text": [
      "INICIO- PRUEBA1\n",
      "Este es un mensaje de prueba\n",
      "FIN- PRUEBA1\n"
     ]
    }
   ],
   "source": [
    "MONITOREO_FUNC(PRUEBA1)()"
   ]
  },
  {
   "cell_type": "code",
   "execution_count": 36,
   "metadata": {},
   "outputs": [
    {
     "name": "stdout",
     "output_type": "stream",
     "text": [
      "INICIO- PRUEBA2\n",
      "FIN- PRUEBA2\n"
     ]
    }
   ],
   "source": [
    "MONITOREO_FUNC(PRUEBA2)()"
   ]
  },
  {
   "cell_type": "markdown",
   "metadata": {},
   "source": [
    "### MÉTODO 2"
   ]
  },
  {
   "cell_type": "code",
   "execution_count": 37,
   "metadata": {},
   "outputs": [],
   "source": [
    "@MONITOREO_FUNC\n",
    "def PRUEBA1():\n",
    "    print(\"Este es un mensaje de prueba\")\n",
    "    \n",
    "@MONITOREO_FUNC  \n",
    "def PRUEBA2():\n",
    "    return \"Este es un retorno de prueba\""
   ]
  },
  {
   "cell_type": "code",
   "execution_count": 38,
   "metadata": {},
   "outputs": [
    {
     "name": "stdout",
     "output_type": "stream",
     "text": [
      "INICIO- PRUEBA1\n",
      "Este es un mensaje de prueba\n",
      "FIN- PRUEBA1\n"
     ]
    }
   ],
   "source": [
    "PRUEBA1()"
   ]
  },
  {
   "cell_type": "code",
   "execution_count": 39,
   "metadata": {},
   "outputs": [
    {
     "name": "stdout",
     "output_type": "stream",
     "text": [
      "INICIO- PRUEBA2\n",
      "FIN- PRUEBA2\n"
     ]
    }
   ],
   "source": [
    "PRUEBA2()"
   ]
  },
  {
   "cell_type": "markdown",
   "metadata": {},
   "source": [
    "### MÉTODO 3"
   ]
  },
  {
   "cell_type": "code",
   "execution_count": 41,
   "metadata": {},
   "outputs": [],
   "source": [
    "def MONITOREO_FUNC_V2(FUNCION):\n",
    "    def MONITOREO_DETALLE(*args,**kwargs):\n",
    "        print(\"INICIO-\",FUNCION.__name__)\n",
    "        FUNCION(*args,**kwargs)\n",
    "        print(\"FIN-\",FUNCION.__name__)\n",
    "    return MONITOREO_DETALLE"
   ]
  },
  {
   "cell_type": "code",
   "execution_count": 49,
   "metadata": {},
   "outputs": [],
   "source": [
    "@MONITOREO_FUNC_V2\n",
    "def PRUEBA1(NOMBRE):\n",
    "    print(\"Deseo mostrar este nombre: \",NOMBRE)\n",
    "    \n",
    "@MONITOREO_FUNC_V2    \n",
    "def PRUEBA2(NOMBRE):\n",
    "    return NOMBRE"
   ]
  },
  {
   "cell_type": "code",
   "execution_count": 50,
   "metadata": {},
   "outputs": [
    {
     "name": "stdout",
     "output_type": "stream",
     "text": [
      "INICIO- PRUEBA1\n",
      "Deseo mostrar este nombre:  PYTHON\n",
      "FIN- PRUEBA1\n"
     ]
    }
   ],
   "source": [
    "PRUEBA1(\"PYTHON\")"
   ]
  },
  {
   "cell_type": "code",
   "execution_count": 51,
   "metadata": {},
   "outputs": [
    {
     "name": "stdout",
     "output_type": "stream",
     "text": [
      "INICIO- PRUEBA2\n",
      "FIN- PRUEBA2\n"
     ]
    }
   ],
   "source": [
    "PRUEBA2(\"PYTHON\")"
   ]
  },
  {
   "cell_type": "markdown",
   "metadata": {},
   "source": [
    "## PARTE 6.11: FUNCIONES YIELD - NEXT - ITER"
   ]
  },
  {
   "cell_type": "code",
   "execution_count": 52,
   "metadata": {},
   "outputs": [],
   "source": [
    "#YIELD -> ES UN GENERADOR DE VALORES, DE 1 EN 1\n",
    "def FUNCION_SIN_YIELD(NUM):\n",
    "    for VAL in range(NUM):\n",
    "        print(VAL)\n",
    "        \n",
    "def FUNCION_CON_YIELD(NUM):\n",
    "    for VAL in range(NUM):\n",
    "        yield VAL"
   ]
  },
  {
   "cell_type": "code",
   "execution_count": 54,
   "metadata": {},
   "outputs": [
    {
     "name": "stdout",
     "output_type": "stream",
     "text": [
      "0\n",
      "1\n",
      "2\n",
      "3\n",
      "4\n"
     ]
    }
   ],
   "source": [
    "FUNCION_SIN_YIELD(5)"
   ]
  },
  {
   "cell_type": "code",
   "execution_count": 61,
   "metadata": {},
   "outputs": [
    {
     "name": "stdout",
     "output_type": "stream",
     "text": [
      "0\n",
      "1\n",
      "2\n",
      "3\n",
      "4\n"
     ]
    }
   ],
   "source": [
    "for X in FUNCION_CON_YIELD(5):\n",
    "    print(X)"
   ]
  },
  {
   "cell_type": "code",
   "execution_count": 79,
   "metadata": {},
   "outputs": [],
   "source": [
    "#NEXT -> DEVUELVE LOS VALORES DE 1 EN 1 GENERADOS POR LA FUNCIONES YIELD\n",
    "RECOLECTOR = FUNCION_CON_YIELD(5)"
   ]
  },
  {
   "cell_type": "code",
   "execution_count": 81,
   "metadata": {},
   "outputs": [
    {
     "name": "stdout",
     "output_type": "stream",
     "text": [
      "1\n"
     ]
    }
   ],
   "source": [
    "print(next(RECOLECTOR))"
   ]
  },
  {
   "cell_type": "code",
   "execution_count": 82,
   "metadata": {},
   "outputs": [],
   "source": [
    "#ITER -> CONFIGURA UNA LISTA O CADENA COMO ITERABLE\n",
    "LISTA = [0,1,2,3,4]\n",
    "LISTA_ITERABLE = iter(LISTA)"
   ]
  },
  {
   "cell_type": "code",
   "execution_count": 85,
   "metadata": {},
   "outputs": [
    {
     "name": "stdout",
     "output_type": "stream",
     "text": [
      "2\n"
     ]
    }
   ],
   "source": [
    "print(next(LISTA_ITERABLE))"
   ]
  },
  {
   "cell_type": "code",
   "execution_count": 86,
   "metadata": {},
   "outputs": [],
   "source": [
    "CADENA = \"PYTHON2021\"\n",
    "CADENA_ITERABLE = iter(CADENA)"
   ]
  },
  {
   "cell_type": "code",
   "execution_count": 92,
   "metadata": {},
   "outputs": [
    {
     "name": "stdout",
     "output_type": "stream",
     "text": [
      "N\n"
     ]
    }
   ],
   "source": [
    "print(next(CADENA_ITERABLE))"
   ]
  },
  {
   "cell_type": "markdown",
   "metadata": {},
   "source": [
    "## PARTE 6.12: FUNCIONES LAMBDA"
   ]
  },
  {
   "cell_type": "code",
   "execution_count": 110,
   "metadata": {},
   "outputs": [],
   "source": [
    "#RESUMEN DE LA SINTAXIS DE LA FUNCIÓN LAMBDA\n",
    "#VARIABLE = lambda ARGUMENTO : EXPRESIÓN"
   ]
  },
  {
   "cell_type": "code",
   "execution_count": 94,
   "metadata": {},
   "outputs": [
    {
     "data": {
      "text/plain": [
       "12"
      ]
     },
     "execution_count": 94,
     "metadata": {},
     "output_type": "execute_result"
    }
   ],
   "source": [
    "#FUNCIÓN 1\n",
    "def SUMAR_5(NUM):\n",
    "    VALOR_AUMENTADO = NUM + 5\n",
    "    return VALOR_AUMENTADO\n",
    "\n",
    "SUMAR_5(7)"
   ]
  },
  {
   "cell_type": "code",
   "execution_count": 95,
   "metadata": {},
   "outputs": [
    {
     "data": {
      "text/plain": [
       "12"
      ]
     },
     "execution_count": 95,
     "metadata": {},
     "output_type": "execute_result"
    }
   ],
   "source": [
    "#FUNCIÓN 2\n",
    "def SUMAR_5(NUM):\n",
    "    return NUM + 5\n",
    "\n",
    "SUMAR_5(7)"
   ]
  },
  {
   "cell_type": "code",
   "execution_count": 96,
   "metadata": {},
   "outputs": [
    {
     "data": {
      "text/plain": [
       "12"
      ]
     },
     "execution_count": 96,
     "metadata": {},
     "output_type": "execute_result"
    }
   ],
   "source": [
    "#FUNCIÓN 3\n",
    "def SUMAR_5(NUM): return NUM + 5\n",
    "\n",
    "SUMAR_5(7)"
   ]
  },
  {
   "cell_type": "code",
   "execution_count": 98,
   "metadata": {},
   "outputs": [
    {
     "name": "stdout",
     "output_type": "stream",
     "text": [
      "12\n"
     ]
    }
   ],
   "source": [
    "#RESUMEN DON LAMBDA\n",
    "VARIABLE = lambda NUM:NUM+5\n",
    "\n",
    "print(VARIABLE(7))"
   ]
  },
  {
   "cell_type": "code",
   "execution_count": 102,
   "metadata": {},
   "outputs": [
    {
     "name": "stdout",
     "output_type": "stream",
     "text": [
      "12\n",
      "True\n",
      "PYTHO\n"
     ]
    }
   ],
   "source": [
    "#FUNCIÓN LAMBDA QUE DEVUELVE NÚMEROS\n",
    "VARIABLE = lambda NUM : NUM+5\n",
    "print(VARIABLE(7))\n",
    "\n",
    "#FUNCIÓN LAMBDA QUE DEVUELVE BOOLEANO\n",
    "VARIABLE = lambda NUM : NUM%2==0\n",
    "print(VARIABLE(8))\n",
    "\n",
    "#FUNCIÓN LAMBDA QUE DEVUELVE CADENA\n",
    "VARIABLE = lambda CADENA : CADENA[:5]\n",
    "print(VARIABLE(\"PYTHON2021\"))"
   ]
  },
  {
   "cell_type": "code",
   "execution_count": 107,
   "metadata": {},
   "outputs": [
    {
     "name": "stdout",
     "output_type": "stream",
     "text": [
      "13\n",
      "True\n",
      "PYTHOHOLA \n"
     ]
    }
   ],
   "source": [
    "#FUNCIÓN LAMBDA QUE DEVUELVE NÚMEROS\n",
    "VARIABLE = lambda NUM1,NUM2 : NUM1+NUM2\n",
    "print(VARIABLE(7,6))\n",
    "\n",
    "#FUNCIÓN LAMBDA QUE DEVUELVE BOOLEANO\n",
    "VARIABLE = lambda NUM1,NUM2 : NUM1%2==0  and NUM2%2==0 \n",
    "print(VARIABLE(8,10))\n",
    "\n",
    "#FUNCIÓN LAMBDA QUE DEVUELVE CADENA\n",
    "VARIABLE = lambda CADENA1, CADENA2 : CADENA1[:5]+ CADENA2[:5]\n",
    "print(VARIABLE(\"PYTHON2021\",\"HOLA SOY GOKÚ\"))"
   ]
  },
  {
   "cell_type": "markdown",
   "metadata": {},
   "source": [
    "## PARTE 6.13: FUNCIONES FILTER"
   ]
  },
  {
   "cell_type": "code",
   "execution_count": 120,
   "metadata": {},
   "outputs": [],
   "source": [
    "#RESUMEN DE LA SINTAXIS DE LA FUNCIÓN FILTER\n",
    "#filter(CONDICIÓN , OBJETO) "
   ]
  },
  {
   "cell_type": "code",
   "execution_count": 121,
   "metadata": {},
   "outputs": [],
   "source": [
    "LISTA = [1,2,3,4,5,6,7,8,9,10]\n",
    "\n",
    "def FILTRAR(NUM):\n",
    "    if NUM<=5:\n",
    "        return True"
   ]
  },
  {
   "cell_type": "code",
   "execution_count": 122,
   "metadata": {
    "scrolled": true
   },
   "outputs": [
    {
     "data": {
      "text/plain": [
       "<filter at 0x12ec6a04fa0>"
      ]
     },
     "execution_count": 122,
     "metadata": {},
     "output_type": "execute_result"
    }
   ],
   "source": [
    "filter(FILTRAR,LISTA)"
   ]
  },
  {
   "cell_type": "code",
   "execution_count": 123,
   "metadata": {},
   "outputs": [
    {
     "name": "stdout",
     "output_type": "stream",
     "text": [
      "<filter object at 0x0000012EC6A04460>\n"
     ]
    }
   ],
   "source": [
    "print(filter(FILTRAR,LISTA))"
   ]
  },
  {
   "cell_type": "code",
   "execution_count": 124,
   "metadata": {},
   "outputs": [
    {
     "data": {
      "text/plain": [
       "[1, 2, 3, 4, 5]"
      ]
     },
     "execution_count": 124,
     "metadata": {},
     "output_type": "execute_result"
    }
   ],
   "source": [
    "list(filter(FILTRAR,LISTA))"
   ]
  },
  {
   "cell_type": "code",
   "execution_count": 125,
   "metadata": {},
   "outputs": [
    {
     "data": {
      "text/plain": [
       "[1, 2, 3, 4, 5]"
      ]
     },
     "execution_count": 125,
     "metadata": {},
     "output_type": "execute_result"
    }
   ],
   "source": [
    "LISTA = [1,2,3,4,5,6,7,8,9,10]\n",
    "list(filter(lambda NUM : NUM<=5 ,LISTA))"
   ]
  },
  {
   "cell_type": "code",
   "execution_count": 126,
   "metadata": {},
   "outputs": [
    {
     "data": {
      "text/plain": [
       "[2, 4, 6, 8, 10]"
      ]
     },
     "execution_count": 126,
     "metadata": {},
     "output_type": "execute_result"
    }
   ],
   "source": [
    "LISTA = [1,2,3,4,5,6,7,8,9,10]\n",
    "list(filter(lambda NUM : NUM%2==0 ,LISTA))"
   ]
  },
  {
   "cell_type": "code",
   "execution_count": 127,
   "metadata": {},
   "outputs": [
    {
     "data": {
      "text/plain": [
       "[7, 8, 9, 10]"
      ]
     },
     "execution_count": 127,
     "metadata": {},
     "output_type": "execute_result"
    }
   ],
   "source": [
    "LISTA = [1,2,3,4,5,6,7,8,9,10]\n",
    "list(filter(lambda NUM : NUM>=7 ,LISTA))"
   ]
  },
  {
   "cell_type": "markdown",
   "metadata": {},
   "source": [
    "## PARTE 6.14: FUNCIONES MAP"
   ]
  },
  {
   "cell_type": "code",
   "execution_count": 128,
   "metadata": {},
   "outputs": [],
   "source": [
    "#RESUMEN DE LA SINTAXIS DE LA FUNCIÓN MAP\n",
    "#map(FÓRMULA , OBJETO) "
   ]
  },
  {
   "cell_type": "code",
   "execution_count": 133,
   "metadata": {},
   "outputs": [],
   "source": [
    "LISTA = [1,2,3,4,5,6,7,8,9,10]\n",
    "\n",
    "def MODIFICAR(NUM):\n",
    "    return NUM * 2"
   ]
  },
  {
   "cell_type": "code",
   "execution_count": 130,
   "metadata": {},
   "outputs": [
    {
     "data": {
      "text/plain": [
       "<map at 0x12ec6a04d60>"
      ]
     },
     "execution_count": 130,
     "metadata": {},
     "output_type": "execute_result"
    }
   ],
   "source": [
    "map(MODIFICAR,LISTA)"
   ]
  },
  {
   "cell_type": "code",
   "execution_count": 131,
   "metadata": {},
   "outputs": [
    {
     "name": "stdout",
     "output_type": "stream",
     "text": [
      "<map object at 0x0000012EC6952C40>\n"
     ]
    }
   ],
   "source": [
    "print(map(MODIFICAR,LISTA))"
   ]
  },
  {
   "cell_type": "code",
   "execution_count": 134,
   "metadata": {},
   "outputs": [
    {
     "data": {
      "text/plain": [
       "[2, 4, 6, 8, 10, 12, 14, 16, 18, 20]"
      ]
     },
     "execution_count": 134,
     "metadata": {},
     "output_type": "execute_result"
    }
   ],
   "source": [
    "list(map(MODIFICAR,LISTA))"
   ]
  },
  {
   "cell_type": "code",
   "execution_count": 138,
   "metadata": {},
   "outputs": [
    {
     "data": {
      "text/plain": [
       "[2, 3, 4, 5, 6, 7, 8, 9, 10, 11]"
      ]
     },
     "execution_count": 138,
     "metadata": {},
     "output_type": "execute_result"
    }
   ],
   "source": [
    "LISTA = [1,2,3,4,5,6,7,8,9,10]\n",
    "list(map(lambda NUM : NUM + 1 , LISTA))"
   ]
  },
  {
   "cell_type": "code",
   "execution_count": 139,
   "metadata": {},
   "outputs": [
    {
     "data": {
      "text/plain": [
       "[2, 4, 6, 8, 10, 12, 14, 16, 18, 20]"
      ]
     },
     "execution_count": 139,
     "metadata": {},
     "output_type": "execute_result"
    }
   ],
   "source": [
    "LISTA = [1,2,3,4,5,6,7,8,9,10]\n",
    "list(map(lambda NUM : NUM * 2 , LISTA))"
   ]
  },
  {
   "cell_type": "code",
   "execution_count": 140,
   "metadata": {},
   "outputs": [
    {
     "data": {
      "text/plain": [
       "[1, 2, 0, 1, 2, 0, 1, 2, 0, 1]"
      ]
     },
     "execution_count": 140,
     "metadata": {},
     "output_type": "execute_result"
    }
   ],
   "source": [
    "LISTA = [1,2,3,4,5,6,7,8,9,10]\n",
    "list(map(lambda NUM : NUM % 3 , LISTA))"
   ]
  },
  {
   "cell_type": "code",
   "execution_count": null,
   "metadata": {},
   "outputs": [],
   "source": []
  }
 ],
 "metadata": {
  "kernelspec": {
   "display_name": "Python 3",
   "language": "python",
   "name": "python3"
  },
  "language_info": {
   "codemirror_mode": {
    "name": "ipython",
    "version": 3
   },
   "file_extension": ".py",
   "mimetype": "text/x-python",
   "name": "python",
   "nbconvert_exporter": "python",
   "pygments_lexer": "ipython3",
   "version": "3.8.3"
  }
 },
 "nbformat": 4,
 "nbformat_minor": 4
}
