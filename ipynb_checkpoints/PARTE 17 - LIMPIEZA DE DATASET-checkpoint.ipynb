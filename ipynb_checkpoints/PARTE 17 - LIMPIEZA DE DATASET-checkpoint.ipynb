{
 "cells": [
  {
   "cell_type": "markdown",
   "metadata": {},
   "source": [
    "# PARTE 17: LIMPIEZA Y MODIFICACIÓN DE DATASET"
   ]
  },
  {
   "cell_type": "markdown",
   "metadata": {},
   "source": [
    "## PARTE 17.1: MUESTRA DE INFORMACIÓN DEL DATASET"
   ]
  },
  {
   "cell_type": "code",
   "execution_count": 130,
   "metadata": {},
   "outputs": [],
   "source": [
    "import pandas as pd\n",
    "RUTA = \"DATASETS - CERTIFICACIÓN/16_2_CARGA_XLS_COMPUTACION_BRASIL.xlsx\"\n",
    "DATASET = pd.read_excel(RUTA,\"Sheet1\")"
   ]
  },
  {
   "cell_type": "code",
   "execution_count": 3,
   "metadata": {},
   "outputs": [
    {
     "data": {
      "text/html": [
       "<div>\n",
       "<style scoped>\n",
       "    .dataframe tbody tr th:only-of-type {\n",
       "        vertical-align: middle;\n",
       "    }\n",
       "\n",
       "    .dataframe tbody tr th {\n",
       "        vertical-align: top;\n",
       "    }\n",
       "\n",
       "    .dataframe thead th {\n",
       "        text-align: right;\n",
       "    }\n",
       "</style>\n",
       "<table border=\"1\" class=\"dataframe\">\n",
       "  <thead>\n",
       "    <tr style=\"text-align: right;\">\n",
       "      <th></th>\n",
       "      <th>time</th>\n",
       "      <th>Rank</th>\n",
       "      <th>Product Names</th>\n",
       "      <th>Stars</th>\n",
       "      <th>Reviews</th>\n",
       "      <th>Authors/Company</th>\n",
       "      <th>Edition/Console</th>\n",
       "      <th>Price_std_or_min</th>\n",
       "      <th>Max_prices</th>\n",
       "    </tr>\n",
       "  </thead>\n",
       "  <tbody>\n",
       "    <tr>\n",
       "      <th>0</th>\n",
       "      <td>2020-08-01 18:22</td>\n",
       "      <td>1</td>\n",
       "      <td>Wacom One CTL472 - Mesa Digitalizadora, Preto ...</td>\n",
       "      <td>NaN</td>\n",
       "      <td>NaN</td>\n",
       "      <td>NaN</td>\n",
       "      <td>NaN</td>\n",
       "      <td>379.00</td>\n",
       "      <td>NaN</td>\n",
       "    </tr>\n",
       "    <tr>\n",
       "      <th>1</th>\n",
       "      <td>2020-08-01 18:22</td>\n",
       "      <td>2</td>\n",
       "      <td>Multilaser MO251 - Mouse Sem Fio 2.4 Ghz 1200 ...</td>\n",
       "      <td>NaN</td>\n",
       "      <td>NaN</td>\n",
       "      <td>NaN</td>\n",
       "      <td>NaN</td>\n",
       "      <td>29.90</td>\n",
       "      <td>NaN</td>\n",
       "    </tr>\n",
       "    <tr>\n",
       "      <th>2</th>\n",
       "      <td>2020-08-01 18:22</td>\n",
       "      <td>3</td>\n",
       "      <td>Suporte para Notebook, OCTOO, Uptable, UP-BL, ...</td>\n",
       "      <td>NaN</td>\n",
       "      <td>NaN</td>\n",
       "      <td>NaN</td>\n",
       "      <td>NaN</td>\n",
       "      <td>47.54</td>\n",
       "      <td>NaN</td>\n",
       "    </tr>\n",
       "    <tr>\n",
       "      <th>3</th>\n",
       "      <td>2020-08-01 18:22</td>\n",
       "      <td>4</td>\n",
       "      <td>Repetidor Expansor TP-Link Wi-Fi Network 300Mb...</td>\n",
       "      <td>NaN</td>\n",
       "      <td>NaN</td>\n",
       "      <td>NaN</td>\n",
       "      <td>NaN</td>\n",
       "      <td>151.99</td>\n",
       "      <td>NaN</td>\n",
       "    </tr>\n",
       "    <tr>\n",
       "      <th>4</th>\n",
       "      <td>2020-08-01 18:22</td>\n",
       "      <td>5</td>\n",
       "      <td>Mouse Logitech M170 Wireless Preto - 910-004940</td>\n",
       "      <td>NaN</td>\n",
       "      <td>NaN</td>\n",
       "      <td>NaN</td>\n",
       "      <td>NaN</td>\n",
       "      <td>58.13</td>\n",
       "      <td>NaN</td>\n",
       "    </tr>\n",
       "  </tbody>\n",
       "</table>\n",
       "</div>"
      ],
      "text/plain": [
       "               time  Rank                                      Product Names  \\\n",
       "0  2020-08-01 18:22     1  Wacom One CTL472 - Mesa Digitalizadora, Preto ...   \n",
       "1  2020-08-01 18:22     2  Multilaser MO251 - Mouse Sem Fio 2.4 Ghz 1200 ...   \n",
       "2  2020-08-01 18:22     3  Suporte para Notebook, OCTOO, Uptable, UP-BL, ...   \n",
       "3  2020-08-01 18:22     4  Repetidor Expansor TP-Link Wi-Fi Network 300Mb...   \n",
       "4  2020-08-01 18:22     5    Mouse Logitech M170 Wireless Preto - 910-004940   \n",
       "\n",
       "   Stars  Reviews  Authors/Company  Edition/Console  Price_std_or_min  \\\n",
       "0    NaN      NaN              NaN              NaN            379.00   \n",
       "1    NaN      NaN              NaN              NaN             29.90   \n",
       "2    NaN      NaN              NaN              NaN             47.54   \n",
       "3    NaN      NaN              NaN              NaN            151.99   \n",
       "4    NaN      NaN              NaN              NaN             58.13   \n",
       "\n",
       "   Max_prices  \n",
       "0         NaN  \n",
       "1         NaN  \n",
       "2         NaN  \n",
       "3         NaN  \n",
       "4         NaN  "
      ]
     },
     "execution_count": 3,
     "metadata": {},
     "output_type": "execute_result"
    }
   ],
   "source": [
    "#PARA MOSTRAR SOLO LA CABECERA (5 FILAS):\n",
    "DATASET.head()"
   ]
  },
  {
   "cell_type": "code",
   "execution_count": 5,
   "metadata": {},
   "outputs": [
    {
     "data": {
      "text/html": [
       "<div>\n",
       "<style scoped>\n",
       "    .dataframe tbody tr th:only-of-type {\n",
       "        vertical-align: middle;\n",
       "    }\n",
       "\n",
       "    .dataframe tbody tr th {\n",
       "        vertical-align: top;\n",
       "    }\n",
       "\n",
       "    .dataframe thead th {\n",
       "        text-align: right;\n",
       "    }\n",
       "</style>\n",
       "<table border=\"1\" class=\"dataframe\">\n",
       "  <thead>\n",
       "    <tr style=\"text-align: right;\">\n",
       "      <th></th>\n",
       "      <th>time</th>\n",
       "      <th>Rank</th>\n",
       "      <th>Product Names</th>\n",
       "      <th>Stars</th>\n",
       "      <th>Reviews</th>\n",
       "      <th>Authors/Company</th>\n",
       "      <th>Edition/Console</th>\n",
       "      <th>Price_std_or_min</th>\n",
       "      <th>Max_prices</th>\n",
       "    </tr>\n",
       "  </thead>\n",
       "  <tbody>\n",
       "    <tr>\n",
       "      <th>0</th>\n",
       "      <td>2020-08-01 18:22</td>\n",
       "      <td>1</td>\n",
       "      <td>Wacom One CTL472 - Mesa Digitalizadora, Preto ...</td>\n",
       "      <td>NaN</td>\n",
       "      <td>NaN</td>\n",
       "      <td>NaN</td>\n",
       "      <td>NaN</td>\n",
       "      <td>379.00</td>\n",
       "      <td>NaN</td>\n",
       "    </tr>\n",
       "    <tr>\n",
       "      <th>1</th>\n",
       "      <td>2020-08-01 18:22</td>\n",
       "      <td>2</td>\n",
       "      <td>Multilaser MO251 - Mouse Sem Fio 2.4 Ghz 1200 ...</td>\n",
       "      <td>NaN</td>\n",
       "      <td>NaN</td>\n",
       "      <td>NaN</td>\n",
       "      <td>NaN</td>\n",
       "      <td>29.90</td>\n",
       "      <td>NaN</td>\n",
       "    </tr>\n",
       "    <tr>\n",
       "      <th>2</th>\n",
       "      <td>2020-08-01 18:22</td>\n",
       "      <td>3</td>\n",
       "      <td>Suporte para Notebook, OCTOO, Uptable, UP-BL, ...</td>\n",
       "      <td>NaN</td>\n",
       "      <td>NaN</td>\n",
       "      <td>NaN</td>\n",
       "      <td>NaN</td>\n",
       "      <td>47.54</td>\n",
       "      <td>NaN</td>\n",
       "    </tr>\n",
       "    <tr>\n",
       "      <th>3</th>\n",
       "      <td>2020-08-01 18:22</td>\n",
       "      <td>4</td>\n",
       "      <td>Repetidor Expansor TP-Link Wi-Fi Network 300Mb...</td>\n",
       "      <td>NaN</td>\n",
       "      <td>NaN</td>\n",
       "      <td>NaN</td>\n",
       "      <td>NaN</td>\n",
       "      <td>151.99</td>\n",
       "      <td>NaN</td>\n",
       "    </tr>\n",
       "    <tr>\n",
       "      <th>4</th>\n",
       "      <td>2020-08-01 18:22</td>\n",
       "      <td>5</td>\n",
       "      <td>Mouse Logitech M170 Wireless Preto - 910-004940</td>\n",
       "      <td>NaN</td>\n",
       "      <td>NaN</td>\n",
       "      <td>NaN</td>\n",
       "      <td>NaN</td>\n",
       "      <td>58.13</td>\n",
       "      <td>NaN</td>\n",
       "    </tr>\n",
       "    <tr>\n",
       "      <th>5</th>\n",
       "      <td>2020-08-01 18:22</td>\n",
       "      <td>6</td>\n",
       "      <td>MULTILASER Combo Teclado e Mouse Sem Fio de En...</td>\n",
       "      <td>NaN</td>\n",
       "      <td>NaN</td>\n",
       "      <td>NaN</td>\n",
       "      <td>NaN</td>\n",
       "      <td>82.99</td>\n",
       "      <td>NaN</td>\n",
       "    </tr>\n",
       "    <tr>\n",
       "      <th>6</th>\n",
       "      <td>2020-08-01 18:22</td>\n",
       "      <td>7</td>\n",
       "      <td>Base Cooler Vertical Para Notebook Multilaser ...</td>\n",
       "      <td>NaN</td>\n",
       "      <td>NaN</td>\n",
       "      <td>NaN</td>\n",
       "      <td>NaN</td>\n",
       "      <td>64.49</td>\n",
       "      <td>NaN</td>\n",
       "    </tr>\n",
       "  </tbody>\n",
       "</table>\n",
       "</div>"
      ],
      "text/plain": [
       "               time  Rank                                      Product Names  \\\n",
       "0  2020-08-01 18:22     1  Wacom One CTL472 - Mesa Digitalizadora, Preto ...   \n",
       "1  2020-08-01 18:22     2  Multilaser MO251 - Mouse Sem Fio 2.4 Ghz 1200 ...   \n",
       "2  2020-08-01 18:22     3  Suporte para Notebook, OCTOO, Uptable, UP-BL, ...   \n",
       "3  2020-08-01 18:22     4  Repetidor Expansor TP-Link Wi-Fi Network 300Mb...   \n",
       "4  2020-08-01 18:22     5    Mouse Logitech M170 Wireless Preto - 910-004940   \n",
       "5  2020-08-01 18:22     6  MULTILASER Combo Teclado e Mouse Sem Fio de En...   \n",
       "6  2020-08-01 18:22     7  Base Cooler Vertical Para Notebook Multilaser ...   \n",
       "\n",
       "   Stars  Reviews  Authors/Company  Edition/Console  Price_std_or_min  \\\n",
       "0    NaN      NaN              NaN              NaN            379.00   \n",
       "1    NaN      NaN              NaN              NaN             29.90   \n",
       "2    NaN      NaN              NaN              NaN             47.54   \n",
       "3    NaN      NaN              NaN              NaN            151.99   \n",
       "4    NaN      NaN              NaN              NaN             58.13   \n",
       "5    NaN      NaN              NaN              NaN             82.99   \n",
       "6    NaN      NaN              NaN              NaN             64.49   \n",
       "\n",
       "   Max_prices  \n",
       "0         NaN  \n",
       "1         NaN  \n",
       "2         NaN  \n",
       "3         NaN  \n",
       "4         NaN  \n",
       "5         NaN  \n",
       "6         NaN  "
      ]
     },
     "execution_count": 5,
     "metadata": {},
     "output_type": "execute_result"
    }
   ],
   "source": [
    "#PARA MOSTRAR N FILAS DE LA CABECERA:\n",
    "DATASET.head(7)"
   ]
  },
  {
   "cell_type": "code",
   "execution_count": 6,
   "metadata": {},
   "outputs": [
    {
     "data": {
      "text/html": [
       "<div>\n",
       "<style scoped>\n",
       "    .dataframe tbody tr th:only-of-type {\n",
       "        vertical-align: middle;\n",
       "    }\n",
       "\n",
       "    .dataframe tbody tr th {\n",
       "        vertical-align: top;\n",
       "    }\n",
       "\n",
       "    .dataframe thead th {\n",
       "        text-align: right;\n",
       "    }\n",
       "</style>\n",
       "<table border=\"1\" class=\"dataframe\">\n",
       "  <thead>\n",
       "    <tr style=\"text-align: right;\">\n",
       "      <th></th>\n",
       "      <th>time</th>\n",
       "      <th>Rank</th>\n",
       "      <th>Product Names</th>\n",
       "      <th>Stars</th>\n",
       "      <th>Reviews</th>\n",
       "      <th>Authors/Company</th>\n",
       "      <th>Edition/Console</th>\n",
       "      <th>Price_std_or_min</th>\n",
       "      <th>Max_prices</th>\n",
       "    </tr>\n",
       "  </thead>\n",
       "  <tbody>\n",
       "    <tr>\n",
       "      <th>34495</th>\n",
       "      <td>2020-10-01 22:37</td>\n",
       "      <td>46</td>\n",
       "      <td>Mouse Pad Ergonomico Gel ERG-102 Preto FORTREK</td>\n",
       "      <td>4.5</td>\n",
       "      <td>956.0</td>\n",
       "      <td>NaN</td>\n",
       "      <td>NaN</td>\n",
       "      <td>28.51</td>\n",
       "      <td>NaN</td>\n",
       "    </tr>\n",
       "    <tr>\n",
       "      <th>34496</th>\n",
       "      <td>2020-10-01 22:37</td>\n",
       "      <td>47</td>\n",
       "      <td>C3Tech NBC-50 Base para Notebook, Preto</td>\n",
       "      <td>4.6</td>\n",
       "      <td>2135.0</td>\n",
       "      <td>NaN</td>\n",
       "      <td>NaN</td>\n",
       "      <td>74.90</td>\n",
       "      <td>NaN</td>\n",
       "    </tr>\n",
       "    <tr>\n",
       "      <th>34497</th>\n",
       "      <td>2020-10-01 22:37</td>\n",
       "      <td>48</td>\n",
       "      <td>Base Cooler Vertical Para Notebook Multilaser ...</td>\n",
       "      <td>4.6</td>\n",
       "      <td>2251.0</td>\n",
       "      <td>NaN</td>\n",
       "      <td>NaN</td>\n",
       "      <td>137.89</td>\n",
       "      <td>NaN</td>\n",
       "    </tr>\n",
       "    <tr>\n",
       "      <th>34498</th>\n",
       "      <td>2020-10-01 22:37</td>\n",
       "      <td>49</td>\n",
       "      <td>Garrafa De Tinta Original Epson Ecotank 544 Pr...</td>\n",
       "      <td>4.7</td>\n",
       "      <td>276.0</td>\n",
       "      <td>NaN</td>\n",
       "      <td>NaN</td>\n",
       "      <td>43.90</td>\n",
       "      <td>NaN</td>\n",
       "    </tr>\n",
       "    <tr>\n",
       "      <th>34499</th>\n",
       "      <td>2020-10-01 22:37</td>\n",
       "      <td>50</td>\n",
       "      <td>Cabo HDMI X DVI-D HMD-201 1, 8m, Fortrek</td>\n",
       "      <td>4.6</td>\n",
       "      <td>214.0</td>\n",
       "      <td>NaN</td>\n",
       "      <td>NaN</td>\n",
       "      <td>32.56</td>\n",
       "      <td>NaN</td>\n",
       "    </tr>\n",
       "  </tbody>\n",
       "</table>\n",
       "</div>"
      ],
      "text/plain": [
       "                   time  Rank  \\\n",
       "34495  2020-10-01 22:37    46   \n",
       "34496  2020-10-01 22:37    47   \n",
       "34497  2020-10-01 22:37    48   \n",
       "34498  2020-10-01 22:37    49   \n",
       "34499  2020-10-01 22:37    50   \n",
       "\n",
       "                                           Product Names  Stars  Reviews  \\\n",
       "34495     Mouse Pad Ergonomico Gel ERG-102 Preto FORTREK    4.5    956.0   \n",
       "34496            C3Tech NBC-50 Base para Notebook, Preto    4.6   2135.0   \n",
       "34497  Base Cooler Vertical Para Notebook Multilaser ...    4.6   2251.0   \n",
       "34498  Garrafa De Tinta Original Epson Ecotank 544 Pr...    4.7    276.0   \n",
       "34499           Cabo HDMI X DVI-D HMD-201 1, 8m, Fortrek    4.6    214.0   \n",
       "\n",
       "       Authors/Company  Edition/Console  Price_std_or_min  Max_prices  \n",
       "34495              NaN              NaN             28.51         NaN  \n",
       "34496              NaN              NaN             74.90         NaN  \n",
       "34497              NaN              NaN            137.89         NaN  \n",
       "34498              NaN              NaN             43.90         NaN  \n",
       "34499              NaN              NaN             32.56         NaN  "
      ]
     },
     "execution_count": 6,
     "metadata": {},
     "output_type": "execute_result"
    }
   ],
   "source": [
    "#PARA MOSTRAR SOLO LA COLA (5 FILAS):\n",
    "DATASET.tail()"
   ]
  },
  {
   "cell_type": "code",
   "execution_count": 7,
   "metadata": {},
   "outputs": [
    {
     "data": {
      "text/html": [
       "<div>\n",
       "<style scoped>\n",
       "    .dataframe tbody tr th:only-of-type {\n",
       "        vertical-align: middle;\n",
       "    }\n",
       "\n",
       "    .dataframe tbody tr th {\n",
       "        vertical-align: top;\n",
       "    }\n",
       "\n",
       "    .dataframe thead th {\n",
       "        text-align: right;\n",
       "    }\n",
       "</style>\n",
       "<table border=\"1\" class=\"dataframe\">\n",
       "  <thead>\n",
       "    <tr style=\"text-align: right;\">\n",
       "      <th></th>\n",
       "      <th>time</th>\n",
       "      <th>Rank</th>\n",
       "      <th>Product Names</th>\n",
       "      <th>Stars</th>\n",
       "      <th>Reviews</th>\n",
       "      <th>Authors/Company</th>\n",
       "      <th>Edition/Console</th>\n",
       "      <th>Price_std_or_min</th>\n",
       "      <th>Max_prices</th>\n",
       "    </tr>\n",
       "  </thead>\n",
       "  <tbody>\n",
       "    <tr>\n",
       "      <th>34493</th>\n",
       "      <td>2020-10-01 22:37</td>\n",
       "      <td>44</td>\n",
       "      <td>TP-Link AC1200 - Archer C6 Roteador Wireless D...</td>\n",
       "      <td>4.7</td>\n",
       "      <td>973.0</td>\n",
       "      <td>NaN</td>\n",
       "      <td>NaN</td>\n",
       "      <td>359.00</td>\n",
       "      <td>NaN</td>\n",
       "    </tr>\n",
       "    <tr>\n",
       "      <th>34494</th>\n",
       "      <td>2020-10-01 22:37</td>\n",
       "      <td>45</td>\n",
       "      <td>Fortrek PRO M7 RGB - Mouse Gamer, Preto</td>\n",
       "      <td>4.7</td>\n",
       "      <td>1670.0</td>\n",
       "      <td>NaN</td>\n",
       "      <td>NaN</td>\n",
       "      <td>75.90</td>\n",
       "      <td>NaN</td>\n",
       "    </tr>\n",
       "    <tr>\n",
       "      <th>34495</th>\n",
       "      <td>2020-10-01 22:37</td>\n",
       "      <td>46</td>\n",
       "      <td>Mouse Pad Ergonomico Gel ERG-102 Preto FORTREK</td>\n",
       "      <td>4.5</td>\n",
       "      <td>956.0</td>\n",
       "      <td>NaN</td>\n",
       "      <td>NaN</td>\n",
       "      <td>28.51</td>\n",
       "      <td>NaN</td>\n",
       "    </tr>\n",
       "    <tr>\n",
       "      <th>34496</th>\n",
       "      <td>2020-10-01 22:37</td>\n",
       "      <td>47</td>\n",
       "      <td>C3Tech NBC-50 Base para Notebook, Preto</td>\n",
       "      <td>4.6</td>\n",
       "      <td>2135.0</td>\n",
       "      <td>NaN</td>\n",
       "      <td>NaN</td>\n",
       "      <td>74.90</td>\n",
       "      <td>NaN</td>\n",
       "    </tr>\n",
       "    <tr>\n",
       "      <th>34497</th>\n",
       "      <td>2020-10-01 22:37</td>\n",
       "      <td>48</td>\n",
       "      <td>Base Cooler Vertical Para Notebook Multilaser ...</td>\n",
       "      <td>4.6</td>\n",
       "      <td>2251.0</td>\n",
       "      <td>NaN</td>\n",
       "      <td>NaN</td>\n",
       "      <td>137.89</td>\n",
       "      <td>NaN</td>\n",
       "    </tr>\n",
       "    <tr>\n",
       "      <th>34498</th>\n",
       "      <td>2020-10-01 22:37</td>\n",
       "      <td>49</td>\n",
       "      <td>Garrafa De Tinta Original Epson Ecotank 544 Pr...</td>\n",
       "      <td>4.7</td>\n",
       "      <td>276.0</td>\n",
       "      <td>NaN</td>\n",
       "      <td>NaN</td>\n",
       "      <td>43.90</td>\n",
       "      <td>NaN</td>\n",
       "    </tr>\n",
       "    <tr>\n",
       "      <th>34499</th>\n",
       "      <td>2020-10-01 22:37</td>\n",
       "      <td>50</td>\n",
       "      <td>Cabo HDMI X DVI-D HMD-201 1, 8m, Fortrek</td>\n",
       "      <td>4.6</td>\n",
       "      <td>214.0</td>\n",
       "      <td>NaN</td>\n",
       "      <td>NaN</td>\n",
       "      <td>32.56</td>\n",
       "      <td>NaN</td>\n",
       "    </tr>\n",
       "  </tbody>\n",
       "</table>\n",
       "</div>"
      ],
      "text/plain": [
       "                   time  Rank  \\\n",
       "34493  2020-10-01 22:37    44   \n",
       "34494  2020-10-01 22:37    45   \n",
       "34495  2020-10-01 22:37    46   \n",
       "34496  2020-10-01 22:37    47   \n",
       "34497  2020-10-01 22:37    48   \n",
       "34498  2020-10-01 22:37    49   \n",
       "34499  2020-10-01 22:37    50   \n",
       "\n",
       "                                           Product Names  Stars  Reviews  \\\n",
       "34493  TP-Link AC1200 - Archer C6 Roteador Wireless D...    4.7    973.0   \n",
       "34494            Fortrek PRO M7 RGB - Mouse Gamer, Preto    4.7   1670.0   \n",
       "34495     Mouse Pad Ergonomico Gel ERG-102 Preto FORTREK    4.5    956.0   \n",
       "34496            C3Tech NBC-50 Base para Notebook, Preto    4.6   2135.0   \n",
       "34497  Base Cooler Vertical Para Notebook Multilaser ...    4.6   2251.0   \n",
       "34498  Garrafa De Tinta Original Epson Ecotank 544 Pr...    4.7    276.0   \n",
       "34499           Cabo HDMI X DVI-D HMD-201 1, 8m, Fortrek    4.6    214.0   \n",
       "\n",
       "       Authors/Company  Edition/Console  Price_std_or_min  Max_prices  \n",
       "34493              NaN              NaN            359.00         NaN  \n",
       "34494              NaN              NaN             75.90         NaN  \n",
       "34495              NaN              NaN             28.51         NaN  \n",
       "34496              NaN              NaN             74.90         NaN  \n",
       "34497              NaN              NaN            137.89         NaN  \n",
       "34498              NaN              NaN             43.90         NaN  \n",
       "34499              NaN              NaN             32.56         NaN  "
      ]
     },
     "execution_count": 7,
     "metadata": {},
     "output_type": "execute_result"
    }
   ],
   "source": [
    "#PARA MOSTRAR N FILAS DE LA COLA:\n",
    "DATASET.tail(7)"
   ]
  },
  {
   "cell_type": "code",
   "execution_count": 13,
   "metadata": {},
   "outputs": [
    {
     "name": "stdout",
     "output_type": "stream",
     "text": [
      "(34500, 9)\n",
      "34500\n",
      "9\n"
     ]
    }
   ],
   "source": [
    "#PARA SABER LA CANTIDAD DE FILAS Y COLUMNAS DEL DATASET\n",
    "print(DATASET.shape)\n",
    "print(DATASET.shape[0]) #FILAS\n",
    "print(DATASET.shape[1]) #COLUMNAS"
   ]
  },
  {
   "cell_type": "code",
   "execution_count": 15,
   "metadata": {},
   "outputs": [
    {
     "data": {
      "text/plain": [
       "array(['time', 'Rank', 'Product Names', 'Stars', 'Reviews',\n",
       "       'Authors/Company', 'Edition/Console', 'Price_std_or_min',\n",
       "       'Max_prices'], dtype=object)"
      ]
     },
     "execution_count": 15,
     "metadata": {},
     "output_type": "execute_result"
    }
   ],
   "source": [
    "#NOMBRE DE LAS COLUMNAS DEL DATASET\n",
    "DATASET.columns.values"
   ]
  },
  {
   "cell_type": "code",
   "execution_count": 16,
   "metadata": {},
   "outputs": [
    {
     "data": {
      "text/html": [
       "<div>\n",
       "<style scoped>\n",
       "    .dataframe tbody tr th:only-of-type {\n",
       "        vertical-align: middle;\n",
       "    }\n",
       "\n",
       "    .dataframe tbody tr th {\n",
       "        vertical-align: top;\n",
       "    }\n",
       "\n",
       "    .dataframe thead th {\n",
       "        text-align: right;\n",
       "    }\n",
       "</style>\n",
       "<table border=\"1\" class=\"dataframe\">\n",
       "  <thead>\n",
       "    <tr style=\"text-align: right;\">\n",
       "      <th></th>\n",
       "      <th>Rank</th>\n",
       "      <th>Stars</th>\n",
       "      <th>Reviews</th>\n",
       "      <th>Authors/Company</th>\n",
       "      <th>Edition/Console</th>\n",
       "      <th>Price_std_or_min</th>\n",
       "      <th>Max_prices</th>\n",
       "    </tr>\n",
       "  </thead>\n",
       "  <tbody>\n",
       "    <tr>\n",
       "      <th>count</th>\n",
       "      <td>34500.000000</td>\n",
       "      <td>27085.000000</td>\n",
       "      <td>27085.000000</td>\n",
       "      <td>0.0</td>\n",
       "      <td>0.0</td>\n",
       "      <td>34106.000000</td>\n",
       "      <td>0.0</td>\n",
       "    </tr>\n",
       "    <tr>\n",
       "      <th>mean</th>\n",
       "      <td>25.500000</td>\n",
       "      <td>4.554554</td>\n",
       "      <td>2766.063356</td>\n",
       "      <td>NaN</td>\n",
       "      <td>NaN</td>\n",
       "      <td>271.415529</td>\n",
       "      <td>NaN</td>\n",
       "    </tr>\n",
       "    <tr>\n",
       "      <th>std</th>\n",
       "      <td>14.431079</td>\n",
       "      <td>0.275569</td>\n",
       "      <td>6682.083448</td>\n",
       "      <td>NaN</td>\n",
       "      <td>NaN</td>\n",
       "      <td>683.243125</td>\n",
       "      <td>NaN</td>\n",
       "    </tr>\n",
       "    <tr>\n",
       "      <th>min</th>\n",
       "      <td>1.000000</td>\n",
       "      <td>1.000000</td>\n",
       "      <td>1.000000</td>\n",
       "      <td>NaN</td>\n",
       "      <td>NaN</td>\n",
       "      <td>0.010441</td>\n",
       "      <td>NaN</td>\n",
       "    </tr>\n",
       "    <tr>\n",
       "      <th>25%</th>\n",
       "      <td>13.000000</td>\n",
       "      <td>4.500000</td>\n",
       "      <td>283.000000</td>\n",
       "      <td>NaN</td>\n",
       "      <td>NaN</td>\n",
       "      <td>29.900000</td>\n",
       "      <td>NaN</td>\n",
       "    </tr>\n",
       "    <tr>\n",
       "      <th>50%</th>\n",
       "      <td>25.500000</td>\n",
       "      <td>4.600000</td>\n",
       "      <td>840.000000</td>\n",
       "      <td>NaN</td>\n",
       "      <td>NaN</td>\n",
       "      <td>59.000000</td>\n",
       "      <td>NaN</td>\n",
       "    </tr>\n",
       "    <tr>\n",
       "      <th>75%</th>\n",
       "      <td>38.000000</td>\n",
       "      <td>4.800000</td>\n",
       "      <td>1902.000000</td>\n",
       "      <td>NaN</td>\n",
       "      <td>NaN</td>\n",
       "      <td>159.900000</td>\n",
       "      <td>NaN</td>\n",
       "    </tr>\n",
       "    <tr>\n",
       "      <th>max</th>\n",
       "      <td>50.000000</td>\n",
       "      <td>5.000000</td>\n",
       "      <td>43784.000000</td>\n",
       "      <td>NaN</td>\n",
       "      <td>NaN</td>\n",
       "      <td>5280.000000</td>\n",
       "      <td>NaN</td>\n",
       "    </tr>\n",
       "  </tbody>\n",
       "</table>\n",
       "</div>"
      ],
      "text/plain": [
       "               Rank         Stars       Reviews  Authors/Company  \\\n",
       "count  34500.000000  27085.000000  27085.000000              0.0   \n",
       "mean      25.500000      4.554554   2766.063356              NaN   \n",
       "std       14.431079      0.275569   6682.083448              NaN   \n",
       "min        1.000000      1.000000      1.000000              NaN   \n",
       "25%       13.000000      4.500000    283.000000              NaN   \n",
       "50%       25.500000      4.600000    840.000000              NaN   \n",
       "75%       38.000000      4.800000   1902.000000              NaN   \n",
       "max       50.000000      5.000000  43784.000000              NaN   \n",
       "\n",
       "       Edition/Console  Price_std_or_min  Max_prices  \n",
       "count              0.0      34106.000000         0.0  \n",
       "mean               NaN        271.415529         NaN  \n",
       "std                NaN        683.243125         NaN  \n",
       "min                NaN          0.010441         NaN  \n",
       "25%                NaN         29.900000         NaN  \n",
       "50%                NaN         59.000000         NaN  \n",
       "75%                NaN        159.900000         NaN  \n",
       "max                NaN       5280.000000         NaN  "
      ]
     },
     "execution_count": 16,
     "metadata": {},
     "output_type": "execute_result"
    }
   ],
   "source": [
    "#INFORMACIÓN DE LAS COLUMNAS QUE SON NUMÉRICAS\n",
    "DATASET.describe()"
   ]
  },
  {
   "cell_type": "code",
   "execution_count": 18,
   "metadata": {},
   "outputs": [
    {
     "data": {
      "text/plain": [
       "time                 object\n",
       "Rank                  int64\n",
       "Product Names        object\n",
       "Stars               float64\n",
       "Reviews             float64\n",
       "Authors/Company     float64\n",
       "Edition/Console     float64\n",
       "Price_std_or_min    float64\n",
       "Max_prices          float64\n",
       "dtype: object"
      ]
     },
     "execution_count": 18,
     "metadata": {},
     "output_type": "execute_result"
    }
   ],
   "source": [
    "#INFORMACIÓN DE TODAS LAS COLUMNAS\n",
    "DATASET.dtypes"
   ]
  },
  {
   "cell_type": "markdown",
   "metadata": {},
   "source": [
    "## PARTE 17.2: ANÁLISIS DE VALORES FALTANTES"
   ]
  },
  {
   "cell_type": "code",
   "execution_count": 19,
   "metadata": {},
   "outputs": [
    {
     "data": {
      "text/plain": [
       "0        NaN\n",
       "1        NaN\n",
       "2        NaN\n",
       "3        NaN\n",
       "4        NaN\n",
       "        ... \n",
       "34495    4.5\n",
       "34496    4.6\n",
       "34497    4.6\n",
       "34498    4.7\n",
       "34499    4.6\n",
       "Name: Stars, Length: 34500, dtype: float64"
      ]
     },
     "execution_count": 19,
     "metadata": {},
     "output_type": "execute_result"
    }
   ],
   "source": [
    "#ACCEDER A SOLO UNA COLUMNA DEL DATASET\n",
    "DATASET[\"Stars\"]"
   ]
  },
  {
   "cell_type": "code",
   "execution_count": 20,
   "metadata": {},
   "outputs": [
    {
     "data": {
      "text/plain": [
       "0         True\n",
       "1         True\n",
       "2         True\n",
       "3         True\n",
       "4         True\n",
       "         ...  \n",
       "34495    False\n",
       "34496    False\n",
       "34497    False\n",
       "34498    False\n",
       "34499    False\n",
       "Name: Stars, Length: 34500, dtype: bool"
      ]
     },
     "execution_count": 20,
     "metadata": {},
     "output_type": "execute_result"
    }
   ],
   "source": [
    "#PARA SABER SI EL VALOR ES NULO:\n",
    "import pandas as pd\n",
    "pd.isnull(DATASET[\"Stars\"])"
   ]
  },
  {
   "cell_type": "code",
   "execution_count": 22,
   "metadata": {},
   "outputs": [
    {
     "data": {
      "text/plain": [
       "0        False\n",
       "1        False\n",
       "2        False\n",
       "3        False\n",
       "4        False\n",
       "         ...  \n",
       "34495     True\n",
       "34496     True\n",
       "34497     True\n",
       "34498     True\n",
       "34499     True\n",
       "Name: Stars, Length: 34500, dtype: bool"
      ]
     },
     "execution_count": 22,
     "metadata": {},
     "output_type": "execute_result"
    }
   ],
   "source": [
    "#PARA SABER SI EL VALOR NO ES NULO:\n",
    "import pandas as pd\n",
    "pd.notnull(DATASET[\"Stars\"])"
   ]
  },
  {
   "cell_type": "code",
   "execution_count": 24,
   "metadata": {},
   "outputs": [
    {
     "data": {
      "text/plain": [
       "7415"
      ]
     },
     "execution_count": 24,
     "metadata": {},
     "output_type": "execute_result"
    }
   ],
   "source": [
    "#CONTAR CUÁNTOS VALORES SON NULOS DE DICHA COLUMNA\n",
    "pd.isnull(DATASET[\"Stars\"]).values.sum()"
   ]
  },
  {
   "cell_type": "code",
   "execution_count": 25,
   "metadata": {},
   "outputs": [
    {
     "data": {
      "text/plain": [
       "27085"
      ]
     },
     "execution_count": 25,
     "metadata": {},
     "output_type": "execute_result"
    }
   ],
   "source": [
    "#CONTAR CUÁNTOS VALORES NO SON NULOS DE DICHA COLUMNA\n",
    "pd.notnull(DATASET[\"Stars\"]).values.sum()"
   ]
  },
  {
   "cell_type": "markdown",
   "metadata": {},
   "source": [
    "## PARTE 17.3: MODIFICACIÓN Y ELIMINACIÓN DE VALORES FALTANTES"
   ]
  },
  {
   "cell_type": "markdown",
   "metadata": {},
   "source": [
    "#### ELIMINACIÓN"
   ]
  },
  {
   "cell_type": "code",
   "execution_count": 126,
   "metadata": {
    "scrolled": true
   },
   "outputs": [],
   "source": [
    "#PARA ELIMINAR LA FILA O COLUMNA QUE TENGA TODOS SUS VALORES FALTANTES:\n",
    "#AXIS=0 -> FILA / EJE HORIZONTAL\n",
    "#AXIS=1 -> COLUMNA / EJE VERTICAL\n",
    "\n",
    "#ESTE COMANDO SOLO MUESTRA UNA VISTA, NO ELIMINA; PARA ELIMINAR TIENES QUE REASIGNAR EL DATASET\n",
    "DATASET = DATASET.dropna(axis=0, how=\"all\")"
   ]
  },
  {
   "cell_type": "code",
   "execution_count": 128,
   "metadata": {},
   "outputs": [],
   "source": [
    "#PARA ELIMINAR LA FILA O COLUMNA QUE TENGA ALGÚN VALORES FALTANTES:\n",
    "#AXIS=0 -> FILA / EJE HORIZONTAL\n",
    "#AXIS=1 -> COLUMNA / EJE VERTICAL\n",
    "\n",
    "#ESTE COMANDO SOLO MUESTRA UNA VISTA, NO ELIMINA; PARA ELIMINAR TIENES QUE REASIGNAR EL DATASET\n",
    "DATASET = DATASET.dropna(axis=0, how=\"any\")"
   ]
  },
  {
   "cell_type": "code",
   "execution_count": 131,
   "metadata": {},
   "outputs": [],
   "source": [
    "#RECOMENDACIÓN:\n",
    "#APLICA SIEMPRE EL SIGUIENTE COMANDO:\n",
    "DATASET = DATASET.dropna(axis=1, how=\"all\")"
   ]
  },
  {
   "cell_type": "markdown",
   "metadata": {},
   "source": [
    "#### MODIFICACIÓN DE TODO EL DATASET"
   ]
  },
  {
   "cell_type": "code",
   "execution_count": 136,
   "metadata": {},
   "outputs": [],
   "source": [
    "#PARA CREAR UN BACKUP DE UN DATASET, DEBES UTILIZAR EL SIGUIENTE COMANDO:\n",
    "DATASET_BK = DATASET.copy()"
   ]
  },
  {
   "cell_type": "code",
   "execution_count": 137,
   "metadata": {},
   "outputs": [],
   "source": [
    "#fillna, PERMITE RELLENAR LOS VALORES FALTANTES CON ALGÚN VALOR\n",
    "#ESTE COMANDO SOLO MUESTRA UNA VISTA, NO MODIFICA; PARA MODIFICAR TIENES QUE REASIGNAR EL DATASET\n",
    "DATASET_BK = DATASET_BK.fillna(\"-\")"
   ]
  },
  {
   "cell_type": "markdown",
   "metadata": {},
   "source": [
    "#### MODIFICACIÓN DE 1 COLUMNA DEL DATASET"
   ]
  },
  {
   "cell_type": "code",
   "execution_count": 139,
   "metadata": {},
   "outputs": [],
   "source": [
    "#PARA CREAR UN BACKUP DE UN DATASET, DEBES UTILIZAR EL SIGUIENTE COMANDO:\n",
    "DATASET_BK = DATASET.copy()"
   ]
  },
  {
   "cell_type": "code",
   "execution_count": 141,
   "metadata": {},
   "outputs": [],
   "source": [
    "#fillna, PERMITE RELLENAR LOS VALORES FALTANTES CON ALGÚN VALOR\n",
    "#ESTE COMANDO SOLO MUESTRA UNA VISTA, NO MODIFICA; PARA MODIFICAR TIENES QUE REASIGNAR EL DATASET\n",
    "DATASET_BK[\"Stars\"] = DATASET_BK[\"Stars\"].fillna(\"-\")"
   ]
  },
  {
   "cell_type": "markdown",
   "metadata": {},
   "source": [
    "#### MODIFICACIÓN DE 1 COLUMNA DEL DATASET CON CÁLCULOS"
   ]
  },
  {
   "cell_type": "code",
   "execution_count": 170,
   "metadata": {},
   "outputs": [],
   "source": [
    "#PARA CREAR UN BACKUP DE UN DATASET, DEBES UTILIZAR EL SIGUIENTE COMANDO:\n",
    "DATASET_BK = DATASET.copy()"
   ]
  },
  {
   "cell_type": "code",
   "execution_count": 144,
   "metadata": {},
   "outputs": [],
   "source": [
    "#fillna, PERMITE RELLENAR LOS VALORES FALTANTES CON ALGÚN VALOR\n",
    "#ESTE COMANDO SOLO MUESTRA UNA VISTA, NO MODIFICA; PARA MODIFICAR TIENES QUE REASIGNAR EL DATASET\n",
    "DATASET_BK[\"Stars\"] = DATASET_BK[\"Stars\"].fillna(DATASET_BK[\"Stars\"].mean())"
   ]
  },
  {
   "cell_type": "code",
   "execution_count": 147,
   "metadata": {},
   "outputs": [],
   "source": [
    "#fillna, PERMITE RELLENAR LOS VALORES FALTANTES CON ALGÚN VALOR\n",
    "#ESTE COMANDO SOLO MUESTRA UNA VISTA, NO MODIFICA; PARA MODIFICAR TIENES QUE REASIGNAR EL DATASET\n",
    "DATASET_BK[\"Stars\"] = DATASET_BK[\"Stars\"].fillna(DATASET_BK[\"Stars\"].median())"
   ]
  },
  {
   "cell_type": "code",
   "execution_count": 155,
   "metadata": {},
   "outputs": [],
   "source": [
    "#fillna, PERMITE RELLENAR LOS VALORES FALTANTES CON ALGÚN VALOR\n",
    "#ESTE COMANDO SOLO MUESTRA UNA VISTA, NO MODIFICA; PARA MODIFICAR TIENES QUE REASIGNAR EL DATASET\n",
    "DATASET_BK[\"Stars\"] = DATASET_BK[\"Stars\"].fillna(DATASET_BK[\"Stars\"].quantile(0.75))"
   ]
  },
  {
   "cell_type": "code",
   "execution_count": 168,
   "metadata": {},
   "outputs": [],
   "source": [
    "#fillna, PERMITE RELLENAR LOS VALORES FALTANTES CON ALGÚN VALOR\n",
    "#ESTE COMANDO SOLO MUESTRA UNA VISTA, NO MODIFICA; PARA MODIFICAR TIENES QUE REASIGNAR EL DATASET\n",
    "DATASET_BK[\"Stars\"] = DATASET_BK[\"Stars\"].fillna(method=\"ffill\")"
   ]
  },
  {
   "cell_type": "code",
   "execution_count": 171,
   "metadata": {},
   "outputs": [],
   "source": [
    "#fillna, PERMITE RELLENAR LOS VALORES FALTANTES CON ALGÚN VALOR\n",
    "#ESTE COMANDO SOLO MUESTRA UNA VISTA, NO MODIFICA; PARA MODIFICAR TIENES QUE REASIGNAR EL DATASET\n",
    "DATASET_BK[\"Stars\"] = DATASET_BK[\"Stars\"].fillna(method=\"backfill\")"
   ]
  },
  {
   "cell_type": "code",
   "execution_count": 172,
   "metadata": {},
   "outputs": [
    {
     "data": {
      "text/html": [
       "<div>\n",
       "<style scoped>\n",
       "    .dataframe tbody tr th:only-of-type {\n",
       "        vertical-align: middle;\n",
       "    }\n",
       "\n",
       "    .dataframe tbody tr th {\n",
       "        vertical-align: top;\n",
       "    }\n",
       "\n",
       "    .dataframe thead th {\n",
       "        text-align: right;\n",
       "    }\n",
       "</style>\n",
       "<table border=\"1\" class=\"dataframe\">\n",
       "  <thead>\n",
       "    <tr style=\"text-align: right;\">\n",
       "      <th></th>\n",
       "      <th>time</th>\n",
       "      <th>Rank</th>\n",
       "      <th>Product Names</th>\n",
       "      <th>Stars</th>\n",
       "      <th>Reviews</th>\n",
       "      <th>Price_std_or_min</th>\n",
       "    </tr>\n",
       "  </thead>\n",
       "  <tbody>\n",
       "    <tr>\n",
       "      <th>0</th>\n",
       "      <td>2020-08-01 18:22</td>\n",
       "      <td>1</td>\n",
       "      <td>Wacom One CTL472 - Mesa Digitalizadora, Preto ...</td>\n",
       "      <td>4.8</td>\n",
       "      <td>NaN</td>\n",
       "      <td>379.00</td>\n",
       "    </tr>\n",
       "    <tr>\n",
       "      <th>1</th>\n",
       "      <td>2020-08-01 18:22</td>\n",
       "      <td>2</td>\n",
       "      <td>Multilaser MO251 - Mouse Sem Fio 2.4 Ghz 1200 ...</td>\n",
       "      <td>4.8</td>\n",
       "      <td>NaN</td>\n",
       "      <td>29.90</td>\n",
       "    </tr>\n",
       "    <tr>\n",
       "      <th>2</th>\n",
       "      <td>2020-08-01 18:22</td>\n",
       "      <td>3</td>\n",
       "      <td>Suporte para Notebook, OCTOO, Uptable, UP-BL, ...</td>\n",
       "      <td>4.8</td>\n",
       "      <td>NaN</td>\n",
       "      <td>47.54</td>\n",
       "    </tr>\n",
       "    <tr>\n",
       "      <th>3</th>\n",
       "      <td>2020-08-01 18:22</td>\n",
       "      <td>4</td>\n",
       "      <td>Repetidor Expansor TP-Link Wi-Fi Network 300Mb...</td>\n",
       "      <td>4.8</td>\n",
       "      <td>NaN</td>\n",
       "      <td>151.99</td>\n",
       "    </tr>\n",
       "    <tr>\n",
       "      <th>4</th>\n",
       "      <td>2020-08-01 18:22</td>\n",
       "      <td>5</td>\n",
       "      <td>Mouse Logitech M170 Wireless Preto - 910-004940</td>\n",
       "      <td>4.8</td>\n",
       "      <td>NaN</td>\n",
       "      <td>58.13</td>\n",
       "    </tr>\n",
       "  </tbody>\n",
       "</table>\n",
       "</div>"
      ],
      "text/plain": [
       "               time  Rank                                      Product Names  \\\n",
       "0  2020-08-01 18:22     1  Wacom One CTL472 - Mesa Digitalizadora, Preto ...   \n",
       "1  2020-08-01 18:22     2  Multilaser MO251 - Mouse Sem Fio 2.4 Ghz 1200 ...   \n",
       "2  2020-08-01 18:22     3  Suporte para Notebook, OCTOO, Uptable, UP-BL, ...   \n",
       "3  2020-08-01 18:22     4  Repetidor Expansor TP-Link Wi-Fi Network 300Mb...   \n",
       "4  2020-08-01 18:22     5    Mouse Logitech M170 Wireless Preto - 910-004940   \n",
       "\n",
       "   Stars  Reviews  Price_std_or_min  \n",
       "0    4.8      NaN            379.00  \n",
       "1    4.8      NaN             29.90  \n",
       "2    4.8      NaN             47.54  \n",
       "3    4.8      NaN            151.99  \n",
       "4    4.8      NaN             58.13  "
      ]
     },
     "execution_count": 172,
     "metadata": {},
     "output_type": "execute_result"
    }
   ],
   "source": [
    "DATASET_BK.head()"
   ]
  },
  {
   "cell_type": "markdown",
   "metadata": {},
   "source": [
    "## PARTE 17.4: VARIABLES DUMMIES"
   ]
  },
  {
   "cell_type": "code",
   "execution_count": 188,
   "metadata": {},
   "outputs": [],
   "source": [
    "import pandas as pd\n",
    "RUTA = \"DATASETS - CERTIFICACIÓN/17_4_DUMMY_SUICIDE_RATE.csv\"\n",
    "DATASET = pd.read_csv(RUTA)"
   ]
  },
  {
   "cell_type": "code",
   "execution_count": 189,
   "metadata": {},
   "outputs": [],
   "source": [
    "DUMMY_SEX = pd.get_dummies(DATASET[\"sex\"],prefix=\"sex\")"
   ]
  },
  {
   "cell_type": "code",
   "execution_count": 190,
   "metadata": {},
   "outputs": [],
   "source": [
    "#AXIS = 1 --> ADICIONAR COLUMNAS (DEBEN TENER LA MISMA CANTIDAD DE FILAS)\n",
    "#AXIS = 0 --> ADICIONAR FILAS (DEBEN TENER LA MISMA CANTIDAD DE COLUMNAS)\n",
    "DATASET = pd.concat([DATASET,DUMMY_SEX],axis = 1)"
   ]
  },
  {
   "cell_type": "code",
   "execution_count": 191,
   "metadata": {},
   "outputs": [],
   "source": [
    "#AXIS = 1 --> ELIMINAR COLUMNAS \n",
    "#AXIS = 0 --> ELIMINAR FILAS \n",
    "DATASET = DATASET.drop([\"sex\"],axis= 1)"
   ]
  },
  {
   "cell_type": "code",
   "execution_count": 193,
   "metadata": {},
   "outputs": [
    {
     "data": {
      "text/html": [
       "<div>\n",
       "<style scoped>\n",
       "    .dataframe tbody tr th:only-of-type {\n",
       "        vertical-align: middle;\n",
       "    }\n",
       "\n",
       "    .dataframe tbody tr th {\n",
       "        vertical-align: top;\n",
       "    }\n",
       "\n",
       "    .dataframe thead th {\n",
       "        text-align: right;\n",
       "    }\n",
       "</style>\n",
       "<table border=\"1\" class=\"dataframe\">\n",
       "  <thead>\n",
       "    <tr style=\"text-align: right;\">\n",
       "      <th></th>\n",
       "      <th>country</th>\n",
       "      <th>year</th>\n",
       "      <th>age</th>\n",
       "      <th>suicides_no</th>\n",
       "      <th>population</th>\n",
       "      <th>suicides/100k pop</th>\n",
       "      <th>country-year</th>\n",
       "      <th>HDI for year</th>\n",
       "      <th>gdp_for_year ($)</th>\n",
       "      <th>gdp_per_capita ($)</th>\n",
       "      <th>generation</th>\n",
       "      <th>sex_female</th>\n",
       "      <th>sex_male</th>\n",
       "    </tr>\n",
       "  </thead>\n",
       "  <tbody>\n",
       "    <tr>\n",
       "      <th>0</th>\n",
       "      <td>Albania</td>\n",
       "      <td>1987</td>\n",
       "      <td>15-24 years</td>\n",
       "      <td>21</td>\n",
       "      <td>312900</td>\n",
       "      <td>6.71</td>\n",
       "      <td>Albania1987</td>\n",
       "      <td>NaN</td>\n",
       "      <td>2,156,624,900</td>\n",
       "      <td>796</td>\n",
       "      <td>Generation X</td>\n",
       "      <td>0</td>\n",
       "      <td>1</td>\n",
       "    </tr>\n",
       "    <tr>\n",
       "      <th>1</th>\n",
       "      <td>Albania</td>\n",
       "      <td>1987</td>\n",
       "      <td>35-54 years</td>\n",
       "      <td>16</td>\n",
       "      <td>308000</td>\n",
       "      <td>5.19</td>\n",
       "      <td>Albania1987</td>\n",
       "      <td>NaN</td>\n",
       "      <td>2,156,624,900</td>\n",
       "      <td>796</td>\n",
       "      <td>Silent</td>\n",
       "      <td>0</td>\n",
       "      <td>1</td>\n",
       "    </tr>\n",
       "    <tr>\n",
       "      <th>2</th>\n",
       "      <td>Albania</td>\n",
       "      <td>1987</td>\n",
       "      <td>15-24 years</td>\n",
       "      <td>14</td>\n",
       "      <td>289700</td>\n",
       "      <td>4.83</td>\n",
       "      <td>Albania1987</td>\n",
       "      <td>NaN</td>\n",
       "      <td>2,156,624,900</td>\n",
       "      <td>796</td>\n",
       "      <td>Generation X</td>\n",
       "      <td>1</td>\n",
       "      <td>0</td>\n",
       "    </tr>\n",
       "    <tr>\n",
       "      <th>3</th>\n",
       "      <td>Albania</td>\n",
       "      <td>1987</td>\n",
       "      <td>75+ years</td>\n",
       "      <td>1</td>\n",
       "      <td>21800</td>\n",
       "      <td>4.59</td>\n",
       "      <td>Albania1987</td>\n",
       "      <td>NaN</td>\n",
       "      <td>2,156,624,900</td>\n",
       "      <td>796</td>\n",
       "      <td>G.I. Generation</td>\n",
       "      <td>0</td>\n",
       "      <td>1</td>\n",
       "    </tr>\n",
       "    <tr>\n",
       "      <th>4</th>\n",
       "      <td>Albania</td>\n",
       "      <td>1987</td>\n",
       "      <td>25-34 years</td>\n",
       "      <td>9</td>\n",
       "      <td>274300</td>\n",
       "      <td>3.28</td>\n",
       "      <td>Albania1987</td>\n",
       "      <td>NaN</td>\n",
       "      <td>2,156,624,900</td>\n",
       "      <td>796</td>\n",
       "      <td>Boomers</td>\n",
       "      <td>0</td>\n",
       "      <td>1</td>\n",
       "    </tr>\n",
       "  </tbody>\n",
       "</table>\n",
       "</div>"
      ],
      "text/plain": [
       "   country  year          age  suicides_no  population  suicides/100k pop  \\\n",
       "0  Albania  1987  15-24 years           21      312900               6.71   \n",
       "1  Albania  1987  35-54 years           16      308000               5.19   \n",
       "2  Albania  1987  15-24 years           14      289700               4.83   \n",
       "3  Albania  1987    75+ years            1       21800               4.59   \n",
       "4  Albania  1987  25-34 years            9      274300               3.28   \n",
       "\n",
       "  country-year  HDI for year  gdp_for_year ($)   gdp_per_capita ($)  \\\n",
       "0  Albania1987           NaN      2,156,624,900                 796   \n",
       "1  Albania1987           NaN      2,156,624,900                 796   \n",
       "2  Albania1987           NaN      2,156,624,900                 796   \n",
       "3  Albania1987           NaN      2,156,624,900                 796   \n",
       "4  Albania1987           NaN      2,156,624,900                 796   \n",
       "\n",
       "        generation  sex_female  sex_male  \n",
       "0     Generation X           0         1  \n",
       "1           Silent           0         1  \n",
       "2     Generation X           1         0  \n",
       "3  G.I. Generation           0         1  \n",
       "4          Boomers           0         1  "
      ]
     },
     "execution_count": 193,
     "metadata": {},
     "output_type": "execute_result"
    }
   ],
   "source": [
    "DATASET.head()"
   ]
  },
  {
   "cell_type": "code",
   "execution_count": null,
   "metadata": {},
   "outputs": [],
   "source": []
  }
 ],
 "metadata": {
  "kernelspec": {
   "display_name": "Python 3",
   "language": "python",
   "name": "python3"
  },
  "language_info": {
   "codemirror_mode": {
    "name": "ipython",
    "version": 3
   },
   "file_extension": ".py",
   "mimetype": "text/x-python",
   "name": "python",
   "nbconvert_exporter": "python",
   "pygments_lexer": "ipython3",
   "version": "3.8.3"
  }
 },
 "nbformat": 4,
 "nbformat_minor": 4
}
