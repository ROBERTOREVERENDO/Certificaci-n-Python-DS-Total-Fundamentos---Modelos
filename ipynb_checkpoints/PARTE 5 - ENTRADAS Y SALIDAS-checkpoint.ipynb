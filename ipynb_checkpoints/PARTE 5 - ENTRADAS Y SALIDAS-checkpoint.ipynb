{
 "cells": [
  {
   "cell_type": "markdown",
   "metadata": {},
   "source": [
    "# PARTE 5: ENTRADAS Y SALIDAS"
   ]
  },
  {
   "cell_type": "markdown",
   "metadata": {},
   "source": [
    "## PARTE 5.1: ENTRADAS"
   ]
  },
  {
   "cell_type": "code",
   "execution_count": 1,
   "metadata": {},
   "outputs": [
    {
     "name": "stdout",
     "output_type": "stream",
     "text": [
      "Ingrese un valor:5\n"
     ]
    }
   ],
   "source": [
    "#SIGNIFICA INGRESAR UN VALOR MEDIANTE EL TECLADO\n",
    "#EL VALOR POR DEFECTO QUE SE INGRESA UN VALOR ES UNA CADENA\n",
    "\n",
    "ENTRADA = input(\"Ingrese un valor:\")"
   ]
  },
  {
   "cell_type": "code",
   "execution_count": 4,
   "metadata": {},
   "outputs": [
    {
     "name": "stdout",
     "output_type": "stream",
     "text": [
      "Ingrese un valor:5\n"
     ]
    }
   ],
   "source": [
    "#SI DESEAS ESPECIFICAR EL TIPO DE DATO A INGRESAR, DEBES ESPECIFICARLO\n",
    "#ENTERO\n",
    "ENTRADA = int(input(\"Ingrese un valor:\"))"
   ]
  },
  {
   "cell_type": "code",
   "execution_count": 5,
   "metadata": {},
   "outputs": [
    {
     "name": "stdout",
     "output_type": "stream",
     "text": [
      "Ingrese un valor:5\n"
     ]
    }
   ],
   "source": [
    "#SI DESEAS ESPECIFICAR EL TIPO DE DATO A INGRESAR, DEBES ESPECIFICARLO\n",
    "#DECIMAL\n",
    "ENTRADA = float(input(\"Ingrese un valor:\"))"
   ]
  },
  {
   "cell_type": "code",
   "execution_count": 7,
   "metadata": {},
   "outputs": [
    {
     "name": "stdout",
     "output_type": "stream",
     "text": [
      "Por favor ingresa 5 valores enteros\n",
      "Ingrese número: 5\n",
      "Ingrese número: 8\n",
      "Ingrese número: 14\n",
      "Ingrese número: 20\n",
      "Ingrese número: 21\n",
      "[5, 8, 14, 20, 21]\n"
     ]
    }
   ],
   "source": [
    "#INGRESO DE VALORES MEDIANTE SENTENCIA FOR\n",
    "LISTA_NUM = []\n",
    "print(\"Por favor ingresa 5 valores enteros\")\n",
    "for X in range(5):\n",
    "    LISTA_NUM.append(int(input(\"Ingrese número: \")))\n",
    "print(LISTA_NUM)"
   ]
  },
  {
   "cell_type": "markdown",
   "metadata": {},
   "source": [
    "## PARTE 5.2: SALIDAS"
   ]
  },
  {
   "cell_type": "code",
   "execution_count": 11,
   "metadata": {},
   "outputs": [
    {
     "name": "stdout",
     "output_type": "stream",
     "text": [
      "El número entero es 15 y el número decimal es 3.1415 además te quiero decir HOLA\n",
      "El número entero es 15 y el número decimal es 3.1415 además te quiero decir HOLA\n"
     ]
    }
   ],
   "source": [
    "ENTERO = 15\n",
    "DECIMAL = 3.1415\n",
    "CADENA = 'HOLA'\n",
    "\n",
    "print(\"El número entero es\",ENTERO,\"y el número decimal es\",DECIMAL,\"además te quiero decir\",CADENA)\n",
    "print(\"El número entero es {} y el número decimal es {} además te quiero decir {}\".format(ENTERO,DECIMAL,CADENA))"
   ]
  },
  {
   "cell_type": "code",
   "execution_count": 15,
   "metadata": {},
   "outputs": [
    {
     "name": "stdout",
     "output_type": "stream",
     "text": [
      "Hola, soy BENJAMÍN y te quiero decir ¿CÓMO ESTÁS?\n",
      "Hola, soy BENJAMÍN y te quiero decir ¿CÓMO ESTÁS?\n",
      "Hola, soy BENJAMÍN y te quiero decir ¿CÓMO ESTÁS?\n",
      "Hola, soy ¿CÓMO ESTÁS? y te quiero decir BENJAMÍN\n"
     ]
    }
   ],
   "source": [
    "#FORMATEO MEDIANTE LOS ÍNDICES INGRESADOS\n",
    "NOMBRE = \"BENJAMÍN\"\n",
    "MENSAJE = '¿CÓMO ESTÁS?'\n",
    "\n",
    "print(\"Hola, soy\",NOMBRE,\"y te quiero decir\",MENSAJE)\n",
    "print(\"Hola, soy {} y te quiero decir {}\".format(NOMBRE,MENSAJE))\n",
    "print(\"Hola, soy {0} y te quiero decir {1}\".format(NOMBRE,MENSAJE))\n",
    "print(\"Hola, soy {1} y te quiero decir {0}\".format(NOMBRE,MENSAJE))"
   ]
  },
  {
   "cell_type": "code",
   "execution_count": 17,
   "metadata": {},
   "outputs": [
    {
     "name": "stdout",
     "output_type": "stream",
     "text": [
      "Hola, soy BENJAMÍN y te quiero decir ¿CÓMO ESTÁS?\n",
      "Hola, soy BENJAMÍN y te quiero decir ¿CÓMO ESTÁS?\n",
      "Hola, soy ¿CÓMO ESTÁS? y te quiero decir BENJAMÍN\n"
     ]
    }
   ],
   "source": [
    "#FORMATEO MEDIANTE CLAVES\n",
    "NOMBRE = \"BENJAMÍN\"\n",
    "MENSAJE = '¿CÓMO ESTÁS?'\n",
    "\n",
    "print(\"Hola, soy\",NOMBRE,\"y te quiero decir\",MENSAJE)\n",
    "print(\"Hola, soy {NOM} y te quiero decir {MEN}\".format(NOM=NOMBRE,MEN=MENSAJE))\n",
    "print(\"Hola, soy {MEN} y te quiero decir {NOM}\".format(NOM=NOMBRE,MEN=MENSAJE))"
   ]
  },
  {
   "cell_type": "code",
   "execution_count": 19,
   "metadata": {},
   "outputs": [
    {
     "name": "stdout",
     "output_type": "stream",
     "text": [
      "Hola, soy Gokú\n",
      "Hola, soy Gokú                          \n"
     ]
    }
   ],
   "source": [
    "#ALINEACIÓN A LA IZQUIERDA EN N CARACTERES\n",
    "print(\"Hola, soy Gokú\")\n",
    "print(\"{:<40}\".format(\"Hola, soy Gokú\"))"
   ]
  },
  {
   "cell_type": "code",
   "execution_count": 20,
   "metadata": {},
   "outputs": [
    {
     "name": "stdout",
     "output_type": "stream",
     "text": [
      "Hola, soy Gokú\n",
      "                          Hola, soy Gokú\n"
     ]
    }
   ],
   "source": [
    "#ALINEACIÓN A LA DERECHA EN N CARACTERES\n",
    "print(\"Hola, soy Gokú\")\n",
    "print(\"{:>40}\".format(\"Hola, soy Gokú\"))"
   ]
  },
  {
   "cell_type": "code",
   "execution_count": 21,
   "metadata": {},
   "outputs": [
    {
     "name": "stdout",
     "output_type": "stream",
     "text": [
      "Hola, soy Gokú\n",
      "             Hola, soy Gokú             \n"
     ]
    }
   ],
   "source": [
    "#ALINEACIÓN A LA DERECHA EN N CARACTERES\n",
    "print(\"Hola, soy Gokú\")\n",
    "print(\"{:^40}\".format(\"Hola, soy Gokú\"))"
   ]
  },
  {
   "cell_type": "code",
   "execution_count": 23,
   "metadata": {},
   "outputs": [
    {
     "name": "stdout",
     "output_type": "stream",
     "text": [
      "Hola, soy Gokú\n",
      "Hola, soy\n"
     ]
    }
   ],
   "source": [
    "#TRUNCAMIENTO DE LA CADENA EN N CARACTERES\n",
    "print(\"Hola, soy Gokú\")\n",
    "print(\"{:.9}\".format(\"Hola, soy Gokú\"))"
   ]
  },
  {
   "cell_type": "code",
   "execution_count": 24,
   "metadata": {},
   "outputs": [
    {
     "name": "stdout",
     "output_type": "stream",
     "text": [
      "Hola, soy Gokú\n",
      "               Hola, soy                \n"
     ]
    }
   ],
   "source": [
    "#TRUNCAMIENTO DE LA CADENA EN N CARACTERES Y ALINEACIÓN\n",
    "print(\"Hola, soy Gokú\")\n",
    "print(\"{:^40.9}\".format(\"Hola, soy Gokú\"))"
   ]
  },
  {
   "cell_type": "code",
   "execution_count": 28,
   "metadata": {},
   "outputs": [
    {
     "name": "stdout",
     "output_type": "stream",
     "text": [
      "99\n",
      "123456\n",
      "1267\n",
      "------------\n",
      "    99\n",
      "123456\n",
      "  1267\n",
      "------------\n",
      "    99\n",
      "123456\n",
      "  1267\n"
     ]
    }
   ],
   "source": [
    "#RELLENAR ESPACIOS PARA ALINEAR\n",
    "print(\"99\")\n",
    "print(\"123456\")\n",
    "print(\"1267\")\n",
    "print(\"------------\")\n",
    "print(\"    99\")\n",
    "print(\"123456\")\n",
    "print(\"  1267\")\n",
    "print(\"------------\")\n",
    "print(\"{:6d}\".format(99))\n",
    "print(\"{:6d}\".format(123456))\n",
    "print(\"{:6d}\".format(1267))"
   ]
  },
  {
   "cell_type": "code",
   "execution_count": 29,
   "metadata": {},
   "outputs": [
    {
     "name": "stdout",
     "output_type": "stream",
     "text": [
      "99\n",
      "123456\n",
      "1267\n",
      "------------\n",
      "    99\n",
      "123456\n",
      "  1267\n",
      "------------\n",
      "000099\n",
      "123456\n",
      "001267\n"
     ]
    }
   ],
   "source": [
    "#RELLENAR CON CEROS PARA ALINEAR\n",
    "print(\"99\")\n",
    "print(\"123456\")\n",
    "print(\"1267\")\n",
    "print(\"------------\")\n",
    "print(\"    99\")\n",
    "print(\"123456\")\n",
    "print(\"  1267\")\n",
    "print(\"------------\")\n",
    "print(\"{:06d}\".format(99))\n",
    "print(\"{:06d}\".format(123456))\n",
    "print(\"{:06d}\".format(1267))"
   ]
  },
  {
   "cell_type": "code",
   "execution_count": 34,
   "metadata": {},
   "outputs": [
    {
     "name": "stdout",
     "output_type": "stream",
     "text": [
      "3.141592\n",
      "2.7\n",
      "165.46\n",
      "---------------\n",
      "  3.141\n",
      "  2.700\n",
      "165.460\n",
      "---------------\n",
      "  3.142\n",
      "  2.700\n",
      "165.460\n"
     ]
    }
   ],
   "source": [
    "#FORMATEO DE NÚMEROS DECIMALES\n",
    "print(\"3.141592\")\n",
    "print(\"2.7\")\n",
    "print(\"165.46\")\n",
    "print(\"---------------\")\n",
    "print(\"  3.141\")\n",
    "print(\"  2.700\")\n",
    "print(\"165.460\")\n",
    "print(\"---------------\")\n",
    "print(\"{:>7.3f}\".format(3.141592))\n",
    "print(\"{:>7.3f}\".format(2.7))\n",
    "print(\"{:>7.3f}\".format(165.46))"
   ]
  },
  {
   "cell_type": "code",
   "execution_count": null,
   "metadata": {},
   "outputs": [],
   "source": []
  }
 ],
 "metadata": {
  "kernelspec": {
   "display_name": "Python 3",
   "language": "python",
   "name": "python3"
  },
  "language_info": {
   "codemirror_mode": {
    "name": "ipython",
    "version": 3
   },
   "file_extension": ".py",
   "mimetype": "text/x-python",
   "name": "python",
   "nbconvert_exporter": "python",
   "pygments_lexer": "ipython3",
   "version": "3.8.3"
  }
 },
 "nbformat": 4,
 "nbformat_minor": 4
}
