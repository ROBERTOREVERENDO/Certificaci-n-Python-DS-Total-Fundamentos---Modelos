{
 "cells": [
  {
   "cell_type": "markdown",
   "metadata": {},
   "source": [
    "# PARTE 14: DOCUMENTACIÓN"
   ]
  },
  {
   "cell_type": "markdown",
   "metadata": {},
   "source": [
    "## PARTE 14.1: DOCUMENTACIÓN DE FUNCIONES"
   ]
  },
  {
   "cell_type": "code",
   "execution_count": 5,
   "metadata": {},
   "outputs": [],
   "source": [
    "def SUMA(A,B):\n",
    "    \"\"\"\n",
    "    Detalle de la función SUMA:\n",
    "        Autor: BJNM\n",
    "        Última modificación: 25/12/2021 -> BJNM\n",
    "        Parámetros: A (float) B (float)\n",
    "        Retorno: A+B (float)\n",
    "        Explicación: Suma dós números y en caso se provea cadenas, las concatenará\n",
    "    \"\"\"\n",
    "    VARIABLE = A+B\n",
    "    return VARIABLE"
   ]
  },
  {
   "cell_type": "code",
   "execution_count": 2,
   "metadata": {},
   "outputs": [
    {
     "data": {
      "text/plain": [
       "11"
      ]
     },
     "execution_count": 2,
     "metadata": {},
     "output_type": "execute_result"
    }
   ],
   "source": [
    "SUMA(5,6)"
   ]
  },
  {
   "cell_type": "code",
   "execution_count": 4,
   "metadata": {},
   "outputs": [
    {
     "data": {
      "text/plain": [
       "'hola qué tal'"
      ]
     },
     "execution_count": 4,
     "metadata": {},
     "output_type": "execute_result"
    }
   ],
   "source": [
    "SUMA(\"hola \",\"qué tal\")"
   ]
  },
  {
   "cell_type": "code",
   "execution_count": 6,
   "metadata": {},
   "outputs": [
    {
     "name": "stdout",
     "output_type": "stream",
     "text": [
      "Help on function SUMA in module __main__:\n",
      "\n",
      "SUMA(A, B)\n",
      "    Detalle de la función SUMA:\n",
      "        Autor: BJNM\n",
      "        Última modificación: 25/12/2021 -> BJNM\n",
      "        Parámetros: A (float) B (float)\n",
      "        Retorno: A+B (float)\n",
      "        Explicación: Suma dós números y en caso se provea cadenas, las concatenará\n",
      "\n"
     ]
    }
   ],
   "source": [
    "help(SUMA)"
   ]
  },
  {
   "cell_type": "markdown",
   "metadata": {},
   "source": [
    "## PARTE 14.2: DOCUMENTACIÓN DE CLASES"
   ]
  },
  {
   "cell_type": "code",
   "execution_count": 31,
   "metadata": {},
   "outputs": [],
   "source": [
    "class PERSONA:\n",
    "    \"\"\"\n",
    "    Detalle de la clase PERSONA:\n",
    "        Autor: BJNM\n",
    "        Última modificación: 25/12/2021 -> BJNM\n",
    "        Constructor: NOMBRE (cadena)\n",
    "        Métodos internos: __str__, SALUDAR\n",
    "        Explicación de la clase: Crea una clase con un nombre y permite invocar un método SALUDAR\n",
    "        Explicación del método SALUDAR: Construye la cadena \"HOLA ...\" con el nombre de la clase\n",
    "    \"\"\"\n",
    "    def __init__ (self, NOMBRE):\n",
    "        self.NOMBRE = NOMBRE\n",
    "        \n",
    "    def __str__(self):\n",
    "        return self.NOMBRE\n",
    "    \n",
    "    def SALUDAR(self):\n",
    "        \"\"\"\n",
    "        Detalle de la clase PERSONA:\n",
    "            Autor: BJNM\n",
    "            Última modificación: 25/12/2021 -> BJNM\n",
    "            Explicación del método SALUDAR: Construye la cadena \"HOLA ...\" con el nombre de la clase        \n",
    "        \"\"\"\n",
    "        print(\"HOLA \",self.NOMBRE)"
   ]
  },
  {
   "cell_type": "code",
   "execution_count": 32,
   "metadata": {},
   "outputs": [
    {
     "name": "stdout",
     "output_type": "stream",
     "text": [
      "ERNESTO\n"
     ]
    }
   ],
   "source": [
    "P1 = PERSONA(\"ERNESTO\")\n",
    "print(P1)"
   ]
  },
  {
   "cell_type": "code",
   "execution_count": 22,
   "metadata": {},
   "outputs": [
    {
     "name": "stdout",
     "output_type": "stream",
     "text": [
      "HOLA  ERNESTO\n"
     ]
    }
   ],
   "source": [
    "P1.SALUDAR()"
   ]
  },
  {
   "cell_type": "code",
   "execution_count": 36,
   "metadata": {},
   "outputs": [
    {
     "name": "stdout",
     "output_type": "stream",
     "text": [
      "Help on PERSONA in module __main__ object:\n",
      "\n",
      "class PERSONA(builtins.object)\n",
      " |  PERSONA(NOMBRE)\n",
      " |  \n",
      " |  Detalle de la clase PERSONA:\n",
      " |      Autor: BJNM\n",
      " |      Última modificación: 25/12/2021 -> BJNM\n",
      " |      Constructor: NOMBRE (cadena)\n",
      " |      Métodos internos: __str__, SALUDAR\n",
      " |      Explicación de la clase: Crea una clase con un nombre y permite invocar un método SALUDAR\n",
      " |      Explicación del método SALUDAR: Construye la cadena \"HOLA ...\" con el nombre de la clase\n",
      " |  \n",
      " |  Methods defined here:\n",
      " |  \n",
      " |  SALUDAR(self)\n",
      " |      Detalle de la clase PERSONA:\n",
      " |          Autor: BJNM\n",
      " |          Última modificación: 25/12/2021 -> BJNM\n",
      " |          Explicación del método SALUDAR: Construye la cadena \"HOLA ...\" con el nombre de la clase\n",
      " |  \n",
      " |  __init__(self, NOMBRE)\n",
      " |      Initialize self.  See help(type(self)) for accurate signature.\n",
      " |  \n",
      " |  __str__(self)\n",
      " |      Return str(self).\n",
      " |  \n",
      " |  ----------------------------------------------------------------------\n",
      " |  Data descriptors defined here:\n",
      " |  \n",
      " |  __dict__\n",
      " |      dictionary for instance variables (if defined)\n",
      " |  \n",
      " |  __weakref__\n",
      " |      list of weak references to the object (if defined)\n",
      "\n",
      "Help on class PERSONA in module __main__:\n",
      "\n",
      "class PERSONA(builtins.object)\n",
      " |  PERSONA(NOMBRE)\n",
      " |  \n",
      " |  Detalle de la clase PERSONA:\n",
      " |      Autor: BJNM\n",
      " |      Última modificación: 25/12/2021 -> BJNM\n",
      " |      Constructor: NOMBRE (cadena)\n",
      " |      Métodos internos: __str__, SALUDAR\n",
      " |      Explicación de la clase: Crea una clase con un nombre y permite invocar un método SALUDAR\n",
      " |      Explicación del método SALUDAR: Construye la cadena \"HOLA ...\" con el nombre de la clase\n",
      " |  \n",
      " |  Methods defined here:\n",
      " |  \n",
      " |  SALUDAR(self)\n",
      " |      Detalle de la clase PERSONA:\n",
      " |          Autor: BJNM\n",
      " |          Última modificación: 25/12/2021 -> BJNM\n",
      " |          Explicación del método SALUDAR: Construye la cadena \"HOLA ...\" con el nombre de la clase\n",
      " |  \n",
      " |  __init__(self, NOMBRE)\n",
      " |      Initialize self.  See help(type(self)) for accurate signature.\n",
      " |  \n",
      " |  __str__(self)\n",
      " |      Return str(self).\n",
      " |  \n",
      " |  ----------------------------------------------------------------------\n",
      " |  Data descriptors defined here:\n",
      " |  \n",
      " |  __dict__\n",
      " |      dictionary for instance variables (if defined)\n",
      " |  \n",
      " |  __weakref__\n",
      " |      list of weak references to the object (if defined)\n",
      "\n"
     ]
    }
   ],
   "source": [
    "#PUEDES ACCEDER A LA DOCUMENTACIÓN DE LA CLASE DESDE EL OBJETO O DESDE LA CLASE\n",
    "help(P1)\n",
    "help(PERSONA)"
   ]
  },
  {
   "cell_type": "code",
   "execution_count": 35,
   "metadata": {},
   "outputs": [
    {
     "name": "stdout",
     "output_type": "stream",
     "text": [
      "Help on method SALUDAR in module __main__:\n",
      "\n",
      "SALUDAR() method of __main__.PERSONA instance\n",
      "    Detalle de la clase PERSONA:\n",
      "        Autor: BJNM\n",
      "        Última modificación: 25/12/2021 -> BJNM\n",
      "        Explicación del método SALUDAR: Construye la cadena \"HOLA ...\" con el nombre de la clase\n",
      "\n",
      "Help on function SALUDAR in module __main__:\n",
      "\n",
      "SALUDAR(self)\n",
      "    Detalle de la clase PERSONA:\n",
      "        Autor: BJNM\n",
      "        Última modificación: 25/12/2021 -> BJNM\n",
      "        Explicación del método SALUDAR: Construye la cadena \"HOLA ...\" con el nombre de la clase\n",
      "\n"
     ]
    }
   ],
   "source": [
    "#PUEDES ACCEDER A LA DOCUMENTACIÓN DEL MÉTODO DESDE EL OBJETO O DESDE LA CLASE\n",
    "help(P1.SALUDAR)\n",
    "help(PERSONA.SALUDAR)"
   ]
  },
  {
   "cell_type": "code",
   "execution_count": null,
   "metadata": {},
   "outputs": [],
   "source": []
  }
 ],
 "metadata": {
  "kernelspec": {
   "display_name": "Python 3",
   "language": "python",
   "name": "python3"
  },
  "language_info": {
   "codemirror_mode": {
    "name": "ipython",
    "version": 3
   },
   "file_extension": ".py",
   "mimetype": "text/x-python",
   "name": "python",
   "nbconvert_exporter": "python",
   "pygments_lexer": "ipython3",
   "version": "3.8.3"
  }
 },
 "nbformat": 4,
 "nbformat_minor": 4
}
