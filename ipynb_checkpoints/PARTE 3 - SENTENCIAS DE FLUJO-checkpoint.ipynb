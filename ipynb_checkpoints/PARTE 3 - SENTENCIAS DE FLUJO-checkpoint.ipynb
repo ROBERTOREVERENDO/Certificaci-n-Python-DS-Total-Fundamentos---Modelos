{
 "cells": [
  {
   "cell_type": "markdown",
   "metadata": {},
   "source": [
    "# PARTE 3: SENTENCIAS DE FLUJO"
   ]
  },
  {
   "cell_type": "markdown",
   "metadata": {},
   "source": [
    "## PARTE 3.1: SENTENCIA DE FLUJO - IF"
   ]
  },
  {
   "cell_type": "code",
   "execution_count": 4,
   "metadata": {},
   "outputs": [
    {
     "name": "stdout",
     "output_type": "stream",
     "text": [
      "LA VARIABLE X VALE 5\n"
     ]
    }
   ],
   "source": [
    "#IF SIMPLE\n",
    "X = 5\n",
    "if X == 5:\n",
    "    print(\"LA VARIABLE X VALE 5\")"
   ]
  },
  {
   "cell_type": "code",
   "execution_count": 10,
   "metadata": {},
   "outputs": [
    {
     "name": "stdout",
     "output_type": "stream",
     "text": [
      "X VALE 5\n",
      "Y VALE 10\n"
     ]
    }
   ],
   "source": [
    "#IF ANIDADOS\n",
    "X = 5\n",
    "Y = 10\n",
    "if X == 5:\n",
    "    print(\"X VALE 5\")\n",
    "    if Y == 10:\n",
    "        print(\"Y VALE 10\")"
   ]
  },
  {
   "cell_type": "code",
   "execution_count": 12,
   "metadata": {},
   "outputs": [
    {
     "name": "stdout",
     "output_type": "stream",
     "text": [
      "X NO VALE 5\n"
     ]
    }
   ],
   "source": [
    "#IF ELSE\n",
    "X = 10\n",
    "if X == 5:\n",
    "    print(\"X VALE 5\")\n",
    "else:\n",
    "    print(\"X NO VALE 5\")"
   ]
  },
  {
   "cell_type": "code",
   "execution_count": 21,
   "metadata": {},
   "outputs": [
    {
     "name": "stdout",
     "output_type": "stream",
     "text": [
      "Ingrese una nota: 14\n",
      "NO ERES BRAVO\n"
     ]
    }
   ],
   "source": [
    "#IF ELIF -> MÉTODO SIN RESUMIR\n",
    "NOTA = float(input(\"Ingrese una nota: \"))\n",
    "if NOTA >= 18:\n",
    "    print(\"BRAVO!\")\n",
    "else:\n",
    "    if NOTA >= 15:\n",
    "        print(\"SEMIBRAVO!\")\n",
    "    else:\n",
    "        print(\"NO ERES BRAVO\")"
   ]
  },
  {
   "cell_type": "code",
   "execution_count": 25,
   "metadata": {},
   "outputs": [
    {
     "name": "stdout",
     "output_type": "stream",
     "text": [
      "Ingrese una nota: 11\n",
      "ESTÁS MAL!\n"
     ]
    }
   ],
   "source": [
    "#IF ELIF -> MÉTODO RESUMIDO\n",
    "NOTA = float(input(\"Ingrese una nota: \"))\n",
    "if NOTA >= 18:\n",
    "    print(\"BRAVO!\")\n",
    "elif NOTA >= 15:\n",
    "    print(\"SEMIBRAVO!\")\n",
    "elif NOTA >= 12:\n",
    "    print(\"NO ERES BRAVO!\")\n",
    "elif NOTA >= 10:\n",
    "    print(\"ESTÁS MAL!\")\n",
    "else:\n",
    "    print(\"ESTÁS PÉSIMO!\")"
   ]
  },
  {
   "cell_type": "markdown",
   "metadata": {},
   "source": [
    "## PARTE 3.2: SENTENCIA DE FLUJO - WHILE"
   ]
  },
  {
   "cell_type": "code",
   "execution_count": 27,
   "metadata": {},
   "outputs": [
    {
     "name": "stdout",
     "output_type": "stream",
     "text": [
      "1\n",
      "2\n",
      "3\n",
      "4\n",
      "5\n",
      "6\n",
      "7\n",
      "8\n",
      "9\n",
      "10\n"
     ]
    }
   ],
   "source": [
    "#WHILE\n",
    "X = 1\n",
    "while X <= 10:\n",
    "    print(X)\n",
    "    X += 1"
   ]
  },
  {
   "cell_type": "code",
   "execution_count": 29,
   "metadata": {},
   "outputs": [
    {
     "name": "stdout",
     "output_type": "stream",
     "text": [
      "Ingrese nota:40\n",
      "Ingresaste una nota incorrecta!\n",
      "Ingrese nota:50\n",
      "Ingresaste una nota incorrecta!\n",
      "Ingrese nota:13\n",
      "Ingresaste una nota correcta!\n"
     ]
    }
   ],
   "source": [
    "#ALGORITMO DE CAPTURA DE NOTAS CORRECTAS (0-20)\n",
    "NOTA = -1\n",
    "while NOTA<0 or NOTA>20:\n",
    "    NOTA = float(input(\"Ingrese nota:\"))\n",
    "    if NOTA<0 or NOTA>20:\n",
    "        print(\"Ingresaste una nota incorrecta!\")\n",
    "    else:\n",
    "        print(\"Ingresaste una nota correcta!\")"
   ]
  },
  {
   "cell_type": "code",
   "execution_count": 30,
   "metadata": {},
   "outputs": [
    {
     "name": "stdout",
     "output_type": "stream",
     "text": [
      "1\n",
      "2\n",
      "3\n",
      "4\n",
      "5\n",
      "6\n",
      "7\n",
      "8\n",
      "9\n",
      "10\n",
      "YA TERMINASTE DE ESCRIBIR HASTA 10\n"
     ]
    }
   ],
   "source": [
    "#WHILE ELSE -> EL \"ELSE\" SE EJECUTA CUANDO YA NO SE CUMPLA LA CONDICIÓN\n",
    "X = 1\n",
    "while X <= 10:\n",
    "    print(X)\n",
    "    X += 1\n",
    "else:\n",
    "    print(\"YA TERMINASTE DE ESCRIBIR HASTA 10\")"
   ]
  },
  {
   "cell_type": "code",
   "execution_count": 31,
   "metadata": {},
   "outputs": [
    {
     "name": "stdout",
     "output_type": "stream",
     "text": [
      "1\n",
      "2\n",
      "3\n",
      "4\n"
     ]
    }
   ],
   "source": [
    "#BREAK -> PARA ROMPER EL BUCLE\n",
    "X = 1\n",
    "while X <= 10:\n",
    "    print(X)\n",
    "    X += 1\n",
    "    if X == 5:\n",
    "        break\n",
    "else:\n",
    "    print(\"YA TERMINASTE DE ESCRIBIR HASTA 10\")"
   ]
  },
  {
   "cell_type": "code",
   "execution_count": 35,
   "metadata": {},
   "outputs": [
    {
     "name": "stdout",
     "output_type": "stream",
     "text": [
      "2\n",
      "3\n",
      "4\n",
      "7\n",
      "8\n",
      "9\n",
      "10\n",
      "11\n",
      "YA TERMINASTE DE ESCRIBIR HASTA 10\n"
     ]
    }
   ],
   "source": [
    "#CONTINUE -> PARA SALTAR UNA ITERACIÓN SIN ROMPER EL BUCLE\n",
    "X = 1\n",
    "while X <= 10:\n",
    "    X += 1\n",
    "    if X == 5 or X == 6:\n",
    "        continue\n",
    "    print(X)\n",
    "else:\n",
    "    print(\"YA TERMINASTE DE ESCRIBIR HASTA 10\")"
   ]
  },
  {
   "cell_type": "markdown",
   "metadata": {},
   "source": [
    "## PARTE 3.3: SENTENCIA DE FLUJO - FOR"
   ]
  },
  {
   "cell_type": "code",
   "execution_count": 44,
   "metadata": {},
   "outputs": [
    {
     "name": "stdout",
     "output_type": "stream",
     "text": [
      "1\n",
      "2\n",
      "3\n",
      "4\n",
      "5\n"
     ]
    }
   ],
   "source": [
    "#FOR EN LISTAS\n",
    "LISTA = [1,2,3,4,5]\n",
    "for ELEMENTO in LISTA:\n",
    "    print(ELEMENTO)"
   ]
  },
  {
   "cell_type": "code",
   "execution_count": 40,
   "metadata": {},
   "outputs": [
    {
     "name": "stdout",
     "output_type": "stream",
     "text": [
      "HOLA ESTUDIO PYTHON -  0\n",
      "HOLA ESTUDIO PYTHON -  1\n",
      "HOLA ESTUDIO PYTHON -  2\n",
      "HOLA ESTUDIO PYTHON -  3\n",
      "HOLA ESTUDIO PYTHON -  4\n",
      "HOLA ESTUDIO PYTHON -  5\n",
      "HOLA ESTUDIO PYTHON -  6\n",
      "HOLA ESTUDIO PYTHON -  7\n",
      "HOLA ESTUDIO PYTHON -  8\n",
      "HOLA ESTUDIO PYTHON -  9\n"
     ]
    }
   ],
   "source": [
    "#REPETIR ALGO DETERMINADA CANTIDAD DE VECES\n",
    "for i in range(10):\n",
    "    print(\"HOLA ESTUDIO PYTHON - \",i)  "
   ]
  },
  {
   "cell_type": "code",
   "execution_count": 42,
   "metadata": {},
   "outputs": [
    {
     "name": "stdout",
     "output_type": "stream",
     "text": [
      "0  -  2\n",
      "1  -  8\n",
      "2  -  16\n",
      "3  -  40\n",
      "4  -  55\n"
     ]
    }
   ],
   "source": [
    "#FOR EN LISTAS -> UTILIZANDO ENUMERATE\n",
    "LISTA = [2,8,16,40,55]\n",
    "for INDICE,ELEMENTO in enumerate(LISTA):\n",
    "    print(INDICE,\" - \",ELEMENTO)"
   ]
  },
  {
   "cell_type": "code",
   "execution_count": 45,
   "metadata": {},
   "outputs": [
    {
     "name": "stdout",
     "output_type": "stream",
     "text": [
      "H\n",
      "O\n",
      "L\n",
      "A\n",
      " \n",
      "S\n",
      "O\n",
      "Y\n",
      " \n",
      "P\n",
      "E\n",
      "R\n",
      "U\n",
      "A\n",
      "N\n",
      "O\n"
     ]
    }
   ],
   "source": [
    "#FOR EN CADENAS\n",
    "CADENA = 'HOLA SOY PERUANO'\n",
    "for CARACTER in CADENA:\n",
    "    print(CARACTER)"
   ]
  },
  {
   "cell_type": "code",
   "execution_count": null,
   "metadata": {},
   "outputs": [],
   "source": []
  }
 ],
 "metadata": {
  "kernelspec": {
   "display_name": "Python 3",
   "language": "python",
   "name": "python3"
  },
  "language_info": {
   "codemirror_mode": {
    "name": "ipython",
    "version": 3
   },
   "file_extension": ".py",
   "mimetype": "text/x-python",
   "name": "python",
   "nbconvert_exporter": "python",
   "pygments_lexer": "ipython3",
   "version": "3.8.3"
  }
 },
 "nbformat": 4,
 "nbformat_minor": 4
}
